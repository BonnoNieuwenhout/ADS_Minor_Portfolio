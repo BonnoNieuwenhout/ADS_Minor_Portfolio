{
 "cells": [
  {
   "cell_type": "code",
   "execution_count": 1,
   "id": "186898bd",
   "metadata": {},
   "outputs": [
    {
     "name": "stdout",
     "output_type": "stream",
     "text": [
      "writing file CreateUsers.py\n"
     ]
    }
   ],
   "source": [
    "%%write_and_run CreateUsers.py\n",
    "\n",
    "import pandas as pd\n",
    "import numpy as np\n",
    "from IPython.display import display\n",
    "import random\n",
    "from userclass import User\n",
    "from Utils import recepten_bij_ingredient, ingredienten_bij_recept, recepten_bij_tag, tags_bij_recept\n",
    "import json\n",
    "from json import JSONEncoder\n",
    "\n",
    "def createSimulatedUser(diner_recepten, randomTag, NumberOfRecipes=10):\n",
    "\n",
    "    MogelijkeRecepten = list(set(recepten_bij_tag(randomTag)) & set(diner_recepten))\n",
    "    RandomReceptenVoorTag = random.choices(MogelijkeRecepten, k= NumberOfRecipes)\n",
    "    #print(randomTag)\n",
    "    #print(RandomReceptenVoorTag)\n",
    "    Favorieten_Ingredienten = [ingredienten_bij_recept(x) for x in RandomReceptenVoorTag]\n",
    "    \n",
    "    user = User(RandomReceptenVoorTag, Favorieten_Ingredienten, randomTag)\n",
    "    return user\n",
    "\n",
    "def createSimulatedUsers(diner_recepten, NumberOfUsersPerTag, NumberOfRecipes, Tags):\n",
    "    UsersList = []\n",
    "    for Tag in Tags:\n",
    "        for i in range(NumberOfUsersPerTag):\n",
    "            user = createSimulatedUser(diner_recepten, Tag, NumberOfRecipes = NumberOfRecipes)\n",
    "            UsersList.append(user)\n",
    "\n",
    "    ListSize = len(UsersList)\n",
    "    TrainUsers, ValidateUsers, TestUsers = UsersList[:int(ListSize*0.5)], UsersList[int(ListSize*0.5): int(ListSize*0.8)], UsersList[int(ListSize*0.8):]\n",
    "    \n",
    "    return TrainUsers, ValidateUsers, TestUsers"
   ]
  },
  {
   "cell_type": "code",
   "execution_count": null,
   "id": "9947c0e9",
   "metadata": {},
   "outputs": [],
   "source": []
  }
 ],
 "metadata": {
  "kernelspec": {
   "display_name": "Python 3 (ipykernel)",
   "language": "python",
   "name": "python3"
  },
  "language_info": {
   "codemirror_mode": {
    "name": "ipython",
    "version": 3
   },
   "file_extension": ".py",
   "mimetype": "text/x-python",
   "name": "python",
   "nbconvert_exporter": "python",
   "pygments_lexer": "ipython3",
   "version": "3.9.13"
  }
 },
 "nbformat": 4,
 "nbformat_minor": 5
}
