{
 "cells": [
  {
   "cell_type": "code",
   "execution_count": 435,
   "id": "2ecc4a36",
   "metadata": {},
   "outputs": [],
   "source": [
    "import gym\n",
    "import numpy as np\n",
    "import pandas as pd\n",
    "from gym import Env\n",
    "from gym.spaces import Discrete, Box, Dict, Tuple, MultiBinary, MultiDiscrete\n",
    "from IPython.display import display\n",
    "import random\n",
    "import os\n",
    "from stable_baselines3 import PPO, A2C\n",
    "from stable_baselines3.common.vec_env import VecFrameStack\n",
    "from stable_baselines3.common.vec_env import DummyVecEnv, SubprocVecEnv\n",
    "from stable_baselines3.common.evaluation import evaluate_policy"
   ]
  },
  {
   "cell_type": "code",
   "execution_count": 436,
   "id": "fbbd2627",
   "metadata": {},
   "outputs": [
    {
     "name": "stdout",
     "output_type": "stream",
     "text": [
      "0.9020363503716475\n"
     ]
    }
   ],
   "source": [
    "random.seed()\n",
    "randomN = random.random()\n",
    "print(randomN)"
   ]
  },
  {
   "cell_type": "code",
   "execution_count": 437,
   "id": "7f1a4d99",
   "metadata": {},
   "outputs": [],
   "source": [
    "random.seed(randomN)\n",
    "randomNumber = random.random()"
   ]
  },
  {
   "cell_type": "code",
   "execution_count": 438,
   "id": "538a3e9d",
   "metadata": {},
   "outputs": [
    {
     "data": {
      "text/plain": "array([[[3, 1, 1],\n        [0, 0, 2],\n        [0, 1, 2]],\n\n       [[0, 1, 3],\n        [2, 3, 2],\n        [3, 3, 3]],\n\n       [[1, 3, 0],\n        [0, 2, 2],\n        [3, 1, 1]]])"
     },
     "execution_count": 438,
     "metadata": {},
     "output_type": "execute_result"
    }
   ],
   "source": [
    "Box(low=0, high=3, shape=(3, 3, 3), dtype=int).sample()"
   ]
  },
  {
   "cell_type": "code",
   "execution_count": 439,
   "id": "36e6b389",
   "metadata": {},
   "outputs": [],
   "source": [
    "def fillInContainerGridRandom(grid, action_space, upperbound, percentage=0.25):\n",
    "    filledIn = 0\n",
    "    amountToFillIn = int((grid.shape[0] * grid.shape[1]) * percentage)\n",
    "    while (filledIn < amountToFillIn):\n",
    "        indexToFillIn = action_space.sample()\n",
    "        rowToFillIn = grid[indexToFillIn[0]][indexToFillIn[1]]\n",
    "        if (np.all(rowToFillIn)):\n",
    "            continue\n",
    "        elif (not np.any(rowToFillIn)):\n",
    "            checkGridCopy = grid.copy()\n",
    "            x_values_list = np.array([], dtype=int)\n",
    "            for x_spot in checkGridCopy[indexToFillIn[0]]:\n",
    "                if (x_spot[0] == 0):\n",
    "                    continue\n",
    "                x_values_list = np.append(x_values_list, x_spot[0])\n",
    "            uniqueListOfNumbers = list(set(x_values_list))\n",
    "            num_values = len(uniqueListOfNumbers)\n",
    "            if (num_values < 2):\n",
    "                randomShipNumber = random.randint(1, upperbound)\n",
    "                checkGridCopy[indexToFillIn[0]][indexToFillIn[1]], score = fillContainerInList(rowToFillIn, randomShipNumber)\n",
    "                #We encountered a boxed in(e.g. [1,0,3])\n",
    "                if(checkForBoxedInContainer(checkGridCopy[indexToFillIn[0]]) < 0):\n",
    "                    continue\n",
    "            else:\n",
    "                randomShipNumber = uniqueListOfNumbers[-1]\n",
    "                checkGridCopy[indexToFillIn[0]][indexToFillIn[1]], score = fillContainerInList(rowToFillIn, randomShipNumber)\n",
    "                #We encountered a boxed in(e.g. [1,3,x]) where x is to be placed and is equal to 1\n",
    "                if(checkForBoxedInContainer(checkGridCopy[indexToFillIn[0]]) < 0):\n",
    "                    randomShipNumber = uniqueListOfNumbers[0]\n",
    "        else:\n",
    "            #We don't need to check for box in since we add to the current x_row\n",
    "            randomShipNumber = rowToFillIn[0]\n",
    "            \n",
    "        grid[indexToFillIn[0]][indexToFillIn[1]], score = fillContainerInList(rowToFillIn, randomShipNumber)\n",
    "        filledIn +=1\n",
    "    return grid\n",
    "\n",
    "def fillContainerInList(currentList, container):\n",
    "    newList = currentList.copy()\n",
    "    indexesOfZeros = np.where(newList == 0)[0]\n",
    "    # List is full of numbers\n",
    "    if (len(indexesOfZeros) < 1):\n",
    "        return newList, True\n",
    "    else:\n",
    "        indexToChange = indexesOfZeros[0]\n",
    "        newList[indexToChange] = container\n",
    "        return newList, False"
   ]
  },
  {
   "cell_type": "code",
   "execution_count": 440,
   "id": "d0452c73",
   "metadata": {},
   "outputs": [],
   "source": [
    "def fillSingleContainerAtPosition(grid, y, x, containerList):\n",
    "    bottomValue = grid[y][x][0]\n",
    "    container = containerList[-1]\n",
    "    #We get the new row and score of putting a container there based in the list availability\n",
    "    grid[y][x], exceededUpperBoundary = fillContainerInList(grid[y][x], container)\n",
    "    score = 0\n",
    "    if (exceededUpperBoundary == False):\n",
    "        #Also give a reward if the same number is used\n",
    "        if (bottomValue == 0):\n",
    "            score += 2\n",
    "            score += checkForBoxedInContainer(grid[y])\n",
    "        elif (bottomValue == container):\n",
    "            score += 3\n",
    "        else:\n",
    "            score -= 3\n",
    "        return grid, score, np.delete(containerList, -1)\n",
    "    else:\n",
    "        return grid, score, containerList"
   ]
  },
  {
   "cell_type": "code",
   "execution_count": 441,
   "id": "4bc0bbec",
   "metadata": {},
   "outputs": [],
   "source": [
    "def checkForBoxedInContainer(listOfContainerRows):\n",
    "    x_values_list = np.array([], dtype=int)\n",
    "    for x_spot in listOfContainerRows:\n",
    "        x_values_list = np.append(x_values_list, x_spot[0])\n",
    "    numberToCheckFor = np.nan\n",
    "    numberToVerify = np.nan\n",
    "    encounteredZero = False\n",
    "    for item in x_values_list:\n",
    "        #Skip empty position on grid\n",
    "        if (item != 0):\n",
    "            #If we already encountered a number and zero counters is more than 0, we will box in a zero -> penalty\n",
    "            # e.g. x 0 0 x\n",
    "            if ((not np.isnan(numberToCheckFor)) & encounteredZero):\n",
    "                return -4\n",
    "            if (np.isnan(numberToCheckFor)):\n",
    "                numberToCheckFor = item\n",
    "            if (not np.isnan(numberToVerify)):\n",
    "                if (item != numberToVerify):\n",
    "                    #The previous item is boxed in since that item is not equal to where we started and the next item is also different\n",
    "                    return -4\n",
    "            #Set number to verify if boxed in\n",
    "            if ((item != numberToCheckFor) & (np.isnan(numberToVerify))):\n",
    "                numberToVerify = item\n",
    "        else:\n",
    "            # Only check once we encountered a number\n",
    "            # e.g. 0 x ... doesn't count\n",
    "            if (not np.isnan(numberToCheckFor)):\n",
    "                encounteredZero = True\n",
    "\n",
    "    return 0"
   ]
  },
  {
   "cell_type": "code",
   "execution_count": 442,
   "id": "c35e7487",
   "metadata": {},
   "outputs": [],
   "source": [
    "def getListOfContainers(numberOfShips, containersPerShip, multiplication=1):\n",
    "    containers = np.array([], dtype=int)\n",
    "    for i in range(multiplication):\n",
    "        for i in range(1, numberOfShips + 1):\n",
    "            containers = np.append(containers, np.full((1, containersPerShip), i, dtype=int))\n",
    "    random.shuffle(containers)\n",
    "    return containers\n",
    "\n",
    "def getContainersCountAsList(containerList, current_count=None):\n",
    "    numbers, counts = np.unique(containerList, return_counts=True)\n",
    "    if (type(current_count) == type(None)):\n",
    "        current_count = np.zeros(len(counts), dtype=int)\n",
    "    #Iterate through the numbers and assign their count\n",
    "    if (len(numbers) > 0):\n",
    "        startIndex = numbers[-1]\n",
    "        for idx, number in enumerate(numbers):\n",
    "            current_count[number-1] = counts[idx]\n",
    "        current_count[numbers[-1]:] = 0\n",
    "        return current_count\n",
    "    #Numbers that are not in the list, but still exist in the dict will be set to 0\n",
    "    current_count[0:] = 0\n",
    "    return current_count"
   ]
  },
  {
   "cell_type": "code",
   "execution_count": 443,
   "id": "2e779d7f",
   "metadata": {},
   "outputs": [
    {
     "data": {
      "text/plain": "array([4, 5, 3, 3, 2, 1, 5, 5, 3, 5, 3, 1, 3, 5, 1, 2, 3, 4, 2, 5, 5, 1,\n       2, 5, 3, 2, 5, 1, 5, 5, 1, 4, 2, 4, 4, 3, 3, 4, 1, 1, 2, 2, 1, 1,\n       3, 4, 5, 3, 1, 5, 2, 1, 2, 5, 2, 1, 4, 5, 1, 4, 3, 3, 5, 5, 1, 1,\n       4, 5, 3, 4, 1, 1, 5, 2, 2, 2, 3, 2, 1, 2, 2, 2, 1, 1, 5, 5, 1, 4,\n       4, 5, 5, 4, 2, 4, 4, 3, 2, 4, 4, 4, 1, 3, 2, 3, 1, 3, 2, 5, 3, 5,\n       5, 4, 1, 1, 4, 4, 4, 2, 4, 4, 5, 5, 4, 1, 5, 4, 4, 4, 5, 3, 2, 2,\n       3, 5, 4, 3, 1, 3, 1, 2, 4, 1, 5, 2, 3, 5, 2, 4, 1, 3, 1, 3, 4, 3,\n       3, 1, 5, 3, 4, 3, 3, 3, 2, 1, 5, 2, 1, 3, 2, 3, 2, 1, 5, 1, 4, 1,\n       4, 3, 2, 3, 2, 2, 5, 5, 1, 3, 2, 2, 2, 3, 4, 2, 4, 4, 2, 4, 1, 3,\n       5, 5])"
     },
     "metadata": {},
     "output_type": "display_data"
    }
   ],
   "source": [
    "testContainerList = getListOfContainers(5,10,4)\n",
    "display(testContainerList)"
   ]
  },
  {
   "cell_type": "code",
   "execution_count": 444,
   "id": "860f9a69",
   "metadata": {},
   "outputs": [
    {
     "data": {
      "text/plain": "array([40, 40, 40, 40, 40])"
     },
     "metadata": {},
     "output_type": "display_data"
    }
   ],
   "source": [
    "container_count = getContainersCountAsList(testContainerList)\n",
    "display(container_count)"
   ]
  },
  {
   "cell_type": "code",
   "execution_count": 445,
   "id": "e11be227",
   "metadata": {},
   "outputs": [
    {
     "data": {
      "text/plain": "array([1, 2, 1, 0, 0])"
     },
     "metadata": {},
     "output_type": "display_data"
    }
   ],
   "source": [
    "test_dict = getContainersCountAsList(np.array([1, 2, 2, 3]), container_count)\n",
    "display(test_dict)"
   ]
  },
  {
   "cell_type": "code",
   "execution_count": 446,
   "id": "820f0838",
   "metadata": {
    "scrolled": true
   },
   "outputs": [
    {
     "data": {
      "text/plain": "array([[[0, 0, 0],\n        [0, 0, 0],\n        [2, 2, 2]],\n\n       [[0, 0, 0],\n        [2, 0, 0],\n        [2, 2, 0]],\n\n       [[0, 0, 0],\n        [0, 0, 0],\n        [1, 1, 0]]])"
     },
     "metadata": {},
     "output_type": "display_data"
    },
    {
     "data": {
      "text/plain": "array([1, 1, 2, 1, 3, 1, 2, 3, 1, 1, 3, 3, 2, 3, 3, 2, 2, 2, 3, 1, 2, 3,\n       2])"
     },
     "metadata": {},
     "output_type": "display_data"
    },
    {
     "data": {
      "text/plain": "array([[[1, 0, 0],\n        [0, 0, 0],\n        [2, 2, 2]],\n\n       [[0, 0, 0],\n        [2, 0, 0],\n        [2, 2, 0]],\n\n       [[0, 0, 0],\n        [0, 0, 0],\n        [1, 1, 0]]])"
     },
     "metadata": {},
     "output_type": "display_data"
    },
    {
     "data": {
      "text/plain": "-2"
     },
     "metadata": {},
     "output_type": "display_data"
    }
   ],
   "source": [
    "x = 3\n",
    "y = 3\n",
    "z = 3\n",
    "upperbound = 3\n",
    "empty3dArray = np.zeros(shape=(y, x, z), dtype=int)\n",
    "action_space = MultiDiscrete([y, x], dtype=int)\n",
    "empty3dArray = fillInContainerGridRandom(empty3dArray, action_space, upperbound, 0.9)\n",
    "containers = getListOfContainers(upperbound, 4, z-1)\n",
    "display(empty3dArray)\n",
    "df, score, lists = fillSingleContainerAtPosition(empty3dArray, 0, 0, containers)\n",
    "display(lists)\n",
    "display(df)\n",
    "display(score)"
   ]
  },
  {
   "cell_type": "code",
   "execution_count": 447,
   "id": "aa310d58",
   "metadata": {},
   "outputs": [
    {
     "data": {
      "text/plain": "array([[[1, 0, 0],\n        [0, 0, 0],\n        [2, 2, 2]],\n\n       [[0, 0, 0],\n        [2, 0, 0],\n        [2, 2, 0]],\n\n       [[0, 0, 0],\n        [0, 0, 0],\n        [1, 1, 0]]])"
     },
     "metadata": {},
     "output_type": "display_data"
    },
    {
     "data": {
      "text/plain": "array([3, 1, 1, 2, 3, 3, 2, 2, 1])"
     },
     "metadata": {},
     "output_type": "display_data"
    },
    {
     "data": {
      "text/plain": "array([[[1, 0, 0],\n        [0, 0, 0],\n        [2, 2, 2]],\n\n       [[0, 0, 0],\n        [2, 0, 0],\n        [2, 2, 0]],\n\n       [[0, 0, 0],\n        [0, 0, 0],\n        [1, 1, 0]]])"
     },
     "metadata": {},
     "output_type": "display_data"
    },
    {
     "data": {
      "text/plain": "0"
     },
     "metadata": {},
     "output_type": "display_data"
    }
   ],
   "source": [
    "containers = getListOfContainers(3, 3)\n",
    "display(df)\n",
    "df, score, lists = fillSingleContainerAtPosition(df, 0, 2, containers)\n",
    "display(lists)\n",
    "display(df)\n",
    "display(score)"
   ]
  },
  {
   "cell_type": "code",
   "execution_count": 448,
   "id": "2d7fe7c9",
   "metadata": {
    "scrolled": true
   },
   "outputs": [
    {
     "data": {
      "text/plain": "array([2, 3, 3, 1, 2, 1, 3, 2])"
     },
     "metadata": {},
     "output_type": "display_data"
    },
    {
     "data": {
      "text/plain": "array([[[1, 0, 0],\n        [1, 0, 0],\n        [2, 2, 2]],\n\n       [[0, 0, 0],\n        [2, 0, 0],\n        [2, 2, 0]],\n\n       [[0, 0, 0],\n        [0, 0, 0],\n        [1, 1, 0]]])"
     },
     "metadata": {},
     "output_type": "display_data"
    },
    {
     "data": {
      "text/plain": "False"
     },
     "metadata": {},
     "output_type": "display_data"
    },
    {
     "data": {
      "text/plain": "2"
     },
     "metadata": {},
     "output_type": "display_data"
    }
   ],
   "source": [
    "containers = getListOfContainers(3, 3)\n",
    "df, score, lists = fillSingleContainerAtPosition(df, 0, 1, containers)\n",
    "display(lists)\n",
    "display(df)\n",
    "display(np.all(df.flatten() > 0))\n",
    "display(score)"
   ]
  },
  {
   "cell_type": "code",
   "execution_count": 449,
   "id": "4771d1bc",
   "metadata": {},
   "outputs": [],
   "source": [
    "action = MultiDiscrete([3, 3], dtype=int).sample()"
   ]
  },
  {
   "cell_type": "code",
   "execution_count": 450,
   "id": "89a17317",
   "metadata": {},
   "outputs": [
    {
     "data": {
      "text/plain": "array([1, 2])"
     },
     "metadata": {},
     "output_type": "display_data"
    }
   ],
   "source": [
    "display(action)"
   ]
  },
  {
   "cell_type": "code",
   "execution_count": 451,
   "id": "68f6d7b3",
   "metadata": {},
   "outputs": [
    {
     "data": {
      "text/plain": "1"
     },
     "metadata": {},
     "output_type": "display_data"
    }
   ],
   "source": [
    "display(action[0])"
   ]
  },
  {
   "cell_type": "code",
   "execution_count": 452,
   "id": "6dc19d6b",
   "metadata": {},
   "outputs": [
    {
     "data": {
      "text/plain": "5"
     },
     "execution_count": 452,
     "metadata": {},
     "output_type": "execute_result"
    }
   ],
   "source": [
    "Discrete(5, start=1).n"
   ]
  },
  {
   "cell_type": "code",
   "execution_count": 453,
   "id": "b2d6ce1e",
   "metadata": {},
   "outputs": [
    {
     "data": {
      "text/plain": "4"
     },
     "execution_count": 453,
     "metadata": {},
     "output_type": "execute_result"
    }
   ],
   "source": [
    "Discrete(5, start=1).sample()"
   ]
  },
  {
   "cell_type": "code",
   "execution_count": 454,
   "id": "3ced63a3",
   "metadata": {},
   "outputs": [
    {
     "data": {
      "text/plain": "OrderedDict([('1', 1), ('2', 0), ('3', 2), ('4', 0)])"
     },
     "execution_count": 454,
     "metadata": {},
     "output_type": "execute_result"
    }
   ],
   "source": [
    "Dict(spaces={\n",
    "    '1': Discrete(5),\n",
    "    '2': Discrete(5),\n",
    "    '3': Discrete(5),\n",
    "    '4': Discrete(5),\n",
    "}).sample()"
   ]
  },
  {
   "cell_type": "code",
   "execution_count": 455,
   "id": "c9364604",
   "metadata": {},
   "outputs": [],
   "source": [
    "# observation space\n",
    "observation_space_test = Dict({\n",
    "    'grid':\n",
    "        Box(low=0,\n",
    "                   high=5,\n",
    "                   shape=(3, 3, 3), dtype=int),\n",
    "    'container':\n",
    "        Discrete(5),\n",
    "    'containerCount':\n",
    "        MultiDiscrete(np.full(shape=(5,), fill_value=5,dtype=int))})"
   ]
  },
  {
   "cell_type": "code",
   "execution_count": 456,
   "id": "e5f4e292",
   "metadata": {},
   "outputs": [
    {
     "name": "stdout",
     "output_type": "stream",
     "text": [
      "OrderedDict([('container', 0), ('containerCount', array([4, 2, 4, 3, 0], dtype=int64)), ('grid', array([[[3, 1, 4],\n",
      "        [4, 4, 3],\n",
      "        [1, 2, 3]],\n",
      "\n",
      "       [[4, 1, 4],\n",
      "        [0, 5, 5],\n",
      "        [2, 5, 5]],\n",
      "\n",
      "       [[5, 5, 2],\n",
      "        [5, 2, 2],\n",
      "        [0, 5, 2]]]))])\n"
     ]
    }
   ],
   "source": [
    "print(observation_space_test.sample())"
   ]
  },
  {
   "cell_type": "markdown",
   "id": "0072aabd",
   "metadata": {},
   "source": [
    "# Create environment"
   ]
  },
  {
   "cell_type": "code",
   "execution_count": 457,
   "id": "44a2ebba",
   "metadata": {},
   "outputs": [],
   "source": [
    "class ContainerEnv(Env):\n",
    "    \"Custom Environment that follows gym interface\"\n",
    "    metadata = {'render.modes': ['human']}\n",
    "\n",
    "    def __init__(self, numberOfShips, containersPerShip, boxWidth, boxLength, boxHeight, percentage=0.0):\n",
    "        super(ContainerEnv, self).__init__()\n",
    "        self.numberOfShips = numberOfShips\n",
    "        self.containersPerShip = containersPerShip\n",
    "        self.percentage = percentage\n",
    "        self.maxRows = boxLength\n",
    "        self.maxColumns = boxWidth\n",
    "        self.maxHeight = boxHeight\n",
    "        self.maxStepsCount = ((self.maxRows * self.maxColumns * self.maxHeight) * self.maxHeight) * 10\n",
    "        self.stepCounter = 0\n",
    "        self.action_space = MultiDiscrete([self.maxRows, self.maxColumns], dtype=int)\n",
    "        self.observation_space = Dict(\n",
    "            spaces={\n",
    "                \"grid\": Box(low=0, high=numberOfShips, shape=(self.maxRows, self.maxColumns, self.maxHeight), dtype=int),\n",
    "                \"container\": Discrete(numberOfShips + 1, start=1),\n",
    "                \"containerCount\": MultiDiscrete(np.full(shape=(numberOfShips,), fill_value=(self.maxRows * self.maxColumns * self.maxHeight),dtype=int)),\n",
    "                \"maxCounter\": Discrete(self.maxStepsCount + 1),\n",
    "                \"stepCounter\": Discrete(self.maxStepsCount + 1)\n",
    "            }\n",
    "        )\n",
    "        self.listOfContainers = getListOfContainers(self.numberOfShips, self.containersPerShip, self.maxHeight-1)\n",
    "        self.containerCount = getContainersCountAsList(self.listOfContainers)\n",
    "        self.containerGrid = fillInContainerGridRandom(np.zeros(shape=(self.maxRows, self.maxColumns, self.maxHeight), dtype=int),\n",
    "                                                       self.action_space,\n",
    "                                                       self.numberOfShips,\n",
    "                                                       self.percentage)\n",
    "    def step(self, action):\n",
    "        self.stepCounter += 1\n",
    "        grid, reward, containerList = fillSingleContainerAtPosition(self.containerGrid, action[0], action[1], self.listOfContainers)\n",
    "        self.containerGrid = grid\n",
    "        self.listOfContainers = containerList\n",
    "        self.containerCount = getContainersCountAsList(self.listOfContainers, self.containerCount)\n",
    "        info = {\"TimeLimit.truncated\": False}\n",
    "        # Check if there are no more containers to place\n",
    "        if ((len(self.listOfContainers) == 0) | np.all(self.containerGrid.flatten() > 0)):\n",
    "            obs = {'stepCounter': self.stepCounter, \"maxCounter\": self.maxStepsCount, 'containerCount': self.containerCount, 'container': 0, 'grid': self.containerGrid}\n",
    "            return obs, reward, True, info\n",
    "        else:\n",
    "            obs = {'stepCounter': self.stepCounter, \"maxCounter\": self.maxStepsCount, 'containerCount': self.containerCount, 'container': int(self.listOfContainers[-1]),\n",
    "                   'grid': self.containerGrid}\n",
    "            if (self.stepCounter >= self.maxStepsCount):\n",
    "                info[\"TimeLimit.truncated\"] = True\n",
    "                return obs, reward, True, info\n",
    "            else:\n",
    "                return obs, reward, False, info\n",
    "\n",
    "    def reset(self):\n",
    "        self.stepCounter = 0\n",
    "        self.containerGrid = fillInContainerGridRandom(np.zeros(shape=(self.maxRows, self.maxColumns, self.maxHeight), dtype=int),\n",
    "                                                       self.action_space,\n",
    "                                                       self.numberOfShips,\n",
    "                                                       self.percentage)\n",
    "        self.listOfContainers = getListOfContainers(self.numberOfShips,\n",
    "                                                    #random.randint(max(1, self.containersPerShip - 5), self.containersPerShip + 5),\n",
    "                                                    self.containersPerShip,\n",
    "                                                    self.maxHeight-1)\n",
    "        self.containerCount = getContainersCountAsList(self.listOfContainers)\n",
    "        obs = {'stepCounter': self.stepCounter, \"maxCounter\": self.maxStepsCount, 'containerCount': self.containerCount, 'container': int(self.listOfContainers[-1]), 'grid': self.containerGrid}\n",
    "        return obs\n",
    "    \n",
    "    def render(self, mode='human', close=False):\n",
    "        display(self.containerGrid)\n",
    "    def close (self):\n",
    "        display(self.containerGrid)"
   ]
  },
  {
   "cell_type": "code",
   "execution_count": 458,
   "id": "2f28fca3",
   "metadata": {},
   "outputs": [],
   "source": [
    "from stable_baselines3.common.env_checker import check_env\n",
    "\n",
    "env = ContainerEnv(3, 3, 1, 3, 3)\n",
    "# It will check your custom environment and output additional warnings if needed\n",
    "#check_env(env)"
   ]
  },
  {
   "cell_type": "code",
   "execution_count": 459,
   "id": "e25423e3",
   "metadata": {
    "scrolled": true
   },
   "outputs": [
    {
     "data": {
      "text/plain": "MultiDiscrete([5 5])"
     },
     "metadata": {},
     "output_type": "display_data"
    },
    {
     "data": {
      "text/plain": "Dict('container': Discrete(4, start=1), 'containerCount': MultiDiscrete([125 125 125]), 'grid': Box(0, 3, (5, 5, 5), int32), 'maxCounter': Discrete(6251), 'stepCounter': Discrete(6251))"
     },
     "metadata": {},
     "output_type": "display_data"
    },
    {
     "data": {
      "text/plain": "{'stepCounter': 0,\n 'maxCounter': 6250,\n 'containerCount': array([32, 32, 32]),\n 'container': 3,\n 'grid': array([[[0, 0, 0, 0, 0],\n         [0, 0, 0, 0, 0],\n         [0, 0, 0, 0, 0],\n         [0, 0, 0, 0, 0],\n         [0, 0, 0, 0, 0]],\n \n        [[0, 0, 0, 0, 0],\n         [0, 0, 0, 0, 0],\n         [0, 0, 0, 0, 0],\n         [0, 0, 0, 0, 0],\n         [0, 0, 0, 0, 0]],\n \n        [[0, 0, 0, 0, 0],\n         [0, 0, 0, 0, 0],\n         [0, 0, 0, 0, 0],\n         [0, 0, 0, 0, 0],\n         [0, 0, 0, 0, 0]],\n \n        [[0, 0, 0, 0, 0],\n         [0, 0, 0, 0, 0],\n         [0, 0, 0, 0, 0],\n         [0, 0, 0, 0, 0],\n         [0, 0, 0, 0, 0]],\n \n        [[0, 0, 0, 0, 0],\n         [0, 0, 0, 0, 0],\n         [0, 0, 0, 0, 0],\n         [0, 0, 0, 0, 0],\n         [0, 0, 0, 0, 0]]])}"
     },
     "metadata": {},
     "output_type": "display_data"
    }
   ],
   "source": [
    "numberOfShips = 3\n",
    "containersPerShip = 8\n",
    "boxHeight = 5\n",
    "boxWidth = 5\n",
    "boxLength = 5\n",
    "env = ContainerEnv(numberOfShips, containersPerShip, boxWidth, boxLength, boxHeight)\n",
    "display(env.action_space)\n",
    "display(env.observation_space)\n",
    "display(env.reset())"
   ]
  },
  {
   "cell_type": "markdown",
   "id": "e331be2b",
   "metadata": {},
   "source": [
    "# Test environment"
   ]
  },
  {
   "cell_type": "code",
   "execution_count": 460,
   "id": "8c1a6e94",
   "metadata": {
    "scrolled": true
   },
   "outputs": [
    {
     "data": {
      "text/plain": "{'stepCounter': 0,\n 'maxCounter': 6250,\n 'containerCount': array([32, 32, 32]),\n 'container': 1,\n 'grid': array([[[0, 0, 0, 0, 0],\n         [0, 0, 0, 0, 0],\n         [0, 0, 0, 0, 0],\n         [0, 0, 0, 0, 0],\n         [0, 0, 0, 0, 0]],\n \n        [[0, 0, 0, 0, 0],\n         [0, 0, 0, 0, 0],\n         [0, 0, 0, 0, 0],\n         [0, 0, 0, 0, 0],\n         [0, 0, 0, 0, 0]],\n \n        [[0, 0, 0, 0, 0],\n         [0, 0, 0, 0, 0],\n         [0, 0, 0, 0, 0],\n         [0, 0, 0, 0, 0],\n         [0, 0, 0, 0, 0]],\n \n        [[0, 0, 0, 0, 0],\n         [0, 0, 0, 0, 0],\n         [0, 0, 0, 0, 0],\n         [0, 0, 0, 0, 0],\n         [0, 0, 0, 0, 0]],\n \n        [[0, 0, 0, 0, 0],\n         [0, 0, 0, 0, 0],\n         [0, 0, 0, 0, 0],\n         [0, 0, 0, 0, 0],\n         [0, 0, 0, 0, 0]]])}"
     },
     "metadata": {},
     "output_type": "display_data"
    },
    {
     "name": "stdout",
     "output_type": "stream",
     "text": [
      "Episode:1 Score:-59\n",
      "final env state\n"
     ]
    },
    {
     "data": {
      "text/plain": "{'stepCounter': 110,\n 'maxCounter': 6250,\n 'containerCount': array([0, 0, 0]),\n 'container': 0,\n 'grid': array([[[3, 2, 0, 0, 0],\n         [3, 3, 2, 0, 0],\n         [1, 2, 2, 2, 0],\n         [1, 2, 3, 1, 2],\n         [1, 3, 1, 3, 1]],\n \n        [[2, 2, 2, 1, 0],\n         [2, 1, 3, 0, 0],\n         [2, 0, 0, 0, 0],\n         [2, 2, 3, 1, 0],\n         [3, 2, 2, 0, 0]],\n \n        [[3, 3, 0, 0, 0],\n         [1, 2, 2, 3, 3],\n         [1, 3, 3, 3, 3],\n         [2, 0, 0, 0, 0],\n         [2, 3, 3, 2, 0]],\n \n        [[3, 1, 1, 3, 1],\n         [3, 3, 3, 3, 0],\n         [3, 2, 1, 1, 1],\n         [2, 2, 2, 2, 3],\n         [1, 3, 1, 3, 1]],\n \n        [[3, 1, 2, 1, 2],\n         [2, 1, 2, 2, 1],\n         [1, 1, 0, 0, 0],\n         [1, 1, 1, 1, 1],\n         [3, 1, 3, 2, 0]]])}"
     },
     "metadata": {},
     "output_type": "display_data"
    },
    {
     "data": {
      "text/plain": "array([], dtype=int32)"
     },
     "metadata": {},
     "output_type": "display_data"
    },
    {
     "data": {
      "text/plain": "{'stepCounter': 0,\n 'maxCounter': 6250,\n 'containerCount': array([32, 32, 32]),\n 'container': 1,\n 'grid': array([[[0, 0, 0, 0, 0],\n         [0, 0, 0, 0, 0],\n         [0, 0, 0, 0, 0],\n         [0, 0, 0, 0, 0],\n         [0, 0, 0, 0, 0]],\n \n        [[0, 0, 0, 0, 0],\n         [0, 0, 0, 0, 0],\n         [0, 0, 0, 0, 0],\n         [0, 0, 0, 0, 0],\n         [0, 0, 0, 0, 0]],\n \n        [[0, 0, 0, 0, 0],\n         [0, 0, 0, 0, 0],\n         [0, 0, 0, 0, 0],\n         [0, 0, 0, 0, 0],\n         [0, 0, 0, 0, 0]],\n \n        [[0, 0, 0, 0, 0],\n         [0, 0, 0, 0, 0],\n         [0, 0, 0, 0, 0],\n         [0, 0, 0, 0, 0],\n         [0, 0, 0, 0, 0]],\n \n        [[0, 0, 0, 0, 0],\n         [0, 0, 0, 0, 0],\n         [0, 0, 0, 0, 0],\n         [0, 0, 0, 0, 0],\n         [0, 0, 0, 0, 0]]])}"
     },
     "metadata": {},
     "output_type": "display_data"
    },
    {
     "name": "stdout",
     "output_type": "stream",
     "text": [
      "Episode:2 Score:-46\n",
      "final env state\n"
     ]
    },
    {
     "data": {
      "text/plain": "{'stepCounter': 109,\n 'maxCounter': 6250,\n 'containerCount': array([0, 0, 0]),\n 'container': 0,\n 'grid': array([[[1, 1, 3, 2, 0],\n         [3, 2, 3, 0, 0],\n         [1, 1, 0, 0, 0],\n         [1, 3, 1, 3, 1],\n         [2, 3, 2, 2, 3]],\n \n        [[3, 2, 3, 0, 0],\n         [1, 2, 1, 1, 2],\n         [2, 1, 2, 2, 0],\n         [2, 2, 1, 0, 0],\n         [1, 3, 0, 0, 0]],\n \n        [[3, 2, 3, 1, 3],\n         [1, 2, 3, 2, 2],\n         [3, 2, 3, 1, 0],\n         [1, 2, 1, 1, 0],\n         [2, 1, 3, 3, 0]],\n \n        [[1, 2, 1, 2, 0],\n         [3, 3, 1, 1, 3],\n         [1, 2, 1, 3, 3],\n         [2, 3, 2, 3, 3],\n         [1, 1, 2, 3, 1]],\n \n        [[0, 0, 0, 0, 0],\n         [3, 3, 3, 1, 2],\n         [2, 3, 2, 1, 2],\n         [2, 1, 3, 0, 0],\n         [2, 0, 0, 0, 0]]])}"
     },
     "metadata": {},
     "output_type": "display_data"
    },
    {
     "data": {
      "text/plain": "array([], dtype=int32)"
     },
     "metadata": {},
     "output_type": "display_data"
    },
    {
     "data": {
      "text/plain": "{'stepCounter': 0,\n 'maxCounter': 6250,\n 'containerCount': array([32, 32, 32]),\n 'container': 1,\n 'grid': array([[[0, 0, 0, 0, 0],\n         [0, 0, 0, 0, 0],\n         [0, 0, 0, 0, 0],\n         [0, 0, 0, 0, 0],\n         [0, 0, 0, 0, 0]],\n \n        [[0, 0, 0, 0, 0],\n         [0, 0, 0, 0, 0],\n         [0, 0, 0, 0, 0],\n         [0, 0, 0, 0, 0],\n         [0, 0, 0, 0, 0]],\n \n        [[0, 0, 0, 0, 0],\n         [0, 0, 0, 0, 0],\n         [0, 0, 0, 0, 0],\n         [0, 0, 0, 0, 0],\n         [0, 0, 0, 0, 0]],\n \n        [[0, 0, 0, 0, 0],\n         [0, 0, 0, 0, 0],\n         [0, 0, 0, 0, 0],\n         [0, 0, 0, 0, 0],\n         [0, 0, 0, 0, 0]],\n \n        [[0, 0, 0, 0, 0],\n         [0, 0, 0, 0, 0],\n         [0, 0, 0, 0, 0],\n         [0, 0, 0, 0, 0],\n         [0, 0, 0, 0, 0]]])}"
     },
     "metadata": {},
     "output_type": "display_data"
    },
    {
     "name": "stdout",
     "output_type": "stream",
     "text": [
      "Episode:3 Score:-69\n",
      "final env state\n"
     ]
    },
    {
     "data": {
      "text/plain": "{'stepCounter': 112,\n 'maxCounter': 6250,\n 'containerCount': array([0, 0, 0]),\n 'container': 0,\n 'grid': array([[[2, 1, 3, 0, 0],\n         [3, 3, 3, 2, 0],\n         [2, 2, 3, 0, 0],\n         [1, 3, 3, 2, 3],\n         [1, 1, 1, 2, 3]],\n \n        [[1, 1, 1, 2, 1],\n         [3, 2, 0, 0, 0],\n         [2, 1, 3, 0, 0],\n         [3, 3, 2, 1, 0],\n         [1, 1, 1, 1, 3]],\n \n        [[2, 2, 2, 1, 0],\n         [1, 3, 2, 0, 0],\n         [2, 0, 0, 0, 0],\n         [2, 2, 2, 0, 0],\n         [2, 2, 1, 3, 1]],\n \n        [[1, 3, 3, 0, 0],\n         [3, 1, 1, 3, 0],\n         [2, 2, 0, 0, 0],\n         [3, 1, 2, 1, 3],\n         [3, 3, 3, 3, 1]],\n \n        [[2, 1, 2, 0, 0],\n         [2, 3, 2, 2, 1],\n         [1, 1, 3, 2, 1],\n         [1, 2, 3, 3, 0],\n         [3, 1, 2, 3, 2]]])}"
     },
     "metadata": {},
     "output_type": "display_data"
    },
    {
     "data": {
      "text/plain": "array([], dtype=int32)"
     },
     "metadata": {},
     "output_type": "display_data"
    },
    {
     "data": {
      "text/plain": "{'stepCounter': 0,\n 'maxCounter': 6250,\n 'containerCount': array([32, 32, 32]),\n 'container': 2,\n 'grid': array([[[0, 0, 0, 0, 0],\n         [0, 0, 0, 0, 0],\n         [0, 0, 0, 0, 0],\n         [0, 0, 0, 0, 0],\n         [0, 0, 0, 0, 0]],\n \n        [[0, 0, 0, 0, 0],\n         [0, 0, 0, 0, 0],\n         [0, 0, 0, 0, 0],\n         [0, 0, 0, 0, 0],\n         [0, 0, 0, 0, 0]],\n \n        [[0, 0, 0, 0, 0],\n         [0, 0, 0, 0, 0],\n         [0, 0, 0, 0, 0],\n         [0, 0, 0, 0, 0],\n         [0, 0, 0, 0, 0]],\n \n        [[0, 0, 0, 0, 0],\n         [0, 0, 0, 0, 0],\n         [0, 0, 0, 0, 0],\n         [0, 0, 0, 0, 0],\n         [0, 0, 0, 0, 0]],\n \n        [[0, 0, 0, 0, 0],\n         [0, 0, 0, 0, 0],\n         [0, 0, 0, 0, 0],\n         [0, 0, 0, 0, 0],\n         [0, 0, 0, 0, 0]]])}"
     },
     "metadata": {},
     "output_type": "display_data"
    },
    {
     "name": "stdout",
     "output_type": "stream",
     "text": [
      "Episode:4 Score:-57\n",
      "final env state\n"
     ]
    },
    {
     "data": {
      "text/plain": "{'stepCounter': 109,\n 'maxCounter': 6250,\n 'containerCount': array([0, 0, 0]),\n 'container': 0,\n 'grid': array([[[1, 2, 0, 0, 0],\n         [3, 1, 3, 3, 1],\n         [1, 2, 2, 3, 1],\n         [3, 3, 1, 2, 0],\n         [2, 2, 1, 0, 0]],\n \n        [[1, 3, 3, 2, 3],\n         [2, 2, 3, 0, 0],\n         [2, 1, 3, 2, 2],\n         [2, 3, 2, 2, 3],\n         [1, 0, 0, 0, 0]],\n \n        [[2, 1, 3, 2, 2],\n         [1, 1, 2, 3, 0],\n         [3, 1, 1, 2, 1],\n         [3, 1, 0, 0, 0],\n         [1, 1, 3, 2, 0]],\n \n        [[2, 2, 3, 2, 2],\n         [2, 3, 1, 3, 1],\n         [3, 1, 1, 3, 1],\n         [3, 3, 3, 2, 1],\n         [3, 3, 0, 0, 0]],\n \n        [[2, 2, 1, 3, 0],\n         [1, 1, 2, 0, 0],\n         [2, 3, 3, 0, 0],\n         [1, 0, 0, 0, 0],\n         [1, 2, 1, 3, 1]]])}"
     },
     "metadata": {},
     "output_type": "display_data"
    },
    {
     "data": {
      "text/plain": "array([], dtype=int32)"
     },
     "metadata": {},
     "output_type": "display_data"
    },
    {
     "data": {
      "text/plain": "{'stepCounter': 0,\n 'maxCounter': 6250,\n 'containerCount': array([32, 32, 32]),\n 'container': 3,\n 'grid': array([[[0, 0, 0, 0, 0],\n         [0, 0, 0, 0, 0],\n         [0, 0, 0, 0, 0],\n         [0, 0, 0, 0, 0],\n         [0, 0, 0, 0, 0]],\n \n        [[0, 0, 0, 0, 0],\n         [0, 0, 0, 0, 0],\n         [0, 0, 0, 0, 0],\n         [0, 0, 0, 0, 0],\n         [0, 0, 0, 0, 0]],\n \n        [[0, 0, 0, 0, 0],\n         [0, 0, 0, 0, 0],\n         [0, 0, 0, 0, 0],\n         [0, 0, 0, 0, 0],\n         [0, 0, 0, 0, 0]],\n \n        [[0, 0, 0, 0, 0],\n         [0, 0, 0, 0, 0],\n         [0, 0, 0, 0, 0],\n         [0, 0, 0, 0, 0],\n         [0, 0, 0, 0, 0]],\n \n        [[0, 0, 0, 0, 0],\n         [0, 0, 0, 0, 0],\n         [0, 0, 0, 0, 0],\n         [0, 0, 0, 0, 0],\n         [0, 0, 0, 0, 0]]])}"
     },
     "metadata": {},
     "output_type": "display_data"
    },
    {
     "name": "stdout",
     "output_type": "stream",
     "text": [
      "Episode:5 Score:-110\n",
      "final env state\n"
     ]
    },
    {
     "data": {
      "text/plain": "{'stepCounter': 112,\n 'maxCounter': 6250,\n 'containerCount': array([0, 0, 0]),\n 'container': 0,\n 'grid': array([[[3, 2, 1, 1, 2],\n         [2, 1, 1, 3, 1],\n         [1, 3, 1, 0, 0],\n         [3, 2, 3, 3, 0],\n         [3, 1, 2, 1, 1]],\n \n        [[1, 3, 2, 3, 0],\n         [3, 3, 2, 2, 0],\n         [3, 2, 3, 0, 0],\n         [2, 3, 0, 0, 0],\n         [3, 3, 3, 1, 2]],\n \n        [[3, 2, 0, 0, 0],\n         [3, 1, 1, 2, 1],\n         [1, 2, 2, 3, 1],\n         [3, 2, 3, 2, 3],\n         [3, 1, 0, 0, 0]],\n \n        [[1, 2, 1, 1, 2],\n         [1, 1, 2, 3, 2],\n         [3, 2, 2, 0, 0],\n         [1, 2, 1, 1, 1],\n         [1, 1, 0, 0, 0]],\n \n        [[3, 2, 3, 2, 0],\n         [2, 1, 3, 2, 2],\n         [0, 0, 0, 0, 0],\n         [2, 1, 3, 2, 0],\n         [1, 3, 2, 3, 0]]])}"
     },
     "metadata": {},
     "output_type": "display_data"
    },
    {
     "data": {
      "text/plain": "array([], dtype=int32)"
     },
     "metadata": {},
     "output_type": "display_data"
    },
    {
     "data": {
      "text/plain": "{'stepCounter': 0,\n 'maxCounter': 6250,\n 'containerCount': array([32, 32, 32]),\n 'container': 2,\n 'grid': array([[[0, 0, 0, 0, 0],\n         [0, 0, 0, 0, 0],\n         [0, 0, 0, 0, 0],\n         [0, 0, 0, 0, 0],\n         [0, 0, 0, 0, 0]],\n \n        [[0, 0, 0, 0, 0],\n         [0, 0, 0, 0, 0],\n         [0, 0, 0, 0, 0],\n         [0, 0, 0, 0, 0],\n         [0, 0, 0, 0, 0]],\n \n        [[0, 0, 0, 0, 0],\n         [0, 0, 0, 0, 0],\n         [0, 0, 0, 0, 0],\n         [0, 0, 0, 0, 0],\n         [0, 0, 0, 0, 0]],\n \n        [[0, 0, 0, 0, 0],\n         [0, 0, 0, 0, 0],\n         [0, 0, 0, 0, 0],\n         [0, 0, 0, 0, 0],\n         [0, 0, 0, 0, 0]],\n \n        [[0, 0, 0, 0, 0],\n         [0, 0, 0, 0, 0],\n         [0, 0, 0, 0, 0],\n         [0, 0, 0, 0, 0],\n         [0, 0, 0, 0, 0]]])}"
     },
     "metadata": {},
     "output_type": "display_data"
    },
    {
     "name": "stdout",
     "output_type": "stream",
     "text": [
      "Episode:6 Score:-72\n",
      "final env state\n"
     ]
    },
    {
     "data": {
      "text/plain": "{'stepCounter': 107,\n 'maxCounter': 6250,\n 'containerCount': array([0, 0, 0]),\n 'container': 0,\n 'grid': array([[[1, 2, 1, 2, 2],\n         [1, 3, 0, 0, 0],\n         [2, 3, 0, 0, 0],\n         [1, 2, 3, 1, 3],\n         [3, 3, 0, 0, 0]],\n \n        [[3, 3, 2, 0, 0],\n         [1, 2, 1, 1, 2],\n         [1, 2, 3, 2, 2],\n         [3, 1, 3, 1, 2],\n         [2, 3, 3, 3, 2]],\n \n        [[1, 3, 1, 1, 1],\n         [1, 3, 2, 0, 0],\n         [1, 1, 3, 3, 3],\n         [2, 1, 3, 0, 0],\n         [0, 0, 0, 0, 0]],\n \n        [[2, 3, 2, 1, 0],\n         [3, 3, 3, 1, 0],\n         [2, 2, 1, 2, 0],\n         [2, 2, 3, 2, 1],\n         [3, 2, 0, 0, 0]],\n \n        [[3, 1, 3, 2, 2],\n         [1, 1, 1, 1, 1],\n         [3, 2, 2, 1, 3],\n         [3, 1, 1, 2, 0],\n         [2, 3, 2, 0, 0]]])}"
     },
     "metadata": {},
     "output_type": "display_data"
    },
    {
     "data": {
      "text/plain": "array([], dtype=int32)"
     },
     "metadata": {},
     "output_type": "display_data"
    },
    {
     "data": {
      "text/plain": "{'stepCounter': 0,\n 'maxCounter': 6250,\n 'containerCount': array([32, 32, 32]),\n 'container': 3,\n 'grid': array([[[0, 0, 0, 0, 0],\n         [0, 0, 0, 0, 0],\n         [0, 0, 0, 0, 0],\n         [0, 0, 0, 0, 0],\n         [0, 0, 0, 0, 0]],\n \n        [[0, 0, 0, 0, 0],\n         [0, 0, 0, 0, 0],\n         [0, 0, 0, 0, 0],\n         [0, 0, 0, 0, 0],\n         [0, 0, 0, 0, 0]],\n \n        [[0, 0, 0, 0, 0],\n         [0, 0, 0, 0, 0],\n         [0, 0, 0, 0, 0],\n         [0, 0, 0, 0, 0],\n         [0, 0, 0, 0, 0]],\n \n        [[0, 0, 0, 0, 0],\n         [0, 0, 0, 0, 0],\n         [0, 0, 0, 0, 0],\n         [0, 0, 0, 0, 0],\n         [0, 0, 0, 0, 0]],\n \n        [[0, 0, 0, 0, 0],\n         [0, 0, 0, 0, 0],\n         [0, 0, 0, 0, 0],\n         [0, 0, 0, 0, 0],\n         [0, 0, 0, 0, 0]]])}"
     },
     "metadata": {},
     "output_type": "display_data"
    },
    {
     "name": "stdout",
     "output_type": "stream",
     "text": [
      "Episode:7 Score:-71\n",
      "final env state\n"
     ]
    },
    {
     "data": {
      "text/plain": "{'stepCounter': 118,\n 'maxCounter': 6250,\n 'containerCount': array([0, 0, 0]),\n 'container': 0,\n 'grid': array([[[3, 3, 3, 1, 3],\n         [2, 1, 1, 0, 0],\n         [1, 2, 3, 2, 0],\n         [2, 3, 2, 0, 0],\n         [1, 2, 0, 0, 0]],\n \n        [[1, 3, 1, 1, 0],\n         [2, 1, 2, 2, 1],\n         [3, 3, 1, 0, 0],\n         [3, 1, 3, 2, 3],\n         [2, 3, 3, 3, 3]],\n \n        [[3, 3, 1, 1, 1],\n         [3, 1, 2, 1, 0],\n         [3, 0, 0, 0, 0],\n         [2, 3, 2, 3, 3],\n         [2, 2, 0, 0, 0]],\n \n        [[1, 1, 2, 1, 0],\n         [2, 1, 2, 3, 2],\n         [2, 3, 2, 1, 2],\n         [2, 1, 3, 2, 0],\n         [1, 2, 3, 2, 2]],\n \n        [[3, 1, 2, 0, 0],\n         [1, 1, 3, 2, 3],\n         [2, 2, 3, 3, 0],\n         [1, 1, 1, 0, 0],\n         [1, 1, 0, 0, 0]]])}"
     },
     "metadata": {},
     "output_type": "display_data"
    },
    {
     "data": {
      "text/plain": "array([], dtype=int32)"
     },
     "metadata": {},
     "output_type": "display_data"
    },
    {
     "data": {
      "text/plain": "{'stepCounter': 0,\n 'maxCounter': 6250,\n 'containerCount': array([32, 32, 32]),\n 'container': 2,\n 'grid': array([[[0, 0, 0, 0, 0],\n         [0, 0, 0, 0, 0],\n         [0, 0, 0, 0, 0],\n         [0, 0, 0, 0, 0],\n         [0, 0, 0, 0, 0]],\n \n        [[0, 0, 0, 0, 0],\n         [0, 0, 0, 0, 0],\n         [0, 0, 0, 0, 0],\n         [0, 0, 0, 0, 0],\n         [0, 0, 0, 0, 0]],\n \n        [[0, 0, 0, 0, 0],\n         [0, 0, 0, 0, 0],\n         [0, 0, 0, 0, 0],\n         [0, 0, 0, 0, 0],\n         [0, 0, 0, 0, 0]],\n \n        [[0, 0, 0, 0, 0],\n         [0, 0, 0, 0, 0],\n         [0, 0, 0, 0, 0],\n         [0, 0, 0, 0, 0],\n         [0, 0, 0, 0, 0]],\n \n        [[0, 0, 0, 0, 0],\n         [0, 0, 0, 0, 0],\n         [0, 0, 0, 0, 0],\n         [0, 0, 0, 0, 0],\n         [0, 0, 0, 0, 0]]])}"
     },
     "metadata": {},
     "output_type": "display_data"
    },
    {
     "name": "stdout",
     "output_type": "stream",
     "text": [
      "Episode:8 Score:-91\n",
      "final env state\n"
     ]
    },
    {
     "data": {
      "text/plain": "{'stepCounter': 103,\n 'maxCounter': 6250,\n 'containerCount': array([0, 0, 0]),\n 'container': 0,\n 'grid': array([[[2, 3, 1, 0, 0],\n         [1, 3, 3, 3, 0],\n         [2, 2, 2, 3, 0],\n         [1, 1, 3, 1, 0],\n         [1, 3, 0, 0, 0]],\n \n        [[3, 3, 1, 3, 1],\n         [1, 3, 1, 0, 0],\n         [1, 2, 0, 0, 0],\n         [1, 1, 3, 2, 2],\n         [2, 3, 2, 1, 0]],\n \n        [[1, 3, 3, 2, 0],\n         [2, 2, 3, 2, 2],\n         [3, 2, 2, 2, 2],\n         [3, 3, 2, 3, 2],\n         [3, 1, 0, 0, 0]],\n \n        [[2, 3, 1, 3, 0],\n         [1, 3, 1, 3, 0],\n         [1, 1, 2, 0, 0],\n         [3, 1, 2, 1, 2],\n         [2, 2, 3, 0, 0]],\n \n        [[1, 2, 3, 1, 0],\n         [2, 1, 2, 1, 2],\n         [1, 1, 2, 3, 0],\n         [3, 2, 1, 1, 3],\n         [3, 1, 0, 0, 0]]])}"
     },
     "metadata": {},
     "output_type": "display_data"
    },
    {
     "data": {
      "text/plain": "array([], dtype=int32)"
     },
     "metadata": {},
     "output_type": "display_data"
    },
    {
     "data": {
      "text/plain": "{'stepCounter': 0,\n 'maxCounter': 6250,\n 'containerCount': array([32, 32, 32]),\n 'container': 1,\n 'grid': array([[[0, 0, 0, 0, 0],\n         [0, 0, 0, 0, 0],\n         [0, 0, 0, 0, 0],\n         [0, 0, 0, 0, 0],\n         [0, 0, 0, 0, 0]],\n \n        [[0, 0, 0, 0, 0],\n         [0, 0, 0, 0, 0],\n         [0, 0, 0, 0, 0],\n         [0, 0, 0, 0, 0],\n         [0, 0, 0, 0, 0]],\n \n        [[0, 0, 0, 0, 0],\n         [0, 0, 0, 0, 0],\n         [0, 0, 0, 0, 0],\n         [0, 0, 0, 0, 0],\n         [0, 0, 0, 0, 0]],\n \n        [[0, 0, 0, 0, 0],\n         [0, 0, 0, 0, 0],\n         [0, 0, 0, 0, 0],\n         [0, 0, 0, 0, 0],\n         [0, 0, 0, 0, 0]],\n \n        [[0, 0, 0, 0, 0],\n         [0, 0, 0, 0, 0],\n         [0, 0, 0, 0, 0],\n         [0, 0, 0, 0, 0],\n         [0, 0, 0, 0, 0]]])}"
     },
     "metadata": {},
     "output_type": "display_data"
    },
    {
     "name": "stdout",
     "output_type": "stream",
     "text": [
      "Episode:9 Score:-85\n",
      "final env state\n"
     ]
    },
    {
     "data": {
      "text/plain": "{'stepCounter': 110,\n 'maxCounter': 6250,\n 'containerCount': array([0, 0, 0]),\n 'container': 0,\n 'grid': array([[[0, 0, 0, 0, 0],\n         [3, 3, 1, 3, 2],\n         [3, 2, 2, 2, 3],\n         [1, 2, 0, 0, 0],\n         [2, 3, 1, 1, 0]],\n \n        [[1, 1, 1, 3, 2],\n         [2, 3, 2, 3, 1],\n         [1, 1, 1, 1, 0],\n         [3, 1, 2, 3, 1],\n         [2, 2, 3, 1, 3]],\n \n        [[3, 2, 3, 2, 1],\n         [2, 3, 0, 0, 0],\n         [1, 3, 1, 0, 0],\n         [0, 0, 0, 0, 0],\n         [2, 2, 0, 0, 0]],\n \n        [[2, 2, 2, 2, 3],\n         [1, 3, 0, 0, 0],\n         [3, 3, 3, 2, 3],\n         [1, 1, 2, 2, 2],\n         [2, 3, 1, 3, 1]],\n \n        [[3, 3, 1, 2, 1],\n         [1, 1, 1, 2, 2],\n         [1, 2, 2, 3, 0],\n         [3, 3, 1, 2, 1],\n         [3, 1, 3, 0, 0]]])}"
     },
     "metadata": {},
     "output_type": "display_data"
    },
    {
     "data": {
      "text/plain": "array([], dtype=int32)"
     },
     "metadata": {},
     "output_type": "display_data"
    },
    {
     "data": {
      "text/plain": "{'stepCounter': 0,\n 'maxCounter': 6250,\n 'containerCount': array([32, 32, 32]),\n 'container': 3,\n 'grid': array([[[0, 0, 0, 0, 0],\n         [0, 0, 0, 0, 0],\n         [0, 0, 0, 0, 0],\n         [0, 0, 0, 0, 0],\n         [0, 0, 0, 0, 0]],\n \n        [[0, 0, 0, 0, 0],\n         [0, 0, 0, 0, 0],\n         [0, 0, 0, 0, 0],\n         [0, 0, 0, 0, 0],\n         [0, 0, 0, 0, 0]],\n \n        [[0, 0, 0, 0, 0],\n         [0, 0, 0, 0, 0],\n         [0, 0, 0, 0, 0],\n         [0, 0, 0, 0, 0],\n         [0, 0, 0, 0, 0]],\n \n        [[0, 0, 0, 0, 0],\n         [0, 0, 0, 0, 0],\n         [0, 0, 0, 0, 0],\n         [0, 0, 0, 0, 0],\n         [0, 0, 0, 0, 0]],\n \n        [[0, 0, 0, 0, 0],\n         [0, 0, 0, 0, 0],\n         [0, 0, 0, 0, 0],\n         [0, 0, 0, 0, 0],\n         [0, 0, 0, 0, 0]]])}"
     },
     "metadata": {},
     "output_type": "display_data"
    },
    {
     "name": "stdout",
     "output_type": "stream",
     "text": [
      "Episode:10 Score:-86\n",
      "final env state\n"
     ]
    },
    {
     "data": {
      "text/plain": "{'stepCounter': 114,\n 'maxCounter': 6250,\n 'containerCount': array([0, 0, 0]),\n 'container': 0,\n 'grid': array([[[3, 1, 2, 3, 1],\n         [1, 2, 2, 1, 0],\n         [1, 1, 2, 1, 3],\n         [3, 1, 3, 3, 0],\n         [3, 1, 2, 0, 0]],\n \n        [[3, 2, 0, 0, 0],\n         [1, 1, 3, 0, 0],\n         [1, 2, 3, 2, 2],\n         [1, 3, 1, 3, 0],\n         [2, 2, 3, 1, 3]],\n \n        [[2, 1, 2, 2, 1],\n         [3, 1, 1, 3, 1],\n         [2, 2, 2, 0, 0],\n         [0, 0, 0, 0, 0],\n         [2, 1, 3, 3, 2]],\n \n        [[2, 1, 1, 0, 0],\n         [1, 2, 2, 2, 2],\n         [2, 3, 3, 2, 0],\n         [3, 3, 3, 3, 3],\n         [3, 0, 0, 0, 0]],\n \n        [[2, 1, 1, 2, 2],\n         [1, 2, 0, 0, 0],\n         [2, 1, 1, 3, 0],\n         [3, 1, 3, 2, 0],\n         [3, 3, 3, 1, 1]]])}"
     },
     "metadata": {},
     "output_type": "display_data"
    },
    {
     "data": {
      "text/plain": "array([], dtype=int32)"
     },
     "metadata": {},
     "output_type": "display_data"
    },
    {
     "data": {
      "text/plain": "array([[[3, 1, 2, 3, 1],\n        [1, 2, 2, 1, 0],\n        [1, 1, 2, 1, 3],\n        [3, 1, 3, 3, 0],\n        [3, 1, 2, 0, 0]],\n\n       [[3, 2, 0, 0, 0],\n        [1, 1, 3, 0, 0],\n        [1, 2, 3, 2, 2],\n        [1, 3, 1, 3, 0],\n        [2, 2, 3, 1, 3]],\n\n       [[2, 1, 2, 2, 1],\n        [3, 1, 1, 3, 1],\n        [2, 2, 2, 0, 0],\n        [0, 0, 0, 0, 0],\n        [2, 1, 3, 3, 2]],\n\n       [[2, 1, 1, 0, 0],\n        [1, 2, 2, 2, 2],\n        [2, 3, 3, 2, 0],\n        [3, 3, 3, 3, 3],\n        [3, 0, 0, 0, 0]],\n\n       [[2, 1, 1, 2, 2],\n        [1, 2, 0, 0, 0],\n        [2, 1, 1, 3, 0],\n        [3, 1, 3, 2, 0],\n        [3, 3, 3, 1, 1]]])"
     },
     "metadata": {},
     "output_type": "display_data"
    }
   ],
   "source": [
    "episodes = 10\n",
    "for episode in range(1, episodes+1):\n",
    "    state = env.reset()\n",
    "    display(state)\n",
    "    done = False\n",
    "    score = 0\n",
    "    \n",
    "    while not done:\n",
    "        action = env.action_space.sample()\n",
    "        n_state, reward, done, info = env.step(action)\n",
    "        state = n_state\n",
    "        score+=reward\n",
    "    print('Episode:{} Score:{}'.format(episode, score))\n",
    "    print('final env state')\n",
    "    display(state)\n",
    "    display(env.listOfContainers)\n",
    "env.close()"
   ]
  },
  {
   "cell_type": "markdown",
   "id": "a00b42d4",
   "metadata": {},
   "source": [
    "# Stable baselines"
   ]
  },
  {
   "cell_type": "code",
   "execution_count": 461,
   "id": "b117c05d",
   "metadata": {},
   "outputs": [
    {
     "name": "stdout",
     "output_type": "stream",
     "text": [
      "0.0\n",
      "0.1\n",
      "0.2\n",
      "0.30000000000000004\n",
      "0.4\n",
      "0.5\n",
      "0.6000000000000001\n",
      "0.7000000000000001\n",
      "0.8\n",
      "0.9\n"
     ]
    }
   ],
   "source": [
    "for percentage in np.arange(0.0, 1.0, 0.1):\n",
    "    print(percentage)"
   ]
  },
  {
   "cell_type": "code",
   "execution_count": 462,
   "id": "a862b124",
   "metadata": {},
   "outputs": [],
   "source": [
    "from typing import Callable\n",
    "def make_env(numberOfShips, containersPerShip, boxHeight, boxWidth, boxLength, percentage) -> Callable:\n",
    "    def _init() -> Env:\n",
    "        env = ContainerEnv(numberOfShips, containersPerShip, boxHeight, boxWidth, boxLength, percentage)\n",
    "        return env\n",
    "    return _init"
   ]
  },
  {
   "cell_type": "code",
   "execution_count": 463,
   "id": "3f965795",
   "metadata": {},
   "outputs": [],
   "source": [
    "def getTotalTimeSteps(timesteps, percentage):\n",
    "    return timesteps\n",
    "    #return timesteps * (1 - percentage)"
   ]
  },
  {
   "cell_type": "code",
   "execution_count": null,
   "id": "0c35f100",
   "metadata": {
    "scrolled": true,
    "pycharm": {
     "is_executing": true
    }
   },
   "outputs": [
    {
     "name": "stdout",
     "output_type": "stream",
     "text": [
      "Using cpu device\n",
      "Logging to /tmp/ContainerEnvV12\\Env_with_percentage_0_11\n",
      "-----------------------------\n",
      "| time/              |      |\n",
      "|    fps             | 1581 |\n",
      "|    iterations      | 1    |\n",
      "|    time_elapsed    | 5    |\n",
      "|    total_timesteps | 8192 |\n",
      "-----------------------------\n",
      "-----------------------------------------\n",
      "| time/                   |             |\n",
      "|    fps                  | 344         |\n",
      "|    iterations           | 2           |\n",
      "|    time_elapsed         | 47          |\n",
      "|    total_timesteps      | 16384       |\n",
      "| train/                  |             |\n",
      "|    approx_kl            | 0.015694669 |\n",
      "|    clip_fraction        | 0.126       |\n",
      "|    clip_range           | 0.2         |\n",
      "|    entropy_loss         | -3.21       |\n",
      "|    explained_variance   | -0.0028     |\n",
      "|    learning_rate        | 0.0005      |\n",
      "|    loss                 | 12          |\n",
      "|    n_updates            | 10          |\n",
      "|    policy_gradient_loss | -0.0197     |\n",
      "|    value_loss           | 43.3        |\n",
      "-----------------------------------------\n",
      "-----------------------------------------\n",
      "| time/                   |             |\n",
      "|    fps                  | 269         |\n",
      "|    iterations           | 3           |\n",
      "|    time_elapsed         | 91          |\n",
      "|    total_timesteps      | 24576       |\n",
      "| train/                  |             |\n",
      "|    approx_kl            | 0.017104924 |\n",
      "|    clip_fraction        | 0.182       |\n",
      "|    clip_range           | 0.2         |\n",
      "|    entropy_loss         | -3.19       |\n",
      "|    explained_variance   | 0.415       |\n",
      "|    learning_rate        | 0.0005      |\n",
      "|    loss                 | 12.5        |\n",
      "|    n_updates            | 20          |\n",
      "|    policy_gradient_loss | -0.0276     |\n",
      "|    value_loss           | 35.9        |\n",
      "-----------------------------------------\n",
      "-----------------------------------------\n",
      "| time/                   |             |\n",
      "|    fps                  | 245         |\n",
      "|    iterations           | 4           |\n",
      "|    time_elapsed         | 133         |\n",
      "|    total_timesteps      | 32768       |\n",
      "| train/                  |             |\n",
      "|    approx_kl            | 0.019096587 |\n",
      "|    clip_fraction        | 0.212       |\n",
      "|    clip_range           | 0.2         |\n",
      "|    entropy_loss         | -3.17       |\n",
      "|    explained_variance   | 0.686       |\n",
      "|    learning_rate        | 0.0005      |\n",
      "|    loss                 | 9.81        |\n",
      "|    n_updates            | 30          |\n",
      "|    policy_gradient_loss | -0.0289     |\n",
      "|    value_loss           | 23.6        |\n",
      "-----------------------------------------\n",
      "-----------------------------------------\n",
      "| time/                   |             |\n",
      "|    fps                  | 239         |\n",
      "|    iterations           | 5           |\n",
      "|    time_elapsed         | 170         |\n",
      "|    total_timesteps      | 40960       |\n",
      "| train/                  |             |\n",
      "|    approx_kl            | 0.019210456 |\n",
      "|    clip_fraction        | 0.208       |\n",
      "|    clip_range           | 0.2         |\n",
      "|    entropy_loss         | -3.14       |\n",
      "|    explained_variance   | 0.784       |\n",
      "|    learning_rate        | 0.0005      |\n",
      "|    loss                 | 7.28        |\n",
      "|    n_updates            | 40          |\n",
      "|    policy_gradient_loss | -0.0285     |\n",
      "|    value_loss           | 21.9        |\n",
      "-----------------------------------------\n",
      "-----------------------------------------\n",
      "| time/                   |             |\n",
      "|    fps                  | 234         |\n",
      "|    iterations           | 6           |\n",
      "|    time_elapsed         | 209         |\n",
      "|    total_timesteps      | 49152       |\n",
      "| train/                  |             |\n",
      "|    approx_kl            | 0.022486232 |\n",
      "|    clip_fraction        | 0.247       |\n",
      "|    clip_range           | 0.2         |\n",
      "|    entropy_loss         | -3.12       |\n",
      "|    explained_variance   | 0.803       |\n",
      "|    learning_rate        | 0.0005      |\n",
      "|    loss                 | 3.23        |\n",
      "|    n_updates            | 50          |\n",
      "|    policy_gradient_loss | -0.0341     |\n",
      "|    value_loss           | 17.6        |\n",
      "-----------------------------------------\n",
      "----------------------------------------\n",
      "| time/                   |            |\n",
      "|    fps                  | 231        |\n",
      "|    iterations           | 7          |\n",
      "|    time_elapsed         | 247        |\n",
      "|    total_timesteps      | 57344      |\n",
      "| train/                  |            |\n",
      "|    approx_kl            | 0.02044772 |\n",
      "|    clip_fraction        | 0.232      |\n",
      "|    clip_range           | 0.2        |\n",
      "|    entropy_loss         | -3.07      |\n",
      "|    explained_variance   | 0.795      |\n",
      "|    learning_rate        | 0.0005     |\n",
      "|    loss                 | 5.36       |\n",
      "|    n_updates            | 60         |\n",
      "|    policy_gradient_loss | -0.0308    |\n",
      "|    value_loss           | 17.7       |\n",
      "----------------------------------------\n",
      "-----------------------------------------\n",
      "| time/                   |             |\n",
      "|    fps                  | 229         |\n",
      "|    iterations           | 8           |\n",
      "|    time_elapsed         | 285         |\n",
      "|    total_timesteps      | 65536       |\n",
      "| train/                  |             |\n",
      "|    approx_kl            | 0.022610603 |\n",
      "|    clip_fraction        | 0.253       |\n",
      "|    clip_range           | 0.2         |\n",
      "|    entropy_loss         | -3.03       |\n",
      "|    explained_variance   | 0.818       |\n",
      "|    learning_rate        | 0.0005      |\n",
      "|    loss                 | 4.03        |\n",
      "|    n_updates            | 70          |\n",
      "|    policy_gradient_loss | -0.033      |\n",
      "|    value_loss           | 16.1        |\n",
      "-----------------------------------------\n",
      "-----------------------------------------\n",
      "| time/                   |             |\n",
      "|    fps                  | 228         |\n",
      "|    iterations           | 9           |\n",
      "|    time_elapsed         | 322         |\n",
      "|    total_timesteps      | 73728       |\n",
      "| train/                  |             |\n",
      "|    approx_kl            | 0.021822661 |\n",
      "|    clip_fraction        | 0.249       |\n",
      "|    clip_range           | 0.2         |\n",
      "|    entropy_loss         | -3          |\n",
      "|    explained_variance   | 0.829       |\n",
      "|    learning_rate        | 0.0005      |\n",
      "|    loss                 | 3.52        |\n",
      "|    n_updates            | 80          |\n",
      "|    policy_gradient_loss | -0.0322     |\n",
      "|    value_loss           | 14.7        |\n",
      "-----------------------------------------\n",
      "-----------------------------------------\n",
      "| time/                   |             |\n",
      "|    fps                  | 227         |\n",
      "|    iterations           | 10          |\n",
      "|    time_elapsed         | 360         |\n",
      "|    total_timesteps      | 81920       |\n",
      "| train/                  |             |\n",
      "|    approx_kl            | 0.023231361 |\n",
      "|    clip_fraction        | 0.26        |\n",
      "|    clip_range           | 0.2         |\n",
      "|    entropy_loss         | -2.95       |\n",
      "|    explained_variance   | 0.832       |\n",
      "|    learning_rate        | 0.0005      |\n",
      "|    loss                 | 3.81        |\n",
      "|    n_updates            | 90          |\n",
      "|    policy_gradient_loss | -0.0345     |\n",
      "|    value_loss           | 14.4        |\n",
      "-----------------------------------------\n",
      "-----------------------------------------\n",
      "| time/                   |             |\n",
      "|    fps                  | 225         |\n",
      "|    iterations           | 11          |\n",
      "|    time_elapsed         | 399         |\n",
      "|    total_timesteps      | 90112       |\n",
      "| train/                  |             |\n",
      "|    approx_kl            | 0.024813317 |\n",
      "|    clip_fraction        | 0.273       |\n",
      "|    clip_range           | 0.2         |\n",
      "|    entropy_loss         | -2.93       |\n",
      "|    explained_variance   | 0.821       |\n",
      "|    learning_rate        | 0.0005      |\n",
      "|    loss                 | 2.39        |\n",
      "|    n_updates            | 100         |\n",
      "|    policy_gradient_loss | -0.0348     |\n",
      "|    value_loss           | 14.1        |\n",
      "-----------------------------------------\n",
      "--------------------------------------\n",
      "| time/                   |          |\n",
      "|    fps                  | 224      |\n",
      "|    iterations           | 12       |\n",
      "|    time_elapsed         | 438      |\n",
      "|    total_timesteps      | 98304    |\n",
      "| train/                  |          |\n",
      "|    approx_kl            | 0.025965 |\n",
      "|    clip_fraction        | 0.285    |\n",
      "|    clip_range           | 0.2      |\n",
      "|    entropy_loss         | -2.87    |\n",
      "|    explained_variance   | 0.782    |\n",
      "|    learning_rate        | 0.0005   |\n",
      "|    loss                 | 2.4      |\n",
      "|    n_updates            | 110      |\n",
      "|    policy_gradient_loss | -0.0367  |\n",
      "|    value_loss           | 12.8     |\n",
      "--------------------------------------\n",
      "-----------------------------------------\n",
      "| time/                   |             |\n",
      "|    fps                  | 222         |\n",
      "|    iterations           | 13          |\n",
      "|    time_elapsed         | 477         |\n",
      "|    total_timesteps      | 106496      |\n",
      "| train/                  |             |\n",
      "|    approx_kl            | 0.026272636 |\n",
      "|    clip_fraction        | 0.29        |\n",
      "|    clip_range           | 0.2         |\n",
      "|    entropy_loss         | -2.83       |\n",
      "|    explained_variance   | 0.8         |\n",
      "|    learning_rate        | 0.0005      |\n",
      "|    loss                 | 3.36        |\n",
      "|    n_updates            | 120         |\n",
      "|    policy_gradient_loss | -0.0365     |\n",
      "|    value_loss           | 12.5        |\n",
      "-----------------------------------------\n",
      "----------------------------------------\n",
      "| time/                   |            |\n",
      "|    fps                  | 219        |\n",
      "|    iterations           | 14         |\n",
      "|    time_elapsed         | 522        |\n",
      "|    total_timesteps      | 114688     |\n",
      "| train/                  |            |\n",
      "|    approx_kl            | 0.02815343 |\n",
      "|    clip_fraction        | 0.304      |\n",
      "|    clip_range           | 0.2        |\n",
      "|    entropy_loss         | -2.77      |\n",
      "|    explained_variance   | 0.834      |\n",
      "|    learning_rate        | 0.0005     |\n",
      "|    loss                 | 2.72       |\n",
      "|    n_updates            | 130        |\n",
      "|    policy_gradient_loss | -0.0382    |\n",
      "|    value_loss           | 11         |\n",
      "----------------------------------------\n",
      "---------------------------------------\n",
      "| time/                   |           |\n",
      "|    fps                  | 218       |\n",
      "|    iterations           | 15        |\n",
      "|    time_elapsed         | 561       |\n",
      "|    total_timesteps      | 122880    |\n",
      "| train/                  |           |\n",
      "|    approx_kl            | 0.0286141 |\n",
      "|    clip_fraction        | 0.298     |\n",
      "|    clip_range           | 0.2       |\n",
      "|    entropy_loss         | -2.75     |\n",
      "|    explained_variance   | 0.792     |\n",
      "|    learning_rate        | 0.0005    |\n",
      "|    loss                 | 3.72      |\n",
      "|    n_updates            | 140       |\n",
      "|    policy_gradient_loss | -0.0389   |\n",
      "|    value_loss           | 11.8      |\n",
      "---------------------------------------\n",
      "-----------------------------------------\n",
      "| time/                   |             |\n",
      "|    fps                  | 217         |\n",
      "|    iterations           | 16          |\n",
      "|    time_elapsed         | 602         |\n",
      "|    total_timesteps      | 131072      |\n",
      "| train/                  |             |\n",
      "|    approx_kl            | 0.028303437 |\n",
      "|    clip_fraction        | 0.3         |\n",
      "|    clip_range           | 0.2         |\n",
      "|    entropy_loss         | -2.72       |\n",
      "|    explained_variance   | 0.785       |\n",
      "|    learning_rate        | 0.0005      |\n",
      "|    loss                 | 2.31        |\n",
      "|    n_updates            | 150         |\n",
      "|    policy_gradient_loss | -0.0378     |\n",
      "|    value_loss           | 11.5        |\n",
      "-----------------------------------------\n",
      "-----------------------------------------\n",
      "| time/                   |             |\n",
      "|    fps                  | 216         |\n",
      "|    iterations           | 17          |\n",
      "|    time_elapsed         | 642         |\n",
      "|    total_timesteps      | 139264      |\n",
      "| train/                  |             |\n",
      "|    approx_kl            | 0.028817177 |\n",
      "|    clip_fraction        | 0.301       |\n",
      "|    clip_range           | 0.2         |\n",
      "|    entropy_loss         | -2.69       |\n",
      "|    explained_variance   | 0.793       |\n",
      "|    learning_rate        | 0.0005      |\n",
      "|    loss                 | 2.1         |\n",
      "|    n_updates            | 160         |\n",
      "|    policy_gradient_loss | -0.0381     |\n",
      "|    value_loss           | 11.3        |\n",
      "-----------------------------------------\n",
      "-----------------------------------------\n",
      "| time/                   |             |\n",
      "|    fps                  | 215         |\n",
      "|    iterations           | 18          |\n",
      "|    time_elapsed         | 682         |\n",
      "|    total_timesteps      | 147456      |\n",
      "| train/                  |             |\n",
      "|    approx_kl            | 0.030524421 |\n",
      "|    clip_fraction        | 0.291       |\n",
      "|    clip_range           | 0.2         |\n",
      "|    entropy_loss         | -2.63       |\n",
      "|    explained_variance   | 0.74        |\n",
      "|    learning_rate        | 0.0005      |\n",
      "|    loss                 | 2.78        |\n",
      "|    n_updates            | 170         |\n",
      "|    policy_gradient_loss | -0.0401     |\n",
      "|    value_loss           | 12.6        |\n",
      "-----------------------------------------\n",
      "-----------------------------------------\n",
      "| time/                   |             |\n",
      "|    fps                  | 216         |\n",
      "|    iterations           | 19          |\n",
      "|    time_elapsed         | 719         |\n",
      "|    total_timesteps      | 155648      |\n",
      "| train/                  |             |\n",
      "|    approx_kl            | 0.032760672 |\n",
      "|    clip_fraction        | 0.322       |\n",
      "|    clip_range           | 0.2         |\n",
      "|    entropy_loss         | -2.6        |\n",
      "|    explained_variance   | 0.727       |\n",
      "|    learning_rate        | 0.0005      |\n",
      "|    loss                 | 2.56        |\n",
      "|    n_updates            | 180         |\n",
      "|    policy_gradient_loss | -0.0417     |\n",
      "|    value_loss           | 11.7        |\n",
      "-----------------------------------------\n",
      "----------------------------------------\n",
      "| time/                   |            |\n",
      "|    fps                  | 215        |\n",
      "|    iterations           | 20         |\n",
      "|    time_elapsed         | 758        |\n",
      "|    total_timesteps      | 163840     |\n",
      "| train/                  |            |\n",
      "|    approx_kl            | 0.03658123 |\n",
      "|    clip_fraction        | 0.338      |\n",
      "|    clip_range           | 0.2        |\n",
      "|    entropy_loss         | -2.53      |\n",
      "|    explained_variance   | 0.708      |\n",
      "|    learning_rate        | 0.0005     |\n",
      "|    loss                 | 2.05       |\n",
      "|    n_updates            | 190        |\n",
      "|    policy_gradient_loss | -0.0424    |\n",
      "|    value_loss           | 10.6       |\n",
      "----------------------------------------\n",
      "-----------------------------------------\n",
      "| time/                   |             |\n",
      "|    fps                  | 215         |\n",
      "|    iterations           | 21          |\n",
      "|    time_elapsed         | 798         |\n",
      "|    total_timesteps      | 172032      |\n",
      "| train/                  |             |\n",
      "|    approx_kl            | 0.032396868 |\n",
      "|    clip_fraction        | 0.318       |\n",
      "|    clip_range           | 0.2         |\n",
      "|    entropy_loss         | -2.52       |\n",
      "|    explained_variance   | 0.701       |\n",
      "|    learning_rate        | 0.0005      |\n",
      "|    loss                 | 2.28        |\n",
      "|    n_updates            | 200         |\n",
      "|    policy_gradient_loss | -0.0422     |\n",
      "|    value_loss           | 10.8        |\n",
      "-----------------------------------------\n",
      "-----------------------------------------\n",
      "| time/                   |             |\n",
      "|    fps                  | 215         |\n",
      "|    iterations           | 22          |\n",
      "|    time_elapsed         | 837         |\n",
      "|    total_timesteps      | 180224      |\n",
      "| train/                  |             |\n",
      "|    approx_kl            | 0.033730973 |\n",
      "|    clip_fraction        | 0.311       |\n",
      "|    clip_range           | 0.2         |\n",
      "|    entropy_loss         | -2.43       |\n",
      "|    explained_variance   | 0.578       |\n",
      "|    learning_rate        | 0.0005      |\n",
      "|    loss                 | 1.96        |\n",
      "|    n_updates            | 210         |\n",
      "|    policy_gradient_loss | -0.0418     |\n",
      "|    value_loss           | 10.7        |\n",
      "-----------------------------------------\n",
      "-----------------------------------------\n",
      "| time/                   |             |\n",
      "|    fps                  | 215         |\n",
      "|    iterations           | 23          |\n",
      "|    time_elapsed         | 874         |\n",
      "|    total_timesteps      | 188416      |\n",
      "| train/                  |             |\n",
      "|    approx_kl            | 0.033446256 |\n",
      "|    clip_fraction        | 0.322       |\n",
      "|    clip_range           | 0.2         |\n",
      "|    entropy_loss         | -2.4        |\n",
      "|    explained_variance   | 0.502       |\n",
      "|    learning_rate        | 0.0005      |\n",
      "|    loss                 | 2.12        |\n",
      "|    n_updates            | 220         |\n",
      "|    policy_gradient_loss | -0.0431     |\n",
      "|    value_loss           | 11.3        |\n",
      "-----------------------------------------\n",
      "-----------------------------------------\n",
      "| time/                   |             |\n",
      "|    fps                  | 215         |\n",
      "|    iterations           | 24          |\n",
      "|    time_elapsed         | 912         |\n",
      "|    total_timesteps      | 196608      |\n",
      "| train/                  |             |\n",
      "|    approx_kl            | 0.035918035 |\n",
      "|    clip_fraction        | 0.337       |\n",
      "|    clip_range           | 0.2         |\n",
      "|    entropy_loss         | -2.36       |\n",
      "|    explained_variance   | 0.532       |\n",
      "|    learning_rate        | 0.0005      |\n",
      "|    loss                 | 2.04        |\n",
      "|    n_updates            | 230         |\n",
      "|    policy_gradient_loss | -0.0419     |\n",
      "|    value_loss           | 11.1        |\n",
      "-----------------------------------------\n",
      "----------------------------------------\n",
      "| time/                   |            |\n",
      "|    fps                  | 215        |\n",
      "|    iterations           | 25         |\n",
      "|    time_elapsed         | 950        |\n",
      "|    total_timesteps      | 204800     |\n",
      "| train/                  |            |\n",
      "|    approx_kl            | 0.03688894 |\n",
      "|    clip_fraction        | 0.341      |\n",
      "|    clip_range           | 0.2        |\n",
      "|    entropy_loss         | -2.32      |\n",
      "|    explained_variance   | 0.417      |\n",
      "|    learning_rate        | 0.0005     |\n",
      "|    loss                 | 2.09       |\n",
      "|    n_updates            | 240        |\n",
      "|    policy_gradient_loss | -0.0417    |\n",
      "|    value_loss           | 11.8       |\n",
      "----------------------------------------\n",
      "-----------------------------------------\n",
      "| time/                   |             |\n",
      "|    fps                  | 215         |\n",
      "|    iterations           | 26          |\n",
      "|    time_elapsed         | 988         |\n",
      "|    total_timesteps      | 212992      |\n",
      "| train/                  |             |\n",
      "|    approx_kl            | 0.035697535 |\n",
      "|    clip_fraction        | 0.334       |\n",
      "|    clip_range           | 0.2         |\n",
      "|    entropy_loss         | -2.27       |\n",
      "|    explained_variance   | 0.432       |\n",
      "|    learning_rate        | 0.0005      |\n",
      "|    loss                 | 3.05        |\n",
      "|    n_updates            | 250         |\n",
      "|    policy_gradient_loss | -0.0397     |\n",
      "|    value_loss           | 10.4        |\n",
      "-----------------------------------------\n",
      "----------------------------------------\n",
      "| time/                   |            |\n",
      "|    fps                  | 215        |\n",
      "|    iterations           | 27         |\n",
      "|    time_elapsed         | 1028       |\n",
      "|    total_timesteps      | 221184     |\n",
      "| train/                  |            |\n",
      "|    approx_kl            | 0.03977749 |\n",
      "|    clip_fraction        | 0.35       |\n",
      "|    clip_range           | 0.2        |\n",
      "|    entropy_loss         | -2.25      |\n",
      "|    explained_variance   | 0.189      |\n",
      "|    learning_rate        | 0.0005     |\n",
      "|    loss                 | 1.95       |\n",
      "|    n_updates            | 260        |\n",
      "|    policy_gradient_loss | -0.041     |\n",
      "|    value_loss           | 12.1       |\n",
      "----------------------------------------\n",
      "----------------------------------------\n",
      "| time/                   |            |\n",
      "|    fps                  | 214        |\n",
      "|    iterations           | 28         |\n",
      "|    time_elapsed         | 1067       |\n",
      "|    total_timesteps      | 229376     |\n",
      "| train/                  |            |\n",
      "|    approx_kl            | 0.04156499 |\n",
      "|    clip_fraction        | 0.333      |\n",
      "|    clip_range           | 0.2        |\n",
      "|    entropy_loss         | -2.18      |\n",
      "|    explained_variance   | 0.258      |\n",
      "|    learning_rate        | 0.0005     |\n",
      "|    loss                 | 1.9        |\n",
      "|    n_updates            | 270        |\n",
      "|    policy_gradient_loss | -0.0395    |\n",
      "|    value_loss           | 11.1       |\n",
      "----------------------------------------\n",
      "----------------------------------------\n",
      "| time/                   |            |\n",
      "|    fps                  | 214        |\n",
      "|    iterations           | 29         |\n",
      "|    time_elapsed         | 1105       |\n",
      "|    total_timesteps      | 237568     |\n",
      "| train/                  |            |\n",
      "|    approx_kl            | 0.04231349 |\n",
      "|    clip_fraction        | 0.352      |\n",
      "|    clip_range           | 0.2        |\n",
      "|    entropy_loss         | -2.19      |\n",
      "|    explained_variance   | 0.325      |\n",
      "|    learning_rate        | 0.0005     |\n",
      "|    loss                 | 1.67       |\n",
      "|    n_updates            | 280        |\n",
      "|    policy_gradient_loss | -0.0409    |\n",
      "|    value_loss           | 11.1       |\n",
      "----------------------------------------\n",
      "-----------------------------------------\n",
      "| time/                   |             |\n",
      "|    fps                  | 214         |\n",
      "|    iterations           | 30          |\n",
      "|    time_elapsed         | 1146        |\n",
      "|    total_timesteps      | 245760      |\n",
      "| train/                  |             |\n",
      "|    approx_kl            | 0.040697448 |\n",
      "|    clip_fraction        | 0.346       |\n",
      "|    clip_range           | 0.2         |\n",
      "|    entropy_loss         | -2.12       |\n",
      "|    explained_variance   | 0.486       |\n",
      "|    learning_rate        | 0.0005      |\n",
      "|    loss                 | 2.81        |\n",
      "|    n_updates            | 290         |\n",
      "|    policy_gradient_loss | -0.0407     |\n",
      "|    value_loss           | 10.4        |\n",
      "-----------------------------------------\n",
      "-----------------------------------------\n",
      "| time/                   |             |\n",
      "|    fps                  | 213         |\n",
      "|    iterations           | 31          |\n",
      "|    time_elapsed         | 1188        |\n",
      "|    total_timesteps      | 253952      |\n",
      "| train/                  |             |\n",
      "|    approx_kl            | 0.041485872 |\n",
      "|    clip_fraction        | 0.338       |\n",
      "|    clip_range           | 0.2         |\n",
      "|    entropy_loss         | -2.07       |\n",
      "|    explained_variance   | 0.595       |\n",
      "|    learning_rate        | 0.0005      |\n",
      "|    loss                 | 2.87        |\n",
      "|    n_updates            | 300         |\n",
      "|    policy_gradient_loss | -0.0418     |\n",
      "|    value_loss           | 11          |\n",
      "-----------------------------------------\n",
      "-----------------------------------------\n",
      "| time/                   |             |\n",
      "|    fps                  | 213         |\n",
      "|    iterations           | 32          |\n",
      "|    time_elapsed         | 1227        |\n",
      "|    total_timesteps      | 262144      |\n",
      "| train/                  |             |\n",
      "|    approx_kl            | 0.046624657 |\n",
      "|    clip_fraction        | 0.36        |\n",
      "|    clip_range           | 0.2         |\n",
      "|    entropy_loss         | -2.05       |\n",
      "|    explained_variance   | 0.706       |\n",
      "|    learning_rate        | 0.0005      |\n",
      "|    loss                 | 2.86        |\n",
      "|    n_updates            | 310         |\n",
      "|    policy_gradient_loss | -0.0441     |\n",
      "|    value_loss           | 11.1        |\n",
      "-----------------------------------------\n",
      "-----------------------------------------\n",
      "| time/                   |             |\n",
      "|    fps                  | 212         |\n",
      "|    iterations           | 33          |\n",
      "|    time_elapsed         | 1270        |\n",
      "|    total_timesteps      | 270336      |\n",
      "| train/                  |             |\n",
      "|    approx_kl            | 0.043077663 |\n",
      "|    clip_fraction        | 0.357       |\n",
      "|    clip_range           | 0.2         |\n",
      "|    entropy_loss         | -2.06       |\n",
      "|    explained_variance   | 0.725       |\n",
      "|    learning_rate        | 0.0005      |\n",
      "|    loss                 | 1.99        |\n",
      "|    n_updates            | 320         |\n",
      "|    policy_gradient_loss | -0.0396     |\n",
      "|    value_loss           | 12          |\n",
      "-----------------------------------------\n",
      "-----------------------------------------\n",
      "| time/                   |             |\n",
      "|    fps                  | 212         |\n",
      "|    iterations           | 34          |\n",
      "|    time_elapsed         | 1309        |\n",
      "|    total_timesteps      | 278528      |\n",
      "| train/                  |             |\n",
      "|    approx_kl            | 0.044854164 |\n",
      "|    clip_fraction        | 0.351       |\n",
      "|    clip_range           | 0.2         |\n",
      "|    entropy_loss         | -1.89       |\n",
      "|    explained_variance   | 0.802       |\n",
      "|    learning_rate        | 0.0005      |\n",
      "|    loss                 | 1.43        |\n",
      "|    n_updates            | 330         |\n",
      "|    policy_gradient_loss | -0.0395     |\n",
      "|    value_loss           | 9.79        |\n",
      "-----------------------------------------\n",
      "-----------------------------------------\n",
      "| time/                   |             |\n",
      "|    fps                  | 212         |\n",
      "|    iterations           | 35          |\n",
      "|    time_elapsed         | 1351        |\n",
      "|    total_timesteps      | 286720      |\n",
      "| train/                  |             |\n",
      "|    approx_kl            | 0.046227157 |\n",
      "|    clip_fraction        | 0.347       |\n",
      "|    clip_range           | 0.2         |\n",
      "|    entropy_loss         | -1.84       |\n",
      "|    explained_variance   | 0.833       |\n",
      "|    learning_rate        | 0.0005      |\n",
      "|    loss                 | 1.82        |\n",
      "|    n_updates            | 340         |\n",
      "|    policy_gradient_loss | -0.038      |\n",
      "|    value_loss           | 9.57        |\n",
      "-----------------------------------------\n",
      "-----------------------------------------\n",
      "| time/                   |             |\n",
      "|    fps                  | 212         |\n",
      "|    iterations           | 36          |\n",
      "|    time_elapsed         | 1390        |\n",
      "|    total_timesteps      | 294912      |\n",
      "| train/                  |             |\n",
      "|    approx_kl            | 0.045419842 |\n",
      "|    clip_fraction        | 0.358       |\n",
      "|    clip_range           | 0.2         |\n",
      "|    entropy_loss         | -1.92       |\n",
      "|    explained_variance   | 0.858       |\n",
      "|    learning_rate        | 0.0005      |\n",
      "|    loss                 | 2.11        |\n",
      "|    n_updates            | 350         |\n",
      "|    policy_gradient_loss | -0.0401     |\n",
      "|    value_loss           | 9.46        |\n",
      "-----------------------------------------\n",
      "----------------------------------------\n",
      "| time/                   |            |\n",
      "|    fps                  | 211        |\n",
      "|    iterations           | 37         |\n",
      "|    time_elapsed         | 1431       |\n",
      "|    total_timesteps      | 303104     |\n",
      "| train/                  |            |\n",
      "|    approx_kl            | 0.04502651 |\n",
      "|    clip_fraction        | 0.338      |\n",
      "|    clip_range           | 0.2        |\n",
      "|    entropy_loss         | -1.86      |\n",
      "|    explained_variance   | 0.875      |\n",
      "|    learning_rate        | 0.0005     |\n",
      "|    loss                 | 2.92       |\n",
      "|    n_updates            | 360        |\n",
      "|    policy_gradient_loss | -0.0366    |\n",
      "|    value_loss           | 10.3       |\n",
      "----------------------------------------\n",
      "-----------------------------------------\n",
      "| time/                   |             |\n",
      "|    fps                  | 211         |\n",
      "|    iterations           | 38          |\n",
      "|    time_elapsed         | 1472        |\n",
      "|    total_timesteps      | 311296      |\n",
      "| train/                  |             |\n",
      "|    approx_kl            | 0.044751514 |\n",
      "|    clip_fraction        | 0.319       |\n",
      "|    clip_range           | 0.2         |\n",
      "|    entropy_loss         | -1.79       |\n",
      "|    explained_variance   | 0.904       |\n",
      "|    learning_rate        | 0.0005      |\n",
      "|    loss                 | 2.47        |\n",
      "|    n_updates            | 370         |\n",
      "|    policy_gradient_loss | -0.0355     |\n",
      "|    value_loss           | 10.9        |\n",
      "-----------------------------------------\n",
      "-----------------------------------------\n",
      "| time/                   |             |\n",
      "|    fps                  | 211         |\n",
      "|    iterations           | 39          |\n",
      "|    time_elapsed         | 1513        |\n",
      "|    total_timesteps      | 319488      |\n",
      "| train/                  |             |\n",
      "|    approx_kl            | 0.046148345 |\n",
      "|    clip_fraction        | 0.326       |\n",
      "|    clip_range           | 0.2         |\n",
      "|    entropy_loss         | -1.76       |\n",
      "|    explained_variance   | 0.909       |\n",
      "|    learning_rate        | 0.0005      |\n",
      "|    loss                 | 4           |\n",
      "|    n_updates            | 380         |\n",
      "|    policy_gradient_loss | -0.0372     |\n",
      "|    value_loss           | 11.3        |\n",
      "-----------------------------------------\n",
      "-----------------------------------------\n",
      "| time/                   |             |\n",
      "|    fps                  | 211         |\n",
      "|    iterations           | 40          |\n",
      "|    time_elapsed         | 1552        |\n",
      "|    total_timesteps      | 327680      |\n",
      "| train/                  |             |\n",
      "|    approx_kl            | 0.042513587 |\n",
      "|    clip_fraction        | 0.32        |\n",
      "|    clip_range           | 0.2         |\n",
      "|    entropy_loss         | -1.75       |\n",
      "|    explained_variance   | 0.925       |\n",
      "|    learning_rate        | 0.0005      |\n",
      "|    loss                 | 2.45        |\n",
      "|    n_updates            | 390         |\n",
      "|    policy_gradient_loss | -0.0377     |\n",
      "|    value_loss           | 10.8        |\n",
      "-----------------------------------------\n",
      "----------------------------------------\n",
      "| time/                   |            |\n",
      "|    fps                  | 210        |\n",
      "|    iterations           | 41         |\n",
      "|    time_elapsed         | 1593       |\n",
      "|    total_timesteps      | 335872     |\n",
      "| train/                  |            |\n",
      "|    approx_kl            | 0.04951019 |\n",
      "|    clip_fraction        | 0.332      |\n",
      "|    clip_range           | 0.2        |\n",
      "|    entropy_loss         | -1.75      |\n",
      "|    explained_variance   | 0.939      |\n",
      "|    learning_rate        | 0.0005     |\n",
      "|    loss                 | 2.56       |\n",
      "|    n_updates            | 400        |\n",
      "|    policy_gradient_loss | -0.0376    |\n",
      "|    value_loss           | 9.74       |\n",
      "----------------------------------------\n",
      "-----------------------------------------\n",
      "| time/                   |             |\n",
      "|    fps                  | 210         |\n",
      "|    iterations           | 42          |\n",
      "|    time_elapsed         | 1632        |\n",
      "|    total_timesteps      | 344064      |\n",
      "| train/                  |             |\n",
      "|    approx_kl            | 0.045218796 |\n",
      "|    clip_fraction        | 0.349       |\n",
      "|    clip_range           | 0.2         |\n",
      "|    entropy_loss         | -1.71       |\n",
      "|    explained_variance   | 0.932       |\n",
      "|    learning_rate        | 0.0005      |\n",
      "|    loss                 | 2.18        |\n",
      "|    n_updates            | 410         |\n",
      "|    policy_gradient_loss | -0.0404     |\n",
      "|    value_loss           | 8.87        |\n",
      "-----------------------------------------\n",
      "-----------------------------------------\n",
      "| time/                   |             |\n",
      "|    fps                  | 210         |\n",
      "|    iterations           | 43          |\n",
      "|    time_elapsed         | 1671        |\n",
      "|    total_timesteps      | 352256      |\n",
      "| train/                  |             |\n",
      "|    approx_kl            | 0.046509415 |\n",
      "|    clip_fraction        | 0.336       |\n",
      "|    clip_range           | 0.2         |\n",
      "|    entropy_loss         | -1.74       |\n",
      "|    explained_variance   | 0.96        |\n",
      "|    learning_rate        | 0.0005      |\n",
      "|    loss                 | 1.96        |\n",
      "|    n_updates            | 420         |\n",
      "|    policy_gradient_loss | -0.0361     |\n",
      "|    value_loss           | 8.48        |\n",
      "-----------------------------------------\n",
      "-----------------------------------------\n",
      "| time/                   |             |\n",
      "|    fps                  | 210         |\n",
      "|    iterations           | 44          |\n",
      "|    time_elapsed         | 1714        |\n",
      "|    total_timesteps      | 360448      |\n",
      "| train/                  |             |\n",
      "|    approx_kl            | 0.048618183 |\n",
      "|    clip_fraction        | 0.319       |\n",
      "|    clip_range           | 0.2         |\n",
      "|    entropy_loss         | -1.67       |\n",
      "|    explained_variance   | 0.96        |\n",
      "|    learning_rate        | 0.0005      |\n",
      "|    loss                 | 1.91        |\n",
      "|    n_updates            | 430         |\n",
      "|    policy_gradient_loss | -0.0363     |\n",
      "|    value_loss           | 8.91        |\n",
      "-----------------------------------------\n",
      "----------------------------------------\n",
      "| time/                   |            |\n",
      "|    fps                  | 209        |\n",
      "|    iterations           | 45         |\n",
      "|    time_elapsed         | 1755       |\n",
      "|    total_timesteps      | 368640     |\n",
      "| train/                  |            |\n",
      "|    approx_kl            | 0.04706314 |\n",
      "|    clip_fraction        | 0.317      |\n",
      "|    clip_range           | 0.2        |\n",
      "|    entropy_loss         | -1.63      |\n",
      "|    explained_variance   | 0.96       |\n",
      "|    learning_rate        | 0.0005     |\n",
      "|    loss                 | 1.97       |\n",
      "|    n_updates            | 440        |\n",
      "|    policy_gradient_loss | -0.0361    |\n",
      "|    value_loss           | 10.5       |\n",
      "----------------------------------------\n",
      "-----------------------------------------\n",
      "| time/                   |             |\n",
      "|    fps                  | 210         |\n",
      "|    iterations           | 46          |\n",
      "|    time_elapsed         | 1793        |\n",
      "|    total_timesteps      | 376832      |\n",
      "| train/                  |             |\n",
      "|    approx_kl            | 0.052173868 |\n",
      "|    clip_fraction        | 0.319       |\n",
      "|    clip_range           | 0.2         |\n",
      "|    entropy_loss         | -1.63       |\n",
      "|    explained_variance   | 0.961       |\n",
      "|    learning_rate        | 0.0005      |\n",
      "|    loss                 | 1.82        |\n",
      "|    n_updates            | 450         |\n",
      "|    policy_gradient_loss | -0.0349     |\n",
      "|    value_loss           | 9.36        |\n",
      "-----------------------------------------\n",
      "-----------------------------------------\n",
      "| time/                   |             |\n",
      "|    fps                  | 209         |\n",
      "|    iterations           | 47          |\n",
      "|    time_elapsed         | 1835        |\n",
      "|    total_timesteps      | 385024      |\n",
      "| train/                  |             |\n",
      "|    approx_kl            | 0.043421082 |\n",
      "|    clip_fraction        | 0.324       |\n",
      "|    clip_range           | 0.2         |\n",
      "|    entropy_loss         | -1.6        |\n",
      "|    explained_variance   | 0.969       |\n",
      "|    learning_rate        | 0.0005      |\n",
      "|    loss                 | 2.51        |\n",
      "|    n_updates            | 460         |\n",
      "|    policy_gradient_loss | -0.0361     |\n",
      "|    value_loss           | 8.18        |\n",
      "-----------------------------------------\n",
      "-----------------------------------------\n",
      "| time/                   |             |\n",
      "|    fps                  | 209         |\n",
      "|    iterations           | 48          |\n",
      "|    time_elapsed         | 1876        |\n",
      "|    total_timesteps      | 393216      |\n",
      "| train/                  |             |\n",
      "|    approx_kl            | 0.043673627 |\n",
      "|    clip_fraction        | 0.313       |\n",
      "|    clip_range           | 0.2         |\n",
      "|    entropy_loss         | -1.65       |\n",
      "|    explained_variance   | 0.974       |\n",
      "|    learning_rate        | 0.0005      |\n",
      "|    loss                 | 2.06        |\n",
      "|    n_updates            | 470         |\n",
      "|    policy_gradient_loss | -0.0346     |\n",
      "|    value_loss           | 8.13        |\n",
      "-----------------------------------------\n",
      "----------------------------------------\n",
      "| time/                   |            |\n",
      "|    fps                  | 209        |\n",
      "|    iterations           | 49         |\n",
      "|    time_elapsed         | 1916       |\n",
      "|    total_timesteps      | 401408     |\n",
      "| train/                  |            |\n",
      "|    approx_kl            | 0.04860523 |\n",
      "|    clip_fraction        | 0.331      |\n",
      "|    clip_range           | 0.2        |\n",
      "|    entropy_loss         | -1.61      |\n",
      "|    explained_variance   | 0.98       |\n",
      "|    learning_rate        | 0.0005     |\n",
      "|    loss                 | 1.31       |\n",
      "|    n_updates            | 480        |\n",
      "|    policy_gradient_loss | -0.0344    |\n",
      "|    value_loss           | 6.34       |\n",
      "----------------------------------------\n",
      "-----------------------------------------\n",
      "| time/                   |             |\n",
      "|    fps                  | 209         |\n",
      "|    iterations           | 50          |\n",
      "|    time_elapsed         | 1957        |\n",
      "|    total_timesteps      | 409600      |\n",
      "| train/                  |             |\n",
      "|    approx_kl            | 0.050151158 |\n",
      "|    clip_fraction        | 0.32        |\n",
      "|    clip_range           | 0.2         |\n",
      "|    entropy_loss         | -1.61       |\n",
      "|    explained_variance   | 0.981       |\n",
      "|    learning_rate        | 0.0005      |\n",
      "|    loss                 | 1.62        |\n",
      "|    n_updates            | 490         |\n",
      "|    policy_gradient_loss | -0.0371     |\n",
      "|    value_loss           | 6.31        |\n",
      "-----------------------------------------\n",
      "-----------------------------------------\n",
      "| time/                   |             |\n",
      "|    fps                  | 208         |\n",
      "|    iterations           | 51          |\n",
      "|    time_elapsed         | 2001        |\n",
      "|    total_timesteps      | 417792      |\n",
      "| train/                  |             |\n",
      "|    approx_kl            | 0.042591527 |\n",
      "|    clip_fraction        | 0.324       |\n",
      "|    clip_range           | 0.2         |\n",
      "|    entropy_loss         | -1.66       |\n",
      "|    explained_variance   | 0.987       |\n",
      "|    learning_rate        | 0.0005      |\n",
      "|    loss                 | 1.2         |\n",
      "|    n_updates            | 500         |\n",
      "|    policy_gradient_loss | -0.0316     |\n",
      "|    value_loss           | 4.9         |\n",
      "-----------------------------------------\n",
      "-----------------------------------------\n",
      "| time/                   |             |\n",
      "|    fps                  | 208         |\n",
      "|    iterations           | 52          |\n",
      "|    time_elapsed         | 2042        |\n",
      "|    total_timesteps      | 425984      |\n",
      "| train/                  |             |\n",
      "|    approx_kl            | 0.047146544 |\n",
      "|    clip_fraction        | 0.323       |\n",
      "|    clip_range           | 0.2         |\n",
      "|    entropy_loss         | -1.69       |\n",
      "|    explained_variance   | 0.987       |\n",
      "|    learning_rate        | 0.0005      |\n",
      "|    loss                 | 1.01        |\n",
      "|    n_updates            | 510         |\n",
      "|    policy_gradient_loss | -0.0336     |\n",
      "|    value_loss           | 4.76        |\n",
      "-----------------------------------------\n",
      "-----------------------------------------\n",
      "| time/                   |             |\n",
      "|    fps                  | 208         |\n",
      "|    iterations           | 53          |\n",
      "|    time_elapsed         | 2082        |\n",
      "|    total_timesteps      | 434176      |\n",
      "| train/                  |             |\n",
      "|    approx_kl            | 0.045520715 |\n",
      "|    clip_fraction        | 0.327       |\n",
      "|    clip_range           | 0.2         |\n",
      "|    entropy_loss         | -1.65       |\n",
      "|    explained_variance   | 0.989       |\n",
      "|    learning_rate        | 0.0005      |\n",
      "|    loss                 | 1.18        |\n",
      "|    n_updates            | 520         |\n",
      "|    policy_gradient_loss | -0.0305     |\n",
      "|    value_loss           | 4.08        |\n",
      "-----------------------------------------\n"
     ]
    }
   ],
   "source": [
    "num_cpu = 4\n",
    "startPercentage = 0\n",
    "timesteps = 1_250_000\n",
    "\n",
    "modelEnvironment = DummyVecEnv([make_env(numberOfShips, containersPerShip, boxWidth, boxLength, boxHeight, 0) for i in range(num_cpu)])\n",
    "model = PPO(\"MultiInputPolicy\", modelEnvironment, verbose=1, learning_rate=0.0005, device='cpu', tensorboard_log=\"/tmp/ContainerEnvV12\")\n",
    "model.learn(total_timesteps=getTotalTimeSteps(timesteps, 0), tb_log_name=(\"Env_with_percentage_\" + str(0)))\n",
    "model.train()\n",
    "\n",
    "model.save(\"ContainerEnvV12\")\n",
    "# for modelIterations in range(0, 5):\n",
    "#     print(\"Model iteratie: \" + str(modelIterations))\n",
    "#     # for percentage in reversed(np.arange(0.0, startPercentage, 0.1)):\n",
    "#     #     print(\"Using percentage: \" + str(percentage))\n",
    "#     newEnv = DummyVecEnv([make_env(numberOfShips, containersPerShip, boxWidth, boxLength, boxHeight, 0) for i in range(num_cpu)])\n",
    "#     model.set_env(newEnv)\n",
    "#     model.learn(total_timesteps=getTotalTimeSteps(timesteps, 0), tb_log_name=(\"Env_with_percentage_\" + str(0) + str(modelIterations)), reset_num_timesteps=False)\n",
    "#     model.train()\n",
    "#     model.save(\"ContainerEnvV12\")"
   ]
  },
  {
   "cell_type": "code",
   "execution_count": null,
   "id": "78c424bd",
   "metadata": {
    "scrolled": true,
    "pycharm": {
     "is_executing": true
    }
   },
   "outputs": [],
   "source": [
    "eval_env = ContainerEnv(numberOfShips, containersPerShip, boxWidth, boxLength, boxHeight)\n",
    "eval_env.reset()\n",
    "display(eval_env.containerGrid)\n",
    "display(eval_env.listOfContainers)"
   ]
  },
  {
   "cell_type": "code",
   "execution_count": null,
   "id": "9ef5e824",
   "metadata": {
    "pycharm": {
     "is_executing": true
    }
   },
   "outputs": [],
   "source": [
    "from stable_baselines3.common.monitor import Monitor\n",
    "monitor = Monitor(eval_env)\n",
    "evaluate_policy(model, monitor, n_eval_episodes=5, return_episode_rewards= True, render=False)"
   ]
  },
  {
   "cell_type": "markdown",
   "id": "fc9b7fbd",
   "metadata": {},
   "source": [
    "# Using trained agent"
   ]
  },
  {
   "cell_type": "code",
   "execution_count": null,
   "id": "ab741a64",
   "metadata": {
    "scrolled": true,
    "pycharm": {
     "is_executing": true
    }
   },
   "outputs": [],
   "source": [
    "display(eval_env.reset())\n",
    "display(eval_env.listOfContainers)"
   ]
  },
  {
   "cell_type": "code",
   "execution_count": null,
   "id": "83328d48",
   "metadata": {
    "scrolled": true,
    "pycharm": {
     "is_executing": true
    }
   },
   "outputs": [],
   "source": [
    "obs = eval_env.reset()\n",
    "print(\"---------------------\\n\")\n",
    "for i in range(10):\n",
    "    display(eval_env.listOfContainers)\n",
    "    print(len(eval_env.listOfContainers))\n",
    "    reward = 0\n",
    "    dones = False\n",
    "    display(obs)\n",
    "    while not dones:\n",
    "        action, _states = model.predict(obs, deterministic=True)\n",
    "        obs, rewards, dones, info = eval_env.step(action)\n",
    "        reward += rewards\n",
    "    eval_env.render()\n",
    "    print((obs['grid'].flatten() > 0).sum())\n",
    "    print(\"Reward: \" + str(reward))\n",
    "    display(eval_env.listOfContainers)\n",
    "    obs = eval_env.reset()\n",
    "    print(\"---------------------\\n\")"
   ]
  },
  {
   "cell_type": "code",
   "execution_count": null,
   "id": "16b7fba5",
   "metadata": {
    "pycharm": {
     "is_executing": true
    }
   },
   "outputs": [],
   "source": [
    "amountOfShips = 3\n",
    "containersOnShip = 8\n",
    "height = 5\n",
    "width = 5\n",
    "length = 5"
   ]
  },
  {
   "cell_type": "code",
   "execution_count": null,
   "id": "163f7f17",
   "metadata": {
    "scrolled": true,
    "pycharm": {
     "is_executing": true
    }
   },
   "outputs": [],
   "source": [
    "for percentage in np.arange(0.0, 0.9, 0.1):\n",
    "    validateEnv = ContainerEnv(amountOfShips, containersOnShip, width, length, height, percentage)\n",
    "    state = validateEnv.reset()\n",
    "    print('Start list of containers ------------------------')\n",
    "    display(validateEnv.listOfContainers)\n",
    "    print(len(validateEnv.listOfContainers))\n",
    "    print('Start render ------------------------------------')\n",
    "    validateEnv.render()\n",
    "    reward = 0\n",
    "    dones = False\n",
    "    while not dones:\n",
    "        action, _states = model.predict(state, deterministic=True)\n",
    "        state, rewards, dones, info = validateEnv.step(action)\n",
    "        reward += rewards\n",
    "    print('End render --------------------------------------')\n",
    "    print((state['grid'].flatten() > 0).sum())\n",
    "    print(\"Reward: \" + str(reward))\n",
    "    validateEnv.render()\n",
    "    print('End list of containers --------------------------')\n",
    "    display(validateEnv.listOfContainers)"
   ]
  },
  {
   "cell_type": "code",
   "execution_count": null,
   "id": "0574976d",
   "metadata": {
    "pycharm": {
     "is_executing": true
    }
   },
   "outputs": [],
   "source": []
  }
 ],
 "metadata": {
  "kernelspec": {
   "display_name": "Python 3 (ipykernel)",
   "language": "python",
   "name": "python3"
  },
  "language_info": {
   "codemirror_mode": {
    "name": "ipython",
    "version": 3
   },
   "file_extension": ".py",
   "mimetype": "text/x-python",
   "name": "python",
   "nbconvert_exporter": "python",
   "pygments_lexer": "ipython3",
   "version": "3.9.15"
  }
 },
 "nbformat": 4,
 "nbformat_minor": 5
}
