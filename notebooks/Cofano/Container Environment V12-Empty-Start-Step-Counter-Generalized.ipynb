{
 "cells": [
  {
   "cell_type": "code",
   "execution_count": 1,
   "id": "2ecc4a36",
   "metadata": {},
   "outputs": [],
   "source": [
    "import gym\n",
    "import numpy as np\n",
    "import pandas as pd\n",
    "from gym import Env\n",
    "from gym.spaces import Discrete, Box, Dict, Tuple, MultiBinary, MultiDiscrete\n",
    "from IPython.display import display\n",
    "import random\n",
    "import os\n",
    "from stable_baselines3 import PPO, A2C\n",
    "from stable_baselines3.common.vec_env import VecFrameStack\n",
    "from stable_baselines3.common.vec_env import DummyVecEnv, SubprocVecEnv\n",
    "from stable_baselines3.common.evaluation import evaluate_policy"
   ]
  },
  {
   "cell_type": "code",
   "execution_count": 2,
   "id": "fbbd2627",
   "metadata": {},
   "outputs": [
    {
     "name": "stdout",
     "output_type": "stream",
     "text": [
      "0.49128473257716665\n"
     ]
    }
   ],
   "source": [
    "random.seed()\n",
    "randomN = random.random()\n",
    "print(randomN)"
   ]
  },
  {
   "cell_type": "code",
   "execution_count": 3,
   "id": "7f1a4d99",
   "metadata": {},
   "outputs": [],
   "source": [
    "random.seed(randomN)\n",
    "randomNumber = random.random()"
   ]
  },
  {
   "cell_type": "code",
   "execution_count": 4,
   "id": "538a3e9d",
   "metadata": {},
   "outputs": [
    {
     "data": {
      "text/plain": [
       "array([[[3, 3, 0],\n",
       "        [3, 0, 1],\n",
       "        [2, 3, 1]],\n",
       "\n",
       "       [[1, 0, 1],\n",
       "        [2, 1, 3],\n",
       "        [3, 3, 0]],\n",
       "\n",
       "       [[0, 0, 3],\n",
       "        [0, 0, 2],\n",
       "        [3, 1, 0]]])"
      ]
     },
     "execution_count": 4,
     "metadata": {},
     "output_type": "execute_result"
    }
   ],
   "source": [
    "Box(low=0, high=3, shape=(3, 3, 3), dtype=int).sample()"
   ]
  },
  {
   "cell_type": "code",
   "execution_count": 5,
   "id": "36e6b389",
   "metadata": {},
   "outputs": [],
   "source": [
    "def fillInContainerGridRandom(grid, action_space, upperbound, percentage=0.25):\n",
    "    filledIn = 0\n",
    "    amountToFillIn = int((grid.shape[0] * grid.shape[1]) * percentage)\n",
    "    while (filledIn < amountToFillIn):\n",
    "        indexToFillIn = action_space.sample()\n",
    "        rowToFillIn = grid[indexToFillIn[0]][indexToFillIn[1]]\n",
    "        if (np.all(rowToFillIn)):\n",
    "            continue\n",
    "        elif (not np.any(rowToFillIn)):\n",
    "            checkGridCopy = grid.copy()\n",
    "            x_values_list = np.array([], dtype=int)\n",
    "            for x_spot in checkGridCopy[indexToFillIn[0]]:\n",
    "                if (x_spot[0] == 0):\n",
    "                    continue\n",
    "                x_values_list = np.append(x_values_list, x_spot[0])\n",
    "            uniqueListOfNumbers = list(set(x_values_list))\n",
    "            num_values = len(uniqueListOfNumbers)\n",
    "            if (num_values < 2):\n",
    "                randomShipNumber = random.randint(1, upperbound)\n",
    "                checkGridCopy[indexToFillIn[0]][indexToFillIn[1]], score = fillContainerInList(rowToFillIn, randomShipNumber)\n",
    "                #We encountered a boxed in(e.g. [1,0,3])\n",
    "                if(checkForBoxedInContainer(checkGridCopy[indexToFillIn[0]]) < 0):\n",
    "                    continue\n",
    "            else:\n",
    "                randomShipNumber = uniqueListOfNumbers[-1]\n",
    "                checkGridCopy[indexToFillIn[0]][indexToFillIn[1]], score = fillContainerInList(rowToFillIn, randomShipNumber)\n",
    "                #We encountered a boxed in(e.g. [1,3,x]) where x is to be placed and is equal to 1\n",
    "                if(checkForBoxedInContainer(checkGridCopy[indexToFillIn[0]]) < 0):\n",
    "                    randomShipNumber = uniqueListOfNumbers[0]\n",
    "        else:\n",
    "            #We don't need to check for box in since we add to the current x_row\n",
    "            randomShipNumber = rowToFillIn[0]\n",
    "            \n",
    "        grid[indexToFillIn[0]][indexToFillIn[1]], score = fillContainerInList(rowToFillIn, randomShipNumber)\n",
    "        filledIn +=1\n",
    "    return grid\n",
    "\n",
    "def fillContainerInList(currentList, container):\n",
    "    newList = currentList.copy()\n",
    "    indexesOfZeros = np.where(newList == 0)[0]\n",
    "    # List is full of numbers\n",
    "    if (len(indexesOfZeros) < 1):\n",
    "        return newList, -3\n",
    "    else:\n",
    "        indexToChange = indexesOfZeros[0]\n",
    "        newList[indexToChange] = container\n",
    "        return newList, 0"
   ]
  },
  {
   "cell_type": "code",
   "execution_count": 6,
   "id": "d0452c73",
   "metadata": {},
   "outputs": [],
   "source": [
    "def fillSingleContainerAtPosition(grid, y, x, containerList):\n",
    "    bottomValue = grid[y][x][0]\n",
    "    container = containerList[-1]\n",
    "    #We get the new row and score of putting a container there based in the list availability\n",
    "    grid[y][x], score = fillContainerInList(grid[y][x], container)\n",
    "    if (score == 0):\n",
    "        #Also give a reward if the same number is used\n",
    "        if (bottomValue == 0):\n",
    "            score += 2\n",
    "            score += checkForBoxedInContainer(grid[y])\n",
    "        elif (bottomValue == container):\n",
    "            score += 5\n",
    "        else:\n",
    "            score -= 3\n",
    "        return grid, score, np.delete(containerList, -1)\n",
    "    else:\n",
    "        return grid, score, containerList"
   ]
  },
  {
   "cell_type": "code",
   "execution_count": 7,
   "id": "4bc0bbec",
   "metadata": {},
   "outputs": [],
   "source": [
    "def checkForBoxedInContainer(listOfContainerRows):\n",
    "    x_values_list = np.array([], dtype=int)\n",
    "    for x_spot in listOfContainerRows:\n",
    "        x_values_list = np.append(x_values_list, x_spot[0])\n",
    "    numberToCheckFor = np.nan\n",
    "    numberToVerify = np.nan\n",
    "    encounteredZero = False\n",
    "    for item in x_values_list:\n",
    "        #Skip empty position on grid\n",
    "        if (item != 0):\n",
    "            #If we already encountered a number and zero counters is more than 0, we will box in a zero -> penalty\n",
    "            # e.g. x 0 0 x\n",
    "            if ((not np.isnan(numberToCheckFor)) & encounteredZero):\n",
    "                return -4\n",
    "            if (np.isnan(numberToCheckFor)):\n",
    "                numberToCheckFor = item\n",
    "            if (not np.isnan(numberToVerify)):\n",
    "                if (item != numberToVerify):\n",
    "                    #The previous item is boxed in since that item is not equal to where we started and the next item is also different\n",
    "                    return -4\n",
    "            #Set number to verify if boxed in\n",
    "            if ((item != numberToCheckFor) & (np.isnan(numberToVerify))):\n",
    "                numberToVerify = item\n",
    "        else:\n",
    "            # Only check once we encountered a number\n",
    "            # e.g. 0 x ... doesn't count\n",
    "            if (not np.isnan(numberToCheckFor)):\n",
    "                encounteredZero = True\n",
    "\n",
    "    return 0"
   ]
  },
  {
   "cell_type": "code",
   "execution_count": 8,
   "id": "c35e7487",
   "metadata": {},
   "outputs": [],
   "source": [
    "def getListOfContainers(numberOfShips, containersPerShip, multiplication=1):\n",
    "    containers = np.array([], dtype=int)\n",
    "    for i in range(multiplication):\n",
    "        for i in range(1, numberOfShips + 1):\n",
    "            containers = np.append(containers, np.full((1, containersPerShip), i, dtype=int))\n",
    "    random.shuffle(containers)\n",
    "    return containers\n",
    "\n",
    "def getContainersCountAsList(containerList, current_count=None):\n",
    "    numbers, counts = np.unique(containerList, return_counts=True)\n",
    "    if (type(current_count) == type(None)):\n",
    "        current_count = np.zeros(len(counts), dtype=int)\n",
    "    #Iterate through the numbers and assign their count\n",
    "    if (len(numbers) > 0):\n",
    "        startIndex = numbers[-1]\n",
    "        for idx, number in enumerate(numbers):\n",
    "            current_count[number-1] = counts[idx]\n",
    "        current_count[numbers[-1]:] = 0\n",
    "        return current_count\n",
    "    #Numbers that are not in the list, but still exist in the dict will be set to 0\n",
    "    current_count[0:] = 0\n",
    "    return current_count"
   ]
  },
  {
   "cell_type": "code",
   "execution_count": 9,
   "id": "2e779d7f",
   "metadata": {},
   "outputs": [
    {
     "data": {
      "text/plain": [
       "array([4, 4, 3, 2, 5, 2, 3, 3, 4, 2, 5, 3, 2, 4, 3, 3, 5, 3, 1, 2, 2, 4,\n",
       "       5, 4, 5, 3, 5, 3, 1, 3, 3, 2, 4, 5, 2, 4, 5, 3, 2, 2, 2, 3, 5, 4,\n",
       "       2, 5, 5, 4, 5, 5, 5, 4, 2, 1, 3, 4, 1, 3, 4, 2, 3, 3, 1, 2, 1, 4,\n",
       "       4, 1, 3, 2, 5, 5, 5, 5, 2, 2, 4, 4, 1, 3, 2, 4, 1, 2, 2, 2, 4, 3,\n",
       "       4, 3, 1, 5, 3, 3, 1, 3, 5, 4, 1, 5, 5, 5, 4, 4, 4, 5, 3, 1, 2, 3,\n",
       "       1, 3, 2, 5, 3, 1, 4, 1, 4, 4, 1, 5, 1, 5, 4, 2, 4, 3, 4, 1, 5, 2,\n",
       "       4, 1, 3, 3, 5, 4, 3, 1, 3, 2, 1, 5, 2, 3, 2, 2, 1, 2, 3, 1, 2, 2,\n",
       "       5, 1, 1, 2, 2, 1, 1, 4, 3, 2, 5, 4, 5, 2, 1, 5, 2, 5, 4, 1, 4, 1,\n",
       "       3, 5, 1, 4, 5, 4, 3, 1, 1, 2, 1, 1, 5, 1, 1, 2, 1, 4, 1, 5, 5, 3,\n",
       "       4, 3])"
      ]
     },
     "metadata": {},
     "output_type": "display_data"
    }
   ],
   "source": [
    "testContainerList = getListOfContainers(5,10,4)\n",
    "display(testContainerList)"
   ]
  },
  {
   "cell_type": "code",
   "execution_count": 10,
   "id": "860f9a69",
   "metadata": {},
   "outputs": [
    {
     "data": {
      "text/plain": [
       "array([40, 40, 40, 40, 40])"
      ]
     },
     "metadata": {},
     "output_type": "display_data"
    }
   ],
   "source": [
    "container_count = getContainersCountAsList(testContainerList)\n",
    "display(container_count)"
   ]
  },
  {
   "cell_type": "code",
   "execution_count": 11,
   "id": "e11be227",
   "metadata": {},
   "outputs": [
    {
     "data": {
      "text/plain": [
       "array([1, 2, 1, 0, 0])"
      ]
     },
     "metadata": {},
     "output_type": "display_data"
    }
   ],
   "source": [
    "test_dict = getContainersCountAsList(np.array([1, 2, 2, 3]), container_count)\n",
    "display(test_dict)"
   ]
  },
  {
   "cell_type": "code",
   "execution_count": 12,
   "id": "820f0838",
   "metadata": {
    "scrolled": true
   },
   "outputs": [
    {
     "data": {
      "text/plain": [
       "array([[[0, 0, 0],\n",
       "        [2, 2, 0],\n",
       "        [2, 0, 0]],\n",
       "\n",
       "       [[0, 0, 0],\n",
       "        [3, 0, 0],\n",
       "        [1, 1, 1]],\n",
       "\n",
       "       [[0, 0, 0],\n",
       "        [0, 0, 0],\n",
       "        [1, 0, 0]]])"
      ]
     },
     "metadata": {},
     "output_type": "display_data"
    },
    {
     "data": {
      "text/plain": [
       "array([2, 2, 3, 1, 3, 3, 3, 2, 2, 1, 1, 2, 1, 3, 1, 3, 1, 1, 2, 2, 1, 3,\n",
       "       2])"
      ]
     },
     "metadata": {},
     "output_type": "display_data"
    },
    {
     "data": {
      "text/plain": [
       "array([[[3, 0, 0],\n",
       "        [2, 2, 0],\n",
       "        [2, 0, 0]],\n",
       "\n",
       "       [[0, 0, 0],\n",
       "        [3, 0, 0],\n",
       "        [1, 1, 1]],\n",
       "\n",
       "       [[0, 0, 0],\n",
       "        [0, 0, 0],\n",
       "        [1, 0, 0]]])"
      ]
     },
     "metadata": {},
     "output_type": "display_data"
    },
    {
     "data": {
      "text/plain": [
       "2"
      ]
     },
     "metadata": {},
     "output_type": "display_data"
    }
   ],
   "source": [
    "x = 3\n",
    "y = 3\n",
    "z = 3\n",
    "upperbound = 3\n",
    "empty3dArray = np.zeros(shape=(y, x, z), dtype=int)\n",
    "action_space = MultiDiscrete([y, x], dtype=int)\n",
    "empty3dArray = fillInContainerGridRandom(empty3dArray, action_space, upperbound, 0.9)\n",
    "containers = getListOfContainers(upperbound, 4, z-1)\n",
    "display(empty3dArray)\n",
    "df, score, lists = fillSingleContainerAtPosition(empty3dArray, 0, 0, containers)\n",
    "display(lists)\n",
    "display(df)\n",
    "display(score)"
   ]
  },
  {
   "cell_type": "code",
   "execution_count": 13,
   "id": "aa310d58",
   "metadata": {},
   "outputs": [
    {
     "data": {
      "text/plain": [
       "array([[[3, 0, 0],\n",
       "        [2, 2, 0],\n",
       "        [2, 0, 0]],\n",
       "\n",
       "       [[0, 0, 0],\n",
       "        [3, 0, 0],\n",
       "        [1, 1, 1]],\n",
       "\n",
       "       [[0, 0, 0],\n",
       "        [0, 0, 0],\n",
       "        [1, 0, 0]]])"
      ]
     },
     "metadata": {},
     "output_type": "display_data"
    },
    {
     "data": {
      "text/plain": [
       "array([2, 1, 3, 3, 3, 1, 1, 2])"
      ]
     },
     "metadata": {},
     "output_type": "display_data"
    },
    {
     "data": {
      "text/plain": [
       "array([[[3, 0, 0],\n",
       "        [2, 2, 0],\n",
       "        [2, 2, 0]],\n",
       "\n",
       "       [[0, 0, 0],\n",
       "        [3, 0, 0],\n",
       "        [1, 1, 1]],\n",
       "\n",
       "       [[0, 0, 0],\n",
       "        [0, 0, 0],\n",
       "        [1, 0, 0]]])"
      ]
     },
     "metadata": {},
     "output_type": "display_data"
    },
    {
     "data": {
      "text/plain": [
       "5"
      ]
     },
     "metadata": {},
     "output_type": "display_data"
    }
   ],
   "source": [
    "containers = getListOfContainers(3, 3)\n",
    "display(df)\n",
    "df, score, lists = fillSingleContainerAtPosition(df, 0, 2, containers)\n",
    "display(lists)\n",
    "display(df)\n",
    "display(score)"
   ]
  },
  {
   "cell_type": "code",
   "execution_count": 14,
   "id": "2d7fe7c9",
   "metadata": {
    "scrolled": true
   },
   "outputs": [
    {
     "data": {
      "text/plain": [
       "array([3, 1, 1, 1, 3, 2, 3, 2])"
      ]
     },
     "metadata": {},
     "output_type": "display_data"
    },
    {
     "data": {
      "text/plain": [
       "array([[[3, 0, 0],\n",
       "        [2, 2, 2],\n",
       "        [2, 2, 0]],\n",
       "\n",
       "       [[0, 0, 0],\n",
       "        [3, 0, 0],\n",
       "        [1, 1, 1]],\n",
       "\n",
       "       [[0, 0, 0],\n",
       "        [0, 0, 0],\n",
       "        [1, 0, 0]]])"
      ]
     },
     "metadata": {},
     "output_type": "display_data"
    },
    {
     "data": {
      "text/plain": [
       "False"
      ]
     },
     "metadata": {},
     "output_type": "display_data"
    },
    {
     "data": {
      "text/plain": [
       "5"
      ]
     },
     "metadata": {},
     "output_type": "display_data"
    }
   ],
   "source": [
    "containers = getListOfContainers(3, 3)\n",
    "df, score, lists = fillSingleContainerAtPosition(df, 0, 1, containers)\n",
    "display(lists)\n",
    "display(df)\n",
    "display(np.all(df.flatten() > 0))\n",
    "display(score)"
   ]
  },
  {
   "cell_type": "code",
   "execution_count": 15,
   "id": "4771d1bc",
   "metadata": {},
   "outputs": [],
   "source": [
    "action = MultiDiscrete([3, 3], dtype=int).sample()"
   ]
  },
  {
   "cell_type": "code",
   "execution_count": 16,
   "id": "89a17317",
   "metadata": {},
   "outputs": [
    {
     "data": {
      "text/plain": [
       "array([1, 2])"
      ]
     },
     "metadata": {},
     "output_type": "display_data"
    }
   ],
   "source": [
    "display(action)"
   ]
  },
  {
   "cell_type": "code",
   "execution_count": 17,
   "id": "68f6d7b3",
   "metadata": {},
   "outputs": [
    {
     "data": {
      "text/plain": [
       "1"
      ]
     },
     "metadata": {},
     "output_type": "display_data"
    }
   ],
   "source": [
    "display(action[0])"
   ]
  },
  {
   "cell_type": "code",
   "execution_count": 18,
   "id": "6dc19d6b",
   "metadata": {},
   "outputs": [
    {
     "data": {
      "text/plain": [
       "5"
      ]
     },
     "execution_count": 18,
     "metadata": {},
     "output_type": "execute_result"
    }
   ],
   "source": [
    "Discrete(5).n"
   ]
  },
  {
   "cell_type": "code",
   "execution_count": 19,
   "id": "b2d6ce1e",
   "metadata": {},
   "outputs": [
    {
     "data": {
      "text/plain": [
       "2"
      ]
     },
     "execution_count": 19,
     "metadata": {},
     "output_type": "execute_result"
    }
   ],
   "source": [
    "Discrete(5).sample()"
   ]
  },
  {
   "cell_type": "code",
   "execution_count": 20,
   "id": "3ced63a3",
   "metadata": {},
   "outputs": [
    {
     "data": {
      "text/plain": [
       "OrderedDict([('1', 1), ('2', 4), ('3', 1), ('4', 2)])"
      ]
     },
     "execution_count": 20,
     "metadata": {},
     "output_type": "execute_result"
    }
   ],
   "source": [
    "Dict(spaces={\n",
    "    '1': Discrete(5),\n",
    "    '2': Discrete(5),\n",
    "    '3': Discrete(5),\n",
    "    '4': Discrete(5),\n",
    "}).sample()"
   ]
  },
  {
   "cell_type": "code",
   "execution_count": 21,
   "id": "c9364604",
   "metadata": {},
   "outputs": [],
   "source": [
    "# observation space\n",
    "observation_space_test = Dict({\n",
    "    'grid':\n",
    "        Box(low=0,\n",
    "                   high=5,\n",
    "                   shape=(3, 3, 3), dtype=int),\n",
    "    'container':\n",
    "        Discrete(5),\n",
    "    'containerCount':\n",
    "        MultiDiscrete(np.full(shape=(5,), fill_value=5,dtype=int))})"
   ]
  },
  {
   "cell_type": "code",
   "execution_count": 22,
   "id": "e5f4e292",
   "metadata": {},
   "outputs": [
    {
     "name": "stdout",
     "output_type": "stream",
     "text": [
      "OrderedDict([('container', 1), ('containerCount', array([3, 1, 1, 3, 4])), ('grid', array([[[0, 1, 5],\n",
      "        [0, 0, 1],\n",
      "        [3, 2, 1]],\n",
      "\n",
      "       [[4, 5, 5],\n",
      "        [1, 4, 0],\n",
      "        [5, 2, 2]],\n",
      "\n",
      "       [[1, 3, 5],\n",
      "        [0, 1, 4],\n",
      "        [3, 4, 1]]]))])\n"
     ]
    }
   ],
   "source": [
    "print(observation_space_test.sample())"
   ]
  },
  {
   "cell_type": "markdown",
   "id": "0072aabd",
   "metadata": {},
   "source": [
    "# Create environment"
   ]
  },
  {
   "cell_type": "code",
   "execution_count": 23,
   "id": "44a2ebba",
   "metadata": {},
   "outputs": [],
   "source": [
    "class ContainerEnv(Env):\n",
    "    \"Custom Environment that follows gym interface\"\n",
    "    metadata = {'render.modes': ['human']}\n",
    "\n",
    "    def __init__(self, numberOfShips, containersPerShip, boxWidth, boxLength, boxHeight, percentage=0.0):\n",
    "        super(ContainerEnv, self).__init__()\n",
    "        self.numberOfShips = numberOfShips\n",
    "        self.containersPerShip = containersPerShip\n",
    "        self.percentage = percentage\n",
    "        self.maxRows = boxLength\n",
    "        self.maxColumns = boxWidth\n",
    "        self.maxHeight = boxHeight\n",
    "        self.maxStepsCount = ((self.maxRows * self.maxColumns * self.maxHeight) * self.maxHeight) * 10\n",
    "        self.stepCounter = 0\n",
    "        self.action_space = MultiDiscrete([self.maxRows, self.maxColumns], dtype=int)\n",
    "        self.observation_space = Dict(\n",
    "            spaces={\n",
    "                \"grid\": Box(low=0, high=numberOfShips, shape=(self.maxRows, self.maxColumns, self.maxHeight), dtype=int),\n",
    "                \"container\": Discrete(numberOfShips + 1),\n",
    "                \"containerCount\": MultiDiscrete(np.full(shape=(numberOfShips,), fill_value=(self.maxRows * self.maxColumns * self.maxHeight),dtype=int)),\n",
    "                \"maxCounter\": Discrete(self.maxStepsCount + 1),\n",
    "                \"stepCounter\": Discrete(self.maxStepsCount + 1)\n",
    "            }\n",
    "        )\n",
    "        self.listOfContainers = getListOfContainers(self.numberOfShips, self.containersPerShip, self.maxHeight-1)\n",
    "        self.containerCount = getContainersCountAsList(self.listOfContainers)\n",
    "        self.containerGrid = fillInContainerGridRandom(np.zeros(shape=(self.maxRows, self.maxColumns, self.maxHeight), dtype=int), \n",
    "                                                       self.action_space, \n",
    "                                                       self.numberOfShips,\n",
    "                                                       self.percentage)\n",
    "    def step(self, action):\n",
    "        self.stepCounter += 1\n",
    "        grid, reward, containerList = fillSingleContainerAtPosition(self.containerGrid, action[0], action[1], self.listOfContainers)\n",
    "        self.containerGrid = grid\n",
    "        self.listOfContainers = containerList\n",
    "        self.containerCount = getContainersCountAsList(self.listOfContainers, self.containerCount)\n",
    "        info = {\"TimeLimit.truncated\": False}\n",
    "        # Check if there are no more containers to place\n",
    "        if ((len(self.listOfContainers) == 0) | np.all(self.containerGrid.flatten() > 0)):\n",
    "            obs = {'stepCounter': self.stepCounter, \"maxCounter\": self.maxStepsCount, 'containerCount': self.containerCount, 'container': 0, 'grid': self.containerGrid}\n",
    "            return obs, reward, True, info\n",
    "        else:\n",
    "            obs = {'stepCounter': self.stepCounter, \"maxCounter\": self.maxStepsCount, 'containerCount': self.containerCount, 'container': int(self.listOfContainers[-1]),\n",
    "                   'grid': self.containerGrid}\n",
    "            if (self.stepCounter >= self.maxStepsCount):\n",
    "                info[\"TimeLimit.truncated\"] = True\n",
    "                return obs, reward, True, info\n",
    "            else:\n",
    "                return obs, reward, False, info\n",
    "    \n",
    "    def reset(self):\n",
    "        self.stepCounter = 0\n",
    "        self.containerGrid = fillInContainerGridRandom(np.zeros(shape=(self.maxRows, self.maxColumns, self.maxHeight), dtype=int), \n",
    "                                                       self.action_space, \n",
    "                                                       self.numberOfShips,\n",
    "                                                       self.percentage)\n",
    "        self.listOfContainers = getListOfContainers(self.numberOfShips, \n",
    "                                                    random.randint(max(1, self.containersPerShip - 3), self.containersPerShip + 3),\n",
    "                                                    self.maxHeight-1)\n",
    "        self.containerCount = getContainersCountAsList(self.listOfContainers)\n",
    "        obs = {'stepCounter': self.stepCounter, \"maxCounter\": self.maxStepsCount, 'containerCount': self.containerCount, 'container': int(self.listOfContainers[-1]), 'grid': self.containerGrid}\n",
    "        return obs\n",
    "    \n",
    "    def render(self, mode='human', close=False):\n",
    "        display(self.containerGrid)\n",
    "    def close (self):\n",
    "        display(self.containerGrid)"
   ]
  },
  {
   "cell_type": "code",
   "execution_count": 24,
   "id": "2f28fca3",
   "metadata": {},
   "outputs": [],
   "source": [
    "from stable_baselines3.common.env_checker import check_env\n",
    "\n",
    "env = ContainerEnv(3, 3, 1, 3, 3)\n",
    "# It will check your custom environment and output additional warnings if needed\n",
    "#check_env(env)"
   ]
  },
  {
   "cell_type": "code",
   "execution_count": 25,
   "id": "e25423e3",
   "metadata": {
    "scrolled": true
   },
   "outputs": [
    {
     "data": {
      "text/plain": [
       "MultiDiscrete([3 3])"
      ]
     },
     "metadata": {},
     "output_type": "display_data"
    },
    {
     "data": {
      "text/plain": [
       "Dict(container:Discrete(4), containerCount:MultiDiscrete([27 27 27]), grid:Box([[[0 0 0]\n",
       "  [0 0 0]\n",
       "  [0 0 0]]\n",
       "\n",
       " [[0 0 0]\n",
       "  [0 0 0]\n",
       "  [0 0 0]]\n",
       "\n",
       " [[0 0 0]\n",
       "  [0 0 0]\n",
       "  [0 0 0]]], [[[3 3 3]\n",
       "  [3 3 3]\n",
       "  [3 3 3]]\n",
       "\n",
       " [[3 3 3]\n",
       "  [3 3 3]\n",
       "  [3 3 3]]\n",
       "\n",
       " [[3 3 3]\n",
       "  [3 3 3]\n",
       "  [3 3 3]]], (3, 3, 3), int64), maxCounter:Discrete(811), stepCounter:Discrete(811))"
      ]
     },
     "metadata": {},
     "output_type": "display_data"
    },
    {
     "data": {
      "text/plain": [
       "{'stepCounter': 0,\n",
       " 'maxCounter': 810,\n",
       " 'containerCount': array([8, 8, 8]),\n",
       " 'container': 1,\n",
       " 'grid': array([[[0, 0, 0],\n",
       "         [0, 0, 0],\n",
       "         [0, 0, 0]],\n",
       " \n",
       "        [[0, 0, 0],\n",
       "         [0, 0, 0],\n",
       "         [0, 0, 0]],\n",
       " \n",
       "        [[0, 0, 0],\n",
       "         [0, 0, 0],\n",
       "         [0, 0, 0]]])}"
      ]
     },
     "metadata": {},
     "output_type": "display_data"
    }
   ],
   "source": [
    "numberOfShips = 3\n",
    "containersPerShip = 4\n",
    "boxHeight = 3\n",
    "boxWidth = 3\n",
    "boxLength = 3\n",
    "env = ContainerEnv(numberOfShips, containersPerShip, boxWidth, boxLength, boxHeight)\n",
    "display(env.action_space)\n",
    "display(env.observation_space)\n",
    "display(env.reset())"
   ]
  },
  {
   "cell_type": "markdown",
   "id": "e331be2b",
   "metadata": {},
   "source": [
    "# Test environment"
   ]
  },
  {
   "cell_type": "code",
   "execution_count": 26,
   "id": "8c1a6e94",
   "metadata": {
    "scrolled": true
   },
   "outputs": [
    {
     "data": {
      "text/plain": [
       "{'stepCounter': 0,\n",
       " 'maxCounter': 810,\n",
       " 'containerCount': array([14, 14, 14]),\n",
       " 'container': 3,\n",
       " 'grid': array([[[0, 0, 0],\n",
       "         [0, 0, 0],\n",
       "         [0, 0, 0]],\n",
       " \n",
       "        [[0, 0, 0],\n",
       "         [0, 0, 0],\n",
       "         [0, 0, 0]],\n",
       " \n",
       "        [[0, 0, 0],\n",
       "         [0, 0, 0],\n",
       "         [0, 0, 0]]])}"
      ]
     },
     "metadata": {},
     "output_type": "display_data"
    },
    {
     "name": "stdout",
     "output_type": "stream",
     "text": [
      "Episode:1 Score:-48\n",
      "final env state\n"
     ]
    },
    {
     "data": {
      "text/plain": [
       "{'stepCounter': 43,\n",
       " 'maxCounter': 810,\n",
       " 'containerCount': array([5, 7, 3]),\n",
       " 'container': 0,\n",
       " 'grid': array([[[2, 2, 3],\n",
       "         [3, 1, 3],\n",
       "         [3, 1, 1]],\n",
       " \n",
       "        [[3, 1, 3],\n",
       "         [2, 1, 2],\n",
       "         [1, 2, 3]],\n",
       " \n",
       "        [[2, 3, 1],\n",
       "         [3, 3, 3],\n",
       "         [1, 2, 1]]])}"
      ]
     },
     "metadata": {},
     "output_type": "display_data"
    },
    {
     "data": {
      "text/plain": [
       "array([2, 2, 1, 3, 3, 2, 2, 1, 2, 1, 2, 1, 3, 2, 1])"
      ]
     },
     "metadata": {},
     "output_type": "display_data"
    },
    {
     "data": {
      "text/plain": [
       "{'stepCounter': 0,\n",
       " 'maxCounter': 810,\n",
       " 'containerCount': array([4, 4, 4]),\n",
       " 'container': 2,\n",
       " 'grid': array([[[0, 0, 0],\n",
       "         [0, 0, 0],\n",
       "         [0, 0, 0]],\n",
       " \n",
       "        [[0, 0, 0],\n",
       "         [0, 0, 0],\n",
       "         [0, 0, 0]],\n",
       " \n",
       "        [[0, 0, 0],\n",
       "         [0, 0, 0],\n",
       "         [0, 0, 0]]])}"
      ]
     },
     "metadata": {},
     "output_type": "display_data"
    },
    {
     "name": "stdout",
     "output_type": "stream",
     "text": [
      "Episode:2 Score:0\n",
      "final env state\n"
     ]
    },
    {
     "data": {
      "text/plain": [
       "{'stepCounter': 12,\n",
       " 'maxCounter': 810,\n",
       " 'containerCount': array([0, 0, 0]),\n",
       " 'container': 0,\n",
       " 'grid': array([[[3, 1, 0],\n",
       "         [0, 0, 0],\n",
       "         [1, 3, 0]],\n",
       " \n",
       "        [[3, 0, 0],\n",
       "         [2, 0, 0],\n",
       "         [1, 0, 0]],\n",
       " \n",
       "        [[1, 0, 0],\n",
       "         [2, 3, 2],\n",
       "         [2, 0, 0]]])}"
      ]
     },
     "metadata": {},
     "output_type": "display_data"
    },
    {
     "data": {
      "text/plain": [
       "array([], dtype=int64)"
      ]
     },
     "metadata": {},
     "output_type": "display_data"
    },
    {
     "data": {
      "text/plain": [
       "{'stepCounter': 0,\n",
       " 'maxCounter': 810,\n",
       " 'containerCount': array([12, 12, 12]),\n",
       " 'container': 2,\n",
       " 'grid': array([[[0, 0, 0],\n",
       "         [0, 0, 0],\n",
       "         [0, 0, 0]],\n",
       " \n",
       "        [[0, 0, 0],\n",
       "         [0, 0, 0],\n",
       "         [0, 0, 0]],\n",
       " \n",
       "        [[0, 0, 0],\n",
       "         [0, 0, 0],\n",
       "         [0, 0, 0]]])}"
      ]
     },
     "metadata": {},
     "output_type": "display_data"
    },
    {
     "name": "stdout",
     "output_type": "stream",
     "text": [
      "Episode:3 Score:-112\n",
      "final env state\n"
     ]
    },
    {
     "data": {
      "text/plain": [
       "{'stepCounter': 67,\n",
       " 'maxCounter': 810,\n",
       " 'containerCount': array([7, 1, 2]),\n",
       " 'container': 0,\n",
       " 'grid': array([[[3, 2, 3],\n",
       "         [2, 3, 2],\n",
       "         [2, 1, 1]],\n",
       " \n",
       "        [[2, 3, 2],\n",
       "         [3, 2, 1],\n",
       "         [3, 3, 2]],\n",
       " \n",
       "        [[2, 2, 3],\n",
       "         [3, 2, 3],\n",
       "         [1, 2, 1]]])}"
      ]
     },
     "metadata": {},
     "output_type": "display_data"
    },
    {
     "data": {
      "text/plain": [
       "array([1, 3, 1, 1, 3, 1, 1, 1, 1])"
      ]
     },
     "metadata": {},
     "output_type": "display_data"
    },
    {
     "data": {
      "text/plain": [
       "{'stepCounter': 0,\n",
       " 'maxCounter': 810,\n",
       " 'containerCount': array([2, 2, 2]),\n",
       " 'container': 1,\n",
       " 'grid': array([[[0, 0, 0],\n",
       "         [0, 0, 0],\n",
       "         [0, 0, 0]],\n",
       " \n",
       "        [[0, 0, 0],\n",
       "         [0, 0, 0],\n",
       "         [0, 0, 0]],\n",
       " \n",
       "        [[0, 0, 0],\n",
       "         [0, 0, 0],\n",
       "         [0, 0, 0]]])}"
      ]
     },
     "metadata": {},
     "output_type": "display_data"
    },
    {
     "name": "stdout",
     "output_type": "stream",
     "text": [
      "Episode:4 Score:-2\n",
      "final env state\n"
     ]
    },
    {
     "data": {
      "text/plain": [
       "{'stepCounter': 6,\n",
       " 'maxCounter': 810,\n",
       " 'containerCount': array([0, 0, 0]),\n",
       " 'container': 0,\n",
       " 'grid': array([[[3, 2, 0],\n",
       "         [0, 0, 0],\n",
       "         [3, 1, 0]],\n",
       " \n",
       "        [[0, 0, 0],\n",
       "         [2, 0, 0],\n",
       "         [1, 0, 0]],\n",
       " \n",
       "        [[0, 0, 0],\n",
       "         [0, 0, 0],\n",
       "         [0, 0, 0]]])}"
      ]
     },
     "metadata": {},
     "output_type": "display_data"
    },
    {
     "data": {
      "text/plain": [
       "array([], dtype=int64)"
      ]
     },
     "metadata": {},
     "output_type": "display_data"
    },
    {
     "data": {
      "text/plain": [
       "{'stepCounter': 0,\n",
       " 'maxCounter': 810,\n",
       " 'containerCount': array([4, 4, 4]),\n",
       " 'container': 3,\n",
       " 'grid': array([[[0, 0, 0],\n",
       "         [0, 0, 0],\n",
       "         [0, 0, 0]],\n",
       " \n",
       "        [[0, 0, 0],\n",
       "         [0, 0, 0],\n",
       "         [0, 0, 0]],\n",
       " \n",
       "        [[0, 0, 0],\n",
       "         [0, 0, 0],\n",
       "         [0, 0, 0]]])}"
      ]
     },
     "metadata": {},
     "output_type": "display_data"
    },
    {
     "name": "stdout",
     "output_type": "stream",
     "text": [
      "Episode:5 Score:16\n",
      "final env state\n"
     ]
    },
    {
     "data": {
      "text/plain": [
       "{'stepCounter': 12,\n",
       " 'maxCounter': 810,\n",
       " 'containerCount': array([0, 0, 0]),\n",
       " 'container': 0,\n",
       " 'grid': array([[[1, 3, 0],\n",
       "         [2, 2, 0],\n",
       "         [0, 0, 0]],\n",
       " \n",
       "        [[3, 0, 0],\n",
       "         [3, 0, 0],\n",
       "         [2, 0, 0]],\n",
       " \n",
       "        [[1, 1, 0],\n",
       "         [2, 0, 0],\n",
       "         [1, 3, 0]]])}"
      ]
     },
     "metadata": {},
     "output_type": "display_data"
    },
    {
     "data": {
      "text/plain": [
       "array([], dtype=int64)"
      ]
     },
     "metadata": {},
     "output_type": "display_data"
    },
    {
     "data": {
      "text/plain": [
       "{'stepCounter': 0,\n",
       " 'maxCounter': 810,\n",
       " 'containerCount': array([6, 6, 6]),\n",
       " 'container': 2,\n",
       " 'grid': array([[[0, 0, 0],\n",
       "         [0, 0, 0],\n",
       "         [0, 0, 0]],\n",
       " \n",
       "        [[0, 0, 0],\n",
       "         [0, 0, 0],\n",
       "         [0, 0, 0]],\n",
       " \n",
       "        [[0, 0, 0],\n",
       "         [0, 0, 0],\n",
       "         [0, 0, 0]]])}"
      ]
     },
     "metadata": {},
     "output_type": "display_data"
    },
    {
     "name": "stdout",
     "output_type": "stream",
     "text": [
      "Episode:6 Score:13\n",
      "final env state\n"
     ]
    },
    {
     "data": {
      "text/plain": [
       "{'stepCounter': 21,\n",
       " 'maxCounter': 810,\n",
       " 'containerCount': array([0, 0, 0]),\n",
       " 'container': 0,\n",
       " 'grid': array([[[2, 0, 0],\n",
       "         [3, 0, 0],\n",
       "         [3, 3, 0]],\n",
       " \n",
       "        [[0, 0, 0],\n",
       "         [1, 1, 0],\n",
       "         [2, 1, 3]],\n",
       " \n",
       "        [[2, 1, 3],\n",
       "         [2, 2, 2],\n",
       "         [1, 3, 1]]])}"
      ]
     },
     "metadata": {},
     "output_type": "display_data"
    },
    {
     "data": {
      "text/plain": [
       "array([], dtype=int64)"
      ]
     },
     "metadata": {},
     "output_type": "display_data"
    },
    {
     "data": {
      "text/plain": [
       "{'stepCounter': 0,\n",
       " 'maxCounter': 810,\n",
       " 'containerCount': array([6, 6, 6]),\n",
       " 'container': 1,\n",
       " 'grid': array([[[0, 0, 0],\n",
       "         [0, 0, 0],\n",
       "         [0, 0, 0]],\n",
       " \n",
       "        [[0, 0, 0],\n",
       "         [0, 0, 0],\n",
       "         [0, 0, 0]],\n",
       " \n",
       "        [[0, 0, 0],\n",
       "         [0, 0, 0],\n",
       "         [0, 0, 0]]])}"
      ]
     },
     "metadata": {},
     "output_type": "display_data"
    },
    {
     "name": "stdout",
     "output_type": "stream",
     "text": [
      "Episode:7 Score:-1\n",
      "final env state\n"
     ]
    },
    {
     "data": {
      "text/plain": [
       "{'stepCounter': 19,\n",
       " 'maxCounter': 810,\n",
       " 'containerCount': array([0, 0, 0]),\n",
       " 'container': 0,\n",
       " 'grid': array([[[1, 1, 2],\n",
       "         [3, 2, 0],\n",
       "         [0, 0, 0]],\n",
       " \n",
       "        [[1, 2, 0],\n",
       "         [3, 1, 3],\n",
       "         [3, 2, 2]],\n",
       " \n",
       "        [[3, 0, 0],\n",
       "         [3, 0, 0],\n",
       "         [1, 1, 2]]])}"
      ]
     },
     "metadata": {},
     "output_type": "display_data"
    },
    {
     "data": {
      "text/plain": [
       "array([], dtype=int64)"
      ]
     },
     "metadata": {},
     "output_type": "display_data"
    },
    {
     "data": {
      "text/plain": [
       "{'stepCounter': 0,\n",
       " 'maxCounter': 810,\n",
       " 'containerCount': array([6, 6, 6]),\n",
       " 'container': 2,\n",
       " 'grid': array([[[0, 0, 0],\n",
       "         [0, 0, 0],\n",
       "         [0, 0, 0]],\n",
       " \n",
       "        [[0, 0, 0],\n",
       "         [0, 0, 0],\n",
       "         [0, 0, 0]],\n",
       " \n",
       "        [[0, 0, 0],\n",
       "         [0, 0, 0],\n",
       "         [0, 0, 0]]])}"
      ]
     },
     "metadata": {},
     "output_type": "display_data"
    },
    {
     "name": "stdout",
     "output_type": "stream",
     "text": [
      "Episode:8 Score:-7\n",
      "final env state\n"
     ]
    },
    {
     "data": {
      "text/plain": [
       "{'stepCounter': 20,\n",
       " 'maxCounter': 810,\n",
       " 'containerCount': array([0, 0, 0]),\n",
       " 'container': 0,\n",
       " 'grid': array([[[1, 0, 0],\n",
       "         [2, 1, 3],\n",
       "         [3, 3, 1]],\n",
       " \n",
       "        [[2, 2, 2],\n",
       "         [3, 0, 0],\n",
       "         [2, 1, 0]],\n",
       " \n",
       "        [[2, 1, 0],\n",
       "         [3, 0, 0],\n",
       "         [1, 3, 0]]])}"
      ]
     },
     "metadata": {},
     "output_type": "display_data"
    },
    {
     "data": {
      "text/plain": [
       "array([], dtype=int64)"
      ]
     },
     "metadata": {},
     "output_type": "display_data"
    },
    {
     "data": {
      "text/plain": [
       "{'stepCounter': 0,\n",
       " 'maxCounter': 810,\n",
       " 'containerCount': array([4, 4, 4]),\n",
       " 'container': 2,\n",
       " 'grid': array([[[0, 0, 0],\n",
       "         [0, 0, 0],\n",
       "         [0, 0, 0]],\n",
       " \n",
       "        [[0, 0, 0],\n",
       "         [0, 0, 0],\n",
       "         [0, 0, 0]],\n",
       " \n",
       "        [[0, 0, 0],\n",
       "         [0, 0, 0],\n",
       "         [0, 0, 0]]])}"
      ]
     },
     "metadata": {},
     "output_type": "display_data"
    },
    {
     "name": "stdout",
     "output_type": "stream",
     "text": [
      "Episode:9 Score:-9\n",
      "final env state\n"
     ]
    },
    {
     "data": {
      "text/plain": [
       "{'stepCounter': 12,\n",
       " 'maxCounter': 810,\n",
       " 'containerCount': array([0, 0, 0]),\n",
       " 'container': 0,\n",
       " 'grid': array([[[3, 0, 0],\n",
       "         [3, 2, 0],\n",
       "         [2, 1, 0]],\n",
       " \n",
       "        [[1, 0, 0],\n",
       "         [2, 1, 0],\n",
       "         [3, 1, 0]],\n",
       " \n",
       "        [[0, 0, 0],\n",
       "         [2, 3, 0],\n",
       "         [0, 0, 0]]])}"
      ]
     },
     "metadata": {},
     "output_type": "display_data"
    },
    {
     "data": {
      "text/plain": [
       "array([], dtype=int64)"
      ]
     },
     "metadata": {},
     "output_type": "display_data"
    },
    {
     "data": {
      "text/plain": [
       "{'stepCounter': 0,\n",
       " 'maxCounter': 810,\n",
       " 'containerCount': array([4, 4, 4]),\n",
       " 'container': 1,\n",
       " 'grid': array([[[0, 0, 0],\n",
       "         [0, 0, 0],\n",
       "         [0, 0, 0]],\n",
       " \n",
       "        [[0, 0, 0],\n",
       "         [0, 0, 0],\n",
       "         [0, 0, 0]],\n",
       " \n",
       "        [[0, 0, 0],\n",
       "         [0, 0, 0],\n",
       "         [0, 0, 0]]])}"
      ]
     },
     "metadata": {},
     "output_type": "display_data"
    },
    {
     "name": "stdout",
     "output_type": "stream",
     "text": [
      "Episode:10 Score:-1\n",
      "final env state\n"
     ]
    },
    {
     "data": {
      "text/plain": [
       "{'stepCounter': 12,\n",
       " 'maxCounter': 810,\n",
       " 'containerCount': array([0, 0, 0]),\n",
       " 'container': 0,\n",
       " 'grid': array([[[3, 2, 0],\n",
       "         [0, 0, 0],\n",
       "         [1, 0, 0]],\n",
       " \n",
       "        [[2, 0, 0],\n",
       "         [1, 1, 3],\n",
       "         [3, 2, 2]],\n",
       " \n",
       "        [[1, 0, 0],\n",
       "         [3, 0, 0],\n",
       "         [0, 0, 0]]])}"
      ]
     },
     "metadata": {},
     "output_type": "display_data"
    },
    {
     "data": {
      "text/plain": [
       "array([], dtype=int64)"
      ]
     },
     "metadata": {},
     "output_type": "display_data"
    },
    {
     "data": {
      "text/plain": [
       "array([[[3, 2, 0],\n",
       "        [0, 0, 0],\n",
       "        [1, 0, 0]],\n",
       "\n",
       "       [[2, 0, 0],\n",
       "        [1, 1, 3],\n",
       "        [3, 2, 2]],\n",
       "\n",
       "       [[1, 0, 0],\n",
       "        [3, 0, 0],\n",
       "        [0, 0, 0]]])"
      ]
     },
     "metadata": {},
     "output_type": "display_data"
    }
   ],
   "source": [
    "episodes = 10\n",
    "for episode in range(1, episodes+1):\n",
    "    state = env.reset()\n",
    "    display(state)\n",
    "    done = False\n",
    "    score = 0\n",
    "    \n",
    "    while not done:\n",
    "        action = env.action_space.sample()\n",
    "        n_state, reward, done, info = env.step(action)\n",
    "        state = n_state\n",
    "        score+=reward\n",
    "    print('Episode:{} Score:{}'.format(episode, score))\n",
    "    print('final env state')\n",
    "    display(state)\n",
    "    display(env.listOfContainers)\n",
    "env.close()"
   ]
  },
  {
   "cell_type": "markdown",
   "id": "a00b42d4",
   "metadata": {},
   "source": [
    "# Stable baselines"
   ]
  },
  {
   "cell_type": "code",
   "execution_count": 27,
   "id": "b117c05d",
   "metadata": {},
   "outputs": [
    {
     "name": "stdout",
     "output_type": "stream",
     "text": [
      "0.0\n",
      "0.1\n",
      "0.2\n",
      "0.30000000000000004\n",
      "0.4\n",
      "0.5\n",
      "0.6000000000000001\n",
      "0.7000000000000001\n",
      "0.8\n",
      "0.9\n"
     ]
    }
   ],
   "source": [
    "for percentage in np.arange(0.0, 1.0, 0.1):\n",
    "    print(percentage)"
   ]
  },
  {
   "cell_type": "code",
   "execution_count": 28,
   "id": "a862b124",
   "metadata": {},
   "outputs": [],
   "source": [
    "from typing import Callable\n",
    "def make_env(numberOfShips, containersPerShip, boxHeight, boxWidth, boxLength, percentage) -> Callable:\n",
    "    def _init() -> Env:\n",
    "        env = ContainerEnv(numberOfShips, containersPerShip, boxHeight, boxWidth, boxLength, percentage)\n",
    "        return env\n",
    "    return _init"
   ]
  },
  {
   "cell_type": "code",
   "execution_count": 29,
   "id": "3f965795",
   "metadata": {},
   "outputs": [],
   "source": [
    "def getTotalTimeSteps(timesteps, percentage):\n",
    "    return timesteps\n",
    "    #return timesteps * (1 - percentage)"
   ]
  },
  {
   "cell_type": "code",
   "execution_count": 30,
   "id": "0c35f100",
   "metadata": {
    "scrolled": true
   },
   "outputs": [
    {
     "name": "stdout",
     "output_type": "stream",
     "text": [
      "Using cpu device\n",
      "-----------------------------\n",
      "| time/              |      |\n",
      "|    fps             | 2829 |\n",
      "|    iterations      | 1    |\n",
      "|    time_elapsed    | 2    |\n",
      "|    total_timesteps | 8192 |\n",
      "-----------------------------\n"
     ]
    },
    {
     "name": "stderr",
     "output_type": "stream",
     "text": [
      "/opt/jupyterhub/anaconda/lib/python3.9/site-packages/torch/autograd/__init__.py:173: UserWarning: CUDA initialization: CUDA driver initialization failed, you might not have a CUDA gpu. (Triggered internally at  /opt/conda/conda-bld/pytorch_1659484809662/work/c10/cuda/CUDAFunctions.cpp:109.)\n",
      "  Variable._execution_engine.run_backward(  # Calls into the C++ engine to run the backward pass\n"
     ]
    },
    {
     "name": "stdout",
     "output_type": "stream",
     "text": [
      "-----------------------------------------\n",
      "| time/                   |             |\n",
      "|    fps                  | 1156        |\n",
      "|    iterations           | 2           |\n",
      "|    time_elapsed         | 14          |\n",
      "|    total_timesteps      | 16384       |\n",
      "| train/                  |             |\n",
      "|    approx_kl            | 0.009512847 |\n",
      "|    clip_fraction        | 0.0725      |\n",
      "|    clip_range           | 0.2         |\n",
      "|    entropy_loss         | -2.19       |\n",
      "|    explained_variance   | 0.0167      |\n",
      "|    learning_rate        | 0.0003      |\n",
      "|    loss                 | 60.2        |\n",
      "|    n_updates            | 10          |\n",
      "|    policy_gradient_loss | -0.00915    |\n",
      "|    value_loss           | 182         |\n",
      "-----------------------------------------\n",
      "-----------------------------------------\n",
      "| time/                   |             |\n",
      "|    fps                  | 1047        |\n",
      "|    iterations           | 3           |\n",
      "|    time_elapsed         | 23          |\n",
      "|    total_timesteps      | 24576       |\n",
      "| train/                  |             |\n",
      "|    approx_kl            | 0.010248503 |\n",
      "|    clip_fraction        | 0.099       |\n",
      "|    clip_range           | 0.2         |\n",
      "|    entropy_loss         | -2.18       |\n",
      "|    explained_variance   | 0.412       |\n",
      "|    learning_rate        | 0.0003      |\n",
      "|    loss                 | 91.9        |\n",
      "|    n_updates            | 20          |\n",
      "|    policy_gradient_loss | -0.0141     |\n",
      "|    value_loss           | 181         |\n",
      "-----------------------------------------\n",
      "Model iteratie: 0\n",
      "------------------------------\n",
      "| time/              |       |\n",
      "|    fps             | 2880  |\n",
      "|    iterations      | 1     |\n",
      "|    time_elapsed    | 2     |\n",
      "|    total_timesteps | 32768 |\n",
      "------------------------------\n",
      "-----------------------------------------\n",
      "| time/                   |             |\n",
      "|    fps                  | 1375        |\n",
      "|    iterations           | 2           |\n",
      "|    time_elapsed         | 11          |\n",
      "|    total_timesteps      | 40960       |\n",
      "| train/                  |             |\n",
      "|    approx_kl            | 0.008006106 |\n",
      "|    clip_fraction        | 0.0801      |\n",
      "|    clip_range           | 0.2         |\n",
      "|    entropy_loss         | -2.15       |\n",
      "|    explained_variance   | 0.543       |\n",
      "|    learning_rate        | 0.0003      |\n",
      "|    loss                 | 77.6        |\n",
      "|    n_updates            | 50          |\n",
      "|    policy_gradient_loss | -0.0105     |\n",
      "|    value_loss           | 178         |\n",
      "-----------------------------------------\n",
      "------------------------------------------\n",
      "| time/                   |              |\n",
      "|    fps                  | 1163         |\n",
      "|    iterations           | 3            |\n",
      "|    time_elapsed         | 21           |\n",
      "|    total_timesteps      | 49152        |\n",
      "| train/                  |              |\n",
      "|    approx_kl            | 0.0102835195 |\n",
      "|    clip_fraction        | 0.111        |\n",
      "|    clip_range           | 0.2          |\n",
      "|    entropy_loss         | -2.13        |\n",
      "|    explained_variance   | 0.626        |\n",
      "|    learning_rate        | 0.0003       |\n",
      "|    loss                 | 72           |\n",
      "|    n_updates            | 60           |\n",
      "|    policy_gradient_loss | -0.0139      |\n",
      "|    value_loss           | 153          |\n",
      "------------------------------------------\n",
      "Model iteratie: 1\n",
      "------------------------------\n",
      "| time/              |       |\n",
      "|    fps             | 2892  |\n",
      "|    iterations      | 1     |\n",
      "|    time_elapsed    | 2     |\n",
      "|    total_timesteps | 57344 |\n",
      "------------------------------\n",
      "-----------------------------------------\n",
      "| time/                   |             |\n",
      "|    fps                  | 1372        |\n",
      "|    iterations           | 2           |\n",
      "|    time_elapsed         | 11          |\n",
      "|    total_timesteps      | 65536       |\n",
      "| train/                  |             |\n",
      "|    approx_kl            | 0.010719816 |\n",
      "|    clip_fraction        | 0.0993      |\n",
      "|    clip_range           | 0.2         |\n",
      "|    entropy_loss         | -2.09       |\n",
      "|    explained_variance   | 0.631       |\n",
      "|    learning_rate        | 0.0003      |\n",
      "|    loss                 | 46.4        |\n",
      "|    n_updates            | 90          |\n",
      "|    policy_gradient_loss | -0.0137     |\n",
      "|    value_loss           | 113         |\n",
      "-----------------------------------------\n",
      "-----------------------------------------\n",
      "| time/                   |             |\n",
      "|    fps                  | 1170        |\n",
      "|    iterations           | 3           |\n",
      "|    time_elapsed         | 20          |\n",
      "|    total_timesteps      | 73728       |\n",
      "| train/                  |             |\n",
      "|    approx_kl            | 0.009340641 |\n",
      "|    clip_fraction        | 0.0993      |\n",
      "|    clip_range           | 0.2         |\n",
      "|    entropy_loss         | -2.09       |\n",
      "|    explained_variance   | 0.586       |\n",
      "|    learning_rate        | 0.0003      |\n",
      "|    loss                 | 50.8        |\n",
      "|    n_updates            | 100         |\n",
      "|    policy_gradient_loss | -0.0117     |\n",
      "|    value_loss           | 112         |\n",
      "-----------------------------------------\n",
      "Model iteratie: 2\n",
      "------------------------------\n",
      "| time/              |       |\n",
      "|    fps             | 2732  |\n",
      "|    iterations      | 1     |\n",
      "|    time_elapsed    | 2     |\n",
      "|    total_timesteps | 81920 |\n",
      "------------------------------\n",
      "------------------------------------------\n",
      "| time/                   |              |\n",
      "|    fps                  | 1146         |\n",
      "|    iterations           | 2            |\n",
      "|    time_elapsed         | 14           |\n",
      "|    total_timesteps      | 90112        |\n",
      "| train/                  |              |\n",
      "|    approx_kl            | 0.0103811035 |\n",
      "|    clip_fraction        | 0.103        |\n",
      "|    clip_range           | 0.2          |\n",
      "|    entropy_loss         | -2.04        |\n",
      "|    explained_variance   | 0.587        |\n",
      "|    learning_rate        | 0.0003       |\n",
      "|    loss                 | 56           |\n",
      "|    n_updates            | 130          |\n",
      "|    policy_gradient_loss | -0.0118      |\n",
      "|    value_loss           | 109          |\n",
      "------------------------------------------\n",
      "-----------------------------------------\n",
      "| time/                   |             |\n",
      "|    fps                  | 961         |\n",
      "|    iterations           | 3           |\n",
      "|    time_elapsed         | 25          |\n",
      "|    total_timesteps      | 98304       |\n",
      "| train/                  |             |\n",
      "|    approx_kl            | 0.009897769 |\n",
      "|    clip_fraction        | 0.109       |\n",
      "|    clip_range           | 0.2         |\n",
      "|    entropy_loss         | -2.02       |\n",
      "|    explained_variance   | 0.533       |\n",
      "|    learning_rate        | 0.0003      |\n",
      "|    loss                 | 38.5        |\n",
      "|    n_updates            | 140         |\n",
      "|    policy_gradient_loss | -0.0113     |\n",
      "|    value_loss           | 99.9        |\n",
      "-----------------------------------------\n",
      "Model iteratie: 3\n",
      "-------------------------------\n",
      "| time/              |        |\n",
      "|    fps             | 2368   |\n",
      "|    iterations      | 1      |\n",
      "|    time_elapsed    | 3      |\n",
      "|    total_timesteps | 106496 |\n",
      "-------------------------------\n",
      "-----------------------------------------\n",
      "| time/                   |             |\n",
      "|    fps                  | 1115        |\n",
      "|    iterations           | 2           |\n",
      "|    time_elapsed         | 14          |\n",
      "|    total_timesteps      | 114688      |\n",
      "| train/                  |             |\n",
      "|    approx_kl            | 0.010677544 |\n",
      "|    clip_fraction        | 0.118       |\n",
      "|    clip_range           | 0.2         |\n",
      "|    entropy_loss         | -1.99       |\n",
      "|    explained_variance   | 0.594       |\n",
      "|    learning_rate        | 0.0003      |\n",
      "|    loss                 | 27.2        |\n",
      "|    n_updates            | 170         |\n",
      "|    policy_gradient_loss | -0.013      |\n",
      "|    value_loss           | 93.8        |\n",
      "-----------------------------------------\n",
      "-----------------------------------------\n",
      "| time/                   |             |\n",
      "|    fps                  | 975         |\n",
      "|    iterations           | 3           |\n",
      "|    time_elapsed         | 25          |\n",
      "|    total_timesteps      | 122880      |\n",
      "| train/                  |             |\n",
      "|    approx_kl            | 0.010646606 |\n",
      "|    clip_fraction        | 0.112       |\n",
      "|    clip_range           | 0.2         |\n",
      "|    entropy_loss         | -1.97       |\n",
      "|    explained_variance   | 0.596       |\n",
      "|    learning_rate        | 0.0003      |\n",
      "|    loss                 | 39.6        |\n",
      "|    n_updates            | 180         |\n",
      "|    policy_gradient_loss | -0.012      |\n",
      "|    value_loss           | 88.1        |\n",
      "-----------------------------------------\n"
     ]
    },
    {
     "name": "stdout",
     "output_type": "stream",
     "text": [
      "Model iteratie: 4\n",
      "-------------------------------\n",
      "| time/              |        |\n",
      "|    fps             | 2849   |\n",
      "|    iterations      | 1      |\n",
      "|    time_elapsed    | 2      |\n",
      "|    total_timesteps | 131072 |\n",
      "-------------------------------\n",
      "------------------------------------------\n",
      "| time/                   |              |\n",
      "|    fps                  | 1349         |\n",
      "|    iterations           | 2            |\n",
      "|    time_elapsed         | 12           |\n",
      "|    total_timesteps      | 139264       |\n",
      "| train/                  |              |\n",
      "|    approx_kl            | 0.0102970265 |\n",
      "|    clip_fraction        | 0.101        |\n",
      "|    clip_range           | 0.2          |\n",
      "|    entropy_loss         | -1.94        |\n",
      "|    explained_variance   | 0.528        |\n",
      "|    learning_rate        | 0.0003       |\n",
      "|    loss                 | 32.9         |\n",
      "|    n_updates            | 210          |\n",
      "|    policy_gradient_loss | -0.0113      |\n",
      "|    value_loss           | 89.3         |\n",
      "------------------------------------------\n",
      "-----------------------------------------\n",
      "| time/                   |             |\n",
      "|    fps                  | 1085        |\n",
      "|    iterations           | 3           |\n",
      "|    time_elapsed         | 22          |\n",
      "|    total_timesteps      | 147456      |\n",
      "| train/                  |             |\n",
      "|    approx_kl            | 0.011527086 |\n",
      "|    clip_fraction        | 0.123       |\n",
      "|    clip_range           | 0.2         |\n",
      "|    entropy_loss         | -1.92       |\n",
      "|    explained_variance   | 0.595       |\n",
      "|    learning_rate        | 0.0003      |\n",
      "|    loss                 | 32.7        |\n",
      "|    n_updates            | 220         |\n",
      "|    policy_gradient_loss | -0.0137     |\n",
      "|    value_loss           | 87.5        |\n",
      "-----------------------------------------\n",
      "Model iteratie: 5\n",
      "-------------------------------\n",
      "| time/              |        |\n",
      "|    fps             | 2874   |\n",
      "|    iterations      | 1      |\n",
      "|    time_elapsed    | 2      |\n",
      "|    total_timesteps | 155648 |\n",
      "-------------------------------\n",
      "------------------------------------------\n",
      "| time/                   |              |\n",
      "|    fps                  | 1371         |\n",
      "|    iterations           | 2            |\n",
      "|    time_elapsed         | 11           |\n",
      "|    total_timesteps      | 163840       |\n",
      "| train/                  |              |\n",
      "|    approx_kl            | 0.0126132015 |\n",
      "|    clip_fraction        | 0.126        |\n",
      "|    clip_range           | 0.2          |\n",
      "|    entropy_loss         | -1.86        |\n",
      "|    explained_variance   | 0.556        |\n",
      "|    learning_rate        | 0.0003       |\n",
      "|    loss                 | 39.4         |\n",
      "|    n_updates            | 250          |\n",
      "|    policy_gradient_loss | -0.0132      |\n",
      "|    value_loss           | 92.5         |\n",
      "------------------------------------------\n",
      "---------------------------------------\n",
      "| time/                   |           |\n",
      "|    fps                  | 1167      |\n",
      "|    iterations           | 3         |\n",
      "|    time_elapsed         | 21        |\n",
      "|    total_timesteps      | 172032    |\n",
      "| train/                  |           |\n",
      "|    approx_kl            | 0.0125399 |\n",
      "|    clip_fraction        | 0.135     |\n",
      "|    clip_range           | 0.2       |\n",
      "|    entropy_loss         | -1.84     |\n",
      "|    explained_variance   | 0.59      |\n",
      "|    learning_rate        | 0.0003    |\n",
      "|    loss                 | 34.8      |\n",
      "|    n_updates            | 260       |\n",
      "|    policy_gradient_loss | -0.0168   |\n",
      "|    value_loss           | 86.5      |\n",
      "---------------------------------------\n",
      "Model iteratie: 6\n",
      "-------------------------------\n",
      "| time/              |        |\n",
      "|    fps             | 2868   |\n",
      "|    iterations      | 1      |\n",
      "|    time_elapsed    | 2      |\n",
      "|    total_timesteps | 180224 |\n",
      "-------------------------------\n",
      "----------------------------------------\n",
      "| time/                   |            |\n",
      "|    fps                  | 1376       |\n",
      "|    iterations           | 2          |\n",
      "|    time_elapsed         | 11         |\n",
      "|    total_timesteps      | 188416     |\n",
      "| train/                  |            |\n",
      "|    approx_kl            | 0.01359665 |\n",
      "|    clip_fraction        | 0.154      |\n",
      "|    clip_range           | 0.2        |\n",
      "|    entropy_loss         | -1.74      |\n",
      "|    explained_variance   | 0.458      |\n",
      "|    learning_rate        | 0.0003     |\n",
      "|    loss                 | 51.9       |\n",
      "|    n_updates            | 290        |\n",
      "|    policy_gradient_loss | -0.0159    |\n",
      "|    value_loss           | 103        |\n",
      "----------------------------------------\n",
      "-----------------------------------------\n",
      "| time/                   |             |\n",
      "|    fps                  | 1162        |\n",
      "|    iterations           | 3           |\n",
      "|    time_elapsed         | 21          |\n",
      "|    total_timesteps      | 196608      |\n",
      "| train/                  |             |\n",
      "|    approx_kl            | 0.015676428 |\n",
      "|    clip_fraction        | 0.173       |\n",
      "|    clip_range           | 0.2         |\n",
      "|    entropy_loss         | -1.7        |\n",
      "|    explained_variance   | 0.403       |\n",
      "|    learning_rate        | 0.0003      |\n",
      "|    loss                 | 29.3        |\n",
      "|    n_updates            | 300         |\n",
      "|    policy_gradient_loss | -0.0176     |\n",
      "|    value_loss           | 88.4        |\n",
      "-----------------------------------------\n",
      "Model iteratie: 7\n",
      "-------------------------------\n",
      "| time/              |        |\n",
      "|    fps             | 2750   |\n",
      "|    iterations      | 1      |\n",
      "|    time_elapsed    | 2      |\n",
      "|    total_timesteps | 204800 |\n",
      "-------------------------------\n",
      "------------------------------------------\n",
      "| time/                   |              |\n",
      "|    fps                  | 1354         |\n",
      "|    iterations           | 2            |\n",
      "|    time_elapsed         | 12           |\n",
      "|    total_timesteps      | 212992       |\n",
      "| train/                  |              |\n",
      "|    approx_kl            | 0.0149152875 |\n",
      "|    clip_fraction        | 0.166        |\n",
      "|    clip_range           | 0.2          |\n",
      "|    entropy_loss         | -1.59        |\n",
      "|    explained_variance   | 0.46         |\n",
      "|    learning_rate        | 0.0003       |\n",
      "|    loss                 | 46.9         |\n",
      "|    n_updates            | 330          |\n",
      "|    policy_gradient_loss | -0.0179      |\n",
      "|    value_loss           | 100          |\n",
      "------------------------------------------\n",
      "----------------------------------------\n",
      "| time/                   |            |\n",
      "|    fps                  | 1163       |\n",
      "|    iterations           | 3          |\n",
      "|    time_elapsed         | 21         |\n",
      "|    total_timesteps      | 221184     |\n",
      "| train/                  |            |\n",
      "|    approx_kl            | 0.01598706 |\n",
      "|    clip_fraction        | 0.165      |\n",
      "|    clip_range           | 0.2        |\n",
      "|    entropy_loss         | -1.54      |\n",
      "|    explained_variance   | 0.501      |\n",
      "|    learning_rate        | 0.0003     |\n",
      "|    loss                 | 33         |\n",
      "|    n_updates            | 340        |\n",
      "|    policy_gradient_loss | -0.0187    |\n",
      "|    value_loss           | 113        |\n",
      "----------------------------------------\n",
      "Model iteratie: 8\n",
      "-------------------------------\n",
      "| time/              |        |\n",
      "|    fps             | 2751   |\n",
      "|    iterations      | 1      |\n",
      "|    time_elapsed    | 2      |\n",
      "|    total_timesteps | 229376 |\n",
      "-------------------------------\n",
      "-----------------------------------------\n",
      "| time/                   |             |\n",
      "|    fps                  | 1338        |\n",
      "|    iterations           | 2           |\n",
      "|    time_elapsed         | 12          |\n",
      "|    total_timesteps      | 237568      |\n",
      "| train/                  |             |\n",
      "|    approx_kl            | 0.018201925 |\n",
      "|    clip_fraction        | 0.184       |\n",
      "|    clip_range           | 0.2         |\n",
      "|    entropy_loss         | -1.37       |\n",
      "|    explained_variance   | 0.551       |\n",
      "|    learning_rate        | 0.0003      |\n",
      "|    loss                 | 38.2        |\n",
      "|    n_updates            | 370         |\n",
      "|    policy_gradient_loss | -0.0203     |\n",
      "|    value_loss           | 105         |\n",
      "-----------------------------------------\n",
      "---------------------------------------\n",
      "| time/                   |           |\n",
      "|    fps                  | 1146      |\n",
      "|    iterations           | 3         |\n",
      "|    time_elapsed         | 21        |\n",
      "|    total_timesteps      | 245760    |\n",
      "| train/                  |           |\n",
      "|    approx_kl            | 0.0171159 |\n",
      "|    clip_fraction        | 0.174     |\n",
      "|    clip_range           | 0.2       |\n",
      "|    entropy_loss         | -1.33     |\n",
      "|    explained_variance   | 0.457     |\n",
      "|    learning_rate        | 0.0003    |\n",
      "|    loss                 | 47.8      |\n",
      "|    n_updates            | 380       |\n",
      "|    policy_gradient_loss | -0.0179   |\n",
      "|    value_loss           | 119       |\n",
      "---------------------------------------\n"
     ]
    },
    {
     "name": "stdout",
     "output_type": "stream",
     "text": [
      "Model iteratie: 9\n",
      "-------------------------------\n",
      "| time/              |        |\n",
      "|    fps             | 2795   |\n",
      "|    iterations      | 1      |\n",
      "|    time_elapsed    | 2      |\n",
      "|    total_timesteps | 253952 |\n",
      "-------------------------------\n",
      "-----------------------------------------\n",
      "| time/                   |             |\n",
      "|    fps                  | 1335        |\n",
      "|    iterations           | 2           |\n",
      "|    time_elapsed         | 12          |\n",
      "|    total_timesteps      | 262144      |\n",
      "| train/                  |             |\n",
      "|    approx_kl            | 0.016872678 |\n",
      "|    clip_fraction        | 0.169       |\n",
      "|    clip_range           | 0.2         |\n",
      "|    entropy_loss         | -1.2        |\n",
      "|    explained_variance   | 0.599       |\n",
      "|    learning_rate        | 0.0003      |\n",
      "|    loss                 | 42.4        |\n",
      "|    n_updates            | 410         |\n",
      "|    policy_gradient_loss | -0.0196     |\n",
      "|    value_loss           | 97          |\n",
      "-----------------------------------------\n",
      "-----------------------------------------\n",
      "| time/                   |             |\n",
      "|    fps                  | 1151        |\n",
      "|    iterations           | 3           |\n",
      "|    time_elapsed         | 21          |\n",
      "|    total_timesteps      | 270336      |\n",
      "| train/                  |             |\n",
      "|    approx_kl            | 0.017068915 |\n",
      "|    clip_fraction        | 0.172       |\n",
      "|    clip_range           | 0.2         |\n",
      "|    entropy_loss         | -1.14       |\n",
      "|    explained_variance   | 0.621       |\n",
      "|    learning_rate        | 0.0003      |\n",
      "|    loss                 | 23.1        |\n",
      "|    n_updates            | 420         |\n",
      "|    policy_gradient_loss | -0.0175     |\n",
      "|    value_loss           | 95.5        |\n",
      "-----------------------------------------\n",
      "Model iteratie: 10\n",
      "-------------------------------\n",
      "| time/              |        |\n",
      "|    fps             | 2858   |\n",
      "|    iterations      | 1      |\n",
      "|    time_elapsed    | 2      |\n",
      "|    total_timesteps | 278528 |\n",
      "-------------------------------\n",
      "----------------------------------------\n",
      "| time/                   |            |\n",
      "|    fps                  | 1366       |\n",
      "|    iterations           | 2          |\n",
      "|    time_elapsed         | 11         |\n",
      "|    total_timesteps      | 286720     |\n",
      "| train/                  |            |\n",
      "|    approx_kl            | 0.01765638 |\n",
      "|    clip_fraction        | 0.162      |\n",
      "|    clip_range           | 0.2        |\n",
      "|    entropy_loss         | -0.99      |\n",
      "|    explained_variance   | 0.692      |\n",
      "|    learning_rate        | 0.0003     |\n",
      "|    loss                 | 27.6       |\n",
      "|    n_updates            | 450        |\n",
      "|    policy_gradient_loss | -0.0181    |\n",
      "|    value_loss           | 88.1       |\n",
      "----------------------------------------\n",
      "-----------------------------------------\n",
      "| time/                   |             |\n",
      "|    fps                  | 1175        |\n",
      "|    iterations           | 3           |\n",
      "|    time_elapsed         | 20          |\n",
      "|    total_timesteps      | 294912      |\n",
      "| train/                  |             |\n",
      "|    approx_kl            | 0.020633519 |\n",
      "|    clip_fraction        | 0.162       |\n",
      "|    clip_range           | 0.2         |\n",
      "|    entropy_loss         | -1.01       |\n",
      "|    explained_variance   | 0.551       |\n",
      "|    learning_rate        | 0.0003      |\n",
      "|    loss                 | 38.8        |\n",
      "|    n_updates            | 460         |\n",
      "|    policy_gradient_loss | -0.0136     |\n",
      "|    value_loss           | 92.1        |\n",
      "-----------------------------------------\n",
      "Model iteratie: 11\n",
      "-------------------------------\n",
      "| time/              |        |\n",
      "|    fps             | 2755   |\n",
      "|    iterations      | 1      |\n",
      "|    time_elapsed    | 2      |\n",
      "|    total_timesteps | 303104 |\n",
      "-------------------------------\n",
      "-----------------------------------------\n",
      "| time/                   |             |\n",
      "|    fps                  | 1348        |\n",
      "|    iterations           | 2           |\n",
      "|    time_elapsed         | 12          |\n",
      "|    total_timesteps      | 311296      |\n",
      "| train/                  |             |\n",
      "|    approx_kl            | 0.014845839 |\n",
      "|    clip_fraction        | 0.16        |\n",
      "|    clip_range           | 0.2         |\n",
      "|    entropy_loss         | -0.854      |\n",
      "|    explained_variance   | 0.758       |\n",
      "|    learning_rate        | 0.0003      |\n",
      "|    loss                 | 40.7        |\n",
      "|    n_updates            | 490         |\n",
      "|    policy_gradient_loss | -0.0186     |\n",
      "|    value_loss           | 82          |\n",
      "-----------------------------------------\n",
      "-----------------------------------------\n",
      "| time/                   |             |\n",
      "|    fps                  | 1155        |\n",
      "|    iterations           | 3           |\n",
      "|    time_elapsed         | 21          |\n",
      "|    total_timesteps      | 319488      |\n",
      "| train/                  |             |\n",
      "|    approx_kl            | 0.016530784 |\n",
      "|    clip_fraction        | 0.164       |\n",
      "|    clip_range           | 0.2         |\n",
      "|    entropy_loss         | -0.837      |\n",
      "|    explained_variance   | 0.725       |\n",
      "|    learning_rate        | 0.0003      |\n",
      "|    loss                 | 38.4        |\n",
      "|    n_updates            | 500         |\n",
      "|    policy_gradient_loss | -0.0182     |\n",
      "|    value_loss           | 87          |\n",
      "-----------------------------------------\n",
      "Model iteratie: 12\n",
      "-------------------------------\n",
      "| time/              |        |\n",
      "|    fps             | 2847   |\n",
      "|    iterations      | 1      |\n",
      "|    time_elapsed    | 2      |\n",
      "|    total_timesteps | 327680 |\n",
      "-------------------------------\n",
      "-----------------------------------------\n",
      "| time/                   |             |\n",
      "|    fps                  | 1365        |\n",
      "|    iterations           | 2           |\n",
      "|    time_elapsed         | 12          |\n",
      "|    total_timesteps      | 335872      |\n",
      "| train/                  |             |\n",
      "|    approx_kl            | 0.015728643 |\n",
      "|    clip_fraction        | 0.131       |\n",
      "|    clip_range           | 0.2         |\n",
      "|    entropy_loss         | -0.691      |\n",
      "|    explained_variance   | 0.799       |\n",
      "|    learning_rate        | 0.0003      |\n",
      "|    loss                 | 24.4        |\n",
      "|    n_updates            | 530         |\n",
      "|    policy_gradient_loss | -0.0165     |\n",
      "|    value_loss           | 67.9        |\n",
      "-----------------------------------------\n",
      "-----------------------------------------\n",
      "| time/                   |             |\n",
      "|    fps                  | 1154        |\n",
      "|    iterations           | 3           |\n",
      "|    time_elapsed         | 21          |\n",
      "|    total_timesteps      | 344064      |\n",
      "| train/                  |             |\n",
      "|    approx_kl            | 0.015069179 |\n",
      "|    clip_fraction        | 0.134       |\n",
      "|    clip_range           | 0.2         |\n",
      "|    entropy_loss         | -0.674      |\n",
      "|    explained_variance   | 0.824       |\n",
      "|    learning_rate        | 0.0003      |\n",
      "|    loss                 | 16.8        |\n",
      "|    n_updates            | 540         |\n",
      "|    policy_gradient_loss | -0.0168     |\n",
      "|    value_loss           | 60.4        |\n",
      "-----------------------------------------\n",
      "Model iteratie: 13\n",
      "-------------------------------\n",
      "| time/              |        |\n",
      "|    fps             | 2793   |\n",
      "|    iterations      | 1      |\n",
      "|    time_elapsed    | 2      |\n",
      "|    total_timesteps | 352256 |\n",
      "-------------------------------\n",
      "-----------------------------------------\n",
      "| time/                   |             |\n",
      "|    fps                  | 1347        |\n",
      "|    iterations           | 2           |\n",
      "|    time_elapsed         | 12          |\n",
      "|    total_timesteps      | 360448      |\n",
      "| train/                  |             |\n",
      "|    approx_kl            | 0.015189206 |\n",
      "|    clip_fraction        | 0.136       |\n",
      "|    clip_range           | 0.2         |\n",
      "|    entropy_loss         | -0.621      |\n",
      "|    explained_variance   | 0.835       |\n",
      "|    learning_rate        | 0.0003      |\n",
      "|    loss                 | 23.9        |\n",
      "|    n_updates            | 570         |\n",
      "|    policy_gradient_loss | -0.0141     |\n",
      "|    value_loss           | 56.1        |\n",
      "-----------------------------------------\n",
      "-----------------------------------------\n",
      "| time/                   |             |\n",
      "|    fps                  | 1164        |\n",
      "|    iterations           | 3           |\n",
      "|    time_elapsed         | 21          |\n",
      "|    total_timesteps      | 368640      |\n",
      "| train/                  |             |\n",
      "|    approx_kl            | 0.018296089 |\n",
      "|    clip_fraction        | 0.133       |\n",
      "|    clip_range           | 0.2         |\n",
      "|    entropy_loss         | -0.623      |\n",
      "|    explained_variance   | 0.698       |\n",
      "|    learning_rate        | 0.0003      |\n",
      "|    loss                 | 24          |\n",
      "|    n_updates            | 580         |\n",
      "|    policy_gradient_loss | -0.00587    |\n",
      "|    value_loss           | 54.4        |\n",
      "-----------------------------------------\n"
     ]
    },
    {
     "name": "stdout",
     "output_type": "stream",
     "text": [
      "Model iteratie: 14\n",
      "-------------------------------\n",
      "| time/              |        |\n",
      "|    fps             | 2797   |\n",
      "|    iterations      | 1      |\n",
      "|    time_elapsed    | 2      |\n",
      "|    total_timesteps | 376832 |\n",
      "-------------------------------\n",
      "-----------------------------------------\n",
      "| time/                   |             |\n",
      "|    fps                  | 1368        |\n",
      "|    iterations           | 2           |\n",
      "|    time_elapsed         | 11          |\n",
      "|    total_timesteps      | 385024      |\n",
      "| train/                  |             |\n",
      "|    approx_kl            | 0.015789898 |\n",
      "|    clip_fraction        | 0.123       |\n",
      "|    clip_range           | 0.2         |\n",
      "|    entropy_loss         | -0.573      |\n",
      "|    explained_variance   | 0.798       |\n",
      "|    learning_rate        | 0.0003      |\n",
      "|    loss                 | 16.6        |\n",
      "|    n_updates            | 610         |\n",
      "|    policy_gradient_loss | -0.0139     |\n",
      "|    value_loss           | 59.9        |\n",
      "-----------------------------------------\n",
      "----------------------------------------\n",
      "| time/                   |            |\n",
      "|    fps                  | 1068       |\n",
      "|    iterations           | 3          |\n",
      "|    time_elapsed         | 23         |\n",
      "|    total_timesteps      | 393216     |\n",
      "| train/                  |            |\n",
      "|    approx_kl            | 0.01463209 |\n",
      "|    clip_fraction        | 0.121      |\n",
      "|    clip_range           | 0.2        |\n",
      "|    entropy_loss         | -0.536     |\n",
      "|    explained_variance   | 0.864      |\n",
      "|    learning_rate        | 0.0003     |\n",
      "|    loss                 | 33.9       |\n",
      "|    n_updates            | 620        |\n",
      "|    policy_gradient_loss | -0.0153    |\n",
      "|    value_loss           | 72.4       |\n",
      "----------------------------------------\n",
      "Model iteratie: 15\n",
      "-------------------------------\n",
      "| time/              |        |\n",
      "|    fps             | 2783   |\n",
      "|    iterations      | 1      |\n",
      "|    time_elapsed    | 2      |\n",
      "|    total_timesteps | 401408 |\n",
      "-------------------------------\n",
      "-----------------------------------------\n",
      "| time/                   |             |\n",
      "|    fps                  | 1342        |\n",
      "|    iterations           | 2           |\n",
      "|    time_elapsed         | 12          |\n",
      "|    total_timesteps      | 409600      |\n",
      "| train/                  |             |\n",
      "|    approx_kl            | 0.013794301 |\n",
      "|    clip_fraction        | 0.12        |\n",
      "|    clip_range           | 0.2         |\n",
      "|    entropy_loss         | -0.489      |\n",
      "|    explained_variance   | 0.871       |\n",
      "|    learning_rate        | 0.0003      |\n",
      "|    loss                 | 18.4        |\n",
      "|    n_updates            | 650         |\n",
      "|    policy_gradient_loss | -0.00954    |\n",
      "|    value_loss           | 40.7        |\n",
      "-----------------------------------------\n",
      "-----------------------------------------\n",
      "| time/                   |             |\n",
      "|    fps                  | 1140        |\n",
      "|    iterations           | 3           |\n",
      "|    time_elapsed         | 21          |\n",
      "|    total_timesteps      | 417792      |\n",
      "| train/                  |             |\n",
      "|    approx_kl            | 0.014246745 |\n",
      "|    clip_fraction        | 0.119       |\n",
      "|    clip_range           | 0.2         |\n",
      "|    entropy_loss         | -0.46       |\n",
      "|    explained_variance   | 0.901       |\n",
      "|    learning_rate        | 0.0003      |\n",
      "|    loss                 | 25.2        |\n",
      "|    n_updates            | 660         |\n",
      "|    policy_gradient_loss | -0.0139     |\n",
      "|    value_loss           | 41          |\n",
      "-----------------------------------------\n",
      "Model iteratie: 16\n",
      "-------------------------------\n",
      "| time/              |        |\n",
      "|    fps             | 2809   |\n",
      "|    iterations      | 1      |\n",
      "|    time_elapsed    | 2      |\n",
      "|    total_timesteps | 425984 |\n",
      "-------------------------------\n",
      "-----------------------------------------\n",
      "| time/                   |             |\n",
      "|    fps                  | 1348        |\n",
      "|    iterations           | 2           |\n",
      "|    time_elapsed         | 12          |\n",
      "|    total_timesteps      | 434176      |\n",
      "| train/                  |             |\n",
      "|    approx_kl            | 0.012510732 |\n",
      "|    clip_fraction        | 0.0992      |\n",
      "|    clip_range           | 0.2         |\n",
      "|    entropy_loss         | -0.472      |\n",
      "|    explained_variance   | 0.875       |\n",
      "|    learning_rate        | 0.0003      |\n",
      "|    loss                 | 12.2        |\n",
      "|    n_updates            | 690         |\n",
      "|    policy_gradient_loss | -0.00986    |\n",
      "|    value_loss           | 54.2        |\n",
      "-----------------------------------------\n",
      "-----------------------------------------\n",
      "| time/                   |             |\n",
      "|    fps                  | 1151        |\n",
      "|    iterations           | 3           |\n",
      "|    time_elapsed         | 21          |\n",
      "|    total_timesteps      | 442368      |\n",
      "| train/                  |             |\n",
      "|    approx_kl            | 0.021518735 |\n",
      "|    clip_fraction        | 0.126       |\n",
      "|    clip_range           | 0.2         |\n",
      "|    entropy_loss         | -0.425      |\n",
      "|    explained_variance   | 0.903       |\n",
      "|    learning_rate        | 0.0003      |\n",
      "|    loss                 | 22.9        |\n",
      "|    n_updates            | 700         |\n",
      "|    policy_gradient_loss | -0.0147     |\n",
      "|    value_loss           | 41.4        |\n",
      "-----------------------------------------\n",
      "Model iteratie: 17\n",
      "-------------------------------\n",
      "| time/              |        |\n",
      "|    fps             | 2803   |\n",
      "|    iterations      | 1      |\n",
      "|    time_elapsed    | 2      |\n",
      "|    total_timesteps | 450560 |\n",
      "-------------------------------\n",
      "------------------------------------------\n",
      "| time/                   |              |\n",
      "|    fps                  | 1342         |\n",
      "|    iterations           | 2            |\n",
      "|    time_elapsed         | 12           |\n",
      "|    total_timesteps      | 458752       |\n",
      "| train/                  |              |\n",
      "|    approx_kl            | 0.0132773165 |\n",
      "|    clip_fraction        | 0.11         |\n",
      "|    clip_range           | 0.2          |\n",
      "|    entropy_loss         | -0.383       |\n",
      "|    explained_variance   | 0.941        |\n",
      "|    learning_rate        | 0.0003       |\n",
      "|    loss                 | 13.4         |\n",
      "|    n_updates            | 730          |\n",
      "|    policy_gradient_loss | -0.00956     |\n",
      "|    value_loss           | 23.1         |\n",
      "------------------------------------------\n",
      "------------------------------------------\n",
      "| time/                   |              |\n",
      "|    fps                  | 1130         |\n",
      "|    iterations           | 3            |\n",
      "|    time_elapsed         | 21           |\n",
      "|    total_timesteps      | 466944       |\n",
      "| train/                  |              |\n",
      "|    approx_kl            | 0.0138045745 |\n",
      "|    clip_fraction        | 0.115        |\n",
      "|    clip_range           | 0.2          |\n",
      "|    entropy_loss         | -0.397       |\n",
      "|    explained_variance   | 0.929        |\n",
      "|    learning_rate        | 0.0003       |\n",
      "|    loss                 | 15.1         |\n",
      "|    n_updates            | 740          |\n",
      "|    policy_gradient_loss | -0.0138      |\n",
      "|    value_loss           | 29.1         |\n",
      "------------------------------------------\n",
      "Model iteratie: 18\n",
      "-------------------------------\n",
      "| time/              |        |\n",
      "|    fps             | 2755   |\n",
      "|    iterations      | 1      |\n",
      "|    time_elapsed    | 2      |\n",
      "|    total_timesteps | 475136 |\n",
      "-------------------------------\n",
      "-----------------------------------------\n",
      "| time/                   |             |\n",
      "|    fps                  | 1307        |\n",
      "|    iterations           | 2           |\n",
      "|    time_elapsed         | 12          |\n",
      "|    total_timesteps      | 483328      |\n",
      "| train/                  |             |\n",
      "|    approx_kl            | 0.014066778 |\n",
      "|    clip_fraction        | 0.113       |\n",
      "|    clip_range           | 0.2         |\n",
      "|    entropy_loss         | -0.392      |\n",
      "|    explained_variance   | 0.925       |\n",
      "|    learning_rate        | 0.0003      |\n",
      "|    loss                 | 8.29        |\n",
      "|    n_updates            | 770         |\n",
      "|    policy_gradient_loss | -0.0139     |\n",
      "|    value_loss           | 34.7        |\n",
      "-----------------------------------------\n",
      "-----------------------------------------\n",
      "| time/                   |             |\n",
      "|    fps                  | 1111        |\n",
      "|    iterations           | 3           |\n",
      "|    time_elapsed         | 22          |\n",
      "|    total_timesteps      | 491520      |\n",
      "| train/                  |             |\n",
      "|    approx_kl            | 0.016952557 |\n",
      "|    clip_fraction        | 0.122       |\n",
      "|    clip_range           | 0.2         |\n",
      "|    entropy_loss         | -0.364      |\n",
      "|    explained_variance   | 0.955       |\n",
      "|    learning_rate        | 0.0003      |\n",
      "|    loss                 | 9.18        |\n",
      "|    n_updates            | 780         |\n",
      "|    policy_gradient_loss | -0.0111     |\n",
      "|    value_loss           | 21.1        |\n",
      "-----------------------------------------\n"
     ]
    },
    {
     "name": "stdout",
     "output_type": "stream",
     "text": [
      "Model iteratie: 19\n",
      "-------------------------------\n",
      "| time/              |        |\n",
      "|    fps             | 2786   |\n",
      "|    iterations      | 1      |\n",
      "|    time_elapsed    | 2      |\n",
      "|    total_timesteps | 499712 |\n",
      "-------------------------------\n",
      "-----------------------------------------\n",
      "| time/                   |             |\n",
      "|    fps                  | 1308        |\n",
      "|    iterations           | 2           |\n",
      "|    time_elapsed         | 12          |\n",
      "|    total_timesteps      | 507904      |\n",
      "| train/                  |             |\n",
      "|    approx_kl            | 0.017268904 |\n",
      "|    clip_fraction        | 0.112       |\n",
      "|    clip_range           | 0.2         |\n",
      "|    entropy_loss         | -0.359      |\n",
      "|    explained_variance   | 0.926       |\n",
      "|    learning_rate        | 0.0003      |\n",
      "|    loss                 | 8.07        |\n",
      "|    n_updates            | 810         |\n",
      "|    policy_gradient_loss | -0.0143     |\n",
      "|    value_loss           | 23.9        |\n",
      "-----------------------------------------\n",
      "-----------------------------------------\n",
      "| time/                   |             |\n",
      "|    fps                  | 1106        |\n",
      "|    iterations           | 3           |\n",
      "|    time_elapsed         | 22          |\n",
      "|    total_timesteps      | 516096      |\n",
      "| train/                  |             |\n",
      "|    approx_kl            | 0.012913893 |\n",
      "|    clip_fraction        | 0.103       |\n",
      "|    clip_range           | 0.2         |\n",
      "|    entropy_loss         | -0.36       |\n",
      "|    explained_variance   | 0.934       |\n",
      "|    learning_rate        | 0.0003      |\n",
      "|    loss                 | 12          |\n",
      "|    n_updates            | 820         |\n",
      "|    policy_gradient_loss | -0.00864    |\n",
      "|    value_loss           | 33.4        |\n",
      "-----------------------------------------\n",
      "Model iteratie: 20\n",
      "-------------------------------\n",
      "| time/              |        |\n",
      "|    fps             | 2790   |\n",
      "|    iterations      | 1      |\n",
      "|    time_elapsed    | 2      |\n",
      "|    total_timesteps | 524288 |\n",
      "-------------------------------\n",
      "-----------------------------------------\n",
      "| time/                   |             |\n",
      "|    fps                  | 1296        |\n",
      "|    iterations           | 2           |\n",
      "|    time_elapsed         | 12          |\n",
      "|    total_timesteps      | 532480      |\n",
      "| train/                  |             |\n",
      "|    approx_kl            | 0.014800658 |\n",
      "|    clip_fraction        | 0.102       |\n",
      "|    clip_range           | 0.2         |\n",
      "|    entropy_loss         | -0.328      |\n",
      "|    explained_variance   | 0.959       |\n",
      "|    learning_rate        | 0.0003      |\n",
      "|    loss                 | 7.72        |\n",
      "|    n_updates            | 850         |\n",
      "|    policy_gradient_loss | -0.0102     |\n",
      "|    value_loss           | 16          |\n",
      "-----------------------------------------\n",
      "-----------------------------------------\n",
      "| time/                   |             |\n",
      "|    fps                  | 1103        |\n",
      "|    iterations           | 3           |\n",
      "|    time_elapsed         | 22          |\n",
      "|    total_timesteps      | 540672      |\n",
      "| train/                  |             |\n",
      "|    approx_kl            | 0.015762608 |\n",
      "|    clip_fraction        | 0.106       |\n",
      "|    clip_range           | 0.2         |\n",
      "|    entropy_loss         | -0.319      |\n",
      "|    explained_variance   | 0.962       |\n",
      "|    learning_rate        | 0.0003      |\n",
      "|    loss                 | 18.4        |\n",
      "|    n_updates            | 860         |\n",
      "|    policy_gradient_loss | -0.0116     |\n",
      "|    value_loss           | 19.6        |\n",
      "-----------------------------------------\n",
      "Model iteratie: 21\n",
      "-------------------------------\n",
      "| time/              |        |\n",
      "|    fps             | 2780   |\n",
      "|    iterations      | 1      |\n",
      "|    time_elapsed    | 2      |\n",
      "|    total_timesteps | 548864 |\n",
      "-------------------------------\n",
      "-----------------------------------------\n",
      "| time/                   |             |\n",
      "|    fps                  | 1306        |\n",
      "|    iterations           | 2           |\n",
      "|    time_elapsed         | 12          |\n",
      "|    total_timesteps      | 557056      |\n",
      "| train/                  |             |\n",
      "|    approx_kl            | 0.014395738 |\n",
      "|    clip_fraction        | 0.115       |\n",
      "|    clip_range           | 0.2         |\n",
      "|    entropy_loss         | -0.335      |\n",
      "|    explained_variance   | 0.9         |\n",
      "|    learning_rate        | 0.0003      |\n",
      "|    loss                 | 9.06        |\n",
      "|    n_updates            | 890         |\n",
      "|    policy_gradient_loss | -0.00202    |\n",
      "|    value_loss           | 35.7        |\n",
      "-----------------------------------------\n",
      "----------------------------------------\n",
      "| time/                   |            |\n",
      "|    fps                  | 1106       |\n",
      "|    iterations           | 3          |\n",
      "|    time_elapsed         | 22         |\n",
      "|    total_timesteps      | 565248     |\n",
      "| train/                  |            |\n",
      "|    approx_kl            | 0.01613328 |\n",
      "|    clip_fraction        | 0.104      |\n",
      "|    clip_range           | 0.2        |\n",
      "|    entropy_loss         | -0.336     |\n",
      "|    explained_variance   | 0.924      |\n",
      "|    learning_rate        | 0.0003     |\n",
      "|    loss                 | 16.8       |\n",
      "|    n_updates            | 900        |\n",
      "|    policy_gradient_loss | -0.0118    |\n",
      "|    value_loss           | 31.4       |\n",
      "----------------------------------------\n",
      "Model iteratie: 22\n",
      "-------------------------------\n",
      "| time/              |        |\n",
      "|    fps             | 2394   |\n",
      "|    iterations      | 1      |\n",
      "|    time_elapsed    | 3      |\n",
      "|    total_timesteps | 573440 |\n",
      "-------------------------------\n",
      "------------------------------------------\n",
      "| time/                   |              |\n",
      "|    fps                  | 1135         |\n",
      "|    iterations           | 2            |\n",
      "|    time_elapsed         | 14           |\n",
      "|    total_timesteps      | 581632       |\n",
      "| train/                  |              |\n",
      "|    approx_kl            | 0.0123916725 |\n",
      "|    clip_fraction        | 0.0946       |\n",
      "|    clip_range           | 0.2          |\n",
      "|    entropy_loss         | -0.347       |\n",
      "|    explained_variance   | 0.904        |\n",
      "|    learning_rate        | 0.0003       |\n",
      "|    loss                 | 38.6         |\n",
      "|    n_updates            | 930          |\n",
      "|    policy_gradient_loss | -0.00512     |\n",
      "|    value_loss           | 37.4         |\n",
      "------------------------------------------\n",
      "-----------------------------------------\n",
      "| time/                   |             |\n",
      "|    fps                  | 969         |\n",
      "|    iterations           | 3           |\n",
      "|    time_elapsed         | 25          |\n",
      "|    total_timesteps      | 589824      |\n",
      "| train/                  |             |\n",
      "|    approx_kl            | 0.012302941 |\n",
      "|    clip_fraction        | 0.0782      |\n",
      "|    clip_range           | 0.2         |\n",
      "|    entropy_loss         | -0.395      |\n",
      "|    explained_variance   | 0.901       |\n",
      "|    learning_rate        | 0.0003      |\n",
      "|    loss                 | 21.1        |\n",
      "|    n_updates            | 940         |\n",
      "|    policy_gradient_loss | -0.00558    |\n",
      "|    value_loss           | 92.6        |\n",
      "-----------------------------------------\n",
      "Model iteratie: 23\n",
      "-------------------------------\n",
      "| time/              |        |\n",
      "|    fps             | 2349   |\n",
      "|    iterations      | 1      |\n",
      "|    time_elapsed    | 3      |\n",
      "|    total_timesteps | 598016 |\n",
      "-------------------------------\n",
      "-----------------------------------------\n",
      "| time/                   |             |\n",
      "|    fps                  | 1148        |\n",
      "|    iterations           | 2           |\n",
      "|    time_elapsed         | 14          |\n",
      "|    total_timesteps      | 606208      |\n",
      "| train/                  |             |\n",
      "|    approx_kl            | 0.012952026 |\n",
      "|    clip_fraction        | 0.0959      |\n",
      "|    clip_range           | 0.2         |\n",
      "|    entropy_loss         | -0.377      |\n",
      "|    explained_variance   | 0.871       |\n",
      "|    learning_rate        | 0.0003      |\n",
      "|    loss                 | 36.1        |\n",
      "|    n_updates            | 970         |\n",
      "|    policy_gradient_loss | -0.00603    |\n",
      "|    value_loss           | 52.1        |\n",
      "-----------------------------------------\n",
      "-----------------------------------------\n",
      "| time/                   |             |\n",
      "|    fps                  | 1055        |\n",
      "|    iterations           | 3           |\n",
      "|    time_elapsed         | 23          |\n",
      "|    total_timesteps      | 614400      |\n",
      "| train/                  |             |\n",
      "|    approx_kl            | 0.023549564 |\n",
      "|    clip_fraction        | 0.119       |\n",
      "|    clip_range           | 0.2         |\n",
      "|    entropy_loss         | -0.345      |\n",
      "|    explained_variance   | 0.889       |\n",
      "|    learning_rate        | 0.0003      |\n",
      "|    loss                 | 14.3        |\n",
      "|    n_updates            | 980         |\n",
      "|    policy_gradient_loss | -0.0233     |\n",
      "|    value_loss           | 64.7        |\n",
      "-----------------------------------------\n"
     ]
    },
    {
     "name": "stdout",
     "output_type": "stream",
     "text": [
      "Model iteratie: 24\n",
      "-------------------------------\n",
      "| time/              |        |\n",
      "|    fps             | 2809   |\n",
      "|    iterations      | 1      |\n",
      "|    time_elapsed    | 2      |\n",
      "|    total_timesteps | 622592 |\n",
      "-------------------------------\n",
      "----------------------------------------\n",
      "| time/                   |            |\n",
      "|    fps                  | 1349       |\n",
      "|    iterations           | 2          |\n",
      "|    time_elapsed         | 12         |\n",
      "|    total_timesteps      | 630784     |\n",
      "| train/                  |            |\n",
      "|    approx_kl            | 0.27159998 |\n",
      "|    clip_fraction        | 0.142      |\n",
      "|    clip_range           | 0.2        |\n",
      "|    entropy_loss         | -0.247     |\n",
      "|    explained_variance   | 0.906      |\n",
      "|    learning_rate        | 0.0003     |\n",
      "|    loss                 | 7.53       |\n",
      "|    n_updates            | 1010       |\n",
      "|    policy_gradient_loss | -0.022     |\n",
      "|    value_loss           | 23.2       |\n",
      "----------------------------------------\n",
      "-----------------------------------------\n",
      "| time/                   |             |\n",
      "|    fps                  | 1142        |\n",
      "|    iterations           | 3           |\n",
      "|    time_elapsed         | 21          |\n",
      "|    total_timesteps      | 638976      |\n",
      "| train/                  |             |\n",
      "|    approx_kl            | 0.017306581 |\n",
      "|    clip_fraction        | 0.109       |\n",
      "|    clip_range           | 0.2         |\n",
      "|    entropy_loss         | -0.254      |\n",
      "|    explained_variance   | 0.959       |\n",
      "|    learning_rate        | 0.0003      |\n",
      "|    loss                 | 8.57        |\n",
      "|    n_updates            | 1020        |\n",
      "|    policy_gradient_loss | -0.0107     |\n",
      "|    value_loss           | 17.7        |\n",
      "-----------------------------------------\n",
      "Model iteratie: 25\n",
      "-------------------------------\n",
      "| time/              |        |\n",
      "|    fps             | 2718   |\n",
      "|    iterations      | 1      |\n",
      "|    time_elapsed    | 3      |\n",
      "|    total_timesteps | 647168 |\n",
      "-------------------------------\n",
      "----------------------------------------\n",
      "| time/                   |            |\n",
      "|    fps                  | 1340       |\n",
      "|    iterations           | 2          |\n",
      "|    time_elapsed         | 12         |\n",
      "|    total_timesteps      | 655360     |\n",
      "| train/                  |            |\n",
      "|    approx_kl            | 0.01587691 |\n",
      "|    clip_fraction        | 0.0983     |\n",
      "|    clip_range           | 0.2        |\n",
      "|    entropy_loss         | -0.236     |\n",
      "|    explained_variance   | 0.974      |\n",
      "|    learning_rate        | 0.0003     |\n",
      "|    loss                 | 3.14       |\n",
      "|    n_updates            | 1050       |\n",
      "|    policy_gradient_loss | -0.0091    |\n",
      "|    value_loss           | 11.3       |\n",
      "----------------------------------------\n",
      "----------------------------------------\n",
      "| time/                   |            |\n",
      "|    fps                  | 1145       |\n",
      "|    iterations           | 3          |\n",
      "|    time_elapsed         | 21         |\n",
      "|    total_timesteps      | 663552     |\n",
      "| train/                  |            |\n",
      "|    approx_kl            | 0.01393453 |\n",
      "|    clip_fraction        | 0.0882     |\n",
      "|    clip_range           | 0.2        |\n",
      "|    entropy_loss         | -0.243     |\n",
      "|    explained_variance   | 0.951      |\n",
      "|    learning_rate        | 0.0003     |\n",
      "|    loss                 | 6.07       |\n",
      "|    n_updates            | 1060       |\n",
      "|    policy_gradient_loss | -0.0103    |\n",
      "|    value_loss           | 18.7       |\n",
      "----------------------------------------\n",
      "Model iteratie: 26\n",
      "-------------------------------\n",
      "| time/              |        |\n",
      "|    fps             | 2660   |\n",
      "|    iterations      | 1      |\n",
      "|    time_elapsed    | 3      |\n",
      "|    total_timesteps | 671744 |\n",
      "-------------------------------\n",
      "-----------------------------------------\n",
      "| time/                   |             |\n",
      "|    fps                  | 1144        |\n",
      "|    iterations           | 2           |\n",
      "|    time_elapsed         | 14          |\n",
      "|    total_timesteps      | 679936      |\n",
      "| train/                  |             |\n",
      "|    approx_kl            | 0.017633097 |\n",
      "|    clip_fraction        | 0.102       |\n",
      "|    clip_range           | 0.2         |\n",
      "|    entropy_loss         | -0.23       |\n",
      "|    explained_variance   | 0.97        |\n",
      "|    learning_rate        | 0.0003      |\n",
      "|    loss                 | 5.76        |\n",
      "|    n_updates            | 1090        |\n",
      "|    policy_gradient_loss | -0.00843    |\n",
      "|    value_loss           | 13.5        |\n",
      "-----------------------------------------\n",
      "-----------------------------------------\n",
      "| time/                   |             |\n",
      "|    fps                  | 1009        |\n",
      "|    iterations           | 3           |\n",
      "|    time_elapsed         | 24          |\n",
      "|    total_timesteps      | 688128      |\n",
      "| train/                  |             |\n",
      "|    approx_kl            | 0.014775371 |\n",
      "|    clip_fraction        | 0.0823      |\n",
      "|    clip_range           | 0.2         |\n",
      "|    entropy_loss         | -0.232      |\n",
      "|    explained_variance   | 0.967       |\n",
      "|    learning_rate        | 0.0003      |\n",
      "|    loss                 | 4.87        |\n",
      "|    n_updates            | 1100        |\n",
      "|    policy_gradient_loss | -0.01       |\n",
      "|    value_loss           | 16.3        |\n",
      "-----------------------------------------\n",
      "Model iteratie: 27\n",
      "-------------------------------\n",
      "| time/              |        |\n",
      "|    fps             | 2790   |\n",
      "|    iterations      | 1      |\n",
      "|    time_elapsed    | 2      |\n",
      "|    total_timesteps | 696320 |\n",
      "-------------------------------\n",
      "----------------------------------------\n",
      "| time/                   |            |\n",
      "|    fps                  | 1326       |\n",
      "|    iterations           | 2          |\n",
      "|    time_elapsed         | 12         |\n",
      "|    total_timesteps      | 704512     |\n",
      "| train/                  |            |\n",
      "|    approx_kl            | 0.01313673 |\n",
      "|    clip_fraction        | 0.0847     |\n",
      "|    clip_range           | 0.2        |\n",
      "|    entropy_loss         | -0.262     |\n",
      "|    explained_variance   | 0.932      |\n",
      "|    learning_rate        | 0.0003     |\n",
      "|    loss                 | 11.7       |\n",
      "|    n_updates            | 1130       |\n",
      "|    policy_gradient_loss | -0.00611   |\n",
      "|    value_loss           | 37.2       |\n",
      "----------------------------------------\n",
      "-----------------------------------------\n",
      "| time/                   |             |\n",
      "|    fps                  | 1038        |\n",
      "|    iterations           | 3           |\n",
      "|    time_elapsed         | 23          |\n",
      "|    total_timesteps      | 712704      |\n",
      "| train/                  |             |\n",
      "|    approx_kl            | 0.010557561 |\n",
      "|    clip_fraction        | 0.0836      |\n",
      "|    clip_range           | 0.2         |\n",
      "|    entropy_loss         | -0.244      |\n",
      "|    explained_variance   | 0.916       |\n",
      "|    learning_rate        | 0.0003      |\n",
      "|    loss                 | 3.43        |\n",
      "|    n_updates            | 1140        |\n",
      "|    policy_gradient_loss | -0.00415    |\n",
      "|    value_loss           | 25.7        |\n",
      "-----------------------------------------\n",
      "Model iteratie: 28\n",
      "-------------------------------\n",
      "| time/              |        |\n",
      "|    fps             | 2553   |\n",
      "|    iterations      | 1      |\n",
      "|    time_elapsed    | 3      |\n",
      "|    total_timesteps | 720896 |\n",
      "-------------------------------\n",
      "-----------------------------------------\n",
      "| time/                   |             |\n",
      "|    fps                  | 1265        |\n",
      "|    iterations           | 2           |\n",
      "|    time_elapsed         | 12          |\n",
      "|    total_timesteps      | 729088      |\n",
      "| train/                  |             |\n",
      "|    approx_kl            | 0.057201754 |\n",
      "|    clip_fraction        | 0.137       |\n",
      "|    clip_range           | 0.2         |\n",
      "|    entropy_loss         | -0.282      |\n",
      "|    explained_variance   | 0.823       |\n",
      "|    learning_rate        | 0.0003      |\n",
      "|    loss                 | 9.21        |\n",
      "|    n_updates            | 1170        |\n",
      "|    policy_gradient_loss | -0.0311     |\n",
      "|    value_loss           | 21.5        |\n",
      "-----------------------------------------\n",
      "-----------------------------------------\n",
      "| time/                   |             |\n",
      "|    fps                  | 1055        |\n",
      "|    iterations           | 3           |\n",
      "|    time_elapsed         | 23          |\n",
      "|    total_timesteps      | 737280      |\n",
      "| train/                  |             |\n",
      "|    approx_kl            | 0.014542835 |\n",
      "|    clip_fraction        | 0.0951      |\n",
      "|    clip_range           | 0.2         |\n",
      "|    entropy_loss         | -0.222      |\n",
      "|    explained_variance   | 0.969       |\n",
      "|    learning_rate        | 0.0003      |\n",
      "|    loss                 | 9.06        |\n",
      "|    n_updates            | 1180        |\n",
      "|    policy_gradient_loss | -0.0101     |\n",
      "|    value_loss           | 16.1        |\n",
      "-----------------------------------------\n"
     ]
    },
    {
     "name": "stdout",
     "output_type": "stream",
     "text": [
      "Model iteratie: 29\n",
      "-------------------------------\n",
      "| time/              |        |\n",
      "|    fps             | 2813   |\n",
      "|    iterations      | 1      |\n",
      "|    time_elapsed    | 2      |\n",
      "|    total_timesteps | 745472 |\n",
      "-------------------------------\n",
      "-----------------------------------------\n",
      "| time/                   |             |\n",
      "|    fps                  | 1236        |\n",
      "|    iterations           | 2           |\n",
      "|    time_elapsed         | 13          |\n",
      "|    total_timesteps      | 753664      |\n",
      "| train/                  |             |\n",
      "|    approx_kl            | 0.019201618 |\n",
      "|    clip_fraction        | 0.13        |\n",
      "|    clip_range           | 0.2         |\n",
      "|    entropy_loss         | -0.295      |\n",
      "|    explained_variance   | 0.82        |\n",
      "|    learning_rate        | 0.0003      |\n",
      "|    loss                 | 6           |\n",
      "|    n_updates            | 1210        |\n",
      "|    policy_gradient_loss | -0.0402     |\n",
      "|    value_loss           | 17.3        |\n",
      "-----------------------------------------\n",
      "-----------------------------------------\n",
      "| time/                   |             |\n",
      "|    fps                  | 1109        |\n",
      "|    iterations           | 3           |\n",
      "|    time_elapsed         | 22          |\n",
      "|    total_timesteps      | 761856      |\n",
      "| train/                  |             |\n",
      "|    approx_kl            | 0.020351611 |\n",
      "|    clip_fraction        | 0.11        |\n",
      "|    clip_range           | 0.2         |\n",
      "|    entropy_loss         | -0.41       |\n",
      "|    explained_variance   | 0.85        |\n",
      "|    learning_rate        | 0.0003      |\n",
      "|    loss                 | 3.77        |\n",
      "|    n_updates            | 1220        |\n",
      "|    policy_gradient_loss | -0.0124     |\n",
      "|    value_loss           | 22.3        |\n",
      "-----------------------------------------\n",
      "Model iteratie: 30\n",
      "-------------------------------\n",
      "| time/              |        |\n",
      "|    fps             | 2312   |\n",
      "|    iterations      | 1      |\n",
      "|    time_elapsed    | 3      |\n",
      "|    total_timesteps | 770048 |\n",
      "-------------------------------\n",
      "-----------------------------------------\n",
      "| time/                   |             |\n",
      "|    fps                  | 1096        |\n",
      "|    iterations           | 2           |\n",
      "|    time_elapsed         | 14          |\n",
      "|    total_timesteps      | 778240      |\n",
      "| train/                  |             |\n",
      "|    approx_kl            | 0.014545729 |\n",
      "|    clip_fraction        | 0.0763      |\n",
      "|    clip_range           | 0.2         |\n",
      "|    entropy_loss         | -0.175      |\n",
      "|    explained_variance   | 0.966       |\n",
      "|    learning_rate        | 0.0003      |\n",
      "|    loss                 | 5.01        |\n",
      "|    n_updates            | 1250        |\n",
      "|    policy_gradient_loss | -0.0075     |\n",
      "|    value_loss           | 16.6        |\n",
      "-----------------------------------------\n",
      "---------------------------------------\n",
      "| time/                   |           |\n",
      "|    fps                  | 947       |\n",
      "|    iterations           | 3         |\n",
      "|    time_elapsed         | 25        |\n",
      "|    total_timesteps      | 786432    |\n",
      "| train/                  |           |\n",
      "|    approx_kl            | 0.8079747 |\n",
      "|    clip_fraction        | 0.149     |\n",
      "|    clip_range           | 0.2       |\n",
      "|    entropy_loss         | -0.168    |\n",
      "|    explained_variance   | 0.813     |\n",
      "|    learning_rate        | 0.0003    |\n",
      "|    loss                 | 7.05      |\n",
      "|    n_updates            | 1260      |\n",
      "|    policy_gradient_loss | -0.0476   |\n",
      "|    value_loss           | 19.4      |\n",
      "---------------------------------------\n",
      "Model iteratie: 31\n",
      "-------------------------------\n",
      "| time/              |        |\n",
      "|    fps             | 2802   |\n",
      "|    iterations      | 1      |\n",
      "|    time_elapsed    | 2      |\n",
      "|    total_timesteps | 794624 |\n",
      "-------------------------------\n",
      "-----------------------------------------\n",
      "| time/                   |             |\n",
      "|    fps                  | 1327        |\n",
      "|    iterations           | 2           |\n",
      "|    time_elapsed         | 12          |\n",
      "|    total_timesteps      | 802816      |\n",
      "| train/                  |             |\n",
      "|    approx_kl            | 0.018620836 |\n",
      "|    clip_fraction        | 0.0861      |\n",
      "|    clip_range           | 0.2         |\n",
      "|    entropy_loss         | -0.175      |\n",
      "|    explained_variance   | 0.975       |\n",
      "|    learning_rate        | 0.0003      |\n",
      "|    loss                 | 6.54        |\n",
      "|    n_updates            | 1290        |\n",
      "|    policy_gradient_loss | -0.0108     |\n",
      "|    value_loss           | 11.5        |\n",
      "-----------------------------------------\n",
      "-----------------------------------------\n",
      "| time/                   |             |\n",
      "|    fps                  | 1127        |\n",
      "|    iterations           | 3           |\n",
      "|    time_elapsed         | 21          |\n",
      "|    total_timesteps      | 811008      |\n",
      "| train/                  |             |\n",
      "|    approx_kl            | 0.014628284 |\n",
      "|    clip_fraction        | 0.0811      |\n",
      "|    clip_range           | 0.2         |\n",
      "|    entropy_loss         | -0.188      |\n",
      "|    explained_variance   | 0.963       |\n",
      "|    learning_rate        | 0.0003      |\n",
      "|    loss                 | 5.12        |\n",
      "|    n_updates            | 1300        |\n",
      "|    policy_gradient_loss | -0.0112     |\n",
      "|    value_loss           | 17.3        |\n",
      "-----------------------------------------\n",
      "Model iteratie: 32\n",
      "-------------------------------\n",
      "| time/              |        |\n",
      "|    fps             | 2721   |\n",
      "|    iterations      | 1      |\n",
      "|    time_elapsed    | 3      |\n",
      "|    total_timesteps | 819200 |\n",
      "-------------------------------\n",
      "-----------------------------------------\n",
      "| time/                   |             |\n",
      "|    fps                  | 1333        |\n",
      "|    iterations           | 2           |\n",
      "|    time_elapsed         | 12          |\n",
      "|    total_timesteps      | 827392      |\n",
      "| train/                  |             |\n",
      "|    approx_kl            | 0.016493227 |\n",
      "|    clip_fraction        | 0.0892      |\n",
      "|    clip_range           | 0.2         |\n",
      "|    entropy_loss         | -0.189      |\n",
      "|    explained_variance   | 0.963       |\n",
      "|    learning_rate        | 0.0003      |\n",
      "|    loss                 | 7.59        |\n",
      "|    n_updates            | 1330        |\n",
      "|    policy_gradient_loss | -0.0101     |\n",
      "|    value_loss           | 16.1        |\n",
      "-----------------------------------------\n",
      "-----------------------------------------\n",
      "| time/                   |             |\n",
      "|    fps                  | 1156        |\n",
      "|    iterations           | 3           |\n",
      "|    time_elapsed         | 21          |\n",
      "|    total_timesteps      | 835584      |\n",
      "| train/                  |             |\n",
      "|    approx_kl            | 0.008786071 |\n",
      "|    clip_fraction        | 0.0539      |\n",
      "|    clip_range           | 0.2         |\n",
      "|    entropy_loss         | -0.171      |\n",
      "|    explained_variance   | 0.833       |\n",
      "|    learning_rate        | 0.0003      |\n",
      "|    loss                 | 15.7        |\n",
      "|    n_updates            | 1340        |\n",
      "|    policy_gradient_loss | 0.00854     |\n",
      "|    value_loss           | 24.9        |\n",
      "-----------------------------------------\n",
      "Model iteratie: 33\n",
      "-------------------------------\n",
      "| time/              |        |\n",
      "|    fps             | 2809   |\n",
      "|    iterations      | 1      |\n",
      "|    time_elapsed    | 2      |\n",
      "|    total_timesteps | 843776 |\n",
      "-------------------------------\n",
      "-----------------------------------------\n",
      "| time/                   |             |\n",
      "|    fps                  | 1341        |\n",
      "|    iterations           | 2           |\n",
      "|    time_elapsed         | 12          |\n",
      "|    total_timesteps      | 851968      |\n",
      "| train/                  |             |\n",
      "|    approx_kl            | 0.016065545 |\n",
      "|    clip_fraction        | 0.0855      |\n",
      "|    clip_range           | 0.2         |\n",
      "|    entropy_loss         | -0.178      |\n",
      "|    explained_variance   | 0.971       |\n",
      "|    learning_rate        | 0.0003      |\n",
      "|    loss                 | 8.91        |\n",
      "|    n_updates            | 1370        |\n",
      "|    policy_gradient_loss | -0.00995    |\n",
      "|    value_loss           | 13.2        |\n",
      "-----------------------------------------\n",
      "-----------------------------------------\n",
      "| time/                   |             |\n",
      "|    fps                  | 1137        |\n",
      "|    iterations           | 3           |\n",
      "|    time_elapsed         | 21          |\n",
      "|    total_timesteps      | 860160      |\n",
      "| train/                  |             |\n",
      "|    approx_kl            | 0.015380714 |\n",
      "|    clip_fraction        | 0.0784      |\n",
      "|    clip_range           | 0.2         |\n",
      "|    entropy_loss         | -0.188      |\n",
      "|    explained_variance   | 0.968       |\n",
      "|    learning_rate        | 0.0003      |\n",
      "|    loss                 | 2.98        |\n",
      "|    n_updates            | 1380        |\n",
      "|    policy_gradient_loss | -0.0108     |\n",
      "|    value_loss           | 15.5        |\n",
      "-----------------------------------------\n"
     ]
    },
    {
     "name": "stdout",
     "output_type": "stream",
     "text": [
      "Model iteratie: 34\n",
      "-------------------------------\n",
      "| time/              |        |\n",
      "|    fps             | 2784   |\n",
      "|    iterations      | 1      |\n",
      "|    time_elapsed    | 2      |\n",
      "|    total_timesteps | 868352 |\n",
      "-------------------------------\n",
      "-----------------------------------------\n",
      "| time/                   |             |\n",
      "|    fps                  | 1336        |\n",
      "|    iterations           | 2           |\n",
      "|    time_elapsed         | 12          |\n",
      "|    total_timesteps      | 876544      |\n",
      "| train/                  |             |\n",
      "|    approx_kl            | 0.015149672 |\n",
      "|    clip_fraction        | 0.0847      |\n",
      "|    clip_range           | 0.2         |\n",
      "|    entropy_loss         | -0.175      |\n",
      "|    explained_variance   | 0.976       |\n",
      "|    learning_rate        | 0.0003      |\n",
      "|    loss                 | 5.3         |\n",
      "|    n_updates            | 1410        |\n",
      "|    policy_gradient_loss | -0.00811    |\n",
      "|    value_loss           | 10.4        |\n",
      "-----------------------------------------\n",
      "-----------------------------------------\n",
      "| time/                   |             |\n",
      "|    fps                  | 1135        |\n",
      "|    iterations           | 3           |\n",
      "|    time_elapsed         | 21          |\n",
      "|    total_timesteps      | 884736      |\n",
      "| train/                  |             |\n",
      "|    approx_kl            | 0.015242006 |\n",
      "|    clip_fraction        | 0.0777      |\n",
      "|    clip_range           | 0.2         |\n",
      "|    entropy_loss         | -0.174      |\n",
      "|    explained_variance   | 0.976       |\n",
      "|    learning_rate        | 0.0003      |\n",
      "|    loss                 | 4.22        |\n",
      "|    n_updates            | 1420        |\n",
      "|    policy_gradient_loss | -0.00983    |\n",
      "|    value_loss           | 11.7        |\n",
      "-----------------------------------------\n",
      "Model iteratie: 35\n",
      "-------------------------------\n",
      "| time/              |        |\n",
      "|    fps             | 2711   |\n",
      "|    iterations      | 1      |\n",
      "|    time_elapsed    | 3      |\n",
      "|    total_timesteps | 892928 |\n",
      "-------------------------------\n",
      "-----------------------------------------\n",
      "| time/                   |             |\n",
      "|    fps                  | 1327        |\n",
      "|    iterations           | 2           |\n",
      "|    time_elapsed         | 12          |\n",
      "|    total_timesteps      | 901120      |\n",
      "| train/                  |             |\n",
      "|    approx_kl            | 0.014436128 |\n",
      "|    clip_fraction        | 0.0875      |\n",
      "|    clip_range           | 0.2         |\n",
      "|    entropy_loss         | -0.198      |\n",
      "|    explained_variance   | 0.934       |\n",
      "|    learning_rate        | 0.0003      |\n",
      "|    loss                 | 5.1         |\n",
      "|    n_updates            | 1450        |\n",
      "|    policy_gradient_loss | -0.016      |\n",
      "|    value_loss           | 19.4        |\n",
      "-----------------------------------------\n",
      "-----------------------------------------\n",
      "| time/                   |             |\n",
      "|    fps                  | 1130        |\n",
      "|    iterations           | 3           |\n",
      "|    time_elapsed         | 21          |\n",
      "|    total_timesteps      | 909312      |\n",
      "| train/                  |             |\n",
      "|    approx_kl            | 0.020098578 |\n",
      "|    clip_fraction        | 0.0916      |\n",
      "|    clip_range           | 0.2         |\n",
      "|    entropy_loss         | -0.182      |\n",
      "|    explained_variance   | 0.97        |\n",
      "|    learning_rate        | 0.0003      |\n",
      "|    loss                 | 5.53        |\n",
      "|    n_updates            | 1460        |\n",
      "|    policy_gradient_loss | -0.00806    |\n",
      "|    value_loss           | 13.8        |\n",
      "-----------------------------------------\n",
      "Model iteratie: 36\n",
      "-------------------------------\n",
      "| time/              |        |\n",
      "|    fps             | 2793   |\n",
      "|    iterations      | 1      |\n",
      "|    time_elapsed    | 2      |\n",
      "|    total_timesteps | 917504 |\n",
      "-------------------------------\n",
      "-----------------------------------------\n",
      "| time/                   |             |\n",
      "|    fps                  | 1284        |\n",
      "|    iterations           | 2           |\n",
      "|    time_elapsed         | 12          |\n",
      "|    total_timesteps      | 925696      |\n",
      "| train/                  |             |\n",
      "|    approx_kl            | 0.018389877 |\n",
      "|    clip_fraction        | 0.0836      |\n",
      "|    clip_range           | 0.2         |\n",
      "|    entropy_loss         | -0.204      |\n",
      "|    explained_variance   | 0.936       |\n",
      "|    learning_rate        | 0.0003      |\n",
      "|    loss                 | 7.34        |\n",
      "|    n_updates            | 1490        |\n",
      "|    policy_gradient_loss | -0.0162     |\n",
      "|    value_loss           | 20.5        |\n",
      "-----------------------------------------\n",
      "-----------------------------------------\n",
      "| time/                   |             |\n",
      "|    fps                  | 1104        |\n",
      "|    iterations           | 3           |\n",
      "|    time_elapsed         | 22          |\n",
      "|    total_timesteps      | 933888      |\n",
      "| train/                  |             |\n",
      "|    approx_kl            | 0.016427202 |\n",
      "|    clip_fraction        | 0.0903      |\n",
      "|    clip_range           | 0.2         |\n",
      "|    entropy_loss         | -0.197      |\n",
      "|    explained_variance   | 0.949       |\n",
      "|    learning_rate        | 0.0003      |\n",
      "|    loss                 | 4.07        |\n",
      "|    n_updates            | 1500        |\n",
      "|    policy_gradient_loss | -0.00611    |\n",
      "|    value_loss           | 18.9        |\n",
      "-----------------------------------------\n",
      "Model iteratie: 37\n",
      "-------------------------------\n",
      "| time/              |        |\n",
      "|    fps             | 2764   |\n",
      "|    iterations      | 1      |\n",
      "|    time_elapsed    | 2      |\n",
      "|    total_timesteps | 942080 |\n",
      "-------------------------------\n",
      "----------------------------------------\n",
      "| time/                   |            |\n",
      "|    fps                  | 1292       |\n",
      "|    iterations           | 2          |\n",
      "|    time_elapsed         | 12         |\n",
      "|    total_timesteps      | 950272     |\n",
      "| train/                  |            |\n",
      "|    approx_kl            | 0.01560697 |\n",
      "|    clip_fraction        | 0.0807     |\n",
      "|    clip_range           | 0.2        |\n",
      "|    entropy_loss         | -0.171     |\n",
      "|    explained_variance   | 0.97       |\n",
      "|    learning_rate        | 0.0003     |\n",
      "|    loss                 | 5.89       |\n",
      "|    n_updates            | 1530       |\n",
      "|    policy_gradient_loss | -0.00896   |\n",
      "|    value_loss           | 13.4       |\n",
      "----------------------------------------\n",
      "----------------------------------------\n",
      "| time/                   |            |\n",
      "|    fps                  | 1105       |\n",
      "|    iterations           | 3          |\n",
      "|    time_elapsed         | 22         |\n",
      "|    total_timesteps      | 958464     |\n",
      "| train/                  |            |\n",
      "|    approx_kl            | 0.01655608 |\n",
      "|    clip_fraction        | 0.0818     |\n",
      "|    clip_range           | 0.2        |\n",
      "|    entropy_loss         | -0.167     |\n",
      "|    explained_variance   | 0.976      |\n",
      "|    learning_rate        | 0.0003     |\n",
      "|    loss                 | 6.82       |\n",
      "|    n_updates            | 1540       |\n",
      "|    policy_gradient_loss | -0.00927   |\n",
      "|    value_loss           | 11         |\n",
      "----------------------------------------\n",
      "Model iteratie: 38\n",
      "-------------------------------\n",
      "| time/              |        |\n",
      "|    fps             | 2606   |\n",
      "|    iterations      | 1      |\n",
      "|    time_elapsed    | 3      |\n",
      "|    total_timesteps | 966656 |\n",
      "-------------------------------\n",
      "----------------------------------------\n",
      "| time/                   |            |\n",
      "|    fps                  | 1284       |\n",
      "|    iterations           | 2          |\n",
      "|    time_elapsed         | 12         |\n",
      "|    total_timesteps      | 974848     |\n",
      "| train/                  |            |\n",
      "|    approx_kl            | 0.01717774 |\n",
      "|    clip_fraction        | 0.0802     |\n",
      "|    clip_range           | 0.2        |\n",
      "|    entropy_loss         | -0.153     |\n",
      "|    explained_variance   | 0.973      |\n",
      "|    learning_rate        | 0.0003     |\n",
      "|    loss                 | 4.82       |\n",
      "|    n_updates            | 1570       |\n",
      "|    policy_gradient_loss | -0.0078    |\n",
      "|    value_loss           | 13.2       |\n",
      "----------------------------------------\n",
      "-----------------------------------------\n",
      "| time/                   |             |\n",
      "|    fps                  | 1103        |\n",
      "|    iterations           | 3           |\n",
      "|    time_elapsed         | 22          |\n",
      "|    total_timesteps      | 983040      |\n",
      "| train/                  |             |\n",
      "|    approx_kl            | 0.017333217 |\n",
      "|    clip_fraction        | 0.0751      |\n",
      "|    clip_range           | 0.2         |\n",
      "|    entropy_loss         | -0.159      |\n",
      "|    explained_variance   | 0.973       |\n",
      "|    learning_rate        | 0.0003      |\n",
      "|    loss                 | 4.22        |\n",
      "|    n_updates            | 1580        |\n",
      "|    policy_gradient_loss | -0.00963    |\n",
      "|    value_loss           | 12.8        |\n",
      "-----------------------------------------\n"
     ]
    },
    {
     "name": "stdout",
     "output_type": "stream",
     "text": [
      "Model iteratie: 39\n",
      "-------------------------------\n",
      "| time/              |        |\n",
      "|    fps             | 2813   |\n",
      "|    iterations      | 1      |\n",
      "|    time_elapsed    | 2      |\n",
      "|    total_timesteps | 991232 |\n",
      "-------------------------------\n",
      "-----------------------------------------\n",
      "| time/                   |             |\n",
      "|    fps                  | 1337        |\n",
      "|    iterations           | 2           |\n",
      "|    time_elapsed         | 12          |\n",
      "|    total_timesteps      | 999424      |\n",
      "| train/                  |             |\n",
      "|    approx_kl            | 0.014873069 |\n",
      "|    clip_fraction        | 0.0746      |\n",
      "|    clip_range           | 0.2         |\n",
      "|    entropy_loss         | -0.164      |\n",
      "|    explained_variance   | 0.966       |\n",
      "|    learning_rate        | 0.0003      |\n",
      "|    loss                 | 7.07        |\n",
      "|    n_updates            | 1610        |\n",
      "|    policy_gradient_loss | -0.0113     |\n",
      "|    value_loss           | 16          |\n",
      "-----------------------------------------\n",
      "--------------------------------------\n",
      "| time/                   |          |\n",
      "|    fps                  | 1142     |\n",
      "|    iterations           | 3        |\n",
      "|    time_elapsed         | 21       |\n",
      "|    total_timesteps      | 1007616  |\n",
      "| train/                  |          |\n",
      "|    approx_kl            | 0.015782 |\n",
      "|    clip_fraction        | 0.0736   |\n",
      "|    clip_range           | 0.2      |\n",
      "|    entropy_loss         | -0.155   |\n",
      "|    explained_variance   | 0.975    |\n",
      "|    learning_rate        | 0.0003   |\n",
      "|    loss                 | 6.37     |\n",
      "|    n_updates            | 1620     |\n",
      "|    policy_gradient_loss | -0.00883 |\n",
      "|    value_loss           | 12.4     |\n",
      "--------------------------------------\n",
      "Model iteratie: 40\n",
      "--------------------------------\n",
      "| time/              |         |\n",
      "|    fps             | 2721    |\n",
      "|    iterations      | 1       |\n",
      "|    time_elapsed    | 3       |\n",
      "|    total_timesteps | 1015808 |\n",
      "--------------------------------\n",
      "-----------------------------------------\n",
      "| time/                   |             |\n",
      "|    fps                  | 1365        |\n",
      "|    iterations           | 2           |\n",
      "|    time_elapsed         | 11          |\n",
      "|    total_timesteps      | 1024000     |\n",
      "| train/                  |             |\n",
      "|    approx_kl            | 0.016095458 |\n",
      "|    clip_fraction        | 0.0641      |\n",
      "|    clip_range           | 0.2         |\n",
      "|    entropy_loss         | -0.162      |\n",
      "|    explained_variance   | 0.829       |\n",
      "|    learning_rate        | 0.0003      |\n",
      "|    loss                 | 7           |\n",
      "|    n_updates            | 1650        |\n",
      "|    policy_gradient_loss | 0.00611     |\n",
      "|    value_loss           | 19.2        |\n",
      "-----------------------------------------\n",
      "----------------------------------------\n",
      "| time/                   |            |\n",
      "|    fps                  | 1146       |\n",
      "|    iterations           | 3          |\n",
      "|    time_elapsed         | 21         |\n",
      "|    total_timesteps      | 1032192    |\n",
      "| train/                  |            |\n",
      "|    approx_kl            | 0.01469426 |\n",
      "|    clip_fraction        | 0.0897     |\n",
      "|    clip_range           | 0.2        |\n",
      "|    entropy_loss         | -0.181     |\n",
      "|    explained_variance   | 0.892      |\n",
      "|    learning_rate        | 0.0003     |\n",
      "|    loss                 | 17.3       |\n",
      "|    n_updates            | 1660       |\n",
      "|    policy_gradient_loss | -0.0269    |\n",
      "|    value_loss           | 23.4       |\n",
      "----------------------------------------\n",
      "Model iteratie: 41\n",
      "--------------------------------\n",
      "| time/              |         |\n",
      "|    fps             | 2810    |\n",
      "|    iterations      | 1       |\n",
      "|    time_elapsed    | 2       |\n",
      "|    total_timesteps | 1040384 |\n",
      "--------------------------------\n",
      "-----------------------------------------\n",
      "| time/                   |             |\n",
      "|    fps                  | 1364        |\n",
      "|    iterations           | 2           |\n",
      "|    time_elapsed         | 12          |\n",
      "|    total_timesteps      | 1048576     |\n",
      "| train/                  |             |\n",
      "|    approx_kl            | 0.034895625 |\n",
      "|    clip_fraction        | 0.116       |\n",
      "|    clip_range           | 0.2         |\n",
      "|    entropy_loss         | -0.225      |\n",
      "|    explained_variance   | 0.878       |\n",
      "|    learning_rate        | 0.0003      |\n",
      "|    loss                 | 4.72        |\n",
      "|    n_updates            | 1690        |\n",
      "|    policy_gradient_loss | -0.017      |\n",
      "|    value_loss           | 31.8        |\n",
      "-----------------------------------------\n",
      "----------------------------------------\n",
      "| time/                   |            |\n",
      "|    fps                  | 1158       |\n",
      "|    iterations           | 3          |\n",
      "|    time_elapsed         | 21         |\n",
      "|    total_timesteps      | 1056768    |\n",
      "| train/                  |            |\n",
      "|    approx_kl            | 0.01972023 |\n",
      "|    clip_fraction        | 0.0786     |\n",
      "|    clip_range           | 0.2        |\n",
      "|    entropy_loss         | -0.154     |\n",
      "|    explained_variance   | 0.943      |\n",
      "|    learning_rate        | 0.0003     |\n",
      "|    loss                 | 8.02       |\n",
      "|    n_updates            | 1700       |\n",
      "|    policy_gradient_loss | -0.0108    |\n",
      "|    value_loss           | 24         |\n",
      "----------------------------------------\n",
      "Model iteratie: 42\n",
      "--------------------------------\n",
      "| time/              |         |\n",
      "|    fps             | 2747    |\n",
      "|    iterations      | 1       |\n",
      "|    time_elapsed    | 2       |\n",
      "|    total_timesteps | 1064960 |\n",
      "--------------------------------\n",
      "-----------------------------------------\n",
      "| time/                   |             |\n",
      "|    fps                  | 1323        |\n",
      "|    iterations           | 2           |\n",
      "|    time_elapsed         | 12          |\n",
      "|    total_timesteps      | 1073152     |\n",
      "| train/                  |             |\n",
      "|    approx_kl            | 0.013891839 |\n",
      "|    clip_fraction        | 0.065       |\n",
      "|    clip_range           | 0.2         |\n",
      "|    entropy_loss         | -0.127      |\n",
      "|    explained_variance   | 0.975       |\n",
      "|    learning_rate        | 0.0003      |\n",
      "|    loss                 | 2.55        |\n",
      "|    n_updates            | 1730        |\n",
      "|    policy_gradient_loss | -0.00881    |\n",
      "|    value_loss           | 10.4        |\n",
      "-----------------------------------------\n",
      "-----------------------------------------\n",
      "| time/                   |             |\n",
      "|    fps                  | 1134        |\n",
      "|    iterations           | 3           |\n",
      "|    time_elapsed         | 21          |\n",
      "|    total_timesteps      | 1081344     |\n",
      "| train/                  |             |\n",
      "|    approx_kl            | 0.015449563 |\n",
      "|    clip_fraction        | 0.0674      |\n",
      "|    clip_range           | 0.2         |\n",
      "|    entropy_loss         | -0.135      |\n",
      "|    explained_variance   | 0.97        |\n",
      "|    learning_rate        | 0.0003      |\n",
      "|    loss                 | 6.35        |\n",
      "|    n_updates            | 1740        |\n",
      "|    policy_gradient_loss | -0.00889    |\n",
      "|    value_loss           | 13.6        |\n",
      "-----------------------------------------\n",
      "Model iteratie: 43\n",
      "--------------------------------\n",
      "| time/              |         |\n",
      "|    fps             | 2306    |\n",
      "|    iterations      | 1       |\n",
      "|    time_elapsed    | 3       |\n",
      "|    total_timesteps | 1089536 |\n",
      "--------------------------------\n",
      "-----------------------------------------\n",
      "| time/                   |             |\n",
      "|    fps                  | 1107        |\n",
      "|    iterations           | 2           |\n",
      "|    time_elapsed         | 14          |\n",
      "|    total_timesteps      | 1097728     |\n",
      "| train/                  |             |\n",
      "|    approx_kl            | 0.014761414 |\n",
      "|    clip_fraction        | 0.0667      |\n",
      "|    clip_range           | 0.2         |\n",
      "|    entropy_loss         | -0.127      |\n",
      "|    explained_variance   | 0.969       |\n",
      "|    learning_rate        | 0.0003      |\n",
      "|    loss                 | 6.41        |\n",
      "|    n_updates            | 1770        |\n",
      "|    policy_gradient_loss | -0.00783    |\n",
      "|    value_loss           | 13.5        |\n",
      "-----------------------------------------\n",
      "----------------------------------------\n",
      "| time/                   |            |\n",
      "|    fps                  | 1016       |\n",
      "|    iterations           | 3          |\n",
      "|    time_elapsed         | 24         |\n",
      "|    total_timesteps      | 1105920    |\n",
      "| train/                  |            |\n",
      "|    approx_kl            | 0.01298885 |\n",
      "|    clip_fraction        | 0.0615     |\n",
      "|    clip_range           | 0.2        |\n",
      "|    entropy_loss         | -0.123     |\n",
      "|    explained_variance   | 0.977      |\n",
      "|    learning_rate        | 0.0003     |\n",
      "|    loss                 | 6.42       |\n",
      "|    n_updates            | 1780       |\n",
      "|    policy_gradient_loss | -0.0073    |\n",
      "|    value_loss           | 11.2       |\n",
      "----------------------------------------\n"
     ]
    },
    {
     "name": "stdout",
     "output_type": "stream",
     "text": [
      "Model iteratie: 44\n",
      "--------------------------------\n",
      "| time/              |         |\n",
      "|    fps             | 2813    |\n",
      "|    iterations      | 1       |\n",
      "|    time_elapsed    | 2       |\n",
      "|    total_timesteps | 1114112 |\n",
      "--------------------------------\n",
      "-----------------------------------------\n",
      "| time/                   |             |\n",
      "|    fps                  | 1324        |\n",
      "|    iterations           | 2           |\n",
      "|    time_elapsed         | 12          |\n",
      "|    total_timesteps      | 1122304     |\n",
      "| train/                  |             |\n",
      "|    approx_kl            | 0.018657923 |\n",
      "|    clip_fraction        | 0.0799      |\n",
      "|    clip_range           | 0.2         |\n",
      "|    entropy_loss         | -0.167      |\n",
      "|    explained_variance   | 0.81        |\n",
      "|    learning_rate        | 0.0003      |\n",
      "|    loss                 | 4.54        |\n",
      "|    n_updates            | 1810        |\n",
      "|    policy_gradient_loss | 0.00886     |\n",
      "|    value_loss           | 21.2        |\n",
      "-----------------------------------------\n",
      "-----------------------------------------\n",
      "| time/                   |             |\n",
      "|    fps                  | 1135        |\n",
      "|    iterations           | 3           |\n",
      "|    time_elapsed         | 21          |\n",
      "|    total_timesteps      | 1130496     |\n",
      "| train/                  |             |\n",
      "|    approx_kl            | 0.018972013 |\n",
      "|    clip_fraction        | 0.0773      |\n",
      "|    clip_range           | 0.2         |\n",
      "|    entropy_loss         | -0.14       |\n",
      "|    explained_variance   | 0.922       |\n",
      "|    learning_rate        | 0.0003      |\n",
      "|    loss                 | 4.24        |\n",
      "|    n_updates            | 1820        |\n",
      "|    policy_gradient_loss | -0.0243     |\n",
      "|    value_loss           | 17.7        |\n",
      "-----------------------------------------\n",
      "Model iteratie: 45\n",
      "--------------------------------\n",
      "| time/              |         |\n",
      "|    fps             | 2814    |\n",
      "|    iterations      | 1       |\n",
      "|    time_elapsed    | 2       |\n",
      "|    total_timesteps | 1138688 |\n",
      "--------------------------------\n",
      "-----------------------------------------\n",
      "| time/                   |             |\n",
      "|    fps                  | 1360        |\n",
      "|    iterations           | 2           |\n",
      "|    time_elapsed         | 12          |\n",
      "|    total_timesteps      | 1146880     |\n",
      "| train/                  |             |\n",
      "|    approx_kl            | 0.017614447 |\n",
      "|    clip_fraction        | 0.0723      |\n",
      "|    clip_range           | 0.2         |\n",
      "|    entropy_loss         | -0.125      |\n",
      "|    explained_variance   | 0.96        |\n",
      "|    learning_rate        | 0.0003      |\n",
      "|    loss                 | 4.08        |\n",
      "|    n_updates            | 1850        |\n",
      "|    policy_gradient_loss | -0.00644    |\n",
      "|    value_loss           | 17.9        |\n",
      "-----------------------------------------\n",
      "----------------------------------------\n",
      "| time/                   |            |\n",
      "|    fps                  | 1158       |\n",
      "|    iterations           | 3          |\n",
      "|    time_elapsed         | 21         |\n",
      "|    total_timesteps      | 1155072    |\n",
      "| train/                  |            |\n",
      "|    approx_kl            | 0.03190558 |\n",
      "|    clip_fraction        | 0.0679     |\n",
      "|    clip_range           | 0.2        |\n",
      "|    entropy_loss         | -0.124     |\n",
      "|    explained_variance   | 0.946      |\n",
      "|    learning_rate        | 0.0003     |\n",
      "|    loss                 | 24.6       |\n",
      "|    n_updates            | 1860       |\n",
      "|    policy_gradient_loss | -0.0153    |\n",
      "|    value_loss           | 16.8       |\n",
      "----------------------------------------\n",
      "Model iteratie: 46\n",
      "--------------------------------\n",
      "| time/              |         |\n",
      "|    fps             | 2821    |\n",
      "|    iterations      | 1       |\n",
      "|    time_elapsed    | 2       |\n",
      "|    total_timesteps | 1163264 |\n",
      "--------------------------------\n",
      "-----------------------------------------\n",
      "| time/                   |             |\n",
      "|    fps                  | 1372        |\n",
      "|    iterations           | 2           |\n",
      "|    time_elapsed         | 11          |\n",
      "|    total_timesteps      | 1171456     |\n",
      "| train/                  |             |\n",
      "|    approx_kl            | 0.013232934 |\n",
      "|    clip_fraction        | 0.0893      |\n",
      "|    clip_range           | 0.2         |\n",
      "|    entropy_loss         | -0.145      |\n",
      "|    explained_variance   | 0.864       |\n",
      "|    learning_rate        | 0.0003      |\n",
      "|    loss                 | 8.05        |\n",
      "|    n_updates            | 1890        |\n",
      "|    policy_gradient_loss | 0.0218      |\n",
      "|    value_loss           | 18.9        |\n",
      "-----------------------------------------\n",
      "----------------------------------------\n",
      "| time/                   |            |\n",
      "|    fps                  | 1159       |\n",
      "|    iterations           | 3          |\n",
      "|    time_elapsed         | 21         |\n",
      "|    total_timesteps      | 1179648    |\n",
      "| train/                  |            |\n",
      "|    approx_kl            | 0.23313338 |\n",
      "|    clip_fraction        | 0.0652     |\n",
      "|    clip_range           | 0.2        |\n",
      "|    entropy_loss         | -0.13      |\n",
      "|    explained_variance   | 0.86       |\n",
      "|    learning_rate        | 0.0003     |\n",
      "|    loss                 | 17.4       |\n",
      "|    n_updates            | 1900       |\n",
      "|    policy_gradient_loss | -0.0162    |\n",
      "|    value_loss           | 20.5       |\n",
      "----------------------------------------\n",
      "Model iteratie: 47\n",
      "--------------------------------\n",
      "| time/              |         |\n",
      "|    fps             | 2774    |\n",
      "|    iterations      | 1       |\n",
      "|    time_elapsed    | 2       |\n",
      "|    total_timesteps | 1187840 |\n",
      "--------------------------------\n",
      "-----------------------------------------\n",
      "| time/                   |             |\n",
      "|    fps                  | 1333        |\n",
      "|    iterations           | 2           |\n",
      "|    time_elapsed         | 12          |\n",
      "|    total_timesteps      | 1196032     |\n",
      "| train/                  |             |\n",
      "|    approx_kl            | 0.014599548 |\n",
      "|    clip_fraction        | 0.0668      |\n",
      "|    clip_range           | 0.2         |\n",
      "|    entropy_loss         | -0.129      |\n",
      "|    explained_variance   | 0.973       |\n",
      "|    learning_rate        | 0.0003      |\n",
      "|    loss                 | 8.7         |\n",
      "|    n_updates            | 1930        |\n",
      "|    policy_gradient_loss | -0.00797    |\n",
      "|    value_loss           | 13.6        |\n",
      "-----------------------------------------\n",
      "-----------------------------------------\n",
      "| time/                   |             |\n",
      "|    fps                  | 1137        |\n",
      "|    iterations           | 3           |\n",
      "|    time_elapsed         | 21          |\n",
      "|    total_timesteps      | 1204224     |\n",
      "| train/                  |             |\n",
      "|    approx_kl            | 0.024985287 |\n",
      "|    clip_fraction        | 0.0698      |\n",
      "|    clip_range           | 0.2         |\n",
      "|    entropy_loss         | -0.13       |\n",
      "|    explained_variance   | 0.964       |\n",
      "|    learning_rate        | 0.0003      |\n",
      "|    loss                 | 5.98        |\n",
      "|    n_updates            | 1940        |\n",
      "|    policy_gradient_loss | -0.00717    |\n",
      "|    value_loss           | 16.2        |\n",
      "-----------------------------------------\n",
      "Model iteratie: 48\n",
      "--------------------------------\n",
      "| time/              |         |\n",
      "|    fps             | 2799    |\n",
      "|    iterations      | 1       |\n",
      "|    time_elapsed    | 2       |\n",
      "|    total_timesteps | 1212416 |\n",
      "--------------------------------\n",
      "-----------------------------------------\n",
      "| time/                   |             |\n",
      "|    fps                  | 1387        |\n",
      "|    iterations           | 2           |\n",
      "|    time_elapsed         | 11          |\n",
      "|    total_timesteps      | 1220608     |\n",
      "| train/                  |             |\n",
      "|    approx_kl            | 0.011434812 |\n",
      "|    clip_fraction        | 0.0608      |\n",
      "|    clip_range           | 0.2         |\n",
      "|    entropy_loss         | -0.153      |\n",
      "|    explained_variance   | 0.835       |\n",
      "|    learning_rate        | 0.0003      |\n",
      "|    loss                 | 3.11        |\n",
      "|    n_updates            | 1970        |\n",
      "|    policy_gradient_loss | 0.00375     |\n",
      "|    value_loss           | 17.7        |\n",
      "-----------------------------------------\n",
      "-----------------------------------------\n",
      "| time/                   |             |\n",
      "|    fps                  | 1172        |\n",
      "|    iterations           | 3           |\n",
      "|    time_elapsed         | 20          |\n",
      "|    total_timesteps      | 1228800     |\n",
      "| train/                  |             |\n",
      "|    approx_kl            | 0.016215658 |\n",
      "|    clip_fraction        | 0.0667      |\n",
      "|    clip_range           | 0.2         |\n",
      "|    entropy_loss         | -0.134      |\n",
      "|    explained_variance   | 0.943       |\n",
      "|    learning_rate        | 0.0003      |\n",
      "|    loss                 | 5.91        |\n",
      "|    n_updates            | 1980        |\n",
      "|    policy_gradient_loss | -0.00333    |\n",
      "|    value_loss           | 17.8        |\n",
      "-----------------------------------------\n"
     ]
    },
    {
     "name": "stdout",
     "output_type": "stream",
     "text": [
      "Model iteratie: 49\n",
      "--------------------------------\n",
      "| time/              |         |\n",
      "|    fps             | 2750    |\n",
      "|    iterations      | 1       |\n",
      "|    time_elapsed    | 2       |\n",
      "|    total_timesteps | 1236992 |\n",
      "--------------------------------\n",
      "-----------------------------------------\n",
      "| time/                   |             |\n",
      "|    fps                  | 1364        |\n",
      "|    iterations           | 2           |\n",
      "|    time_elapsed         | 12          |\n",
      "|    total_timesteps      | 1245184     |\n",
      "| train/                  |             |\n",
      "|    approx_kl            | 0.026465185 |\n",
      "|    clip_fraction        | 0.0946      |\n",
      "|    clip_range           | 0.2         |\n",
      "|    entropy_loss         | -0.174      |\n",
      "|    explained_variance   | 0.849       |\n",
      "|    learning_rate        | 0.0003      |\n",
      "|    loss                 | 2.87        |\n",
      "|    n_updates            | 2010        |\n",
      "|    policy_gradient_loss | -0.027      |\n",
      "|    value_loss           | 16.6        |\n",
      "-----------------------------------------\n",
      "-----------------------------------------\n",
      "| time/                   |             |\n",
      "|    fps                  | 1150        |\n",
      "|    iterations           | 3           |\n",
      "|    time_elapsed         | 21          |\n",
      "|    total_timesteps      | 1253376     |\n",
      "| train/                  |             |\n",
      "|    approx_kl            | 0.016615547 |\n",
      "|    clip_fraction        | 0.0697      |\n",
      "|    clip_range           | 0.2         |\n",
      "|    entropy_loss         | -0.121      |\n",
      "|    explained_variance   | 0.967       |\n",
      "|    learning_rate        | 0.0003      |\n",
      "|    loss                 | 4.34        |\n",
      "|    n_updates            | 2020        |\n",
      "|    policy_gradient_loss | -0.00872    |\n",
      "|    value_loss           | 16          |\n",
      "-----------------------------------------\n"
     ]
    }
   ],
   "source": [
    "num_cpu = 4\n",
    "startPercentage = 0\n",
    "timesteps = 20_000\n",
    "\n",
    "modelEnvironment = DummyVecEnv([make_env(numberOfShips, containersPerShip, boxWidth, boxLength, boxHeight, startPercentage) for i in range(num_cpu)])\n",
    "model = PPO(\"MultiInputPolicy\", modelEnvironment, verbose=1, learning_rate=0.0003, device='cpu')\n",
    "model.learn(total_timesteps=getTotalTimeSteps(timesteps, startPercentage))\n",
    "model.train()\n",
    "\n",
    "for modelIterations in range(0, 50):\n",
    "    print(\"Model iteratie: \" + str(modelIterations))\n",
    "#     for percentage in reversed(np.arange(0.0, startPercentage, 0.1)):\n",
    "#         print(\"Using percentage: \" + str(percentage))\n",
    "    newEnv = DummyVecEnv([make_env(numberOfShips, containersPerShip, boxWidth, boxLength, boxHeight, 0) for i in range(num_cpu)])\n",
    "    model.set_env(newEnv)\n",
    "    model.learn(total_timesteps=getTotalTimeSteps(timesteps, 0), reset_num_timesteps=False)\n",
    "    model.train()"
   ]
  },
  {
   "cell_type": "code",
   "execution_count": 31,
   "id": "78c424bd",
   "metadata": {
    "scrolled": true
   },
   "outputs": [
    {
     "data": {
      "text/plain": [
       "array([[[0, 0, 0],\n",
       "        [0, 0, 0],\n",
       "        [0, 0, 0]],\n",
       "\n",
       "       [[0, 0, 0],\n",
       "        [0, 0, 0],\n",
       "        [0, 0, 0]],\n",
       "\n",
       "       [[0, 0, 0],\n",
       "        [0, 0, 0],\n",
       "        [0, 0, 0]]])"
      ]
     },
     "metadata": {},
     "output_type": "display_data"
    },
    {
     "data": {
      "text/plain": [
       "array([2, 3, 3, 3, 2, 2, 1, 3, 2, 1, 1, 1, 3, 3, 1, 1, 2, 2, 1, 2, 2, 3,\n",
       "       1, 3])"
      ]
     },
     "metadata": {},
     "output_type": "display_data"
    }
   ],
   "source": [
    "eval_env = ContainerEnv(numberOfShips, containersPerShip, boxWidth, boxLength, boxHeight)\n",
    "eval_env.reset()\n",
    "display(eval_env.containerGrid)\n",
    "display(eval_env.listOfContainers)"
   ]
  },
  {
   "cell_type": "code",
   "execution_count": 32,
   "id": "9ef5e824",
   "metadata": {},
   "outputs": [
    {
     "data": {
      "text/plain": [
       "([93, 72, 93, 100, 100], [24, 18, 24, 27, 27])"
      ]
     },
     "execution_count": 32,
     "metadata": {},
     "output_type": "execute_result"
    }
   ],
   "source": [
    "from stable_baselines3.common.monitor import Monitor\n",
    "monitor = Monitor(eval_env)\n",
    "evaluate_policy(model, monitor, n_eval_episodes=5, return_episode_rewards= True, render=False)"
   ]
  },
  {
   "cell_type": "markdown",
   "id": "fc9b7fbd",
   "metadata": {},
   "source": [
    "# Using trained agent"
   ]
  },
  {
   "cell_type": "code",
   "execution_count": 33,
   "id": "ab741a64",
   "metadata": {
    "scrolled": true
   },
   "outputs": [
    {
     "data": {
      "text/plain": [
       "{'stepCounter': 0,\n",
       " 'maxCounter': 810,\n",
       " 'containerCount': array([2, 2, 2]),\n",
       " 'container': 1,\n",
       " 'grid': array([[[0, 0, 0],\n",
       "         [0, 0, 0],\n",
       "         [0, 0, 0]],\n",
       " \n",
       "        [[0, 0, 0],\n",
       "         [0, 0, 0],\n",
       "         [0, 0, 0]],\n",
       " \n",
       "        [[0, 0, 0],\n",
       "         [0, 0, 0],\n",
       "         [0, 0, 0]]])}"
      ]
     },
     "metadata": {},
     "output_type": "display_data"
    },
    {
     "data": {
      "text/plain": [
       "array([3, 3, 1, 2, 2, 1])"
      ]
     },
     "metadata": {},
     "output_type": "display_data"
    }
   ],
   "source": [
    "display(eval_env.reset())\n",
    "display(eval_env.listOfContainers)"
   ]
  },
  {
   "cell_type": "code",
   "execution_count": 34,
   "id": "83328d48",
   "metadata": {
    "scrolled": true
   },
   "outputs": [
    {
     "name": "stdout",
     "output_type": "stream",
     "text": [
      "---------------------\n",
      "\n"
     ]
    },
    {
     "data": {
      "text/plain": [
       "array([2, 1, 3, 2, 1, 1, 3, 2, 2, 3, 2, 1, 1, 1, 1, 1, 3, 3, 2, 3, 2, 2,\n",
       "       2, 3, 3, 2, 2, 2, 3, 1, 3, 3, 2, 3, 1, 1, 3, 1, 1, 1, 2, 3])"
      ]
     },
     "metadata": {},
     "output_type": "display_data"
    },
    {
     "name": "stdout",
     "output_type": "stream",
     "text": [
      "42\n"
     ]
    },
    {
     "data": {
      "text/plain": [
       "{'stepCounter': 0,\n",
       " 'maxCounter': 810,\n",
       " 'containerCount': array([14, 14, 14]),\n",
       " 'container': 3,\n",
       " 'grid': array([[[0, 0, 0],\n",
       "         [0, 0, 0],\n",
       "         [0, 0, 0]],\n",
       " \n",
       "        [[0, 0, 0],\n",
       "         [0, 0, 0],\n",
       "         [0, 0, 0]],\n",
       " \n",
       "        [[0, 0, 0],\n",
       "         [0, 0, 0],\n",
       "         [0, 0, 0]]])}"
      ]
     },
     "metadata": {},
     "output_type": "display_data"
    },
    {
     "data": {
      "text/plain": [
       "array([[[2, 2, 2],\n",
       "        [2, 2, 2],\n",
       "        [2, 2, 2]],\n",
       "\n",
       "       [[1, 1, 1],\n",
       "        [1, 1, 1],\n",
       "        [3, 3, 1]],\n",
       "\n",
       "       [[3, 3, 3],\n",
       "        [3, 3, 3],\n",
       "        [3, 3, 3]]])"
      ]
     },
     "metadata": {},
     "output_type": "display_data"
    },
    {
     "name": "stdout",
     "output_type": "stream",
     "text": [
      "27\n",
      "Reward: 100\n"
     ]
    },
    {
     "data": {
      "text/plain": [
       "array([2, 1, 3, 2, 1, 1, 3, 2, 2, 3, 2, 1, 1, 1, 1])"
      ]
     },
     "metadata": {},
     "output_type": "display_data"
    },
    {
     "name": "stdout",
     "output_type": "stream",
     "text": [
      "---------------------\n",
      "\n"
     ]
    },
    {
     "data": {
      "text/plain": [
       "array([1, 3, 1, 2, 2, 2, 3, 2, 2, 3, 3, 1, 1, 1, 3, 2, 1, 3, 3, 1, 2, 3,\n",
       "       1, 2])"
      ]
     },
     "metadata": {},
     "output_type": "display_data"
    },
    {
     "name": "stdout",
     "output_type": "stream",
     "text": [
      "24\n"
     ]
    },
    {
     "data": {
      "text/plain": [
       "{'stepCounter': 0,\n",
       " 'maxCounter': 810,\n",
       " 'containerCount': array([8, 8, 8]),\n",
       " 'container': 2,\n",
       " 'grid': array([[[0, 0, 0],\n",
       "         [0, 0, 0],\n",
       "         [0, 0, 0]],\n",
       " \n",
       "        [[0, 0, 0],\n",
       "         [0, 0, 0],\n",
       "         [0, 0, 0]],\n",
       " \n",
       "        [[0, 0, 0],\n",
       "         [0, 0, 0],\n",
       "         [0, 0, 0]]])}"
      ]
     },
     "metadata": {},
     "output_type": "display_data"
    },
    {
     "data": {
      "text/plain": [
       "array([[[2, 2, 0],\n",
       "        [2, 2, 2],\n",
       "        [2, 2, 2]],\n",
       "\n",
       "       [[1, 1, 1],\n",
       "        [1, 1, 1],\n",
       "        [1, 1, 0]],\n",
       "\n",
       "       [[3, 3, 0],\n",
       "        [3, 3, 3],\n",
       "        [3, 3, 3]]])"
      ]
     },
     "metadata": {},
     "output_type": "display_data"
    },
    {
     "name": "stdout",
     "output_type": "stream",
     "text": [
      "24\n",
      "Reward: 93\n"
     ]
    },
    {
     "data": {
      "text/plain": [
       "array([], dtype=int64)"
      ]
     },
     "metadata": {},
     "output_type": "display_data"
    },
    {
     "name": "stdout",
     "output_type": "stream",
     "text": [
      "---------------------\n",
      "\n"
     ]
    },
    {
     "data": {
      "text/plain": [
       "array([2, 1, 2, 2, 1, 1, 3, 3, 3, 2, 2, 1, 2, 3, 1, 1, 3, 2, 3, 3, 3, 1,\n",
       "       1, 2])"
      ]
     },
     "metadata": {},
     "output_type": "display_data"
    },
    {
     "name": "stdout",
     "output_type": "stream",
     "text": [
      "24\n"
     ]
    },
    {
     "data": {
      "text/plain": [
       "{'stepCounter': 0,\n",
       " 'maxCounter': 810,\n",
       " 'containerCount': array([8, 8, 8]),\n",
       " 'container': 2,\n",
       " 'grid': array([[[0, 0, 0],\n",
       "         [0, 0, 0],\n",
       "         [0, 0, 0]],\n",
       " \n",
       "        [[0, 0, 0],\n",
       "         [0, 0, 0],\n",
       "         [0, 0, 0]],\n",
       " \n",
       "        [[0, 0, 0],\n",
       "         [0, 0, 0],\n",
       "         [0, 0, 0]]])}"
      ]
     },
     "metadata": {},
     "output_type": "display_data"
    },
    {
     "data": {
      "text/plain": [
       "array([[[2, 2, 0],\n",
       "        [2, 2, 2],\n",
       "        [2, 2, 2]],\n",
       "\n",
       "       [[1, 1, 1],\n",
       "        [1, 1, 1],\n",
       "        [1, 1, 0]],\n",
       "\n",
       "       [[3, 3, 0],\n",
       "        [3, 3, 3],\n",
       "        [3, 3, 3]]])"
      ]
     },
     "metadata": {},
     "output_type": "display_data"
    },
    {
     "name": "stdout",
     "output_type": "stream",
     "text": [
      "24\n",
      "Reward: 93\n"
     ]
    },
    {
     "data": {
      "text/plain": [
       "array([], dtype=int64)"
      ]
     },
     "metadata": {},
     "output_type": "display_data"
    },
    {
     "name": "stdout",
     "output_type": "stream",
     "text": [
      "---------------------\n",
      "\n"
     ]
    },
    {
     "data": {
      "text/plain": [
       "array([3, 2, 2, 1, 3, 1])"
      ]
     },
     "metadata": {},
     "output_type": "display_data"
    },
    {
     "name": "stdout",
     "output_type": "stream",
     "text": [
      "6\n"
     ]
    },
    {
     "data": {
      "text/plain": [
       "{'stepCounter': 0,\n",
       " 'maxCounter': 810,\n",
       " 'containerCount': array([2, 2, 2]),\n",
       " 'container': 1,\n",
       " 'grid': array([[[0, 0, 0],\n",
       "         [0, 0, 0],\n",
       "         [0, 0, 0]],\n",
       " \n",
       "        [[0, 0, 0],\n",
       "         [0, 0, 0],\n",
       "         [0, 0, 0]],\n",
       " \n",
       "        [[0, 0, 0],\n",
       "         [0, 0, 0],\n",
       "         [0, 0, 0]]])}"
      ]
     },
     "metadata": {},
     "output_type": "display_data"
    },
    {
     "data": {
      "text/plain": [
       "array([[[0, 0, 0],\n",
       "        [2, 2, 0],\n",
       "        [0, 0, 0]],\n",
       "\n",
       "       [[0, 0, 0],\n",
       "        [1, 1, 0],\n",
       "        [0, 0, 0]],\n",
       "\n",
       "       [[0, 0, 0],\n",
       "        [3, 3, 0],\n",
       "        [0, 0, 0]]])"
      ]
     },
     "metadata": {},
     "output_type": "display_data"
    },
    {
     "name": "stdout",
     "output_type": "stream",
     "text": [
      "6\n",
      "Reward: 21\n"
     ]
    },
    {
     "data": {
      "text/plain": [
       "array([], dtype=int64)"
      ]
     },
     "metadata": {},
     "output_type": "display_data"
    },
    {
     "name": "stdout",
     "output_type": "stream",
     "text": [
      "---------------------\n",
      "\n"
     ]
    },
    {
     "data": {
      "text/plain": [
       "array([3, 1, 3, 3, 2, 2, 2, 1, 2, 1, 3, 3, 1, 1, 2, 2, 1, 3])"
      ]
     },
     "metadata": {},
     "output_type": "display_data"
    },
    {
     "name": "stdout",
     "output_type": "stream",
     "text": [
      "18\n"
     ]
    },
    {
     "data": {
      "text/plain": [
       "{'stepCounter': 0,\n",
       " 'maxCounter': 810,\n",
       " 'containerCount': array([6, 6, 6]),\n",
       " 'container': 3,\n",
       " 'grid': array([[[0, 0, 0],\n",
       "         [0, 0, 0],\n",
       "         [0, 0, 0]],\n",
       " \n",
       "        [[0, 0, 0],\n",
       "         [0, 0, 0],\n",
       "         [0, 0, 0]],\n",
       " \n",
       "        [[0, 0, 0],\n",
       "         [0, 0, 0],\n",
       "         [0, 0, 0]]])}"
      ]
     },
     "metadata": {},
     "output_type": "display_data"
    },
    {
     "data": {
      "text/plain": [
       "array([[[0, 0, 0],\n",
       "        [2, 2, 2],\n",
       "        [2, 2, 2]],\n",
       "\n",
       "       [[1, 1, 1],\n",
       "        [1, 1, 1],\n",
       "        [0, 0, 0]],\n",
       "\n",
       "       [[0, 0, 0],\n",
       "        [3, 3, 3],\n",
       "        [3, 3, 3]]])"
      ]
     },
     "metadata": {},
     "output_type": "display_data"
    },
    {
     "name": "stdout",
     "output_type": "stream",
     "text": [
      "18\n",
      "Reward: 72\n"
     ]
    },
    {
     "data": {
      "text/plain": [
       "array([], dtype=int64)"
      ]
     },
     "metadata": {},
     "output_type": "display_data"
    },
    {
     "name": "stdout",
     "output_type": "stream",
     "text": [
      "---------------------\n",
      "\n"
     ]
    },
    {
     "data": {
      "text/plain": [
       "array([3, 1, 2, 2, 1, 3])"
      ]
     },
     "metadata": {},
     "output_type": "display_data"
    },
    {
     "name": "stdout",
     "output_type": "stream",
     "text": [
      "6\n"
     ]
    },
    {
     "data": {
      "text/plain": [
       "{'stepCounter': 0,\n",
       " 'maxCounter': 810,\n",
       " 'containerCount': array([2, 2, 2]),\n",
       " 'container': 3,\n",
       " 'grid': array([[[0, 0, 0],\n",
       "         [0, 0, 0],\n",
       "         [0, 0, 0]],\n",
       " \n",
       "        [[0, 0, 0],\n",
       "         [0, 0, 0],\n",
       "         [0, 0, 0]],\n",
       " \n",
       "        [[0, 0, 0],\n",
       "         [0, 0, 0],\n",
       "         [0, 0, 0]]])}"
      ]
     },
     "metadata": {},
     "output_type": "display_data"
    },
    {
     "data": {
      "text/plain": [
       "array([[[0, 0, 0],\n",
       "        [2, 2, 0],\n",
       "        [0, 0, 0]],\n",
       "\n",
       "       [[0, 0, 0],\n",
       "        [1, 1, 0],\n",
       "        [0, 0, 0]],\n",
       "\n",
       "       [[0, 0, 0],\n",
       "        [3, 3, 0],\n",
       "        [0, 0, 0]]])"
      ]
     },
     "metadata": {},
     "output_type": "display_data"
    },
    {
     "name": "stdout",
     "output_type": "stream",
     "text": [
      "6\n",
      "Reward: 21\n"
     ]
    },
    {
     "data": {
      "text/plain": [
       "array([], dtype=int64)"
      ]
     },
     "metadata": {},
     "output_type": "display_data"
    },
    {
     "name": "stdout",
     "output_type": "stream",
     "text": [
      "---------------------\n",
      "\n"
     ]
    },
    {
     "data": {
      "text/plain": [
       "array([1, 1, 2, 2, 3, 3, 1, 1, 1, 1, 3, 3, 3, 3, 2, 1, 3, 3, 2, 3, 2, 2,\n",
       "       2, 2, 3, 1, 3, 1, 2, 3, 3, 2, 1, 2, 2, 3, 1, 1, 1, 2, 1, 2])"
      ]
     },
     "metadata": {},
     "output_type": "display_data"
    },
    {
     "name": "stdout",
     "output_type": "stream",
     "text": [
      "42\n"
     ]
    },
    {
     "data": {
      "text/plain": [
       "{'stepCounter': 0,\n",
       " 'maxCounter': 810,\n",
       " 'containerCount': array([14, 14, 14]),\n",
       " 'container': 2,\n",
       " 'grid': array([[[0, 0, 0],\n",
       "         [0, 0, 0],\n",
       "         [0, 0, 0]],\n",
       " \n",
       "        [[0, 0, 0],\n",
       "         [0, 0, 0],\n",
       "         [0, 0, 0]],\n",
       " \n",
       "        [[0, 0, 0],\n",
       "         [0, 0, 0],\n",
       "         [0, 0, 0]]])}"
      ]
     },
     "metadata": {},
     "output_type": "display_data"
    },
    {
     "data": {
      "text/plain": [
       "array([[[2, 2, 2],\n",
       "        [2, 2, 2],\n",
       "        [2, 2, 2]],\n",
       "\n",
       "       [[1, 1, 1],\n",
       "        [1, 1, 1],\n",
       "        [1, 3, 1]],\n",
       "\n",
       "       [[3, 3, 3],\n",
       "        [3, 3, 3],\n",
       "        [3, 2, 2]]])"
      ]
     },
     "metadata": {},
     "output_type": "display_data"
    },
    {
     "name": "stdout",
     "output_type": "stream",
     "text": [
      "27\n",
      "Reward: 84\n"
     ]
    },
    {
     "data": {
      "text/plain": [
       "array([1, 1, 2, 2, 3, 3, 1, 1, 1, 1, 3, 3, 3, 3, 2])"
      ]
     },
     "metadata": {},
     "output_type": "display_data"
    },
    {
     "name": "stdout",
     "output_type": "stream",
     "text": [
      "---------------------\n",
      "\n"
     ]
    },
    {
     "data": {
      "text/plain": [
       "array([1, 3, 2, 3, 3, 2, 3, 2, 2, 3, 3, 2, 1, 1, 1, 2, 2, 3, 1, 3, 1, 1,\n",
       "       1, 2])"
      ]
     },
     "metadata": {},
     "output_type": "display_data"
    },
    {
     "name": "stdout",
     "output_type": "stream",
     "text": [
      "24\n"
     ]
    },
    {
     "data": {
      "text/plain": [
       "{'stepCounter': 0,\n",
       " 'maxCounter': 810,\n",
       " 'containerCount': array([8, 8, 8]),\n",
       " 'container': 2,\n",
       " 'grid': array([[[0, 0, 0],\n",
       "         [0, 0, 0],\n",
       "         [0, 0, 0]],\n",
       " \n",
       "        [[0, 0, 0],\n",
       "         [0, 0, 0],\n",
       "         [0, 0, 0]],\n",
       " \n",
       "        [[0, 0, 0],\n",
       "         [0, 0, 0],\n",
       "         [0, 0, 0]]])}"
      ]
     },
     "metadata": {},
     "output_type": "display_data"
    },
    {
     "data": {
      "text/plain": [
       "array([[[2, 2, 0],\n",
       "        [2, 2, 2],\n",
       "        [2, 2, 2]],\n",
       "\n",
       "       [[1, 1, 1],\n",
       "        [1, 1, 1],\n",
       "        [1, 1, 0]],\n",
       "\n",
       "       [[3, 3, 0],\n",
       "        [3, 3, 3],\n",
       "        [3, 3, 3]]])"
      ]
     },
     "metadata": {},
     "output_type": "display_data"
    },
    {
     "name": "stdout",
     "output_type": "stream",
     "text": [
      "24\n",
      "Reward: 93\n"
     ]
    },
    {
     "data": {
      "text/plain": [
       "array([], dtype=int64)"
      ]
     },
     "metadata": {},
     "output_type": "display_data"
    },
    {
     "name": "stdout",
     "output_type": "stream",
     "text": [
      "---------------------\n",
      "\n"
     ]
    },
    {
     "data": {
      "text/plain": [
       "array([3, 1, 3, 1, 3, 2, 3, 2, 2, 2, 3, 3, 1, 2, 1, 1, 2, 1])"
      ]
     },
     "metadata": {},
     "output_type": "display_data"
    },
    {
     "name": "stdout",
     "output_type": "stream",
     "text": [
      "18\n"
     ]
    },
    {
     "data": {
      "text/plain": [
       "{'stepCounter': 0,\n",
       " 'maxCounter': 810,\n",
       " 'containerCount': array([6, 6, 6]),\n",
       " 'container': 1,\n",
       " 'grid': array([[[0, 0, 0],\n",
       "         [0, 0, 0],\n",
       "         [0, 0, 0]],\n",
       " \n",
       "        [[0, 0, 0],\n",
       "         [0, 0, 0],\n",
       "         [0, 0, 0]],\n",
       " \n",
       "        [[0, 0, 0],\n",
       "         [0, 0, 0],\n",
       "         [0, 0, 0]]])}"
      ]
     },
     "metadata": {},
     "output_type": "display_data"
    },
    {
     "data": {
      "text/plain": [
       "array([[[0, 0, 0],\n",
       "        [2, 2, 2],\n",
       "        [2, 2, 2]],\n",
       "\n",
       "       [[1, 1, 1],\n",
       "        [1, 1, 1],\n",
       "        [0, 0, 0]],\n",
       "\n",
       "       [[0, 0, 0],\n",
       "        [3, 3, 3],\n",
       "        [3, 3, 3]]])"
      ]
     },
     "metadata": {},
     "output_type": "display_data"
    },
    {
     "name": "stdout",
     "output_type": "stream",
     "text": [
      "18\n",
      "Reward: 72\n"
     ]
    },
    {
     "data": {
      "text/plain": [
       "array([], dtype=int64)"
      ]
     },
     "metadata": {},
     "output_type": "display_data"
    },
    {
     "name": "stdout",
     "output_type": "stream",
     "text": [
      "---------------------\n",
      "\n"
     ]
    },
    {
     "data": {
      "text/plain": [
       "array([3, 1, 3, 3, 2, 3, 2, 1, 2, 3, 3, 3, 2, 2, 1, 2, 1, 1, 2, 1, 3, 1,\n",
       "       1, 2])"
      ]
     },
     "metadata": {},
     "output_type": "display_data"
    },
    {
     "name": "stdout",
     "output_type": "stream",
     "text": [
      "24\n"
     ]
    },
    {
     "data": {
      "text/plain": [
       "{'stepCounter': 0,\n",
       " 'maxCounter': 810,\n",
       " 'containerCount': array([8, 8, 8]),\n",
       " 'container': 2,\n",
       " 'grid': array([[[0, 0, 0],\n",
       "         [0, 0, 0],\n",
       "         [0, 0, 0]],\n",
       " \n",
       "        [[0, 0, 0],\n",
       "         [0, 0, 0],\n",
       "         [0, 0, 0]],\n",
       " \n",
       "        [[0, 0, 0],\n",
       "         [0, 0, 0],\n",
       "         [0, 0, 0]]])}"
      ]
     },
     "metadata": {},
     "output_type": "display_data"
    },
    {
     "data": {
      "text/plain": [
       "array([[[2, 2, 0],\n",
       "        [2, 2, 2],\n",
       "        [2, 2, 2]],\n",
       "\n",
       "       [[1, 1, 1],\n",
       "        [1, 1, 1],\n",
       "        [1, 1, 0]],\n",
       "\n",
       "       [[3, 3, 0],\n",
       "        [3, 3, 3],\n",
       "        [3, 3, 3]]])"
      ]
     },
     "metadata": {},
     "output_type": "display_data"
    },
    {
     "name": "stdout",
     "output_type": "stream",
     "text": [
      "24\n",
      "Reward: 93\n"
     ]
    },
    {
     "data": {
      "text/plain": [
       "array([], dtype=int64)"
      ]
     },
     "metadata": {},
     "output_type": "display_data"
    },
    {
     "name": "stdout",
     "output_type": "stream",
     "text": [
      "---------------------\n",
      "\n"
     ]
    }
   ],
   "source": [
    "obs = eval_env.reset()\n",
    "print(\"---------------------\\n\")\n",
    "for i in range(10):\n",
    "    display(eval_env.listOfContainers)\n",
    "    print(len(eval_env.listOfContainers))\n",
    "    reward = 0\n",
    "    dones = False\n",
    "    display(obs)\n",
    "    while not dones:\n",
    "        action, _states = model.predict(obs, deterministic=True)\n",
    "        obs, rewards, dones, info = eval_env.step(action)\n",
    "        reward += rewards\n",
    "    eval_env.render()\n",
    "    print((obs['grid'].flatten() > 0).sum())\n",
    "    print(\"Reward: \" + str(reward))\n",
    "    display(eval_env.listOfContainers)\n",
    "    obs = eval_env.reset()\n",
    "    print(\"---------------------\\n\")"
   ]
  },
  {
   "cell_type": "code",
   "execution_count": 35,
   "id": "16b7fba5",
   "metadata": {},
   "outputs": [],
   "source": [
    "amountOfShips = 3\n",
    "containersOnShip = 4\n",
    "height = 3\n",
    "width = 3\n",
    "length = 3"
   ]
  },
  {
   "cell_type": "code",
   "execution_count": 36,
   "id": "163f7f17",
   "metadata": {
    "scrolled": true
   },
   "outputs": [
    {
     "name": "stdout",
     "output_type": "stream",
     "text": [
      "Start list of containers ------------------------\n"
     ]
    },
    {
     "data": {
      "text/plain": [
       "array([1, 1, 1, 2, 2, 2, 3, 2, 3, 3, 3, 1, 1, 1, 3, 1, 3, 2, 2, 2, 1, 1,\n",
       "       2, 3, 2, 2, 1, 3, 3, 3])"
      ]
     },
     "metadata": {},
     "output_type": "display_data"
    },
    {
     "name": "stdout",
     "output_type": "stream",
     "text": [
      "30\n",
      "Start render ------------------------------------\n"
     ]
    },
    {
     "data": {
      "text/plain": [
       "array([[[0, 0, 0],\n",
       "        [0, 0, 0],\n",
       "        [0, 0, 0]],\n",
       "\n",
       "       [[0, 0, 0],\n",
       "        [0, 0, 0],\n",
       "        [0, 0, 0]],\n",
       "\n",
       "       [[0, 0, 0],\n",
       "        [0, 0, 0],\n",
       "        [0, 0, 0]]])"
      ]
     },
     "metadata": {},
     "output_type": "display_data"
    },
    {
     "name": "stdout",
     "output_type": "stream",
     "text": [
      "End render --------------------------------------\n",
      "27\n",
      "Reward: 84\n"
     ]
    },
    {
     "data": {
      "text/plain": [
       "array([[[2, 3, 2],\n",
       "        [2, 2, 2],\n",
       "        [2, 2, 2]],\n",
       "\n",
       "       [[1, 1, 1],\n",
       "        [1, 1, 1],\n",
       "        [1, 2, 2]],\n",
       "\n",
       "       [[3, 3, 3],\n",
       "        [3, 3, 3],\n",
       "        [3, 3, 3]]])"
      ]
     },
     "metadata": {},
     "output_type": "display_data"
    },
    {
     "name": "stdout",
     "output_type": "stream",
     "text": [
      "End list of containers --------------------------\n"
     ]
    },
    {
     "data": {
      "text/plain": [
       "array([1, 1, 1])"
      ]
     },
     "metadata": {},
     "output_type": "display_data"
    },
    {
     "name": "stdout",
     "output_type": "stream",
     "text": [
      "Start list of containers ------------------------\n"
     ]
    },
    {
     "data": {
      "text/plain": [
       "array([2, 2, 1, 3, 3, 1, 3, 2, 3, 3, 2, 3, 1, 1, 1, 1, 1, 3, 1, 2, 3, 3,\n",
       "       2, 1, 2, 2, 3, 2, 2, 2, 1, 1, 3, 2, 3, 1, 1, 3, 3, 1, 2, 2])"
      ]
     },
     "metadata": {},
     "output_type": "display_data"
    },
    {
     "name": "stdout",
     "output_type": "stream",
     "text": [
      "42\n",
      "Start render ------------------------------------\n"
     ]
    },
    {
     "data": {
      "text/plain": [
       "array([[[0, 0, 0],\n",
       "        [0, 0, 0],\n",
       "        [0, 0, 0]],\n",
       "\n",
       "       [[0, 0, 0],\n",
       "        [0, 0, 0],\n",
       "        [0, 0, 0]],\n",
       "\n",
       "       [[0, 0, 0],\n",
       "        [0, 0, 0],\n",
       "        [0, 0, 0]]])"
      ]
     },
     "metadata": {},
     "output_type": "display_data"
    },
    {
     "name": "stdout",
     "output_type": "stream",
     "text": [
      "End render --------------------------------------\n",
      "27\n",
      "Reward: 100\n"
     ]
    },
    {
     "data": {
      "text/plain": [
       "array([[[2, 2, 2],\n",
       "        [2, 2, 2],\n",
       "        [2, 2, 2]],\n",
       "\n",
       "       [[1, 1, 1],\n",
       "        [1, 1, 1],\n",
       "        [1, 1, 1]],\n",
       "\n",
       "       [[3, 3, 3],\n",
       "        [3, 3, 3],\n",
       "        [3, 2, 3]]])"
      ]
     },
     "metadata": {},
     "output_type": "display_data"
    },
    {
     "name": "stdout",
     "output_type": "stream",
     "text": [
      "End list of containers --------------------------\n"
     ]
    },
    {
     "data": {
      "text/plain": [
       "array([2, 2, 1, 3, 3, 1, 3, 2, 3, 3, 2, 3, 1, 1, 1])"
      ]
     },
     "metadata": {},
     "output_type": "display_data"
    },
    {
     "name": "stdout",
     "output_type": "stream",
     "text": [
      "Start list of containers ------------------------\n"
     ]
    },
    {
     "data": {
      "text/plain": [
       "array([1, 2, 3, 2, 1, 3, 2, 3, 1, 1, 3, 1, 2, 1, 2, 2, 3, 2, 2, 3, 1, 2,\n",
       "       2, 1, 3, 3, 3, 1, 3, 1])"
      ]
     },
     "metadata": {},
     "output_type": "display_data"
    },
    {
     "name": "stdout",
     "output_type": "stream",
     "text": [
      "30\n",
      "Start render ------------------------------------\n"
     ]
    },
    {
     "data": {
      "text/plain": [
       "array([[[0, 0, 0],\n",
       "        [0, 0, 0],\n",
       "        [0, 0, 0]],\n",
       "\n",
       "       [[0, 0, 0],\n",
       "        [0, 0, 0],\n",
       "        [0, 0, 0]],\n",
       "\n",
       "       [[0, 0, 0],\n",
       "        [0, 0, 0],\n",
       "        [1, 0, 0]]])"
      ]
     },
     "metadata": {},
     "output_type": "display_data"
    },
    {
     "name": "stdout",
     "output_type": "stream",
     "text": [
      "End render --------------------------------------\n",
      "27\n",
      "Reward: 82\n"
     ]
    },
    {
     "data": {
      "text/plain": [
       "array([[[2, 3, 2],\n",
       "        [2, 2, 2],\n",
       "        [2, 2, 2]],\n",
       "\n",
       "       [[1, 1, 1],\n",
       "        [1, 1, 1],\n",
       "        [1, 1, 1]],\n",
       "\n",
       "       [[3, 3, 3],\n",
       "        [3, 3, 3],\n",
       "        [1, 3, 3]]])"
      ]
     },
     "metadata": {},
     "output_type": "display_data"
    },
    {
     "name": "stdout",
     "output_type": "stream",
     "text": [
      "End list of containers --------------------------\n"
     ]
    },
    {
     "data": {
      "text/plain": [
       "array([1, 2, 3, 2])"
      ]
     },
     "metadata": {},
     "output_type": "display_data"
    },
    {
     "name": "stdout",
     "output_type": "stream",
     "text": [
      "Start list of containers ------------------------\n"
     ]
    },
    {
     "data": {
      "text/plain": [
       "array([3, 1, 2, 1, 1, 3, 2, 1, 3, 3, 2, 2, 2, 1, 2, 1, 3, 3])"
      ]
     },
     "metadata": {},
     "output_type": "display_data"
    },
    {
     "name": "stdout",
     "output_type": "stream",
     "text": [
      "18\n",
      "Start render ------------------------------------\n"
     ]
    },
    {
     "data": {
      "text/plain": [
       "array([[[2, 0, 0],\n",
       "        [0, 0, 0],\n",
       "        [0, 0, 0]],\n",
       "\n",
       "       [[0, 0, 0],\n",
       "        [3, 0, 0],\n",
       "        [0, 0, 0]],\n",
       "\n",
       "       [[0, 0, 0],\n",
       "        [0, 0, 0],\n",
       "        [0, 0, 0]]])"
      ]
     },
     "metadata": {},
     "output_type": "display_data"
    },
    {
     "name": "stdout",
     "output_type": "stream",
     "text": [
      "End render --------------------------------------\n",
      "20\n",
      "Reward: 52\n"
     ]
    },
    {
     "data": {
      "text/plain": [
       "array([[[2, 0, 0],\n",
       "        [2, 2, 2],\n",
       "        [2, 2, 2]],\n",
       "\n",
       "       [[1, 1, 1],\n",
       "        [3, 1, 1],\n",
       "        [1, 0, 0]],\n",
       "\n",
       "       [[0, 0, 0],\n",
       "        [3, 3, 3],\n",
       "        [3, 3, 3]]])"
      ]
     },
     "metadata": {},
     "output_type": "display_data"
    },
    {
     "name": "stdout",
     "output_type": "stream",
     "text": [
      "End list of containers --------------------------\n"
     ]
    },
    {
     "data": {
      "text/plain": [
       "array([], dtype=int64)"
      ]
     },
     "metadata": {},
     "output_type": "display_data"
    },
    {
     "name": "stdout",
     "output_type": "stream",
     "text": [
      "Start list of containers ------------------------\n"
     ]
    },
    {
     "data": {
      "text/plain": [
       "array([1, 2, 3, 2, 3, 1])"
      ]
     },
     "metadata": {},
     "output_type": "display_data"
    },
    {
     "name": "stdout",
     "output_type": "stream",
     "text": [
      "6\n",
      "Start render ------------------------------------\n"
     ]
    },
    {
     "data": {
      "text/plain": [
       "array([[[0, 0, 0],\n",
       "        [0, 0, 0],\n",
       "        [0, 0, 0]],\n",
       "\n",
       "       [[2, 0, 0],\n",
       "        [0, 0, 0],\n",
       "        [0, 0, 0]],\n",
       "\n",
       "       [[0, 0, 0],\n",
       "        [2, 2, 0],\n",
       "        [0, 0, 0]]])"
      ]
     },
     "metadata": {},
     "output_type": "display_data"
    },
    {
     "name": "stdout",
     "output_type": "stream",
     "text": [
      "End render --------------------------------------\n",
      "9\n",
      "Reward: 13\n"
     ]
    },
    {
     "data": {
      "text/plain": [
       "array([[[0, 0, 0],\n",
       "        [2, 2, 0],\n",
       "        [0, 0, 0]],\n",
       "\n",
       "       [[2, 0, 0],\n",
       "        [1, 1, 0],\n",
       "        [0, 0, 0]],\n",
       "\n",
       "       [[0, 0, 0],\n",
       "        [2, 2, 3],\n",
       "        [3, 0, 0]]])"
      ]
     },
     "metadata": {},
     "output_type": "display_data"
    },
    {
     "name": "stdout",
     "output_type": "stream",
     "text": [
      "End list of containers --------------------------\n"
     ]
    },
    {
     "data": {
      "text/plain": [
       "array([], dtype=int64)"
      ]
     },
     "metadata": {},
     "output_type": "display_data"
    },
    {
     "name": "stdout",
     "output_type": "stream",
     "text": [
      "Start list of containers ------------------------\n"
     ]
    },
    {
     "data": {
      "text/plain": [
       "array([1, 1, 1, 1, 3, 1, 3, 2, 2, 2, 2, 3, 3, 3, 2, 1, 1, 1, 3, 2, 3, 3,\n",
       "       2, 2])"
      ]
     },
     "metadata": {},
     "output_type": "display_data"
    },
    {
     "name": "stdout",
     "output_type": "stream",
     "text": [
      "24\n",
      "Start render ------------------------------------\n"
     ]
    },
    {
     "data": {
      "text/plain": [
       "array([[[2, 0, 0],\n",
       "        [0, 0, 0],\n",
       "        [0, 0, 0]],\n",
       "\n",
       "       [[0, 0, 0],\n",
       "        [2, 0, 0],\n",
       "        [2, 0, 0]],\n",
       "\n",
       "       [[0, 0, 0],\n",
       "        [0, 0, 0],\n",
       "        [2, 0, 0]]])"
      ]
     },
     "metadata": {},
     "output_type": "display_data"
    },
    {
     "name": "stdout",
     "output_type": "stream",
     "text": [
      "End render --------------------------------------\n",
      "27\n",
      "Reward: 52\n"
     ]
    },
    {
     "data": {
      "text/plain": [
       "array([[[2, 2, 2],\n",
       "        [2, 2, 2],\n",
       "        [2, 2, 2]],\n",
       "\n",
       "       [[1, 1, 1],\n",
       "        [2, 1, 1],\n",
       "        [2, 1, 1]],\n",
       "\n",
       "       [[3, 3, 3],\n",
       "        [3, 3, 3],\n",
       "        [2, 3, 3]]])"
      ]
     },
     "metadata": {},
     "output_type": "display_data"
    },
    {
     "name": "stdout",
     "output_type": "stream",
     "text": [
      "End list of containers --------------------------\n"
     ]
    },
    {
     "data": {
      "text/plain": [
       "array([1])"
      ]
     },
     "metadata": {},
     "output_type": "display_data"
    },
    {
     "name": "stdout",
     "output_type": "stream",
     "text": [
      "Start list of containers ------------------------\n"
     ]
    },
    {
     "data": {
      "text/plain": [
       "array([2, 2, 1, 2, 3, 1, 1, 2, 1, 2, 3, 3, 1, 3, 1, 3, 2, 1, 2, 3, 3, 2,\n",
       "       1, 3])"
      ]
     },
     "metadata": {},
     "output_type": "display_data"
    },
    {
     "name": "stdout",
     "output_type": "stream",
     "text": [
      "24\n",
      "Start render ------------------------------------\n"
     ]
    },
    {
     "data": {
      "text/plain": [
       "array([[[3, 0, 0],\n",
       "        [0, 0, 0],\n",
       "        [0, 0, 0]],\n",
       "\n",
       "       [[1, 0, 0],\n",
       "        [1, 1, 0],\n",
       "        [1, 0, 0]],\n",
       "\n",
       "       [[0, 0, 0],\n",
       "        [0, 0, 0],\n",
       "        [0, 0, 0]]])"
      ]
     },
     "metadata": {},
     "output_type": "display_data"
    },
    {
     "name": "stdout",
     "output_type": "stream",
     "text": [
      "End render --------------------------------------\n",
      "27\n",
      "Reward: 63\n"
     ]
    },
    {
     "data": {
      "text/plain": [
       "array([[[3, 1, 2],\n",
       "        [2, 2, 1],\n",
       "        [2, 2, 2]],\n",
       "\n",
       "       [[1, 1, 1],\n",
       "        [1, 1, 1],\n",
       "        [1, 1, 1]],\n",
       "\n",
       "       [[3, 3, 1],\n",
       "        [3, 3, 3],\n",
       "        [3, 3, 3]]])"
      ]
     },
     "metadata": {},
     "output_type": "display_data"
    },
    {
     "name": "stdout",
     "output_type": "stream",
     "text": [
      "End list of containers --------------------------\n"
     ]
    },
    {
     "data": {
      "text/plain": [
       "array([2, 2])"
      ]
     },
     "metadata": {},
     "output_type": "display_data"
    },
    {
     "name": "stdout",
     "output_type": "stream",
     "text": [
      "Start list of containers ------------------------\n"
     ]
    },
    {
     "data": {
      "text/plain": [
       "array([1, 3, 2, 2, 3, 2, 3, 3, 1, 2, 3, 2, 1, 3, 2, 1, 1, 1])"
      ]
     },
     "metadata": {},
     "output_type": "display_data"
    },
    {
     "name": "stdout",
     "output_type": "stream",
     "text": [
      "18\n",
      "Start render ------------------------------------\n"
     ]
    },
    {
     "data": {
      "text/plain": [
       "array([[[0, 0, 0],\n",
       "        [2, 2, 0],\n",
       "        [0, 0, 0]],\n",
       "\n",
       "       [[2, 0, 0],\n",
       "        [2, 2, 0],\n",
       "        [0, 0, 0]],\n",
       "\n",
       "       [[2, 0, 0],\n",
       "        [0, 0, 0],\n",
       "        [0, 0, 0]]])"
      ]
     },
     "metadata": {},
     "output_type": "display_data"
    },
    {
     "name": "stdout",
     "output_type": "stream",
     "text": [
      "End render --------------------------------------\n",
      "24\n",
      "Reward: 51\n"
     ]
    },
    {
     "data": {
      "text/plain": [
       "array([[[2, 2, 0],\n",
       "        [2, 2, 2],\n",
       "        [2, 2, 2]],\n",
       "\n",
       "       [[2, 1, 1],\n",
       "        [2, 2, 1],\n",
       "        [1, 1, 1]],\n",
       "\n",
       "       [[2, 0, 0],\n",
       "        [3, 3, 3],\n",
       "        [3, 3, 3]]])"
      ]
     },
     "metadata": {},
     "output_type": "display_data"
    },
    {
     "name": "stdout",
     "output_type": "stream",
     "text": [
      "End list of containers --------------------------\n"
     ]
    },
    {
     "data": {
      "text/plain": [
       "array([], dtype=int64)"
      ]
     },
     "metadata": {},
     "output_type": "display_data"
    },
    {
     "name": "stdout",
     "output_type": "stream",
     "text": [
      "Start list of containers ------------------------\n"
     ]
    },
    {
     "data": {
      "text/plain": [
       "array([2, 3, 2, 3, 1, 3, 1, 3, 3, 2, 3, 2, 1, 1, 2, 1, 2, 1])"
      ]
     },
     "metadata": {},
     "output_type": "display_data"
    },
    {
     "name": "stdout",
     "output_type": "stream",
     "text": [
      "18\n",
      "Start render ------------------------------------\n"
     ]
    },
    {
     "data": {
      "text/plain": [
       "array([[[0, 0, 0],\n",
       "        [0, 0, 0],\n",
       "        [3, 0, 0]],\n",
       "\n",
       "       [[3, 3, 0],\n",
       "        [1, 0, 0],\n",
       "        [1, 0, 0]],\n",
       "\n",
       "       [[0, 0, 0],\n",
       "        [1, 0, 0],\n",
       "        [1, 0, 0]]])"
      ]
     },
     "metadata": {},
     "output_type": "display_data"
    },
    {
     "name": "stdout",
     "output_type": "stream",
     "text": [
      "End render --------------------------------------\n",
      "25\n",
      "Reward: 7\n"
     ]
    },
    {
     "data": {
      "text/plain": [
       "array([[[1, 2, 0],\n",
       "        [2, 2, 2],\n",
       "        [3, 2, 2]],\n",
       "\n",
       "       [[3, 3, 1],\n",
       "        [1, 1, 1],\n",
       "        [1, 1, 1]],\n",
       "\n",
       "       [[3, 3, 0],\n",
       "        [1, 3, 3],\n",
       "        [1, 3, 3]]])"
      ]
     },
     "metadata": {},
     "output_type": "display_data"
    },
    {
     "name": "stdout",
     "output_type": "stream",
     "text": [
      "End list of containers --------------------------\n"
     ]
    },
    {
     "data": {
      "text/plain": [
       "array([], dtype=int64)"
      ]
     },
     "metadata": {},
     "output_type": "display_data"
    }
   ],
   "source": [
    "for percentage in np.arange(0.0, 0.9, 0.1):\n",
    "    validateEnv = ContainerEnv(amountOfShips, containersOnShip, width, length, height, percentage)\n",
    "    state = validateEnv.reset()\n",
    "    print('Start list of containers ------------------------')\n",
    "    display(validateEnv.listOfContainers)\n",
    "    print(len(validateEnv.listOfContainers))\n",
    "    print('Start render ------------------------------------')\n",
    "    validateEnv.render()\n",
    "    reward = 0\n",
    "    dones = False\n",
    "    while not dones:\n",
    "        action, _states = model.predict(state, deterministic=True)\n",
    "        state, rewards, dones, info = validateEnv.step(action)\n",
    "        reward += rewards\n",
    "    print('End render --------------------------------------')\n",
    "    print((state['grid'].flatten() > 0).sum())\n",
    "    print(\"Reward: \" + str(reward))\n",
    "    validateEnv.render()\n",
    "    print('End list of containers --------------------------')\n",
    "    display(validateEnv.listOfContainers)"
   ]
  },
  {
   "cell_type": "code",
   "execution_count": null,
   "id": "0574976d",
   "metadata": {},
   "outputs": [],
   "source": []
  }
 ],
 "metadata": {
  "kernelspec": {
   "display_name": "Python 3 (ipykernel)",
   "language": "python",
   "name": "python3"
  },
  "language_info": {
   "codemirror_mode": {
    "name": "ipython",
    "version": 3
   },
   "file_extension": ".py",
   "mimetype": "text/x-python",
   "name": "python",
   "nbconvert_exporter": "python",
   "pygments_lexer": "ipython3",
   "version": "3.9.15"
  }
 },
 "nbformat": 4,
 "nbformat_minor": 5
}
