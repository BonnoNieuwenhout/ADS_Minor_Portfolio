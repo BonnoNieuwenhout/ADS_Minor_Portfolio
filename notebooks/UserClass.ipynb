{
 "cells": [
  {
   "cell_type": "code",
   "execution_count": 1,
   "id": "8d4533fa",
   "metadata": {},
   "outputs": [
    {
     "name": "stdout",
     "output_type": "stream",
     "text": [
      "writing file userclass.py\n"
     ]
    }
   ],
   "source": [
    "%%write_and_run userclass.py\n",
    "\n",
    "import json\n",
    "\n",
    "class User():\n",
    "    def __init__(self, Favorieten_Recepten, Favorieten_Ingredienten, UserTag):\n",
    "        \n",
    "        self.Favorieten_Recepten = Favorieten_Recepten, \n",
    "        self.Favorieten_Ingredienten = Favorieten_Ingredienten, \n",
    "        self.UserTag = UserTag\n",
    "        \n",
    "    def toJson(self):\n",
    "        return json.dumps(self, default=lambda o: o.__dict__)"
   ]
  },
  {
   "cell_type": "code",
   "execution_count": null,
   "id": "d80766d6",
   "metadata": {},
   "outputs": [],
   "source": []
  }
 ],
 "metadata": {
  "kernelspec": {
   "display_name": "Python 3 (ipykernel)",
   "language": "python",
   "name": "python3"
  },
  "language_info": {
   "codemirror_mode": {
    "name": "ipython",
    "version": 3
   },
   "file_extension": ".py",
   "mimetype": "text/x-python",
   "name": "python",
   "nbconvert_exporter": "python",
   "pygments_lexer": "ipython3",
   "version": "3.9.13"
  }
 },
 "nbformat": 4,
 "nbformat_minor": 5
}
