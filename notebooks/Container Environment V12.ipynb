{
 "cells": [
  {
   "cell_type": "code",
   "execution_count": 1,
   "id": "2ecc4a36",
   "metadata": {},
   "outputs": [],
   "source": [
    "import gym\n",
    "import numpy as np\n",
    "import pandas as pd\n",
    "from gym import Env\n",
    "from gym.spaces import Discrete, Box, Dict, Tuple, MultiBinary, MultiDiscrete\n",
    "from IPython.display import display\n",
    "import random\n",
    "import os\n",
    "from stable_baselines3 import PPO, A2C\n",
    "from stable_baselines3.common.vec_env import VecFrameStack\n",
    "from stable_baselines3.common.vec_env import DummyVecEnv, SubprocVecEnv\n",
    "from stable_baselines3.common.evaluation import evaluate_policy"
   ]
  },
  {
   "cell_type": "code",
   "execution_count": 2,
   "id": "fbbd2627",
   "metadata": {},
   "outputs": [
    {
     "name": "stdout",
     "output_type": "stream",
     "text": [
      "0.4618951910329462\n"
     ]
    }
   ],
   "source": [
    "random.seed()\n",
    "randomN = random.random()\n",
    "print(randomN)"
   ]
  },
  {
   "cell_type": "code",
   "execution_count": 3,
   "id": "7f1a4d99",
   "metadata": {},
   "outputs": [],
   "source": [
    "random.seed(randomN)\n",
    "randomNumber = random.random()"
   ]
  },
  {
   "cell_type": "code",
   "execution_count": 4,
   "id": "538a3e9d",
   "metadata": {},
   "outputs": [
    {
     "data": {
      "text/plain": "array([[[0, 1, 3],\n        [0, 0, 0],\n        [3, 2, 2]],\n\n       [[1, 2, 0],\n        [3, 0, 0],\n        [1, 3, 2]],\n\n       [[1, 0, 3],\n        [1, 2, 3],\n        [1, 2, 3]]])"
     },
     "execution_count": 4,
     "metadata": {},
     "output_type": "execute_result"
    }
   ],
   "source": [
    "Box(low=0, high=3, shape=(3, 3, 3), dtype=int).sample()"
   ]
  },
  {
   "cell_type": "code",
   "execution_count": 5,
   "id": "36e6b389",
   "metadata": {},
   "outputs": [],
   "source": [
    "def fillInContainerGridRandom(grid, action_space, upperbound, percentage=0.25):\n",
    "    filledIn = 0\n",
    "    amountToFillIn = int((grid.shape[0] * grid.shape[1]) * percentage)\n",
    "    while (filledIn < amountToFillIn):\n",
    "        indexToFillIn = action_space.sample()\n",
    "        rowToFillIn = grid[indexToFillIn[0]][indexToFillIn[1]]\n",
    "        if (np.all(rowToFillIn)):\n",
    "            continue\n",
    "        elif (not np.any(rowToFillIn)):\n",
    "            checkGridCopy = grid.copy()\n",
    "            x_values_list = np.array([], dtype=int)\n",
    "            for x_spot in checkGridCopy[indexToFillIn[0]]:\n",
    "                if (x_spot[0] == 0):\n",
    "                    continue\n",
    "                x_values_list = np.append(x_values_list, x_spot[0])\n",
    "            uniqueListOfNumbers = list(set(x_values_list))\n",
    "            num_values = len(uniqueListOfNumbers)\n",
    "            if (num_values < 2):\n",
    "                randomShipNumber = random.randint(1, upperbound)\n",
    "                checkGridCopy[indexToFillIn[0]][indexToFillIn[1]], score = fillContainerInList(rowToFillIn, randomShipNumber)\n",
    "                #We encountered a boxed in(e.g. [1,0,3])\n",
    "                if(checkForBoxedInContainer(checkGridCopy[indexToFillIn[0]]) < 0):\n",
    "                    continue\n",
    "            else:\n",
    "                randomShipNumber = uniqueListOfNumbers[-1]\n",
    "                checkGridCopy[indexToFillIn[0]][indexToFillIn[1]], score = fillContainerInList(rowToFillIn, randomShipNumber)\n",
    "                #We encountered a boxed in(e.g. [1,3,x]) where x is to be placed and is equal to 1\n",
    "                if(checkForBoxedInContainer(checkGridCopy[indexToFillIn[0]]) < 0):\n",
    "                    randomShipNumber = uniqueListOfNumbers[0]\n",
    "        else:\n",
    "            #We don't need to check for box in since we add to the current x_row\n",
    "            randomShipNumber = rowToFillIn[0]\n",
    "            \n",
    "        grid[indexToFillIn[0]][indexToFillIn[1]], score = fillContainerInList(rowToFillIn, randomShipNumber)\n",
    "        filledIn +=1\n",
    "    return grid\n",
    "\n",
    "def fillContainerInList(currentList, container):\n",
    "    newList = currentList.copy()\n",
    "    indexesOfZeros = np.where(newList == 0)[0]\n",
    "    # List is full of numbers\n",
    "    if (len(indexesOfZeros) < 1):\n",
    "        return newList, -3\n",
    "    else:\n",
    "        indexToChange = indexesOfZeros[0]\n",
    "        newList[indexToChange] = container\n",
    "        return newList, 0"
   ]
  },
  {
   "cell_type": "code",
   "execution_count": 6,
   "id": "d0452c73",
   "metadata": {},
   "outputs": [],
   "source": [
    "def fillSingleContainerAtPosition(grid, y, x, containerList):\n",
    "    bottomValue = grid[y][x][0]\n",
    "    container = containerList[-1]\n",
    "    #We get the new row and score of putting a container there based in the list availability\n",
    "    grid[y][x], score = fillContainerInList(grid[y][x], container)\n",
    "    if (score == 0):\n",
    "        #Also give a reward if the same number is used\n",
    "        if (bottomValue == 0):\n",
    "            score += 2\n",
    "            score += checkForBoxedInContainer(grid[y])\n",
    "        elif (bottomValue == container):\n",
    "            score += 5\n",
    "        else:\n",
    "            score -= 3\n",
    "        return grid, score, np.delete(containerList, -1)\n",
    "    else:\n",
    "        return grid, score, containerList"
   ]
  },
  {
   "cell_type": "code",
   "execution_count": 7,
   "id": "4bc0bbec",
   "metadata": {},
   "outputs": [],
   "source": [
    "def checkForBoxedInContainer(listOfContainerRows):\n",
    "    x_values_list = np.array([], dtype=int)\n",
    "    for x_spot in listOfContainerRows:\n",
    "        x_values_list = np.append(x_values_list, x_spot[0])\n",
    "    numberToCheckFor = np.nan\n",
    "    numberToVerify = np.nan\n",
    "    encounteredZero = False\n",
    "    for item in x_values_list:\n",
    "        #Skip empty position on grid\n",
    "        if (item != 0):\n",
    "            #If we already encountered a number and zero counters is more than 0, we will box in a zero -> penalty\n",
    "            # e.g. x 0 0 x\n",
    "            if ((not np.isnan(numberToCheckFor)) & encounteredZero):\n",
    "                return -4\n",
    "            if (np.isnan(numberToCheckFor)):\n",
    "                numberToCheckFor = item\n",
    "            if (not np.isnan(numberToVerify)):\n",
    "                if (item != numberToVerify):\n",
    "                    #The previous item is boxed in since that item is not equal to where we started and the next item is also different\n",
    "                    return -4\n",
    "            #Set number to verify if boxed in\n",
    "            if ((item != numberToCheckFor) & (np.isnan(numberToVerify))):\n",
    "                numberToVerify = item\n",
    "        else:\n",
    "            # Only check once we encountered a number\n",
    "            # e.g. 0 x ... doesn't count\n",
    "            if (not np.isnan(numberToCheckFor)):\n",
    "                encounteredZero = True\n",
    "\n",
    "    return 0"
   ]
  },
  {
   "cell_type": "code",
   "execution_count": 8,
   "id": "c35e7487",
   "metadata": {},
   "outputs": [],
   "source": [
    "def getListOfContainers(numberOfShips, containersPerShip, multiplication=1):\n",
    "    containers = np.array([], dtype=int)\n",
    "    for i in range(multiplication):\n",
    "        for i in range(1, numberOfShips + 1):\n",
    "            containers = np.append(containers, np.full((1, containersPerShip), i, dtype=int))\n",
    "    random.shuffle(containers)\n",
    "    return containers\n",
    "\n",
    "def getContainersCountAsList(containerList, current_count=None):\n",
    "    numbers, counts = np.unique(containerList, return_counts=True)\n",
    "    if (type(current_count) == type(None)):\n",
    "        current_count = np.zeros(len(counts), dtype=int)\n",
    "    #Iterate through the numbers and assign their count\n",
    "    if (len(numbers) > 0):\n",
    "        startIndex = numbers[-1]\n",
    "        for idx, number in enumerate(numbers):\n",
    "            current_count[number-1] = counts[idx]\n",
    "        current_count[numbers[-1]:] = 0\n",
    "        return current_count\n",
    "    #Numbers that are not in the list, but still exist in the dict will be set to 0\n",
    "    current_count[0:] = 0\n",
    "    return current_count"
   ]
  },
  {
   "cell_type": "code",
   "execution_count": 9,
   "id": "2e779d7f",
   "metadata": {},
   "outputs": [
    {
     "data": {
      "text/plain": "array([1, 2, 3, 4, 4, 5, 5, 1, 5, 2, 3, 2, 3, 4, 5, 5, 5, 4, 2, 4, 3, 5,\n       1, 4, 4, 2, 2, 1, 3, 5, 1, 5, 5, 2, 3, 5, 5, 4, 5, 2, 5, 4, 5, 5,\n       3, 1, 1, 3, 1, 1, 2, 2, 2, 1, 2, 3, 1, 3, 1, 2, 3, 1, 5, 4, 3, 5,\n       4, 5, 5, 1, 3, 2, 1, 5, 5, 4, 4, 3, 1, 2, 1, 5, 3, 3, 3, 4, 2, 4,\n       5, 3, 5, 3, 2, 3, 4, 1, 1, 5, 2, 4, 4, 3, 1, 2, 3, 3, 4, 1, 4, 3,\n       3, 3, 2, 1, 3, 1, 2, 3, 3, 4, 5, 1, 4, 2, 1, 5, 2, 5, 4, 4, 1, 4,\n       1, 3, 1, 4, 4, 1, 2, 2, 1, 3, 2, 2, 2, 3, 2, 5, 2, 5, 5, 2, 4, 5,\n       1, 2, 3, 5, 1, 4, 1, 1, 4, 3, 3, 3, 5, 1, 1, 2, 2, 1, 1, 2, 4, 3,\n       1, 3, 4, 4, 3, 5, 5, 2, 4, 4, 4, 4, 5, 1, 3, 2, 5, 2, 5, 2, 4, 2,\n       4, 4])"
     },
     "metadata": {},
     "output_type": "display_data"
    }
   ],
   "source": [
    "testContainerList = getListOfContainers(5,10,4)\n",
    "display(testContainerList)"
   ]
  },
  {
   "cell_type": "code",
   "execution_count": 10,
   "id": "860f9a69",
   "metadata": {},
   "outputs": [
    {
     "data": {
      "text/plain": "array([40, 40, 40, 40, 40])"
     },
     "metadata": {},
     "output_type": "display_data"
    }
   ],
   "source": [
    "container_count = getContainersCountAsList(testContainerList)\n",
    "display(container_count)"
   ]
  },
  {
   "cell_type": "code",
   "execution_count": 11,
   "id": "e11be227",
   "metadata": {},
   "outputs": [
    {
     "data": {
      "text/plain": "array([1, 2, 1, 0, 0])"
     },
     "metadata": {},
     "output_type": "display_data"
    }
   ],
   "source": [
    "test_dict = getContainersCountAsList(np.array([1, 2, 2, 3]), container_count)\n",
    "display(test_dict)"
   ]
  },
  {
   "cell_type": "code",
   "execution_count": 12,
   "id": "820f0838",
   "metadata": {
    "scrolled": true
   },
   "outputs": [
    {
     "data": {
      "text/plain": "array([[[0, 0, 0],\n        [0, 0, 0],\n        [1, 0, 0]],\n\n       [[2, 0, 0],\n        [3, 0, 0],\n        [3, 0, 0]],\n\n       [[1, 1, 0],\n        [2, 0, 0],\n        [2, 0, 0]]])"
     },
     "metadata": {},
     "output_type": "display_data"
    },
    {
     "data": {
      "text/plain": "array([1, 3, 2, 3, 2, 3, 3, 1, 1, 2, 3, 1, 2, 3, 1, 2, 1, 2, 3, 3, 1, 2,\n       1])"
     },
     "metadata": {},
     "output_type": "display_data"
    },
    {
     "data": {
      "text/plain": "array([[[2, 0, 0],\n        [0, 0, 0],\n        [1, 0, 0]],\n\n       [[2, 0, 0],\n        [3, 0, 0],\n        [3, 0, 0]],\n\n       [[1, 1, 0],\n        [2, 0, 0],\n        [2, 0, 0]]])"
     },
     "metadata": {},
     "output_type": "display_data"
    },
    {
     "data": {
      "text/plain": "-2"
     },
     "metadata": {},
     "output_type": "display_data"
    }
   ],
   "source": [
    "x = 3\n",
    "y = 3\n",
    "z = 3\n",
    "upperbound = 3\n",
    "empty3dArray = np.zeros(shape=(y, x, z), dtype=int)\n",
    "action_space = MultiDiscrete([y, x], dtype=int)\n",
    "empty3dArray = fillInContainerGridRandom(empty3dArray, action_space, upperbound, 0.9)\n",
    "containers = getListOfContainers(upperbound, 4, z-1)\n",
    "display(empty3dArray)\n",
    "df, score, lists = fillSingleContainerAtPosition(empty3dArray, 0, 0, containers)\n",
    "display(lists)\n",
    "display(df)\n",
    "display(score)"
   ]
  },
  {
   "cell_type": "code",
   "execution_count": 13,
   "id": "aa310d58",
   "metadata": {},
   "outputs": [
    {
     "data": {
      "text/plain": "array([[[2, 0, 0],\n        [0, 0, 0],\n        [1, 0, 0]],\n\n       [[2, 0, 0],\n        [3, 0, 0],\n        [3, 0, 0]],\n\n       [[1, 1, 0],\n        [2, 0, 0],\n        [2, 0, 0]]])"
     },
     "metadata": {},
     "output_type": "display_data"
    },
    {
     "data": {
      "text/plain": "array([1, 2, 1, 3, 3, 3, 2, 2])"
     },
     "metadata": {},
     "output_type": "display_data"
    },
    {
     "data": {
      "text/plain": "array([[[2, 0, 0],\n        [0, 0, 0],\n        [1, 1, 0]],\n\n       [[2, 0, 0],\n        [3, 0, 0],\n        [3, 0, 0]],\n\n       [[1, 1, 0],\n        [2, 0, 0],\n        [2, 0, 0]]])"
     },
     "metadata": {},
     "output_type": "display_data"
    },
    {
     "data": {
      "text/plain": "5"
     },
     "metadata": {},
     "output_type": "display_data"
    }
   ],
   "source": [
    "containers = getListOfContainers(3, 3)\n",
    "display(df)\n",
    "df, score, lists = fillSingleContainerAtPosition(df, 0, 2, containers)\n",
    "display(lists)\n",
    "display(df)\n",
    "display(score)"
   ]
  },
  {
   "cell_type": "code",
   "execution_count": 14,
   "id": "2d7fe7c9",
   "metadata": {
    "scrolled": true
   },
   "outputs": [
    {
     "data": {
      "text/plain": "array([3, 2, 1, 1, 3, 1, 3, 2])"
     },
     "metadata": {},
     "output_type": "display_data"
    },
    {
     "data": {
      "text/plain": "array([[[2, 0, 0],\n        [2, 0, 0],\n        [1, 1, 0]],\n\n       [[2, 0, 0],\n        [3, 0, 0],\n        [3, 0, 0]],\n\n       [[1, 1, 0],\n        [2, 0, 0],\n        [2, 0, 0]]])"
     },
     "metadata": {},
     "output_type": "display_data"
    },
    {
     "data": {
      "text/plain": "False"
     },
     "metadata": {},
     "output_type": "display_data"
    },
    {
     "data": {
      "text/plain": "2"
     },
     "metadata": {},
     "output_type": "display_data"
    }
   ],
   "source": [
    "containers = getListOfContainers(3, 3)\n",
    "df, score, lists = fillSingleContainerAtPosition(df, 0, 1, containers)\n",
    "display(lists)\n",
    "display(df)\n",
    "display(np.all(df.flatten() > 0))\n",
    "display(score)"
   ]
  },
  {
   "cell_type": "code",
   "execution_count": 15,
   "id": "4771d1bc",
   "metadata": {},
   "outputs": [],
   "source": [
    "action = MultiDiscrete([3, 3], dtype=int).sample()"
   ]
  },
  {
   "cell_type": "code",
   "execution_count": 16,
   "id": "89a17317",
   "metadata": {},
   "outputs": [
    {
     "data": {
      "text/plain": "array([0, 2])"
     },
     "metadata": {},
     "output_type": "display_data"
    }
   ],
   "source": [
    "display(action)"
   ]
  },
  {
   "cell_type": "code",
   "execution_count": 17,
   "id": "68f6d7b3",
   "metadata": {},
   "outputs": [
    {
     "data": {
      "text/plain": "0"
     },
     "metadata": {},
     "output_type": "display_data"
    }
   ],
   "source": [
    "display(action[0])"
   ]
  },
  {
   "cell_type": "code",
   "execution_count": 18,
   "id": "6dc19d6b",
   "metadata": {},
   "outputs": [
    {
     "data": {
      "text/plain": "5"
     },
     "execution_count": 18,
     "metadata": {},
     "output_type": "execute_result"
    }
   ],
   "source": [
    "Discrete(5, start=1).n"
   ]
  },
  {
   "cell_type": "code",
   "execution_count": 19,
   "id": "b2d6ce1e",
   "metadata": {},
   "outputs": [
    {
     "data": {
      "text/plain": "3"
     },
     "execution_count": 19,
     "metadata": {},
     "output_type": "execute_result"
    }
   ],
   "source": [
    "Discrete(5, start=1).sample()"
   ]
  },
  {
   "cell_type": "code",
   "execution_count": 20,
   "id": "3ced63a3",
   "metadata": {},
   "outputs": [
    {
     "data": {
      "text/plain": "OrderedDict([('1', 0), ('2', 0), ('3', 0), ('4', 3)])"
     },
     "execution_count": 20,
     "metadata": {},
     "output_type": "execute_result"
    }
   ],
   "source": [
    "Dict(spaces={\n",
    "    '1': Discrete(5),\n",
    "    '2': Discrete(5),\n",
    "    '3': Discrete(5),\n",
    "    '4': Discrete(5),\n",
    "}).sample()"
   ]
  },
  {
   "cell_type": "code",
   "execution_count": 21,
   "id": "c9364604",
   "metadata": {},
   "outputs": [],
   "source": [
    "# observation space\n",
    "observation_space_test = Dict({\n",
    "    'grid':\n",
    "        Box(low=0,\n",
    "                   high=5,\n",
    "                   shape=(3, 3, 3), dtype=int),\n",
    "    'container':\n",
    "        Discrete(5),\n",
    "    'containerCount':\n",
    "        MultiDiscrete(np.full(shape=(5,), fill_value=5,dtype=int))})"
   ]
  },
  {
   "cell_type": "code",
   "execution_count": 22,
   "id": "e5f4e292",
   "metadata": {},
   "outputs": [
    {
     "name": "stdout",
     "output_type": "stream",
     "text": [
      "OrderedDict([('container', 0), ('containerCount', array([0, 2, 4, 2, 0], dtype=int64)), ('grid', array([[[1, 3, 0],\n",
      "        [4, 2, 5],\n",
      "        [3, 5, 0]],\n",
      "\n",
      "       [[4, 3, 0],\n",
      "        [4, 0, 2],\n",
      "        [3, 2, 0]],\n",
      "\n",
      "       [[0, 0, 2],\n",
      "        [4, 4, 3],\n",
      "        [1, 0, 5]]]))])\n"
     ]
    }
   ],
   "source": [
    "print(observation_space_test.sample())"
   ]
  },
  {
   "cell_type": "markdown",
   "id": "0072aabd",
   "metadata": {},
   "source": [
    "# Create environment"
   ]
  },
  {
   "cell_type": "code",
   "execution_count": 23,
   "id": "44a2ebba",
   "metadata": {},
   "outputs": [],
   "source": [
    "class ContainerEnv(Env):\n",
    "    \"Custom Environment that follows gym interface\"\n",
    "    metadata = {'render.modes': ['human']}\n",
    "\n",
    "    def __init__(self, numberOfShips, containersPerShip, boxWidth, boxLength, boxHeight, percentage=0.0):\n",
    "        super(ContainerEnv, self).__init__()\n",
    "        self.numberOfShips = numberOfShips\n",
    "        self.containersPerShip = containersPerShip\n",
    "        self.percentage = percentage\n",
    "        self.maxRows = boxLength\n",
    "        self.maxColumns = boxWidth\n",
    "        self.maxHeight = boxHeight\n",
    "        self.maxStepsCount = ((self.maxRows * self.maxColumns * self.maxHeight) * self.maxHeight)\n",
    "        self.action_space = MultiDiscrete([self.maxRows, self.maxColumns], dtype=int)\n",
    "        self.observation_space = Dict(\n",
    "            spaces={\n",
    "                \"grid\": Box(low=0, high=numberOfShips, shape=(self.maxRows, self.maxColumns, self.maxHeight), dtype=int),\n",
    "                \"container\": Discrete(numberOfShips+2, start=1),\n",
    "                \"containerCount\": MultiDiscrete(np.full(shape=(numberOfShips,), fill_value=(self.maxRows * self.maxColumns * self.maxHeight),dtype=int))\n",
    "            }\n",
    "        )\n",
    "        self.listOfContainers = getListOfContainers(self.numberOfShips, self.containersPerShip, self.maxHeight-1)\n",
    "        self.containerCount = getContainersCountAsList(self.listOfContainers)\n",
    "        self.containerGrid = fillInContainerGridRandom(np.zeros(shape=(self.maxRows, self.maxColumns, self.maxHeight), dtype=int), \n",
    "                                                       self.action_space, \n",
    "                                                       self.numberOfShips,\n",
    "                                                       self.percentage)\n",
    "    def step(self, action):\n",
    "        self.maxStepsCount -= 1\n",
    "        grid, reward, containerList = fillSingleContainerAtPosition(self.containerGrid, action[0], action[1], self.listOfContainers)\n",
    "        self.containerGrid = grid\n",
    "        self.listOfContainers = containerList\n",
    "        self.containerCount = getContainersCountAsList(self.listOfContainers, self.containerCount)\n",
    "        info = {\"TimeLimit.truncated\": False}\n",
    "        # Check if there are no more containers to place\n",
    "        if ((len(self.listOfContainers) == 0) | np.all(self.containerGrid.flatten() > 0)):\n",
    "            obs = {'containerCount': self.containerCount, 'container': 0, 'grid': self.containerGrid}\n",
    "            return obs, reward, True, info\n",
    "        else:\n",
    "            obs = {'containerCount': self.containerCount, 'container': int(self.listOfContainers[-1]),\n",
    "                   'grid': self.containerGrid}\n",
    "            if (self.maxStepsCount == 0):\n",
    "                info[\"TimeLimit.truncated\"] = True\n",
    "                return obs, reward, True, info\n",
    "            return obs, reward, False, info\n",
    "    \n",
    "    def reset(self):\n",
    "        self.maxStepsCount = ((self.maxRows * self.maxColumns * self.maxHeight) * self.maxHeight)\n",
    "        self.containerGrid = fillInContainerGridRandom(np.zeros(shape=(self.maxRows, self.maxColumns, self.maxHeight), dtype=int), \n",
    "                                                       self.action_space, \n",
    "                                                       self.numberOfShips,\n",
    "                                                       self.percentage)\n",
    "        self.listOfContainers = getListOfContainers(self.numberOfShips, \n",
    "                                                    #random.randint(max(1, self.containersPerShip - 5), self.containersPerShip + 5),\n",
    "                                                    self.containersPerShip,\n",
    "                                                    self.maxHeight-1)\n",
    "        self.containerCount = getContainersCountAsList(self.listOfContainers)\n",
    "        obs = {'containerCount': self.containerCount, 'container': int(self.listOfContainers[-1]), 'grid': self.containerGrid}\n",
    "        return obs\n",
    "    \n",
    "    def render(self, mode='human', close=False):\n",
    "        display(self.containerGrid)\n",
    "    def close (self):\n",
    "        display(self.containerGrid)"
   ]
  },
  {
   "cell_type": "code",
   "execution_count": 24,
   "id": "2f28fca3",
   "metadata": {},
   "outputs": [],
   "source": [
    "from stable_baselines3.common.env_checker import check_env\n",
    "\n",
    "env = ContainerEnv(3, 3, 1, 3, 3)\n",
    "# It will check your custom environment and output additional warnings if needed\n",
    "#check_env(env)"
   ]
  },
  {
   "cell_type": "code",
   "execution_count": 25,
   "id": "e25423e3",
   "metadata": {
    "scrolled": true
   },
   "outputs": [
    {
     "data": {
      "text/plain": "MultiDiscrete([3 3])"
     },
     "metadata": {},
     "output_type": "display_data"
    },
    {
     "data": {
      "text/plain": "Dict('container': Discrete(5, start=1), 'containerCount': MultiDiscrete([27 27 27]), 'grid': Box(0, 3, (3, 3, 3), int32))"
     },
     "metadata": {},
     "output_type": "display_data"
    },
    {
     "data": {
      "text/plain": "{'containerCount': array([8, 8, 8]),\n 'container': 1,\n 'grid': array([[[0, 0, 0],\n         [0, 0, 0],\n         [0, 0, 0]],\n \n        [[0, 0, 0],\n         [0, 0, 0],\n         [0, 0, 0]],\n \n        [[0, 0, 0],\n         [0, 0, 0],\n         [0, 0, 0]]])}"
     },
     "metadata": {},
     "output_type": "display_data"
    }
   ],
   "source": [
    "numberOfShips = 3\n",
    "containersPerShip = 4\n",
    "boxHeight = 3\n",
    "boxWidth = 3\n",
    "boxLength = 3\n",
    "env = ContainerEnv(numberOfShips, containersPerShip, boxWidth, boxLength, boxHeight)\n",
    "display(env.action_space)\n",
    "display(env.observation_space)\n",
    "display(env.reset())"
   ]
  },
  {
   "cell_type": "markdown",
   "id": "e331be2b",
   "metadata": {},
   "source": [
    "# Test environment"
   ]
  },
  {
   "cell_type": "code",
   "execution_count": 26,
   "id": "8c1a6e94",
   "metadata": {
    "scrolled": true
   },
   "outputs": [
    {
     "data": {
      "text/plain": "{'containerCount': array([8, 8, 8]),\n 'container': 2,\n 'grid': array([[[0, 0, 0],\n         [0, 0, 0],\n         [0, 0, 0]],\n \n        [[0, 0, 0],\n         [0, 0, 0],\n         [0, 0, 0]],\n \n        [[0, 0, 0],\n         [0, 0, 0],\n         [0, 0, 0]]])}"
     },
     "metadata": {},
     "output_type": "display_data"
    },
    {
     "name": "stdout",
     "output_type": "stream",
     "text": [
      "Episode:1 Score:-15\n",
      "final env state\n"
     ]
    },
    {
     "data": {
      "text/plain": "{'containerCount': array([0, 0, 0]),\n 'container': 0,\n 'grid': array([[[2, 1, 3],\n         [2, 3, 2],\n         [3, 2, 3]],\n \n        [[1, 3, 0],\n         [2, 3, 0],\n         [1, 1, 0]],\n \n        [[2, 2, 1],\n         [2, 1, 1],\n         [3, 1, 3]]])}"
     },
     "metadata": {},
     "output_type": "display_data"
    },
    {
     "data": {
      "text/plain": "array([], dtype=int32)"
     },
     "metadata": {},
     "output_type": "display_data"
    },
    {
     "data": {
      "text/plain": "{'containerCount': array([8, 8, 8]),\n 'container': 2,\n 'grid': array([[[0, 0, 0],\n         [0, 0, 0],\n         [0, 0, 0]],\n \n        [[0, 0, 0],\n         [0, 0, 0],\n         [0, 0, 0]],\n \n        [[0, 0, 0],\n         [0, 0, 0],\n         [0, 0, 0]]])}"
     },
     "metadata": {},
     "output_type": "display_data"
    },
    {
     "name": "stdout",
     "output_type": "stream",
     "text": [
      "Episode:2 Score:-24\n",
      "final env state\n"
     ]
    },
    {
     "data": {
      "text/plain": "{'containerCount': array([0, 0, 0]),\n 'container': 0,\n 'grid': array([[[1, 1, 3],\n         [3, 1, 3],\n         [2, 0, 0]],\n \n        [[3, 3, 2],\n         [1, 2, 3],\n         [2, 1, 1]],\n \n        [[2, 1, 2],\n         [2, 3, 1],\n         [3, 2, 0]]])}"
     },
     "metadata": {},
     "output_type": "display_data"
    },
    {
     "data": {
      "text/plain": "array([], dtype=int32)"
     },
     "metadata": {},
     "output_type": "display_data"
    },
    {
     "data": {
      "text/plain": "{'containerCount': array([8, 8, 8]),\n 'container': 2,\n 'grid': array([[[0, 0, 0],\n         [0, 0, 0],\n         [0, 0, 0]],\n \n        [[0, 0, 0],\n         [0, 0, 0],\n         [0, 0, 0]],\n \n        [[0, 0, 0],\n         [0, 0, 0],\n         [0, 0, 0]]])}"
     },
     "metadata": {},
     "output_type": "display_data"
    },
    {
     "name": "stdout",
     "output_type": "stream",
     "text": [
      "Episode:3 Score:-76\n",
      "final env state\n"
     ]
    },
    {
     "data": {
      "text/plain": "{'containerCount': array([0, 0, 0]),\n 'container': 0,\n 'grid': array([[[2, 3, 3],\n         [3, 2, 1],\n         [2, 3, 1]],\n \n        [[3, 3, 3],\n         [0, 0, 0],\n         [1, 1, 1]],\n \n        [[2, 2, 2],\n         [1, 2, 1],\n         [3, 1, 2]]])}"
     },
     "metadata": {},
     "output_type": "display_data"
    },
    {
     "data": {
      "text/plain": "array([], dtype=int32)"
     },
     "metadata": {},
     "output_type": "display_data"
    },
    {
     "data": {
      "text/plain": "{'containerCount': array([8, 8, 8]),\n 'container': 3,\n 'grid': array([[[0, 0, 0],\n         [0, 0, 0],\n         [0, 0, 0]],\n \n        [[0, 0, 0],\n         [0, 0, 0],\n         [0, 0, 0]],\n \n        [[0, 0, 0],\n         [0, 0, 0],\n         [0, 0, 0]]])}"
     },
     "metadata": {},
     "output_type": "display_data"
    },
    {
     "name": "stdout",
     "output_type": "stream",
     "text": [
      "Episode:4 Score:-14\n",
      "final env state\n"
     ]
    },
    {
     "data": {
      "text/plain": "{'containerCount': array([0, 0, 0]),\n 'container': 0,\n 'grid': array([[[3, 1, 0],\n         [2, 2, 1],\n         [1, 1, 2]],\n \n        [[2, 2, 0],\n         [3, 1, 3],\n         [3, 3, 3]],\n \n        [[1, 2, 1],\n         [2, 2, 3],\n         [3, 1, 0]]])}"
     },
     "metadata": {},
     "output_type": "display_data"
    },
    {
     "data": {
      "text/plain": "array([], dtype=int32)"
     },
     "metadata": {},
     "output_type": "display_data"
    },
    {
     "data": {
      "text/plain": "{'containerCount': array([8, 8, 8]),\n 'container': 2,\n 'grid': array([[[0, 0, 0],\n         [0, 0, 0],\n         [0, 0, 0]],\n \n        [[0, 0, 0],\n         [0, 0, 0],\n         [0, 0, 0]],\n \n        [[0, 0, 0],\n         [0, 0, 0],\n         [0, 0, 0]]])}"
     },
     "metadata": {},
     "output_type": "display_data"
    },
    {
     "name": "stdout",
     "output_type": "stream",
     "text": [
      "Episode:5 Score:-48\n",
      "final env state\n"
     ]
    },
    {
     "data": {
      "text/plain": "{'containerCount': array([0, 0, 0]),\n 'container': 0,\n 'grid': array([[[3, 3, 1],\n         [1, 1, 1],\n         [2, 1, 3]],\n \n        [[1, 2, 3],\n         [2, 2, 3],\n         [3, 2, 0]],\n \n        [[3, 1, 0],\n         [1, 2, 2],\n         [3, 2, 0]]])}"
     },
     "metadata": {},
     "output_type": "display_data"
    },
    {
     "data": {
      "text/plain": "array([], dtype=int32)"
     },
     "metadata": {},
     "output_type": "display_data"
    },
    {
     "data": {
      "text/plain": "{'containerCount': array([8, 8, 8]),\n 'container': 1,\n 'grid': array([[[0, 0, 0],\n         [0, 0, 0],\n         [0, 0, 0]],\n \n        [[0, 0, 0],\n         [0, 0, 0],\n         [0, 0, 0]],\n \n        [[0, 0, 0],\n         [0, 0, 0],\n         [0, 0, 0]]])}"
     },
     "metadata": {},
     "output_type": "display_data"
    },
    {
     "name": "stdout",
     "output_type": "stream",
     "text": [
      "Episode:6 Score:-30\n",
      "final env state\n"
     ]
    },
    {
     "data": {
      "text/plain": "{'containerCount': array([0, 0, 0]),\n 'container': 0,\n 'grid': array([[[3, 1, 2],\n         [3, 3, 0],\n         [3, 0, 0]],\n \n        [[2, 2, 1],\n         [1, 1, 2],\n         [1, 1, 3]],\n \n        [[1, 2, 3],\n         [3, 1, 2],\n         [2, 2, 3]]])}"
     },
     "metadata": {},
     "output_type": "display_data"
    },
    {
     "data": {
      "text/plain": "array([], dtype=int32)"
     },
     "metadata": {},
     "output_type": "display_data"
    },
    {
     "data": {
      "text/plain": "{'containerCount': array([8, 8, 8]),\n 'container': 3,\n 'grid': array([[[0, 0, 0],\n         [0, 0, 0],\n         [0, 0, 0]],\n \n        [[0, 0, 0],\n         [0, 0, 0],\n         [0, 0, 0]],\n \n        [[0, 0, 0],\n         [0, 0, 0],\n         [0, 0, 0]]])}"
     },
     "metadata": {},
     "output_type": "display_data"
    },
    {
     "name": "stdout",
     "output_type": "stream",
     "text": [
      "Episode:7 Score:-46\n",
      "final env state\n"
     ]
    },
    {
     "data": {
      "text/plain": "{'containerCount': array([0, 0, 0]),\n 'container': 0,\n 'grid': array([[[2, 2, 2],\n         [3, 2, 2],\n         [1, 3, 3]],\n \n        [[3, 0, 0],\n         [1, 2, 1],\n         [3, 3, 2]],\n \n        [[3, 1, 1],\n         [2, 1, 1],\n         [3, 1, 0]]])}"
     },
     "metadata": {},
     "output_type": "display_data"
    },
    {
     "data": {
      "text/plain": "array([], dtype=int32)"
     },
     "metadata": {},
     "output_type": "display_data"
    },
    {
     "data": {
      "text/plain": "{'containerCount': array([8, 8, 8]),\n 'container': 1,\n 'grid': array([[[0, 0, 0],\n         [0, 0, 0],\n         [0, 0, 0]],\n \n        [[0, 0, 0],\n         [0, 0, 0],\n         [0, 0, 0]],\n \n        [[0, 0, 0],\n         [0, 0, 0],\n         [0, 0, 0]]])}"
     },
     "metadata": {},
     "output_type": "display_data"
    },
    {
     "name": "stdout",
     "output_type": "stream",
     "text": [
      "Episode:8 Score:-23\n",
      "final env state\n"
     ]
    },
    {
     "data": {
      "text/plain": "{'containerCount': array([0, 0, 0]),\n 'container': 0,\n 'grid': array([[[0, 0, 0],\n         [1, 3, 3],\n         [3, 2, 3]],\n \n        [[1, 1, 1],\n         [2, 2, 1],\n         [1, 2, 1]],\n \n        [[1, 2, 3],\n         [2, 3, 2],\n         [3, 3, 2]]])}"
     },
     "metadata": {},
     "output_type": "display_data"
    },
    {
     "data": {
      "text/plain": "array([], dtype=int32)"
     },
     "metadata": {},
     "output_type": "display_data"
    },
    {
     "data": {
      "text/plain": "{'containerCount': array([8, 8, 8]),\n 'container': 1,\n 'grid': array([[[0, 0, 0],\n         [0, 0, 0],\n         [0, 0, 0]],\n \n        [[0, 0, 0],\n         [0, 0, 0],\n         [0, 0, 0]],\n \n        [[0, 0, 0],\n         [0, 0, 0],\n         [0, 0, 0]]])}"
     },
     "metadata": {},
     "output_type": "display_data"
    },
    {
     "name": "stdout",
     "output_type": "stream",
     "text": [
      "Episode:9 Score:-75\n",
      "final env state\n"
     ]
    },
    {
     "data": {
      "text/plain": "{'containerCount': array([0, 0, 0]),\n 'container': 0,\n 'grid': array([[[3, 2, 3],\n         [1, 2, 3],\n         [2, 3, 2]],\n \n        [[1, 1, 1],\n         [2, 2, 1],\n         [1, 3, 3]],\n \n        [[3, 2, 0],\n         [1, 3, 0],\n         [2, 1, 0]]])}"
     },
     "metadata": {},
     "output_type": "display_data"
    },
    {
     "data": {
      "text/plain": "array([], dtype=int32)"
     },
     "metadata": {},
     "output_type": "display_data"
    },
    {
     "data": {
      "text/plain": "{'containerCount': array([8, 8, 8]),\n 'container': 3,\n 'grid': array([[[0, 0, 0],\n         [0, 0, 0],\n         [0, 0, 0]],\n \n        [[0, 0, 0],\n         [0, 0, 0],\n         [0, 0, 0]],\n \n        [[0, 0, 0],\n         [0, 0, 0],\n         [0, 0, 0]]])}"
     },
     "metadata": {},
     "output_type": "display_data"
    },
    {
     "name": "stdout",
     "output_type": "stream",
     "text": [
      "Episode:10 Score:-9\n",
      "final env state\n"
     ]
    },
    {
     "data": {
      "text/plain": "{'containerCount': array([0, 0, 0]),\n 'container': 0,\n 'grid': array([[[3, 1, 1],\n         [1, 2, 3],\n         [0, 0, 0]],\n \n        [[1, 1, 1],\n         [3, 1, 3],\n         [3, 2, 2]],\n \n        [[3, 3, 2],\n         [2, 2, 2],\n         [2, 3, 1]]])}"
     },
     "metadata": {},
     "output_type": "display_data"
    },
    {
     "data": {
      "text/plain": "array([], dtype=int32)"
     },
     "metadata": {},
     "output_type": "display_data"
    },
    {
     "data": {
      "text/plain": "array([[[3, 1, 1],\n        [1, 2, 3],\n        [0, 0, 0]],\n\n       [[1, 1, 1],\n        [3, 1, 3],\n        [3, 2, 2]],\n\n       [[3, 3, 2],\n        [2, 2, 2],\n        [2, 3, 1]]])"
     },
     "metadata": {},
     "output_type": "display_data"
    }
   ],
   "source": [
    "episodes = 10\n",
    "for episode in range(1, episodes+1):\n",
    "    state = env.reset()\n",
    "    display(state)\n",
    "    done = False\n",
    "    score = 0\n",
    "    \n",
    "    while not done:\n",
    "        action = env.action_space.sample()\n",
    "        n_state, reward, done, info = env.step(action)\n",
    "        state = n_state\n",
    "        score+=reward\n",
    "    print('Episode:{} Score:{}'.format(episode, score))\n",
    "    print('final env state')\n",
    "    display(state)\n",
    "    display(env.listOfContainers)\n",
    "env.close()"
   ]
  },
  {
   "cell_type": "markdown",
   "id": "a00b42d4",
   "metadata": {},
   "source": [
    "# Stable baselines"
   ]
  },
  {
   "cell_type": "code",
   "execution_count": 27,
   "id": "b117c05d",
   "metadata": {},
   "outputs": [
    {
     "name": "stdout",
     "output_type": "stream",
     "text": [
      "0.0\n",
      "0.1\n",
      "0.2\n",
      "0.30000000000000004\n",
      "0.4\n",
      "0.5\n",
      "0.6000000000000001\n",
      "0.7000000000000001\n",
      "0.8\n",
      "0.9\n"
     ]
    }
   ],
   "source": [
    "for percentage in np.arange(0.0, 1.0, 0.1):\n",
    "    print(percentage)"
   ]
  },
  {
   "cell_type": "code",
   "execution_count": 28,
   "id": "a862b124",
   "metadata": {},
   "outputs": [],
   "source": [
    "from typing import Callable\n",
    "def make_env(numberOfShips, containersPerShip, boxHeight, boxWidth, boxLength, percentage) -> Callable:\n",
    "    def _init() -> Env:\n",
    "        env = ContainerEnv(numberOfShips, containersPerShip, boxHeight, boxWidth, boxLength, percentage)\n",
    "        return env\n",
    "    return _init"
   ]
  },
  {
   "cell_type": "code",
   "execution_count": 29,
   "id": "3f965795",
   "metadata": {},
   "outputs": [],
   "source": [
    "def getTotalTimeSteps(timesteps, percentage):\n",
    "    return timesteps\n",
    "    #return timesteps * (1 - percentage)"
   ]
  },
  {
   "cell_type": "code",
   "execution_count": 30,
   "id": "0c35f100",
   "metadata": {
    "scrolled": true
   },
   "outputs": [
    {
     "name": "stdout",
     "output_type": "stream",
     "text": [
      "Using cpu device\n",
      "Logging to /tmp/ContainerEnvV12\\Env_with_percentage_0_1\n",
      "-----------------------------\n",
      "| time/              |      |\n",
      "|    fps             | 3258 |\n",
      "|    iterations      | 1    |\n",
      "|    time_elapsed    | 2    |\n",
      "|    total_timesteps | 8192 |\n",
      "-----------------------------\n",
      "-----------------------------------------\n",
      "| time/                   |             |\n",
      "|    fps                  | 1631        |\n",
      "|    iterations           | 2           |\n",
      "|    time_elapsed         | 10          |\n",
      "|    total_timesteps      | 16384       |\n",
      "| train/                  |             |\n",
      "|    approx_kl            | 0.011936003 |\n",
      "|    clip_fraction        | 0.145       |\n",
      "|    clip_range           | 0.2         |\n",
      "|    entropy_loss         | -2.19       |\n",
      "|    explained_variance   | -0.00222    |\n",
      "|    learning_rate        | 0.0005      |\n",
      "|    loss                 | 36.1        |\n",
      "|    n_updates            | 10          |\n",
      "|    policy_gradient_loss | -0.0181     |\n",
      "|    value_loss           | 91.7        |\n",
      "-----------------------------------------\n",
      "-----------------------------------------\n",
      "| time/                   |             |\n",
      "|    fps                  | 1398        |\n",
      "|    iterations           | 3           |\n",
      "|    time_elapsed         | 17          |\n",
      "|    total_timesteps      | 24576       |\n",
      "| train/                  |             |\n",
      "|    approx_kl            | 0.012548495 |\n",
      "|    clip_fraction        | 0.164       |\n",
      "|    clip_range           | 0.2         |\n",
      "|    entropy_loss         | -2.17       |\n",
      "|    explained_variance   | 0.107       |\n",
      "|    learning_rate        | 0.0005      |\n",
      "|    loss                 | 29          |\n",
      "|    n_updates            | 20          |\n",
      "|    policy_gradient_loss | -0.0211     |\n",
      "|    value_loss           | 89          |\n",
      "-----------------------------------------\n",
      "----------------------------------------\n",
      "| time/                   |            |\n",
      "|    fps                  | 1285       |\n",
      "|    iterations           | 4          |\n",
      "|    time_elapsed         | 25         |\n",
      "|    total_timesteps      | 32768      |\n",
      "| train/                  |            |\n",
      "|    approx_kl            | 0.01213333 |\n",
      "|    clip_fraction        | 0.166      |\n",
      "|    clip_range           | 0.2        |\n",
      "|    entropy_loss         | -2.15      |\n",
      "|    explained_variance   | 0.287      |\n",
      "|    learning_rate        | 0.0005     |\n",
      "|    loss                 | 56         |\n",
      "|    n_updates            | 30         |\n",
      "|    policy_gradient_loss | -0.0217    |\n",
      "|    value_loss           | 80.1       |\n",
      "----------------------------------------\n",
      "----------------------------------------\n",
      "| time/                   |            |\n",
      "|    fps                  | 1216       |\n",
      "|    iterations           | 5          |\n",
      "|    time_elapsed         | 33         |\n",
      "|    total_timesteps      | 40960      |\n",
      "| train/                  |            |\n",
      "|    approx_kl            | 0.01223505 |\n",
      "|    clip_fraction        | 0.163      |\n",
      "|    clip_range           | 0.2        |\n",
      "|    entropy_loss         | -2.12      |\n",
      "|    explained_variance   | 0.226      |\n",
      "|    learning_rate        | 0.0005     |\n",
      "|    loss                 | 33.3       |\n",
      "|    n_updates            | 40         |\n",
      "|    policy_gradient_loss | -0.0195    |\n",
      "|    value_loss           | 81.3       |\n",
      "----------------------------------------\n",
      "Model iteratie: 0\n",
      "Logging to /tmp/ContainerEnvV12\\Env_with_percentage_00_0\n",
      "------------------------------\n",
      "| time/              |       |\n",
      "|    fps             | 3269  |\n",
      "|    iterations      | 1     |\n",
      "|    time_elapsed    | 2     |\n",
      "|    total_timesteps | 49152 |\n",
      "------------------------------\n",
      "-----------------------------------------\n",
      "| time/                   |             |\n",
      "|    fps                  | 1350        |\n",
      "|    iterations           | 2           |\n",
      "|    time_elapsed         | 12          |\n",
      "|    total_timesteps      | 57344       |\n",
      "| train/                  |             |\n",
      "|    approx_kl            | 0.011768094 |\n",
      "|    clip_fraction        | 0.142       |\n",
      "|    clip_range           | 0.2         |\n",
      "|    entropy_loss         | -2.07       |\n",
      "|    explained_variance   | 0.101       |\n",
      "|    learning_rate        | 0.0005      |\n",
      "|    loss                 | 25.1        |\n",
      "|    n_updates            | 70          |\n",
      "|    policy_gradient_loss | -0.0181     |\n",
      "|    value_loss           | 73          |\n",
      "-----------------------------------------\n",
      "-----------------------------------------\n",
      "| time/                   |             |\n",
      "|    fps                  | 1190        |\n",
      "|    iterations           | 3           |\n",
      "|    time_elapsed         | 20          |\n",
      "|    total_timesteps      | 65536       |\n",
      "| train/                  |             |\n",
      "|    approx_kl            | 0.012711691 |\n",
      "|    clip_fraction        | 0.164       |\n",
      "|    clip_range           | 0.2         |\n",
      "|    entropy_loss         | -2.04       |\n",
      "|    explained_variance   | 0.0911      |\n",
      "|    learning_rate        | 0.0005      |\n",
      "|    loss                 | 29.7        |\n",
      "|    n_updates            | 80          |\n",
      "|    policy_gradient_loss | -0.0192     |\n",
      "|    value_loss           | 73.5        |\n",
      "-----------------------------------------\n",
      "-----------------------------------------\n",
      "| time/                   |             |\n",
      "|    fps                  | 1137        |\n",
      "|    iterations           | 4           |\n",
      "|    time_elapsed         | 28          |\n",
      "|    total_timesteps      | 73728       |\n",
      "| train/                  |             |\n",
      "|    approx_kl            | 0.013364073 |\n",
      "|    clip_fraction        | 0.183       |\n",
      "|    clip_range           | 0.2         |\n",
      "|    entropy_loss         | -2.01       |\n",
      "|    explained_variance   | 0.119       |\n",
      "|    learning_rate        | 0.0005      |\n",
      "|    loss                 | 35.2        |\n",
      "|    n_updates            | 90          |\n",
      "|    policy_gradient_loss | -0.0206     |\n",
      "|    value_loss           | 75.6        |\n",
      "-----------------------------------------\n",
      "----------------------------------------\n",
      "| time/                   |            |\n",
      "|    fps                  | 1078       |\n",
      "|    iterations           | 5          |\n",
      "|    time_elapsed         | 37         |\n",
      "|    total_timesteps      | 81920      |\n",
      "| train/                  |            |\n",
      "|    approx_kl            | 0.01365862 |\n",
      "|    clip_fraction        | 0.175      |\n",
      "|    clip_range           | 0.2        |\n",
      "|    entropy_loss         | -1.98      |\n",
      "|    explained_variance   | 0.158      |\n",
      "|    learning_rate        | 0.0005     |\n",
      "|    loss                 | 42.2       |\n",
      "|    n_updates            | 100        |\n",
      "|    policy_gradient_loss | -0.0229    |\n",
      "|    value_loss           | 85.1       |\n",
      "----------------------------------------\n",
      "Model iteratie: 1\n",
      "Logging to /tmp/ContainerEnvV12\\Env_with_percentage_01_0\n",
      "------------------------------\n",
      "| time/              |       |\n",
      "|    fps             | 3062  |\n",
      "|    iterations      | 1     |\n",
      "|    time_elapsed    | 2     |\n",
      "|    total_timesteps | 90112 |\n",
      "------------------------------\n",
      "-----------------------------------------\n",
      "| time/                   |             |\n",
      "|    fps                  | 1414        |\n",
      "|    iterations           | 2           |\n",
      "|    time_elapsed         | 11          |\n",
      "|    total_timesteps      | 98304       |\n",
      "| train/                  |             |\n",
      "|    approx_kl            | 0.016276458 |\n",
      "|    clip_fraction        | 0.2         |\n",
      "|    clip_range           | 0.2         |\n",
      "|    entropy_loss         | -1.89       |\n",
      "|    explained_variance   | 0.0244      |\n",
      "|    learning_rate        | 0.0005      |\n",
      "|    loss                 | 20.3        |\n",
      "|    n_updates            | 130         |\n",
      "|    policy_gradient_loss | -0.0252     |\n",
      "|    value_loss           | 77.9        |\n",
      "-----------------------------------------\n",
      "-----------------------------------------\n",
      "| time/                   |             |\n",
      "|    fps                  | 1282        |\n",
      "|    iterations           | 3           |\n",
      "|    time_elapsed         | 19          |\n",
      "|    total_timesteps      | 106496      |\n",
      "| train/                  |             |\n",
      "|    approx_kl            | 0.017383568 |\n",
      "|    clip_fraction        | 0.228       |\n",
      "|    clip_range           | 0.2         |\n",
      "|    entropy_loss         | -1.84       |\n",
      "|    explained_variance   | 0.112       |\n",
      "|    learning_rate        | 0.0005      |\n",
      "|    loss                 | 30.1        |\n",
      "|    n_updates            | 140         |\n",
      "|    policy_gradient_loss | -0.0266     |\n",
      "|    value_loss           | 74.5        |\n",
      "-----------------------------------------\n",
      "-----------------------------------------\n",
      "| time/                   |             |\n",
      "|    fps                  | 1197        |\n",
      "|    iterations           | 4           |\n",
      "|    time_elapsed         | 27          |\n",
      "|    total_timesteps      | 114688      |\n",
      "| train/                  |             |\n",
      "|    approx_kl            | 0.016150631 |\n",
      "|    clip_fraction        | 0.22        |\n",
      "|    clip_range           | 0.2         |\n",
      "|    entropy_loss         | -1.76       |\n",
      "|    explained_variance   | 0.0622      |\n",
      "|    learning_rate        | 0.0005      |\n",
      "|    loss                 | 41.4        |\n",
      "|    n_updates            | 150         |\n",
      "|    policy_gradient_loss | -0.0267     |\n",
      "|    value_loss           | 84.8        |\n",
      "-----------------------------------------\n",
      "-----------------------------------------\n",
      "| time/                   |             |\n",
      "|    fps                  | 1139        |\n",
      "|    iterations           | 5           |\n",
      "|    time_elapsed         | 35          |\n",
      "|    total_timesteps      | 122880      |\n",
      "| train/                  |             |\n",
      "|    approx_kl            | 0.020744704 |\n",
      "|    clip_fraction        | 0.25        |\n",
      "|    clip_range           | 0.2         |\n",
      "|    entropy_loss         | -1.71       |\n",
      "|    explained_variance   | 0.147       |\n",
      "|    learning_rate        | 0.0005      |\n",
      "|    loss                 | 24.6        |\n",
      "|    n_updates            | 160         |\n",
      "|    policy_gradient_loss | -0.0296     |\n",
      "|    value_loss           | 75.7        |\n",
      "-----------------------------------------\n",
      "Model iteratie: 2\n",
      "Logging to /tmp/ContainerEnvV12\\Env_with_percentage_02_0\n",
      "-------------------------------\n",
      "| time/              |        |\n",
      "|    fps             | 3303   |\n",
      "|    iterations      | 1      |\n",
      "|    time_elapsed    | 2      |\n",
      "|    total_timesteps | 131072 |\n",
      "-------------------------------\n",
      "-----------------------------------------\n",
      "| time/                   |             |\n",
      "|    fps                  | 1517        |\n",
      "|    iterations           | 2           |\n",
      "|    time_elapsed         | 10          |\n",
      "|    total_timesteps      | 139264      |\n",
      "| train/                  |             |\n",
      "|    approx_kl            | 0.020178847 |\n",
      "|    clip_fraction        | 0.251       |\n",
      "|    clip_range           | 0.2         |\n",
      "|    entropy_loss         | -1.53       |\n",
      "|    explained_variance   | 0.383       |\n",
      "|    learning_rate        | 0.0005      |\n",
      "|    loss                 | 28.4        |\n",
      "|    n_updates            | 190         |\n",
      "|    policy_gradient_loss | -0.0309     |\n",
      "|    value_loss           | 88.1        |\n",
      "-----------------------------------------\n",
      "-----------------------------------------\n",
      "| time/                   |             |\n",
      "|    fps                  | 1335        |\n",
      "|    iterations           | 3           |\n",
      "|    time_elapsed         | 18          |\n",
      "|    total_timesteps      | 147456      |\n",
      "| train/                  |             |\n",
      "|    approx_kl            | 0.024550155 |\n",
      "|    clip_fraction        | 0.26        |\n",
      "|    clip_range           | 0.2         |\n",
      "|    entropy_loss         | -1.45       |\n",
      "|    explained_variance   | 0.434       |\n",
      "|    learning_rate        | 0.0005      |\n",
      "|    loss                 | 39.2        |\n",
      "|    n_updates            | 200         |\n",
      "|    policy_gradient_loss | -0.0315     |\n",
      "|    value_loss           | 87.1        |\n",
      "-----------------------------------------\n",
      "-----------------------------------------\n",
      "| time/                   |             |\n",
      "|    fps                  | 1246        |\n",
      "|    iterations           | 4           |\n",
      "|    time_elapsed         | 26          |\n",
      "|    total_timesteps      | 155648      |\n",
      "| train/                  |             |\n",
      "|    approx_kl            | 0.023668943 |\n",
      "|    clip_fraction        | 0.262       |\n",
      "|    clip_range           | 0.2         |\n",
      "|    entropy_loss         | -1.34       |\n",
      "|    explained_variance   | 0.553       |\n",
      "|    learning_rate        | 0.0005      |\n",
      "|    loss                 | 40.6        |\n",
      "|    n_updates            | 210         |\n",
      "|    policy_gradient_loss | -0.0323     |\n",
      "|    value_loss           | 87.4        |\n",
      "-----------------------------------------\n",
      "----------------------------------------\n",
      "| time/                   |            |\n",
      "|    fps                  | 1184       |\n",
      "|    iterations           | 5          |\n",
      "|    time_elapsed         | 34         |\n",
      "|    total_timesteps      | 163840     |\n",
      "| train/                  |            |\n",
      "|    approx_kl            | 0.02592013 |\n",
      "|    clip_fraction        | 0.254      |\n",
      "|    clip_range           | 0.2        |\n",
      "|    entropy_loss         | -1.23      |\n",
      "|    explained_variance   | 0.631      |\n",
      "|    learning_rate        | 0.0005     |\n",
      "|    loss                 | 36         |\n",
      "|    n_updates            | 220        |\n",
      "|    policy_gradient_loss | -0.0321    |\n",
      "|    value_loss           | 79.7       |\n",
      "----------------------------------------\n",
      "Model iteratie: 3\n",
      "Logging to /tmp/ContainerEnvV12\\Env_with_percentage_03_0\n",
      "-------------------------------\n",
      "| time/              |        |\n",
      "|    fps             | 3074   |\n",
      "|    iterations      | 1      |\n",
      "|    time_elapsed    | 2      |\n",
      "|    total_timesteps | 172032 |\n",
      "-------------------------------\n",
      "-----------------------------------------\n",
      "| time/                   |             |\n",
      "|    fps                  | 1457        |\n",
      "|    iterations           | 2           |\n",
      "|    time_elapsed         | 11          |\n",
      "|    total_timesteps      | 180224      |\n",
      "| train/                  |             |\n",
      "|    approx_kl            | 0.028404254 |\n",
      "|    clip_fraction        | 0.248       |\n",
      "|    clip_range           | 0.2         |\n",
      "|    entropy_loss         | -0.989      |\n",
      "|    explained_variance   | 0.775       |\n",
      "|    learning_rate        | 0.0005      |\n",
      "|    loss                 | 24.3        |\n",
      "|    n_updates            | 250         |\n",
      "|    policy_gradient_loss | -0.0319     |\n",
      "|    value_loss           | 63.2        |\n",
      "-----------------------------------------\n",
      "-----------------------------------------\n",
      "| time/                   |             |\n",
      "|    fps                  | 1264        |\n",
      "|    iterations           | 3           |\n",
      "|    time_elapsed         | 19          |\n",
      "|    total_timesteps      | 188416      |\n",
      "| train/                  |             |\n",
      "|    approx_kl            | 0.027477223 |\n",
      "|    clip_fraction        | 0.232       |\n",
      "|    clip_range           | 0.2         |\n",
      "|    entropy_loss         | -0.892      |\n",
      "|    explained_variance   | 0.841       |\n",
      "|    learning_rate        | 0.0005      |\n",
      "|    loss                 | 22.3        |\n",
      "|    n_updates            | 260         |\n",
      "|    policy_gradient_loss | -0.0284     |\n",
      "|    value_loss           | 52.9        |\n",
      "-----------------------------------------\n",
      "-----------------------------------------\n",
      "| time/                   |             |\n",
      "|    fps                  | 1156        |\n",
      "|    iterations           | 4           |\n",
      "|    time_elapsed         | 28          |\n",
      "|    total_timesteps      | 196608      |\n",
      "| train/                  |             |\n",
      "|    approx_kl            | 0.025418764 |\n",
      "|    clip_fraction        | 0.23        |\n",
      "|    clip_range           | 0.2         |\n",
      "|    entropy_loss         | -0.801      |\n",
      "|    explained_variance   | 0.889       |\n",
      "|    learning_rate        | 0.0005      |\n",
      "|    loss                 | 16.3        |\n",
      "|    n_updates            | 270         |\n",
      "|    policy_gradient_loss | -0.0261     |\n",
      "|    value_loss           | 36.7        |\n",
      "-----------------------------------------\n",
      "-----------------------------------------\n",
      "| time/                   |             |\n",
      "|    fps                  | 1121        |\n",
      "|    iterations           | 5           |\n",
      "|    time_elapsed         | 36          |\n",
      "|    total_timesteps      | 204800      |\n",
      "| train/                  |             |\n",
      "|    approx_kl            | 0.024650281 |\n",
      "|    clip_fraction        | 0.198       |\n",
      "|    clip_range           | 0.2         |\n",
      "|    entropy_loss         | -0.729      |\n",
      "|    explained_variance   | 0.938       |\n",
      "|    learning_rate        | 0.0005      |\n",
      "|    loss                 | 9.36        |\n",
      "|    n_updates            | 280         |\n",
      "|    policy_gradient_loss | -0.0206     |\n",
      "|    value_loss           | 18.4        |\n",
      "-----------------------------------------\n",
      "Model iteratie: 4\n",
      "Logging to /tmp/ContainerEnvV12\\Env_with_percentage_04_0\n",
      "-------------------------------\n",
      "| time/              |        |\n",
      "|    fps             | 3321   |\n",
      "|    iterations      | 1      |\n",
      "|    time_elapsed    | 2      |\n",
      "|    total_timesteps | 212992 |\n",
      "-------------------------------\n",
      "-----------------------------------------\n",
      "| time/                   |             |\n",
      "|    fps                  | 1653        |\n",
      "|    iterations           | 2           |\n",
      "|    time_elapsed         | 9           |\n",
      "|    total_timesteps      | 221184      |\n",
      "| train/                  |             |\n",
      "|    approx_kl            | 0.019957438 |\n",
      "|    clip_fraction        | 0.17        |\n",
      "|    clip_range           | 0.2         |\n",
      "|    entropy_loss         | -0.649      |\n",
      "|    explained_variance   | 0.976       |\n",
      "|    learning_rate        | 0.0005      |\n",
      "|    loss                 | 2.82        |\n",
      "|    n_updates            | 310         |\n",
      "|    policy_gradient_loss | -0.0185     |\n",
      "|    value_loss           | 9.43        |\n",
      "-----------------------------------------\n",
      "-----------------------------------------\n",
      "| time/                   |             |\n",
      "|    fps                  | 1414        |\n",
      "|    iterations           | 3           |\n",
      "|    time_elapsed         | 17          |\n",
      "|    total_timesteps      | 229376      |\n",
      "| train/                  |             |\n",
      "|    approx_kl            | 0.029941259 |\n",
      "|    clip_fraction        | 0.197       |\n",
      "|    clip_range           | 0.2         |\n",
      "|    entropy_loss         | -0.602      |\n",
      "|    explained_variance   | 0.983       |\n",
      "|    learning_rate        | 0.0005      |\n",
      "|    loss                 | 2.98        |\n",
      "|    n_updates            | 320         |\n",
      "|    policy_gradient_loss | -0.0195     |\n",
      "|    value_loss           | 6.92        |\n",
      "-----------------------------------------\n",
      "-----------------------------------------\n",
      "| time/                   |             |\n",
      "|    fps                  | 1299        |\n",
      "|    iterations           | 4           |\n",
      "|    time_elapsed         | 25          |\n",
      "|    total_timesteps      | 237568      |\n",
      "| train/                  |             |\n",
      "|    approx_kl            | 0.023426533 |\n",
      "|    clip_fraction        | 0.21        |\n",
      "|    clip_range           | 0.2         |\n",
      "|    entropy_loss         | -0.585      |\n",
      "|    explained_variance   | 0.993       |\n",
      "|    learning_rate        | 0.0005      |\n",
      "|    loss                 | 0.672       |\n",
      "|    n_updates            | 330         |\n",
      "|    policy_gradient_loss | -0.0184     |\n",
      "|    value_loss           | 2.3         |\n",
      "-----------------------------------------\n",
      "-----------------------------------------\n",
      "| time/                   |             |\n",
      "|    fps                  | 1240        |\n",
      "|    iterations           | 5           |\n",
      "|    time_elapsed         | 33          |\n",
      "|    total_timesteps      | 245760      |\n",
      "| train/                  |             |\n",
      "|    approx_kl            | 0.019456629 |\n",
      "|    clip_fraction        | 0.193       |\n",
      "|    clip_range           | 0.2         |\n",
      "|    entropy_loss         | -0.58       |\n",
      "|    explained_variance   | 0.994       |\n",
      "|    learning_rate        | 0.0005      |\n",
      "|    loss                 | 2.37        |\n",
      "|    n_updates            | 340         |\n",
      "|    policy_gradient_loss | -0.0147     |\n",
      "|    value_loss           | 2.42        |\n",
      "-----------------------------------------\n"
     ]
    }
   ],
   "source": [
    "num_cpu = 4\n",
    "startPercentage = 0.9\n",
    "timesteps = 200_000\n",
    "\n",
    "modelEnvironment = DummyVecEnv([make_env(numberOfShips, containersPerShip, boxWidth, boxLength, boxHeight, 0) for i in range(num_cpu)])\n",
    "model = PPO(\"MultiInputPolicy\", modelEnvironment, verbose=1, learning_rate=0.0005, device='cpu', tensorboard_log=\"/tmp/ContainerEnvV12\")\n",
    "model.learn(total_timesteps=getTotalTimeSteps(timesteps, 0), tb_log_name=(\"Env_with_percentage_\" + str(0)))\n",
    "model.train()\n",
    "\n",
    "model.save(\"ContainerEnvV12\")\n",
    "for modelIterations in range(0, 5):\n",
    "    print(\"Model iteratie: \" + str(modelIterations))\n",
    "    # for percentage in reversed(np.arange(0.0, startPercentage, 0.1)):\n",
    "    #     print(\"Using percentage: \" + str(percentage))\n",
    "    newEnv = DummyVecEnv([make_env(numberOfShips, containersPerShip, boxWidth, boxLength, boxHeight, 0) for i in range(num_cpu)])\n",
    "    model.set_env(newEnv)\n",
    "    model.learn(total_timesteps=getTotalTimeSteps(timesteps, 0), tb_log_name=(\"Env_with_percentage_\" + str(0) + str(modelIterations)), reset_num_timesteps=False)\n",
    "    model.train()\n",
    "    model.save(\"ContainerEnvV12\")"
   ]
  },
  {
   "cell_type": "code",
   "execution_count": 31,
   "id": "78c424bd",
   "metadata": {
    "scrolled": true
   },
   "outputs": [
    {
     "data": {
      "text/plain": "array([[[0, 0, 0],\n        [0, 0, 0],\n        [0, 0, 0]],\n\n       [[0, 0, 0],\n        [0, 0, 0],\n        [0, 0, 0]],\n\n       [[0, 0, 0],\n        [0, 0, 0],\n        [0, 0, 0]]])"
     },
     "metadata": {},
     "output_type": "display_data"
    },
    {
     "data": {
      "text/plain": "array([3, 1, 1, 3, 3, 2, 1, 1, 2, 3, 2, 3, 2, 3, 2, 1, 2, 1, 2, 3, 2, 3,\n       1, 1])"
     },
     "metadata": {},
     "output_type": "display_data"
    }
   ],
   "source": [
    "eval_env = ContainerEnv(numberOfShips, containersPerShip, boxWidth, boxLength, boxHeight)\n",
    "eval_env.reset()\n",
    "display(eval_env.containerGrid)\n",
    "display(eval_env.listOfContainers)"
   ]
  },
  {
   "cell_type": "code",
   "execution_count": 32,
   "id": "9ef5e824",
   "metadata": {},
   "outputs": [
    {
     "data": {
      "text/plain": "([93, 93, 93, 93, 93], [24, 24, 24, 24, 24])"
     },
     "execution_count": 32,
     "metadata": {},
     "output_type": "execute_result"
    }
   ],
   "source": [
    "from stable_baselines3.common.monitor import Monitor\n",
    "monitor = Monitor(eval_env)\n",
    "evaluate_policy(model, monitor, n_eval_episodes=5, return_episode_rewards= True, render=False)"
   ]
  },
  {
   "cell_type": "markdown",
   "id": "fc9b7fbd",
   "metadata": {},
   "source": [
    "# Using trained agent"
   ]
  },
  {
   "cell_type": "code",
   "execution_count": 33,
   "id": "ab741a64",
   "metadata": {
    "scrolled": true
   },
   "outputs": [
    {
     "data": {
      "text/plain": "{'containerCount': array([8, 8, 8]),\n 'container': 1,\n 'grid': array([[[0, 0, 0],\n         [0, 0, 0],\n         [0, 0, 0]],\n \n        [[0, 0, 0],\n         [0, 0, 0],\n         [0, 0, 0]],\n \n        [[0, 0, 0],\n         [0, 0, 0],\n         [0, 0, 0]]])}"
     },
     "metadata": {},
     "output_type": "display_data"
    },
    {
     "data": {
      "text/plain": "array([3, 2, 1, 1, 3, 3, 1, 2, 3, 2, 2, 2, 3, 3, 2, 1, 1, 2, 3, 1, 3, 1,\n       2, 1])"
     },
     "metadata": {},
     "output_type": "display_data"
    }
   ],
   "source": [
    "display(eval_env.reset())\n",
    "display(eval_env.listOfContainers)"
   ]
  },
  {
   "cell_type": "code",
   "execution_count": 34,
   "id": "83328d48",
   "metadata": {
    "scrolled": true
   },
   "outputs": [
    {
     "name": "stdout",
     "output_type": "stream",
     "text": [
      "---------------------\n",
      "\n"
     ]
    },
    {
     "data": {
      "text/plain": "array([3, 1, 1, 2, 1, 2, 1, 2, 2, 1, 2, 3, 3, 3, 3, 3, 1, 1, 3, 1, 3, 2,\n       2, 2])"
     },
     "metadata": {},
     "output_type": "display_data"
    },
    {
     "name": "stdout",
     "output_type": "stream",
     "text": [
      "24\n"
     ]
    },
    {
     "data": {
      "text/plain": "{'containerCount': array([8, 8, 8]),\n 'container': 2,\n 'grid': array([[[0, 0, 0],\n         [0, 0, 0],\n         [0, 0, 0]],\n \n        [[0, 0, 0],\n         [0, 0, 0],\n         [0, 0, 0]],\n \n        [[0, 0, 0],\n         [0, 0, 0],\n         [0, 0, 0]]])}"
     },
     "metadata": {},
     "output_type": "display_data"
    },
    {
     "data": {
      "text/plain": "array([[[3, 3, 3],\n        [3, 3, 0],\n        [3, 3, 3]],\n\n       [[2, 2, 0],\n        [2, 2, 2],\n        [2, 2, 2]],\n\n       [[1, 1, 0],\n        [1, 1, 1],\n        [1, 1, 1]]])"
     },
     "metadata": {},
     "output_type": "display_data"
    },
    {
     "name": "stdout",
     "output_type": "stream",
     "text": [
      "24\n",
      "Reward: 93\n"
     ]
    },
    {
     "data": {
      "text/plain": "array([], dtype=int32)"
     },
     "metadata": {},
     "output_type": "display_data"
    },
    {
     "name": "stdout",
     "output_type": "stream",
     "text": [
      "---------------------\n",
      "\n"
     ]
    },
    {
     "data": {
      "text/plain": "array([1, 3, 2, 3, 1, 3, 2, 1, 3, 2, 3, 3, 2, 2, 2, 1, 1, 2, 2, 3, 1, 1,\n       3, 1])"
     },
     "metadata": {},
     "output_type": "display_data"
    },
    {
     "name": "stdout",
     "output_type": "stream",
     "text": [
      "24\n"
     ]
    },
    {
     "data": {
      "text/plain": "{'containerCount': array([8, 8, 8]),\n 'container': 1,\n 'grid': array([[[0, 0, 0],\n         [0, 0, 0],\n         [0, 0, 0]],\n \n        [[0, 0, 0],\n         [0, 0, 0],\n         [0, 0, 0]],\n \n        [[0, 0, 0],\n         [0, 0, 0],\n         [0, 0, 0]]])}"
     },
     "metadata": {},
     "output_type": "display_data"
    },
    {
     "data": {
      "text/plain": "array([[[3, 3, 3],\n        [3, 3, 0],\n        [3, 3, 3]],\n\n       [[2, 2, 0],\n        [2, 2, 2],\n        [2, 2, 2]],\n\n       [[1, 1, 0],\n        [1, 1, 1],\n        [1, 1, 1]]])"
     },
     "metadata": {},
     "output_type": "display_data"
    },
    {
     "name": "stdout",
     "output_type": "stream",
     "text": [
      "24\n",
      "Reward: 93\n"
     ]
    },
    {
     "data": {
      "text/plain": "array([], dtype=int32)"
     },
     "metadata": {},
     "output_type": "display_data"
    },
    {
     "name": "stdout",
     "output_type": "stream",
     "text": [
      "---------------------\n",
      "\n"
     ]
    },
    {
     "data": {
      "text/plain": "array([3, 3, 2, 3, 3, 1, 3, 1, 2, 2, 3, 3, 2, 2, 1, 2, 1, 2, 1, 1, 2, 1,\n       1, 3])"
     },
     "metadata": {},
     "output_type": "display_data"
    },
    {
     "name": "stdout",
     "output_type": "stream",
     "text": [
      "24\n"
     ]
    },
    {
     "data": {
      "text/plain": "{'containerCount': array([8, 8, 8]),\n 'container': 3,\n 'grid': array([[[0, 0, 0],\n         [0, 0, 0],\n         [0, 0, 0]],\n \n        [[0, 0, 0],\n         [0, 0, 0],\n         [0, 0, 0]],\n \n        [[0, 0, 0],\n         [0, 0, 0],\n         [0, 0, 0]]])}"
     },
     "metadata": {},
     "output_type": "display_data"
    },
    {
     "data": {
      "text/plain": "array([[[3, 3, 3],\n        [3, 3, 0],\n        [3, 3, 3]],\n\n       [[2, 2, 0],\n        [2, 2, 2],\n        [2, 2, 2]],\n\n       [[1, 1, 0],\n        [1, 1, 1],\n        [1, 1, 1]]])"
     },
     "metadata": {},
     "output_type": "display_data"
    },
    {
     "name": "stdout",
     "output_type": "stream",
     "text": [
      "24\n",
      "Reward: 93\n"
     ]
    },
    {
     "data": {
      "text/plain": "array([], dtype=int32)"
     },
     "metadata": {},
     "output_type": "display_data"
    },
    {
     "name": "stdout",
     "output_type": "stream",
     "text": [
      "---------------------\n",
      "\n"
     ]
    },
    {
     "data": {
      "text/plain": "array([2, 2, 2, 2, 1, 2, 2, 2, 3, 1, 3, 1, 3, 2, 1, 3, 3, 3, 1, 3, 1, 1,\n       1, 3])"
     },
     "metadata": {},
     "output_type": "display_data"
    },
    {
     "name": "stdout",
     "output_type": "stream",
     "text": [
      "24\n"
     ]
    },
    {
     "data": {
      "text/plain": "{'containerCount': array([8, 8, 8]),\n 'container': 3,\n 'grid': array([[[0, 0, 0],\n         [0, 0, 0],\n         [0, 0, 0]],\n \n        [[0, 0, 0],\n         [0, 0, 0],\n         [0, 0, 0]],\n \n        [[0, 0, 0],\n         [0, 0, 0],\n         [0, 0, 0]]])}"
     },
     "metadata": {},
     "output_type": "display_data"
    },
    {
     "data": {
      "text/plain": "array([[[3, 3, 0],\n        [3, 3, 3],\n        [3, 3, 3]],\n\n       [[2, 2, 0],\n        [2, 2, 2],\n        [2, 2, 2]],\n\n       [[1, 1, 0],\n        [1, 1, 1],\n        [1, 1, 1]]])"
     },
     "metadata": {},
     "output_type": "display_data"
    },
    {
     "name": "stdout",
     "output_type": "stream",
     "text": [
      "24\n",
      "Reward: 93\n"
     ]
    },
    {
     "data": {
      "text/plain": "array([], dtype=int32)"
     },
     "metadata": {},
     "output_type": "display_data"
    },
    {
     "name": "stdout",
     "output_type": "stream",
     "text": [
      "---------------------\n",
      "\n"
     ]
    },
    {
     "data": {
      "text/plain": "array([3, 3, 3, 1, 2, 1, 1, 2, 1, 2, 1, 1, 1, 3, 2, 3, 2, 2, 1, 3, 3, 3,\n       2, 2])"
     },
     "metadata": {},
     "output_type": "display_data"
    },
    {
     "name": "stdout",
     "output_type": "stream",
     "text": [
      "24\n"
     ]
    },
    {
     "data": {
      "text/plain": "{'containerCount': array([8, 8, 8]),\n 'container': 2,\n 'grid': array([[[0, 0, 0],\n         [0, 0, 0],\n         [0, 0, 0]],\n \n        [[0, 0, 0],\n         [0, 0, 0],\n         [0, 0, 0]],\n \n        [[0, 0, 0],\n         [0, 0, 0],\n         [0, 0, 0]]])}"
     },
     "metadata": {},
     "output_type": "display_data"
    },
    {
     "data": {
      "text/plain": "array([[[3, 3, 0],\n        [3, 3, 3],\n        [3, 3, 3]],\n\n       [[2, 2, 0],\n        [2, 2, 2],\n        [2, 2, 2]],\n\n       [[1, 1, 1],\n        [1, 1, 1],\n        [1, 1, 0]]])"
     },
     "metadata": {},
     "output_type": "display_data"
    },
    {
     "name": "stdout",
     "output_type": "stream",
     "text": [
      "24\n",
      "Reward: 93\n"
     ]
    },
    {
     "data": {
      "text/plain": "array([], dtype=int32)"
     },
     "metadata": {},
     "output_type": "display_data"
    },
    {
     "name": "stdout",
     "output_type": "stream",
     "text": [
      "---------------------\n",
      "\n"
     ]
    },
    {
     "data": {
      "text/plain": "array([1, 1, 1, 2, 1, 2, 1, 2, 1, 2, 2, 3, 3, 1, 3, 1, 3, 2, 3, 2, 3, 3,\n       3, 2])"
     },
     "metadata": {},
     "output_type": "display_data"
    },
    {
     "name": "stdout",
     "output_type": "stream",
     "text": [
      "24\n"
     ]
    },
    {
     "data": {
      "text/plain": "{'containerCount': array([8, 8, 8]),\n 'container': 2,\n 'grid': array([[[0, 0, 0],\n         [0, 0, 0],\n         [0, 0, 0]],\n \n        [[0, 0, 0],\n         [0, 0, 0],\n         [0, 0, 0]],\n \n        [[0, 0, 0],\n         [0, 0, 0],\n         [0, 0, 0]]])}"
     },
     "metadata": {},
     "output_type": "display_data"
    },
    {
     "data": {
      "text/plain": "array([[[3, 3, 3],\n        [3, 3, 3],\n        [3, 3, 0]],\n\n       [[2, 2, 2],\n        [2, 2, 2],\n        [2, 2, 0]],\n\n       [[1, 1, 1],\n        [1, 1, 1],\n        [1, 1, 0]]])"
     },
     "metadata": {},
     "output_type": "display_data"
    },
    {
     "name": "stdout",
     "output_type": "stream",
     "text": [
      "24\n",
      "Reward: 93\n"
     ]
    },
    {
     "data": {
      "text/plain": "array([], dtype=int32)"
     },
     "metadata": {},
     "output_type": "display_data"
    },
    {
     "name": "stdout",
     "output_type": "stream",
     "text": [
      "---------------------\n",
      "\n"
     ]
    },
    {
     "data": {
      "text/plain": "array([3, 1, 3, 1, 2, 2, 1, 1, 2, 3, 3, 3, 1, 2, 1, 2, 1, 2, 3, 2, 1, 2,\n       3, 3])"
     },
     "metadata": {},
     "output_type": "display_data"
    },
    {
     "name": "stdout",
     "output_type": "stream",
     "text": [
      "24\n"
     ]
    },
    {
     "data": {
      "text/plain": "{'containerCount': array([8, 8, 8]),\n 'container': 3,\n 'grid': array([[[0, 0, 0],\n         [0, 0, 0],\n         [0, 0, 0]],\n \n        [[0, 0, 0],\n         [0, 0, 0],\n         [0, 0, 0]],\n \n        [[0, 0, 0],\n         [0, 0, 0],\n         [0, 0, 0]]])}"
     },
     "metadata": {},
     "output_type": "display_data"
    },
    {
     "data": {
      "text/plain": "array([[[3, 3, 0],\n        [3, 3, 3],\n        [3, 3, 3]],\n\n       [[2, 2, 0],\n        [2, 2, 2],\n        [2, 2, 2]],\n\n       [[1, 1, 1],\n        [1, 1, 0],\n        [1, 1, 1]]])"
     },
     "metadata": {},
     "output_type": "display_data"
    },
    {
     "name": "stdout",
     "output_type": "stream",
     "text": [
      "24\n",
      "Reward: 93\n"
     ]
    },
    {
     "data": {
      "text/plain": "array([], dtype=int32)"
     },
     "metadata": {},
     "output_type": "display_data"
    },
    {
     "name": "stdout",
     "output_type": "stream",
     "text": [
      "---------------------\n",
      "\n"
     ]
    },
    {
     "data": {
      "text/plain": "array([2, 3, 2, 2, 1, 2, 1, 1, 1, 3, 2, 1, 1, 3, 3, 2, 1, 3, 2, 3, 2, 3,\n       1, 3])"
     },
     "metadata": {},
     "output_type": "display_data"
    },
    {
     "name": "stdout",
     "output_type": "stream",
     "text": [
      "24\n"
     ]
    },
    {
     "data": {
      "text/plain": "{'containerCount': array([8, 8, 8]),\n 'container': 3,\n 'grid': array([[[0, 0, 0],\n         [0, 0, 0],\n         [0, 0, 0]],\n \n        [[0, 0, 0],\n         [0, 0, 0],\n         [0, 0, 0]],\n \n        [[0, 0, 0],\n         [0, 0, 0],\n         [0, 0, 0]]])}"
     },
     "metadata": {},
     "output_type": "display_data"
    },
    {
     "data": {
      "text/plain": "array([[[3, 3, 0],\n        [3, 3, 3],\n        [3, 3, 3]],\n\n       [[2, 2, 0],\n        [2, 2, 2],\n        [2, 2, 2]],\n\n       [[1, 1, 1],\n        [1, 1, 0],\n        [1, 1, 1]]])"
     },
     "metadata": {},
     "output_type": "display_data"
    },
    {
     "name": "stdout",
     "output_type": "stream",
     "text": [
      "24\n",
      "Reward: 93\n"
     ]
    },
    {
     "data": {
      "text/plain": "array([], dtype=int32)"
     },
     "metadata": {},
     "output_type": "display_data"
    },
    {
     "name": "stdout",
     "output_type": "stream",
     "text": [
      "---------------------\n",
      "\n"
     ]
    },
    {
     "data": {
      "text/plain": "array([2, 2, 2, 1, 2, 1, 1, 1, 3, 2, 3, 1, 2, 3, 1, 3, 1, 2, 1, 3, 3, 3,\n       2, 3])"
     },
     "metadata": {},
     "output_type": "display_data"
    },
    {
     "name": "stdout",
     "output_type": "stream",
     "text": [
      "24\n"
     ]
    },
    {
     "data": {
      "text/plain": "{'containerCount': array([8, 8, 8]),\n 'container': 3,\n 'grid': array([[[0, 0, 0],\n         [0, 0, 0],\n         [0, 0, 0]],\n \n        [[0, 0, 0],\n         [0, 0, 0],\n         [0, 0, 0]],\n \n        [[0, 0, 0],\n         [0, 0, 0],\n         [0, 0, 0]]])}"
     },
     "metadata": {},
     "output_type": "display_data"
    },
    {
     "data": {
      "text/plain": "array([[[3, 3, 0],\n        [3, 3, 3],\n        [3, 3, 3]],\n\n       [[2, 2, 0],\n        [2, 2, 2],\n        [2, 2, 2]],\n\n       [[1, 1, 0],\n        [1, 1, 1],\n        [1, 1, 1]]])"
     },
     "metadata": {},
     "output_type": "display_data"
    },
    {
     "name": "stdout",
     "output_type": "stream",
     "text": [
      "24\n",
      "Reward: 93\n"
     ]
    },
    {
     "data": {
      "text/plain": "array([], dtype=int32)"
     },
     "metadata": {},
     "output_type": "display_data"
    },
    {
     "name": "stdout",
     "output_type": "stream",
     "text": [
      "---------------------\n",
      "\n"
     ]
    },
    {
     "data": {
      "text/plain": "array([3, 1, 3, 3, 3, 2, 2, 1, 1, 1, 2, 2, 1, 1, 2, 3, 3, 2, 1, 1, 3, 2,\n       2, 3])"
     },
     "metadata": {},
     "output_type": "display_data"
    },
    {
     "name": "stdout",
     "output_type": "stream",
     "text": [
      "24\n"
     ]
    },
    {
     "data": {
      "text/plain": "{'containerCount': array([8, 8, 8]),\n 'container': 3,\n 'grid': array([[[0, 0, 0],\n         [0, 0, 0],\n         [0, 0, 0]],\n \n        [[0, 0, 0],\n         [0, 0, 0],\n         [0, 0, 0]],\n \n        [[0, 0, 0],\n         [0, 0, 0],\n         [0, 0, 0]]])}"
     },
     "metadata": {},
     "output_type": "display_data"
    },
    {
     "data": {
      "text/plain": "array([[[3, 3, 3],\n        [3, 3, 0],\n        [3, 3, 3]],\n\n       [[2, 2, 0],\n        [2, 2, 2],\n        [2, 2, 2]],\n\n       [[1, 1, 0],\n        [1, 1, 1],\n        [1, 1, 1]]])"
     },
     "metadata": {},
     "output_type": "display_data"
    },
    {
     "name": "stdout",
     "output_type": "stream",
     "text": [
      "24\n",
      "Reward: 93\n"
     ]
    },
    {
     "data": {
      "text/plain": "array([], dtype=int32)"
     },
     "metadata": {},
     "output_type": "display_data"
    },
    {
     "name": "stdout",
     "output_type": "stream",
     "text": [
      "---------------------\n",
      "\n"
     ]
    }
   ],
   "source": [
    "obs = eval_env.reset()\n",
    "print(\"---------------------\\n\")\n",
    "for i in range(10):\n",
    "    display(eval_env.listOfContainers)\n",
    "    print(len(eval_env.listOfContainers))\n",
    "    reward = 0\n",
    "    dones = False\n",
    "    display(obs)\n",
    "    while not dones:\n",
    "        action, _states = model.predict(obs, deterministic=True)\n",
    "        obs, rewards, dones, info = eval_env.step(action)\n",
    "        reward += rewards\n",
    "    eval_env.render()\n",
    "    print((obs['grid'].flatten() > 0).sum())\n",
    "    print(\"Reward: \" + str(reward))\n",
    "    display(eval_env.listOfContainers)\n",
    "    obs = eval_env.reset()\n",
    "    print(\"---------------------\\n\")"
   ]
  },
  {
   "cell_type": "code",
   "execution_count": 35,
   "id": "16b7fba5",
   "metadata": {},
   "outputs": [],
   "source": [
    "amountOfShips = 3\n",
    "containersOnShip = 4\n",
    "height = 3\n",
    "width = 3\n",
    "length = 3"
   ]
  },
  {
   "cell_type": "code",
   "execution_count": 36,
   "id": "163f7f17",
   "metadata": {
    "scrolled": true
   },
   "outputs": [
    {
     "name": "stdout",
     "output_type": "stream",
     "text": [
      "Start list of containers ------------------------\n"
     ]
    },
    {
     "data": {
      "text/plain": "array([1, 3, 1, 3, 2, 2, 2, 3, 1, 1, 3, 1, 2, 1, 3, 2, 1, 2, 3, 2, 1, 3,\n       3, 2])"
     },
     "metadata": {},
     "output_type": "display_data"
    },
    {
     "name": "stdout",
     "output_type": "stream",
     "text": [
      "24\n",
      "Start render ------------------------------------\n"
     ]
    },
    {
     "data": {
      "text/plain": "array([[[0, 0, 0],\n        [0, 0, 0],\n        [0, 0, 0]],\n\n       [[0, 0, 0],\n        [0, 0, 0],\n        [0, 0, 0]],\n\n       [[0, 0, 0],\n        [0, 0, 0],\n        [0, 0, 0]]])"
     },
     "metadata": {},
     "output_type": "display_data"
    },
    {
     "name": "stdout",
     "output_type": "stream",
     "text": [
      "End render --------------------------------------\n",
      "24\n",
      "Reward: 93\n"
     ]
    },
    {
     "data": {
      "text/plain": "array([[[3, 3, 0],\n        [3, 3, 3],\n        [3, 3, 3]],\n\n       [[2, 2, 0],\n        [2, 2, 2],\n        [2, 2, 2]],\n\n       [[1, 1, 0],\n        [1, 1, 1],\n        [1, 1, 1]]])"
     },
     "metadata": {},
     "output_type": "display_data"
    },
    {
     "name": "stdout",
     "output_type": "stream",
     "text": [
      "End list of containers --------------------------\n"
     ]
    },
    {
     "data": {
      "text/plain": "array([], dtype=int32)"
     },
     "metadata": {},
     "output_type": "display_data"
    },
    {
     "name": "stdout",
     "output_type": "stream",
     "text": [
      "Start list of containers ------------------------\n"
     ]
    },
    {
     "data": {
      "text/plain": "array([3, 3, 1, 1, 3, 2, 3, 3, 2, 2, 3, 1, 3, 1, 1, 2, 2, 1, 2, 1, 2, 2,\n       3, 1])"
     },
     "metadata": {},
     "output_type": "display_data"
    },
    {
     "name": "stdout",
     "output_type": "stream",
     "text": [
      "24\n",
      "Start render ------------------------------------\n"
     ]
    },
    {
     "data": {
      "text/plain": "array([[[0, 0, 0],\n        [0, 0, 0],\n        [0, 0, 0]],\n\n       [[0, 0, 0],\n        [0, 0, 0],\n        [0, 0, 0]],\n\n       [[0, 0, 0],\n        [0, 0, 0],\n        [0, 0, 0]]])"
     },
     "metadata": {},
     "output_type": "display_data"
    },
    {
     "name": "stdout",
     "output_type": "stream",
     "text": [
      "End render --------------------------------------\n",
      "24\n",
      "Reward: 93\n"
     ]
    },
    {
     "data": {
      "text/plain": "array([[[3, 3, 3],\n        [3, 3, 0],\n        [3, 3, 3]],\n\n       [[2, 2, 0],\n        [2, 2, 2],\n        [2, 2, 2]],\n\n       [[1, 1, 0],\n        [1, 1, 1],\n        [1, 1, 1]]])"
     },
     "metadata": {},
     "output_type": "display_data"
    },
    {
     "name": "stdout",
     "output_type": "stream",
     "text": [
      "End list of containers --------------------------\n"
     ]
    },
    {
     "data": {
      "text/plain": "array([], dtype=int32)"
     },
     "metadata": {},
     "output_type": "display_data"
    },
    {
     "name": "stdout",
     "output_type": "stream",
     "text": [
      "Start list of containers ------------------------\n"
     ]
    },
    {
     "data": {
      "text/plain": "array([3, 2, 2, 1, 1, 1, 2, 3, 2, 2, 3, 2, 1, 1, 1, 2, 1, 3, 3, 2, 1, 3,\n       3, 3])"
     },
     "metadata": {},
     "output_type": "display_data"
    },
    {
     "name": "stdout",
     "output_type": "stream",
     "text": [
      "24\n",
      "Start render ------------------------------------\n"
     ]
    },
    {
     "data": {
      "text/plain": "array([[[0, 0, 0],\n        [0, 0, 0],\n        [0, 0, 0]],\n\n       [[0, 0, 0],\n        [0, 0, 0],\n        [0, 0, 0]],\n\n       [[2, 0, 0],\n        [0, 0, 0],\n        [0, 0, 0]]])"
     },
     "metadata": {},
     "output_type": "display_data"
    },
    {
     "name": "stdout",
     "output_type": "stream",
     "text": [
      "End render --------------------------------------\n",
      "25\n",
      "Reward: 76\n"
     ]
    },
    {
     "data": {
      "text/plain": "array([[[3, 3, 0],\n        [3, 3, 3],\n        [3, 3, 3]],\n\n       [[2, 2, 0],\n        [2, 2, 2],\n        [2, 2, 2]],\n\n       [[2, 1, 1],\n        [1, 1, 1],\n        [1, 1, 1]]])"
     },
     "metadata": {},
     "output_type": "display_data"
    },
    {
     "name": "stdout",
     "output_type": "stream",
     "text": [
      "End list of containers --------------------------\n"
     ]
    },
    {
     "data": {
      "text/plain": "array([], dtype=int32)"
     },
     "metadata": {},
     "output_type": "display_data"
    },
    {
     "name": "stdout",
     "output_type": "stream",
     "text": [
      "Start list of containers ------------------------\n"
     ]
    },
    {
     "data": {
      "text/plain": "array([2, 1, 3, 3, 2, 1, 2, 1, 3, 3, 2, 1, 2, 1, 1, 2, 3, 3, 1, 3, 2, 3,\n       1, 2])"
     },
     "metadata": {},
     "output_type": "display_data"
    },
    {
     "name": "stdout",
     "output_type": "stream",
     "text": [
      "24\n",
      "Start render ------------------------------------\n"
     ]
    },
    {
     "data": {
      "text/plain": "array([[[0, 0, 0],\n        [0, 0, 0],\n        [0, 0, 0]],\n\n       [[0, 0, 0],\n        [0, 0, 0],\n        [3, 0, 0]],\n\n       [[0, 0, 0],\n        [0, 0, 0],\n        [3, 0, 0]]])"
     },
     "metadata": {},
     "output_type": "display_data"
    },
    {
     "name": "stdout",
     "output_type": "stream",
     "text": [
      "End render --------------------------------------\n",
      "26\n",
      "Reward: 67\n"
     ]
    },
    {
     "data": {
      "text/plain": "array([[[3, 3, 0],\n        [3, 3, 3],\n        [3, 3, 3]],\n\n       [[2, 2, 2],\n        [2, 2, 2],\n        [3, 2, 2]],\n\n       [[1, 1, 1],\n        [1, 1, 1],\n        [3, 1, 1]]])"
     },
     "metadata": {},
     "output_type": "display_data"
    },
    {
     "name": "stdout",
     "output_type": "stream",
     "text": [
      "End list of containers --------------------------\n"
     ]
    },
    {
     "data": {
      "text/plain": "array([], dtype=int32)"
     },
     "metadata": {},
     "output_type": "display_data"
    },
    {
     "name": "stdout",
     "output_type": "stream",
     "text": [
      "Start list of containers ------------------------\n"
     ]
    },
    {
     "data": {
      "text/plain": "array([1, 1, 1, 1, 2, 3, 1, 3, 3, 2, 2, 2, 3, 3, 3, 2, 2, 1, 1, 2, 1, 3,\n       3, 2])"
     },
     "metadata": {},
     "output_type": "display_data"
    },
    {
     "name": "stdout",
     "output_type": "stream",
     "text": [
      "24\n",
      "Start render ------------------------------------\n"
     ]
    },
    {
     "data": {
      "text/plain": "array([[[3, 0, 0],\n        [0, 0, 0],\n        [0, 0, 0]],\n\n       [[0, 0, 0],\n        [0, 0, 0],\n        [3, 0, 0]],\n\n       [[1, 0, 0],\n        [0, 0, 0],\n        [0, 0, 0]]])"
     },
     "metadata": {},
     "output_type": "display_data"
    },
    {
     "name": "stdout",
     "output_type": "stream",
     "text": [
      "End render --------------------------------------\n",
      "27\n",
      "Reward: 86\n"
     ]
    },
    {
     "data": {
      "text/plain": "array([[[3, 3, 3],\n        [3, 3, 3],\n        [3, 3, 3]],\n\n       [[2, 2, 2],\n        [2, 2, 2],\n        [3, 2, 2]],\n\n       [[1, 1, 1],\n        [1, 1, 1],\n        [1, 1, 1]]])"
     },
     "metadata": {},
     "output_type": "display_data"
    },
    {
     "name": "stdout",
     "output_type": "stream",
     "text": [
      "End list of containers --------------------------\n"
     ]
    },
    {
     "data": {
      "text/plain": "array([], dtype=int32)"
     },
     "metadata": {},
     "output_type": "display_data"
    },
    {
     "name": "stdout",
     "output_type": "stream",
     "text": [
      "Start list of containers ------------------------\n"
     ]
    },
    {
     "data": {
      "text/plain": "array([2, 1, 3, 1, 1, 3, 1, 3, 2, 2, 2, 1, 1, 1, 1, 2, 2, 3, 3, 3, 2, 3,\n       2, 3])"
     },
     "metadata": {},
     "output_type": "display_data"
    },
    {
     "name": "stdout",
     "output_type": "stream",
     "text": [
      "24\n",
      "Start render ------------------------------------\n"
     ]
    },
    {
     "data": {
      "text/plain": "array([[[0, 0, 0],\n        [0, 0, 0],\n        [0, 0, 0]],\n\n       [[0, 0, 0],\n        [3, 0, 0],\n        [0, 0, 0]],\n\n       [[0, 0, 0],\n        [0, 0, 0],\n        [2, 2, 2]]])"
     },
     "metadata": {},
     "output_type": "display_data"
    },
    {
     "name": "stdout",
     "output_type": "stream",
     "text": [
      "End render --------------------------------------\n",
      "10\n",
      "Reward: -217\n"
     ]
    },
    {
     "data": {
      "text/plain": "array([[[0, 0, 0],\n        [3, 3, 3],\n        [3, 0, 0]],\n\n       [[0, 0, 0],\n        [3, 2, 2],\n        [0, 0, 0]],\n\n       [[0, 0, 0],\n        [0, 0, 0],\n        [2, 2, 2]]])"
     },
     "metadata": {},
     "output_type": "display_data"
    },
    {
     "name": "stdout",
     "output_type": "stream",
     "text": [
      "End list of containers --------------------------\n"
     ]
    },
    {
     "data": {
      "text/plain": "array([2, 1, 3, 1, 1, 3, 1, 3, 2, 2, 2, 1, 1, 1, 1, 2, 2, 3])"
     },
     "metadata": {},
     "output_type": "display_data"
    },
    {
     "name": "stdout",
     "output_type": "stream",
     "text": [
      "Start list of containers ------------------------\n"
     ]
    },
    {
     "data": {
      "text/plain": "array([2, 2, 1, 2, 1, 1, 3, 3, 2, 1, 3, 3, 1, 3, 2, 3, 2, 1, 1, 2, 3, 1,\n       2, 3])"
     },
     "metadata": {},
     "output_type": "display_data"
    },
    {
     "name": "stdout",
     "output_type": "stream",
     "text": [
      "24\n",
      "Start render ------------------------------------\n"
     ]
    },
    {
     "data": {
      "text/plain": "array([[[0, 0, 0],\n        [1, 0, 0],\n        [2, 0, 0]],\n\n       [[3, 3, 0],\n        [0, 0, 0],\n        [0, 0, 0]],\n\n       [[1, 0, 0],\n        [0, 0, 0],\n        [0, 0, 0]]])"
     },
     "metadata": {},
     "output_type": "display_data"
    },
    {
     "name": "stdout",
     "output_type": "stream",
     "text": [
      "End render --------------------------------------\n",
      "15\n",
      "Reward: -199\n"
     ]
    },
    {
     "data": {
      "text/plain": "array([[[0, 0, 0],\n        [1, 3, 0],\n        [2, 3, 3]],\n\n       [[3, 3, 0],\n        [2, 2, 2],\n        [2, 0, 0]],\n\n       [[1, 0, 0],\n        [1, 1, 0],\n        [1, 0, 0]]])"
     },
     "metadata": {},
     "output_type": "display_data"
    },
    {
     "name": "stdout",
     "output_type": "stream",
     "text": [
      "End list of containers --------------------------\n"
     ]
    },
    {
     "data": {
      "text/plain": "array([2, 2, 1, 2, 1, 1, 3, 3, 2, 1, 3, 3, 1, 3])"
     },
     "metadata": {},
     "output_type": "display_data"
    },
    {
     "name": "stdout",
     "output_type": "stream",
     "text": [
      "Start list of containers ------------------------\n"
     ]
    },
    {
     "data": {
      "text/plain": "array([1, 2, 2, 3, 1, 3, 2, 1, 3, 3, 1, 1, 3, 1, 2, 3, 1, 2, 2, 2, 3, 1,\n       3, 2])"
     },
     "metadata": {},
     "output_type": "display_data"
    },
    {
     "name": "stdout",
     "output_type": "stream",
     "text": [
      "24\n",
      "Start render ------------------------------------\n"
     ]
    },
    {
     "data": {
      "text/plain": "array([[[0, 0, 0],\n        [3, 0, 0],\n        [1, 0, 0]],\n\n       [[2, 0, 0],\n        [0, 0, 0],\n        [0, 0, 0]],\n\n       [[0, 0, 0],\n        [2, 0, 0],\n        [2, 2, 0]]])"
     },
     "metadata": {},
     "output_type": "display_data"
    },
    {
     "name": "stdout",
     "output_type": "stream",
     "text": [
      "End render --------------------------------------\n",
      "26\n",
      "Reward: -143\n"
     ]
    },
    {
     "data": {
      "text/plain": "array([[[3, 3, 3],\n        [3, 3, 3],\n        [1, 3, 3]],\n\n       [[2, 2, 0],\n        [2, 2, 2],\n        [2, 1, 2]],\n\n       [[1, 1, 1],\n        [2, 1, 1],\n        [2, 2, 1]]])"
     },
     "metadata": {},
     "output_type": "display_data"
    },
    {
     "name": "stdout",
     "output_type": "stream",
     "text": [
      "End list of containers --------------------------\n"
     ]
    },
    {
     "data": {
      "text/plain": "array([1, 2, 2, 3])"
     },
     "metadata": {},
     "output_type": "display_data"
    },
    {
     "name": "stdout",
     "output_type": "stream",
     "text": [
      "Start list of containers ------------------------\n"
     ]
    },
    {
     "data": {
      "text/plain": "array([3, 3, 3, 2, 1, 1, 2, 3, 1, 1, 2, 2, 3, 3, 1, 2, 1, 3, 3, 1, 2, 2,\n       1, 2])"
     },
     "metadata": {},
     "output_type": "display_data"
    },
    {
     "name": "stdout",
     "output_type": "stream",
     "text": [
      "24\n",
      "Start render ------------------------------------\n"
     ]
    },
    {
     "data": {
      "text/plain": "array([[[2, 0, 0],\n        [2, 0, 0],\n        [0, 0, 0]],\n\n       [[2, 0, 0],\n        [3, 0, 0],\n        [3, 0, 0]],\n\n       [[0, 0, 0],\n        [0, 0, 0],\n        [2, 2, 0]]])"
     },
     "metadata": {},
     "output_type": "display_data"
    },
    {
     "name": "stdout",
     "output_type": "stream",
     "text": [
      "End render --------------------------------------\n",
      "24\n",
      "Reward: -172\n"
     ]
    },
    {
     "data": {
      "text/plain": "array([[[2, 3, 0],\n        [2, 3, 0],\n        [3, 3, 3]],\n\n       [[2, 2, 2],\n        [3, 2, 2],\n        [3, 2, 2]],\n\n       [[1, 1, 0],\n        [1, 1, 1],\n        [2, 2, 1]]])"
     },
     "metadata": {},
     "output_type": "display_data"
    },
    {
     "name": "stdout",
     "output_type": "stream",
     "text": [
      "End list of containers --------------------------\n"
     ]
    },
    {
     "data": {
      "text/plain": "array([3, 3, 3, 2, 1, 1, 2])"
     },
     "metadata": {},
     "output_type": "display_data"
    }
   ],
   "source": [
    "for percentage in np.arange(0.0, 0.9, 0.1):\n",
    "    validateEnv = ContainerEnv(amountOfShips, containersOnShip, width, length, height, percentage)\n",
    "    state = validateEnv.reset()\n",
    "    print('Start list of containers ------------------------')\n",
    "    display(validateEnv.listOfContainers)\n",
    "    print(len(validateEnv.listOfContainers))\n",
    "    print('Start render ------------------------------------')\n",
    "    validateEnv.render()\n",
    "    reward = 0\n",
    "    dones = False\n",
    "    while not dones:\n",
    "        action, _states = model.predict(state, deterministic=True)\n",
    "        state, rewards, dones, info = validateEnv.step(action)\n",
    "        reward += rewards\n",
    "    print('End render --------------------------------------')\n",
    "    print((state['grid'].flatten() > 0).sum())\n",
    "    print(\"Reward: \" + str(reward))\n",
    "    validateEnv.render()\n",
    "    print('End list of containers --------------------------')\n",
    "    display(validateEnv.listOfContainers)"
   ]
  },
  {
   "cell_type": "code",
   "execution_count": 36,
   "id": "0574976d",
   "metadata": {},
   "outputs": [],
   "source": []
  }
 ],
 "metadata": {
  "kernelspec": {
   "display_name": "Python 3 (ipykernel)",
   "language": "python",
   "name": "python3"
  },
  "language_info": {
   "codemirror_mode": {
    "name": "ipython",
    "version": 3
   },
   "file_extension": ".py",
   "mimetype": "text/x-python",
   "name": "python",
   "nbconvert_exporter": "python",
   "pygments_lexer": "ipython3",
   "version": "3.9.15"
  }
 },
 "nbformat": 4,
 "nbformat_minor": 5
}
