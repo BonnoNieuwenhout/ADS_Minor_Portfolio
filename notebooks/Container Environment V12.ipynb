{
 "cells": [
  {
   "cell_type": "code",
   "execution_count": 73,
   "id": "2ecc4a36",
   "metadata": {},
   "outputs": [],
   "source": [
    "import gym\n",
    "import numpy as np\n",
    "import pandas as pd\n",
    "from gym import Env\n",
    "from gym.spaces import Discrete, Box, Dict, Tuple, MultiBinary, MultiDiscrete\n",
    "from IPython.display import display\n",
    "import random\n",
    "import os\n",
    "from stable_baselines3 import PPO, A2C\n",
    "from stable_baselines3.common.vec_env import VecFrameStack\n",
    "from stable_baselines3.common.vec_env import DummyVecEnv, SubprocVecEnv\n",
    "from stable_baselines3.common.evaluation import evaluate_policy"
   ]
  },
  {
   "cell_type": "code",
   "execution_count": 74,
   "id": "fbbd2627",
   "metadata": {},
   "outputs": [
    {
     "name": "stdout",
     "output_type": "stream",
     "text": [
      "0.7693379815394654\n"
     ]
    }
   ],
   "source": [
    "random.seed()\n",
    "randomN = random.random()\n",
    "print(randomN)"
   ]
  },
  {
   "cell_type": "code",
   "execution_count": 75,
   "id": "7f1a4d99",
   "metadata": {},
   "outputs": [],
   "source": [
    "random.seed(randomN)\n",
    "randomNumber = random.random()"
   ]
  },
  {
   "cell_type": "code",
   "execution_count": 76,
   "id": "538a3e9d",
   "metadata": {},
   "outputs": [
    {
     "data": {
      "text/plain": "array([[[3, 3, 3],\n        [3, 1, 1],\n        [2, 3, 0]],\n\n       [[1, 1, 2],\n        [1, 3, 2],\n        [2, 2, 3]],\n\n       [[1, 0, 0],\n        [0, 2, 0],\n        [0, 1, 0]]])"
     },
     "execution_count": 76,
     "metadata": {},
     "output_type": "execute_result"
    }
   ],
   "source": [
    "Box(low=0, high=3, shape=(3, 3, 3), dtype=int).sample()"
   ]
  },
  {
   "cell_type": "code",
   "execution_count": 77,
   "id": "36e6b389",
   "metadata": {},
   "outputs": [],
   "source": [
    "def fillInContainerGridRandom(grid, action_space, upperbound, percentage=0.25):\n",
    "    filledIn = 0\n",
    "    amountToFillIn = int((grid.shape[0] * grid.shape[1]) * percentage)\n",
    "    while (filledIn < amountToFillIn):\n",
    "        indexToFillIn = action_space.sample()\n",
    "        rowToFillIn = grid[indexToFillIn[0]][indexToFillIn[1]]\n",
    "        if (np.all(rowToFillIn)):\n",
    "            continue\n",
    "        elif (not np.any(rowToFillIn)):\n",
    "            checkGridCopy = grid.copy()\n",
    "            x_values_list = np.array([], dtype=int)\n",
    "            for x_spot in checkGridCopy[indexToFillIn[0]]:\n",
    "                if (x_spot[0] == 0):\n",
    "                    continue\n",
    "                x_values_list = np.append(x_values_list, x_spot[0])\n",
    "            uniqueListOfNumbers = list(set(x_values_list))\n",
    "            num_values = len(uniqueListOfNumbers)\n",
    "            if (num_values < 2):\n",
    "                randomShipNumber = random.randint(1, upperbound)\n",
    "                checkGridCopy[indexToFillIn[0]][indexToFillIn[1]], score = fillContainerInList(rowToFillIn, randomShipNumber)\n",
    "                #We encountered a boxed in(e.g. [1,0,3])\n",
    "                if(checkForBoxedInContainer(checkGridCopy[indexToFillIn[0]]) < 0):\n",
    "                    continue\n",
    "            else:\n",
    "                randomShipNumber = uniqueListOfNumbers[-1]\n",
    "                checkGridCopy[indexToFillIn[0]][indexToFillIn[1]], score = fillContainerInList(rowToFillIn, randomShipNumber)\n",
    "                #We encountered a boxed in(e.g. [1,3,x]) where x is to be placed and is equal to 1\n",
    "                if(checkForBoxedInContainer(checkGridCopy[indexToFillIn[0]]) < 0):\n",
    "                    randomShipNumber = uniqueListOfNumbers[0]\n",
    "        else:\n",
    "            #We don't need to check for box in since we add to the current x_row\n",
    "            randomShipNumber = rowToFillIn[0]\n",
    "            \n",
    "        grid[indexToFillIn[0]][indexToFillIn[1]], score = fillContainerInList(rowToFillIn, randomShipNumber)\n",
    "        filledIn +=1\n",
    "    return grid\n",
    "\n",
    "def fillContainerInList(currentList, container):\n",
    "    newList = currentList.copy()\n",
    "    indexesOfZeros = np.where(newList == 0)[0]\n",
    "    # List is full of numbers\n",
    "    if (len(indexesOfZeros) < 1):\n",
    "        return newList, -3\n",
    "    else:\n",
    "        indexToChange = indexesOfZeros[0]\n",
    "        newList[indexToChange] = container\n",
    "        return newList, 0"
   ]
  },
  {
   "cell_type": "code",
   "execution_count": 78,
   "id": "d0452c73",
   "metadata": {},
   "outputs": [],
   "source": [
    "def fillSingleContainerAtPosition(grid, y, x, containerList):\n",
    "    bottomValue = grid[y][x][0]\n",
    "    container = containerList[-1]\n",
    "    #We get the new row and score of putting a container there based in the list availability\n",
    "    grid[y][x], score = fillContainerInList(grid[y][x], container)\n",
    "    if (score == 0):\n",
    "        #Also give a reward if the same number is used\n",
    "        if (bottomValue == 0):\n",
    "            score += 2\n",
    "            score += checkForBoxedInContainer(grid[y])\n",
    "        elif (bottomValue == container):\n",
    "            score += 5\n",
    "        else:\n",
    "            score -= 3\n",
    "        return grid, score, np.delete(containerList, -1)\n",
    "    else:\n",
    "        return grid, score, containerList"
   ]
  },
  {
   "cell_type": "code",
   "execution_count": 79,
   "id": "4bc0bbec",
   "metadata": {},
   "outputs": [],
   "source": [
    "def checkForBoxedInContainer(listOfContainerRows):\n",
    "    x_values_list = np.array([], dtype=int)\n",
    "    for x_spot in listOfContainerRows:\n",
    "        x_values_list = np.append(x_values_list, x_spot[0])\n",
    "    numberToCheckFor = np.nan\n",
    "    numberToVerify = np.nan\n",
    "    encounteredZero = False\n",
    "    for item in x_values_list:\n",
    "        #Skip empty position on grid\n",
    "        if (item != 0):\n",
    "            #If we already encountered a number and zero counters is more than 0, we will box in a zero -> penalty\n",
    "            # e.g. x 0 0 x\n",
    "            if ((not np.isnan(numberToCheckFor)) & encounteredZero):\n",
    "                return -4\n",
    "            if (np.isnan(numberToCheckFor)):\n",
    "                numberToCheckFor = item\n",
    "            if (not np.isnan(numberToVerify)):\n",
    "                if (item != numberToVerify):\n",
    "                    #The previous item is boxed in since that item is not equal to where we started and the next item is also different\n",
    "                    return -4\n",
    "            #Set number to verify if boxed in\n",
    "            if ((item != numberToCheckFor) & (np.isnan(numberToVerify))):\n",
    "                numberToVerify = item\n",
    "        else:\n",
    "            # Only check once we encountered a number\n",
    "            # e.g. 0 x ... doesn't count\n",
    "            if (not np.isnan(numberToCheckFor)):\n",
    "                encounteredZero = True\n",
    "\n",
    "    return 0"
   ]
  },
  {
   "cell_type": "code",
   "execution_count": 80,
   "id": "c35e7487",
   "metadata": {},
   "outputs": [],
   "source": [
    "def getListOfContainers(numberOfShips, containersPerShip, multiplication=1):\n",
    "    containers = np.array([], dtype=int)\n",
    "    for i in range(multiplication):\n",
    "        for i in range(1, numberOfShips + 1):\n",
    "            containers = np.append(containers, np.full((1, containersPerShip), i, dtype=int))\n",
    "    random.shuffle(containers)\n",
    "    return containers\n",
    "\n",
    "def getContainersCountAsList(containerList, current_count=None):\n",
    "    numbers, counts = np.unique(containerList, return_counts=True)\n",
    "    if (type(current_count) == type(None)):\n",
    "        current_count = np.zeros(len(counts), dtype=int)\n",
    "    #Iterate through the numbers and assign their count\n",
    "    if (len(numbers) > 0):\n",
    "        startIndex = numbers[-1]\n",
    "        for idx, number in enumerate(numbers):\n",
    "            current_count[number-1] = counts[idx]\n",
    "        current_count[numbers[-1]:] = 0\n",
    "        return current_count\n",
    "    #Numbers that are not in the list, but still exist in the dict will be set to 0\n",
    "    current_count[0:] = 0\n",
    "    return current_count"
   ]
  },
  {
   "cell_type": "code",
   "execution_count": 81,
   "id": "2e779d7f",
   "metadata": {},
   "outputs": [
    {
     "data": {
      "text/plain": "array([3, 1, 1, 3, 4, 1, 5, 1, 5, 1, 1, 3, 3, 2, 5, 2, 4, 2, 3, 5, 2, 2,\n       3, 3, 2, 2, 5, 3, 5, 4, 1, 3, 4, 1, 2, 5, 4, 5, 4, 2, 4, 1, 5, 4,\n       4, 3, 3, 4, 1, 3, 1, 3, 2, 2, 5, 5, 1, 5, 1, 2, 3, 3, 4, 1, 4, 1,\n       2, 1, 2, 3, 5, 1, 5, 3, 3, 1, 2, 1, 3, 1, 5, 3, 2, 1, 1, 3, 5, 3,\n       4, 1, 3, 5, 4, 1, 1, 3, 1, 4, 5, 3, 1, 4, 5, 1, 5, 2, 1, 3, 3, 4,\n       4, 2, 4, 2, 2, 2, 5, 4, 1, 4, 5, 2, 2, 2, 4, 1, 3, 5, 1, 3, 5, 2,\n       3, 1, 3, 4, 5, 3, 5, 5, 5, 2, 2, 2, 3, 4, 1, 5, 1, 5, 4, 1, 5, 2,\n       5, 3, 4, 4, 1, 5, 5, 4, 4, 4, 2, 5, 3, 2, 2, 2, 2, 4, 3, 2, 4, 4,\n       4, 2, 5, 1, 3, 4, 4, 4, 4, 3, 1, 2, 4, 2, 3, 5, 4, 3, 2, 5, 5, 1,\n       2, 5])"
     },
     "metadata": {},
     "output_type": "display_data"
    }
   ],
   "source": [
    "testContainerList = getListOfContainers(5,10,4)\n",
    "display(testContainerList)"
   ]
  },
  {
   "cell_type": "code",
   "execution_count": 82,
   "id": "860f9a69",
   "metadata": {},
   "outputs": [
    {
     "data": {
      "text/plain": "array([40, 40, 40, 40, 40])"
     },
     "metadata": {},
     "output_type": "display_data"
    }
   ],
   "source": [
    "container_count = getContainersCountAsList(testContainerList)\n",
    "display(container_count)"
   ]
  },
  {
   "cell_type": "code",
   "execution_count": 83,
   "id": "e11be227",
   "metadata": {},
   "outputs": [
    {
     "data": {
      "text/plain": "array([1, 2, 1, 0, 0])"
     },
     "metadata": {},
     "output_type": "display_data"
    }
   ],
   "source": [
    "test_dict = getContainersCountAsList(np.array([1, 2, 2, 3]), container_count)\n",
    "display(test_dict)"
   ]
  },
  {
   "cell_type": "code",
   "execution_count": 84,
   "id": "820f0838",
   "metadata": {
    "scrolled": true
   },
   "outputs": [
    {
     "data": {
      "text/plain": "array([[[3, 0, 0],\n        [0, 0, 0],\n        [0, 0, 0]],\n\n       [[2, 0, 0],\n        [2, 2, 0],\n        [1, 1, 1]],\n\n       [[0, 0, 0],\n        [0, 0, 0],\n        [2, 0, 0]]])"
     },
     "metadata": {},
     "output_type": "display_data"
    },
    {
     "data": {
      "text/plain": "array([2, 3, 2, 2, 1, 1, 3, 2, 1, 2, 3, 1, 3, 3, 2, 2, 2, 1, 3, 3, 1, 3,\n       1])"
     },
     "metadata": {},
     "output_type": "display_data"
    },
    {
     "data": {
      "text/plain": "array([[[3, 1, 0],\n        [0, 0, 0],\n        [0, 0, 0]],\n\n       [[2, 0, 0],\n        [2, 2, 0],\n        [1, 1, 1]],\n\n       [[0, 0, 0],\n        [0, 0, 0],\n        [2, 0, 0]]])"
     },
     "metadata": {},
     "output_type": "display_data"
    },
    {
     "data": {
      "text/plain": "-3"
     },
     "metadata": {},
     "output_type": "display_data"
    }
   ],
   "source": [
    "x = 3\n",
    "y = 3\n",
    "z = 3\n",
    "upperbound = 3\n",
    "empty3dArray = np.zeros(shape=(y, x, z), dtype=int)\n",
    "action_space = MultiDiscrete([y, x], dtype=int)\n",
    "empty3dArray = fillInContainerGridRandom(empty3dArray, action_space, upperbound, 0.9)\n",
    "containers = getListOfContainers(upperbound, 4, z-1)\n",
    "display(empty3dArray)\n",
    "df, score, lists = fillSingleContainerAtPosition(empty3dArray, 0, 0, containers)\n",
    "display(lists)\n",
    "display(df)\n",
    "display(score)"
   ]
  },
  {
   "cell_type": "code",
   "execution_count": 85,
   "id": "aa310d58",
   "metadata": {},
   "outputs": [
    {
     "data": {
      "text/plain": "array([[[3, 1, 0],\n        [0, 0, 0],\n        [0, 0, 0]],\n\n       [[2, 0, 0],\n        [2, 2, 0],\n        [1, 1, 1]],\n\n       [[0, 0, 0],\n        [0, 0, 0],\n        [2, 0, 0]]])"
     },
     "metadata": {},
     "output_type": "display_data"
    },
    {
     "data": {
      "text/plain": "array([2, 1, 3, 2, 3, 1, 3, 2])"
     },
     "metadata": {},
     "output_type": "display_data"
    },
    {
     "data": {
      "text/plain": "array([[[3, 1, 0],\n        [0, 0, 0],\n        [1, 0, 0]],\n\n       [[2, 0, 0],\n        [2, 2, 0],\n        [1, 1, 1]],\n\n       [[0, 0, 0],\n        [0, 0, 0],\n        [2, 0, 0]]])"
     },
     "metadata": {},
     "output_type": "display_data"
    },
    {
     "data": {
      "text/plain": "-2"
     },
     "metadata": {},
     "output_type": "display_data"
    }
   ],
   "source": [
    "containers = getListOfContainers(3, 3)\n",
    "display(df)\n",
    "df, score, lists = fillSingleContainerAtPosition(df, 0, 2, containers)\n",
    "display(lists)\n",
    "display(df)\n",
    "display(score)"
   ]
  },
  {
   "cell_type": "code",
   "execution_count": 86,
   "id": "2d7fe7c9",
   "metadata": {
    "scrolled": true
   },
   "outputs": [
    {
     "data": {
      "text/plain": "array([2, 3, 1, 1, 1, 3, 2, 3])"
     },
     "metadata": {},
     "output_type": "display_data"
    },
    {
     "data": {
      "text/plain": "array([[[3, 1, 0],\n        [2, 0, 0],\n        [1, 0, 0]],\n\n       [[2, 0, 0],\n        [2, 2, 0],\n        [1, 1, 1]],\n\n       [[0, 0, 0],\n        [0, 0, 0],\n        [2, 0, 0]]])"
     },
     "metadata": {},
     "output_type": "display_data"
    },
    {
     "data": {
      "text/plain": "False"
     },
     "metadata": {},
     "output_type": "display_data"
    },
    {
     "data": {
      "text/plain": "-2"
     },
     "metadata": {},
     "output_type": "display_data"
    }
   ],
   "source": [
    "containers = getListOfContainers(3, 3)\n",
    "df, score, lists = fillSingleContainerAtPosition(df, 0, 1, containers)\n",
    "display(lists)\n",
    "display(df)\n",
    "display(np.all(df.flatten() > 0))\n",
    "display(score)"
   ]
  },
  {
   "cell_type": "code",
   "execution_count": 87,
   "id": "4771d1bc",
   "metadata": {},
   "outputs": [],
   "source": [
    "action = MultiDiscrete([3, 3], dtype=int).sample()"
   ]
  },
  {
   "cell_type": "code",
   "execution_count": 88,
   "id": "89a17317",
   "metadata": {},
   "outputs": [
    {
     "data": {
      "text/plain": "array([1, 2])"
     },
     "metadata": {},
     "output_type": "display_data"
    }
   ],
   "source": [
    "display(action)"
   ]
  },
  {
   "cell_type": "code",
   "execution_count": 89,
   "id": "68f6d7b3",
   "metadata": {},
   "outputs": [
    {
     "data": {
      "text/plain": "1"
     },
     "metadata": {},
     "output_type": "display_data"
    }
   ],
   "source": [
    "display(action[0])"
   ]
  },
  {
   "cell_type": "code",
   "execution_count": 90,
   "id": "6dc19d6b",
   "metadata": {},
   "outputs": [
    {
     "data": {
      "text/plain": "5"
     },
     "execution_count": 90,
     "metadata": {},
     "output_type": "execute_result"
    }
   ],
   "source": [
    "Discrete(5, start=1).n"
   ]
  },
  {
   "cell_type": "code",
   "execution_count": 91,
   "id": "b2d6ce1e",
   "metadata": {},
   "outputs": [
    {
     "data": {
      "text/plain": "3"
     },
     "execution_count": 91,
     "metadata": {},
     "output_type": "execute_result"
    }
   ],
   "source": [
    "Discrete(5, start=1).sample()"
   ]
  },
  {
   "cell_type": "code",
   "execution_count": 92,
   "id": "3ced63a3",
   "metadata": {},
   "outputs": [
    {
     "data": {
      "text/plain": "OrderedDict([('1', 2), ('2', 4), ('3', 2), ('4', 0)])"
     },
     "execution_count": 92,
     "metadata": {},
     "output_type": "execute_result"
    }
   ],
   "source": [
    "Dict(spaces={\n",
    "    '1': Discrete(5),\n",
    "    '2': Discrete(5),\n",
    "    '3': Discrete(5),\n",
    "    '4': Discrete(5),\n",
    "}).sample()"
   ]
  },
  {
   "cell_type": "code",
   "execution_count": 93,
   "id": "c9364604",
   "metadata": {},
   "outputs": [],
   "source": [
    "# observation space\n",
    "observation_space_test = Dict({\n",
    "    'grid':\n",
    "        Box(low=0,\n",
    "                   high=5,\n",
    "                   shape=(3, 3, 3), dtype=int),\n",
    "    'container':\n",
    "        Discrete(5),\n",
    "    'containerCount':\n",
    "        MultiDiscrete(np.full(shape=(5,), fill_value=5,dtype=int))})"
   ]
  },
  {
   "cell_type": "code",
   "execution_count": 94,
   "id": "e5f4e292",
   "metadata": {},
   "outputs": [
    {
     "name": "stdout",
     "output_type": "stream",
     "text": [
      "OrderedDict([('container', 3), ('containerCount', array([2, 2, 0, 3, 2], dtype=int64)), ('grid', array([[[3, 2, 0],\n",
      "        [2, 3, 1],\n",
      "        [3, 1, 1]],\n",
      "\n",
      "       [[1, 2, 2],\n",
      "        [0, 1, 3],\n",
      "        [2, 4, 5]],\n",
      "\n",
      "       [[2, 0, 4],\n",
      "        [4, 1, 1],\n",
      "        [5, 3, 2]]]))])\n"
     ]
    }
   ],
   "source": [
    "print(observation_space_test.sample())"
   ]
  },
  {
   "cell_type": "markdown",
   "id": "0072aabd",
   "metadata": {},
   "source": [
    "# Create environment"
   ]
  },
  {
   "cell_type": "code",
   "execution_count": 95,
   "id": "44a2ebba",
   "metadata": {},
   "outputs": [],
   "source": [
    "class ContainerEnv(Env):\n",
    "    \"Custom Environment that follows gym interface\"\n",
    "    metadata = {'render.modes': ['human']}\n",
    "\n",
    "    def __init__(self, numberOfShips, containersPerShip, boxWidth, boxLength, boxHeight, percentage=0.0):\n",
    "        super(ContainerEnv, self).__init__()\n",
    "        self.numberOfShips = numberOfShips\n",
    "        self.containersPerShip = containersPerShip\n",
    "        self.percentage = percentage\n",
    "        self.maxRows = boxLength\n",
    "        self.maxColumns = boxWidth\n",
    "        self.maxHeight = boxHeight\n",
    "        self.maxStepsCount = ((self.maxRows * self.maxColumns * self.maxHeight) * self.maxHeight)\n",
    "        self.action_space = MultiDiscrete([self.maxRows, self.maxColumns], dtype=int)\n",
    "        self.observation_space = Dict(\n",
    "            spaces={\n",
    "                \"grid\": Box(low=0, high=numberOfShips, shape=(self.maxRows, self.maxColumns, self.maxHeight), dtype=int),\n",
    "                \"container\": Discrete(numberOfShips+2, start=1),\n",
    "                \"containerCount\": MultiDiscrete(np.full(shape=(numberOfShips,), fill_value=(self.maxRows * self.maxColumns * self.maxHeight),dtype=int))\n",
    "            }\n",
    "        )\n",
    "        self.listOfContainers = getListOfContainers(self.numberOfShips, self.containersPerShip, self.maxHeight-1)\n",
    "        self.containerCount = getContainersCountAsList(self.listOfContainers)\n",
    "        self.containerGrid = fillInContainerGridRandom(np.zeros(shape=(self.maxRows, self.maxColumns, self.maxHeight), dtype=int), \n",
    "                                                       self.action_space, \n",
    "                                                       self.numberOfShips,\n",
    "                                                       self.percentage)\n",
    "    def step(self, action):\n",
    "        self.maxStepsCount -= 1\n",
    "        grid, reward, containerList = fillSingleContainerAtPosition(self.containerGrid, action[0], action[1], self.listOfContainers)\n",
    "        self.containerGrid = grid\n",
    "        self.listOfContainers = containerList\n",
    "        self.containerCount = getContainersCountAsList(self.listOfContainers, self.containerCount)\n",
    "        info = {\"TimeLimit.truncated\": False}\n",
    "        # Check if there are no more containers to place\n",
    "        if ((len(self.listOfContainers) == 0) | np.all(self.containerGrid.flatten() > 0)):\n",
    "            obs = {'containerCount': self.containerCount, 'container': 0, 'grid': self.containerGrid}\n",
    "            return obs, reward, True, info\n",
    "        else:\n",
    "            obs = {'containerCount': self.containerCount, 'container': int(self.listOfContainers[-1]),\n",
    "                   'grid': self.containerGrid}\n",
    "            if (self.maxStepsCount == 0):\n",
    "                info[\"TimeLimit.truncated\"] = True\n",
    "                return obs, reward, True, info\n",
    "            return obs, reward, False, info\n",
    "    \n",
    "    def reset(self):\n",
    "        self.maxStepsCount = ((self.maxRows * self.maxColumns * self.maxHeight) * self.maxHeight)\n",
    "        self.containerGrid = fillInContainerGridRandom(np.zeros(shape=(self.maxRows, self.maxColumns, self.maxHeight), dtype=int), \n",
    "                                                       self.action_space, \n",
    "                                                       self.numberOfShips,\n",
    "                                                       self.percentage)\n",
    "        self.listOfContainers = getListOfContainers(self.numberOfShips, \n",
    "                                                    #random.randint(max(1, self.containersPerShip - 5), self.containersPerShip + 5),\n",
    "                                                    self.containersPerShip,\n",
    "                                                    self.maxHeight-1)\n",
    "        self.containerCount = getContainersCountAsList(self.listOfContainers)\n",
    "        obs = {'containerCount': self.containerCount, 'container': int(self.listOfContainers[-1]), 'grid': self.containerGrid}\n",
    "        return obs\n",
    "    \n",
    "    def render(self, mode='human', close=False):\n",
    "        display(self.containerGrid)\n",
    "    def close (self):\n",
    "        display(self.containerGrid)"
   ]
  },
  {
   "cell_type": "code",
   "execution_count": 96,
   "id": "2f28fca3",
   "metadata": {},
   "outputs": [],
   "source": [
    "from stable_baselines3.common.env_checker import check_env\n",
    "\n",
    "env = ContainerEnv(3, 3, 1, 3, 3)\n",
    "# It will check your custom environment and output additional warnings if needed\n",
    "#check_env(env)"
   ]
  },
  {
   "cell_type": "code",
   "execution_count": 97,
   "id": "e25423e3",
   "metadata": {
    "scrolled": true
   },
   "outputs": [
    {
     "data": {
      "text/plain": "MultiDiscrete([3 3])"
     },
     "metadata": {},
     "output_type": "display_data"
    },
    {
     "data": {
      "text/plain": "Dict('container': Discrete(5, start=1), 'containerCount': MultiDiscrete([27 27 27]), 'grid': Box(0, 3, (3, 3, 3), int32))"
     },
     "metadata": {},
     "output_type": "display_data"
    },
    {
     "data": {
      "text/plain": "{'containerCount': array([8, 8, 8]),\n 'container': 2,\n 'grid': array([[[0, 0, 0],\n         [0, 0, 0],\n         [0, 0, 0]],\n \n        [[0, 0, 0],\n         [0, 0, 0],\n         [0, 0, 0]],\n \n        [[0, 0, 0],\n         [0, 0, 0],\n         [0, 0, 0]]])}"
     },
     "metadata": {},
     "output_type": "display_data"
    }
   ],
   "source": [
    "numberOfShips = 3\n",
    "containersPerShip = 4\n",
    "boxHeight = 3\n",
    "boxWidth = 3\n",
    "boxLength = 3\n",
    "env = ContainerEnv(numberOfShips, containersPerShip, boxWidth, boxLength, boxHeight)\n",
    "display(env.action_space)\n",
    "display(env.observation_space)\n",
    "display(env.reset())"
   ]
  },
  {
   "cell_type": "markdown",
   "id": "e331be2b",
   "metadata": {},
   "source": [
    "# Test environment"
   ]
  },
  {
   "cell_type": "code",
   "execution_count": 98,
   "id": "8c1a6e94",
   "metadata": {
    "scrolled": true
   },
   "outputs": [
    {
     "data": {
      "text/plain": "{'containerCount': array([8, 8, 8]),\n 'container': 2,\n 'grid': array([[[0, 0, 0],\n         [0, 0, 0],\n         [0, 0, 0]],\n \n        [[0, 0, 0],\n         [0, 0, 0],\n         [0, 0, 0]],\n \n        [[0, 0, 0],\n         [0, 0, 0],\n         [0, 0, 0]]])}"
     },
     "metadata": {},
     "output_type": "display_data"
    },
    {
     "name": "stdout",
     "output_type": "stream",
     "text": [
      "Episode:1 Score:4\n",
      "final env state\n"
     ]
    },
    {
     "data": {
      "text/plain": "{'containerCount': array([0, 0, 0]),\n 'container': 0,\n 'grid': array([[[1, 2, 2],\n         [3, 3, 0],\n         [2, 3, 2]],\n \n        [[3, 2, 1],\n         [2, 2, 3],\n         [3, 3, 3]],\n \n        [[2, 1, 0],\n         [1, 1, 0],\n         [1, 1, 1]]])}"
     },
     "metadata": {},
     "output_type": "display_data"
    },
    {
     "data": {
      "text/plain": "array([], dtype=int32)"
     },
     "metadata": {},
     "output_type": "display_data"
    },
    {
     "data": {
      "text/plain": "{'containerCount': array([8, 8, 8]),\n 'container': 2,\n 'grid': array([[[0, 0, 0],\n         [0, 0, 0],\n         [0, 0, 0]],\n \n        [[0, 0, 0],\n         [0, 0, 0],\n         [0, 0, 0]],\n \n        [[0, 0, 0],\n         [0, 0, 0],\n         [0, 0, 0]]])}"
     },
     "metadata": {},
     "output_type": "display_data"
    },
    {
     "name": "stdout",
     "output_type": "stream",
     "text": [
      "Episode:2 Score:-56\n",
      "final env state\n"
     ]
    },
    {
     "data": {
      "text/plain": "{'containerCount': array([0, 0, 0]),\n 'container': 0,\n 'grid': array([[[2, 3, 3],\n         [3, 1, 2],\n         [3, 1, 1]],\n \n        [[1, 1, 0],\n         [2, 0, 0],\n         [1, 2, 1]],\n \n        [[2, 3, 3],\n         [2, 2, 1],\n         [2, 3, 3]]])}"
     },
     "metadata": {},
     "output_type": "display_data"
    },
    {
     "data": {
      "text/plain": "array([], dtype=int32)"
     },
     "metadata": {},
     "output_type": "display_data"
    },
    {
     "data": {
      "text/plain": "{'containerCount': array([8, 8, 8]),\n 'container': 1,\n 'grid': array([[[0, 0, 0],\n         [0, 0, 0],\n         [0, 0, 0]],\n \n        [[0, 0, 0],\n         [0, 0, 0],\n         [0, 0, 0]],\n \n        [[0, 0, 0],\n         [0, 0, 0],\n         [0, 0, 0]]])}"
     },
     "metadata": {},
     "output_type": "display_data"
    },
    {
     "name": "stdout",
     "output_type": "stream",
     "text": [
      "Episode:3 Score:-13\n",
      "final env state\n"
     ]
    },
    {
     "data": {
      "text/plain": "{'containerCount': array([0, 0, 0]),\n 'container': 0,\n 'grid': array([[[1, 2, 3],\n         [3, 0, 0],\n         [1, 3, 3]],\n \n        [[2, 2, 1],\n         [2, 3, 3],\n         [1, 1, 1]],\n \n        [[1, 2, 1],\n         [3, 3, 2],\n         [2, 2, 0]]])}"
     },
     "metadata": {},
     "output_type": "display_data"
    },
    {
     "data": {
      "text/plain": "array([], dtype=int32)"
     },
     "metadata": {},
     "output_type": "display_data"
    },
    {
     "data": {
      "text/plain": "{'containerCount': array([8, 8, 8]),\n 'container': 3,\n 'grid': array([[[0, 0, 0],\n         [0, 0, 0],\n         [0, 0, 0]],\n \n        [[0, 0, 0],\n         [0, 0, 0],\n         [0, 0, 0]],\n \n        [[0, 0, 0],\n         [0, 0, 0],\n         [0, 0, 0]]])}"
     },
     "metadata": {},
     "output_type": "display_data"
    },
    {
     "name": "stdout",
     "output_type": "stream",
     "text": [
      "Episode:4 Score:-37\n",
      "final env state\n"
     ]
    },
    {
     "data": {
      "text/plain": "{'containerCount': array([0, 0, 0]),\n 'container': 0,\n 'grid': array([[[1, 2, 3],\n         [1, 3, 0],\n         [3, 3, 1]],\n \n        [[3, 3, 2],\n         [1, 2, 2],\n         [3, 2, 2]],\n \n        [[2, 1, 0],\n         [1, 1, 0],\n         [2, 1, 3]]])}"
     },
     "metadata": {},
     "output_type": "display_data"
    },
    {
     "data": {
      "text/plain": "array([], dtype=int32)"
     },
     "metadata": {},
     "output_type": "display_data"
    },
    {
     "data": {
      "text/plain": "{'containerCount': array([8, 8, 8]),\n 'container': 3,\n 'grid': array([[[0, 0, 0],\n         [0, 0, 0],\n         [0, 0, 0]],\n \n        [[0, 0, 0],\n         [0, 0, 0],\n         [0, 0, 0]],\n \n        [[0, 0, 0],\n         [0, 0, 0],\n         [0, 0, 0]]])}"
     },
     "metadata": {},
     "output_type": "display_data"
    },
    {
     "name": "stdout",
     "output_type": "stream",
     "text": [
      "Episode:5 Score:-23\n",
      "final env state\n"
     ]
    },
    {
     "data": {
      "text/plain": "{'containerCount': array([0, 0, 0]),\n 'container': 0,\n 'grid': array([[[3, 3, 1],\n         [3, 0, 0],\n         [2, 3, 0]],\n \n        [[3, 2, 1],\n         [1, 3, 2],\n         [2, 1, 2]],\n \n        [[1, 1, 2],\n         [1, 1, 3],\n         [2, 2, 3]]])}"
     },
     "metadata": {},
     "output_type": "display_data"
    },
    {
     "data": {
      "text/plain": "array([], dtype=int32)"
     },
     "metadata": {},
     "output_type": "display_data"
    },
    {
     "data": {
      "text/plain": "{'containerCount': array([8, 8, 8]),\n 'container': 1,\n 'grid': array([[[0, 0, 0],\n         [0, 0, 0],\n         [0, 0, 0]],\n \n        [[0, 0, 0],\n         [0, 0, 0],\n         [0, 0, 0]],\n \n        [[0, 0, 0],\n         [0, 0, 0],\n         [0, 0, 0]]])}"
     },
     "metadata": {},
     "output_type": "display_data"
    },
    {
     "name": "stdout",
     "output_type": "stream",
     "text": [
      "Episode:6 Score:-75\n",
      "final env state\n"
     ]
    },
    {
     "data": {
      "text/plain": "{'containerCount': array([0, 0, 0]),\n 'container': 0,\n 'grid': array([[[2, 1, 3],\n         [1, 2, 1],\n         [2, 2, 3]],\n \n        [[1, 3, 2],\n         [1, 2, 1],\n         [2, 3, 3]],\n \n        [[3, 0, 0],\n         [2, 3, 0],\n         [1, 3, 1]]])}"
     },
     "metadata": {},
     "output_type": "display_data"
    },
    {
     "data": {
      "text/plain": "array([], dtype=int32)"
     },
     "metadata": {},
     "output_type": "display_data"
    },
    {
     "data": {
      "text/plain": "{'containerCount': array([8, 8, 8]),\n 'container': 1,\n 'grid': array([[[0, 0, 0],\n         [0, 0, 0],\n         [0, 0, 0]],\n \n        [[0, 0, 0],\n         [0, 0, 0],\n         [0, 0, 0]],\n \n        [[0, 0, 0],\n         [0, 0, 0],\n         [0, 0, 0]]])}"
     },
     "metadata": {},
     "output_type": "display_data"
    },
    {
     "name": "stdout",
     "output_type": "stream",
     "text": [
      "Episode:7 Score:-63\n",
      "final env state\n"
     ]
    },
    {
     "data": {
      "text/plain": "{'containerCount': array([0, 0, 0]),\n 'container': 0,\n 'grid': array([[[3, 2, 3],\n         [3, 2, 2],\n         [3, 2, 2]],\n \n        [[2, 3, 1],\n         [1, 1, 1],\n         [2, 1, 1]],\n \n        [[2, 3, 3],\n         [3, 1, 1],\n         [0, 0, 0]]])}"
     },
     "metadata": {},
     "output_type": "display_data"
    },
    {
     "data": {
      "text/plain": "array([], dtype=int32)"
     },
     "metadata": {},
     "output_type": "display_data"
    },
    {
     "data": {
      "text/plain": "{'containerCount': array([8, 8, 8]),\n 'container': 3,\n 'grid': array([[[0, 0, 0],\n         [0, 0, 0],\n         [0, 0, 0]],\n \n        [[0, 0, 0],\n         [0, 0, 0],\n         [0, 0, 0]],\n \n        [[0, 0, 0],\n         [0, 0, 0],\n         [0, 0, 0]]])}"
     },
     "metadata": {},
     "output_type": "display_data"
    },
    {
     "name": "stdout",
     "output_type": "stream",
     "text": [
      "Episode:8 Score:3\n",
      "final env state\n"
     ]
    },
    {
     "data": {
      "text/plain": "{'containerCount': array([0, 0, 0]),\n 'container': 0,\n 'grid': array([[[1, 2, 0],\n         [1, 2, 3],\n         [2, 2, 2]],\n \n        [[1, 3, 0],\n         [1, 1, 0],\n         [2, 3, 2]],\n \n        [[3, 3, 1],\n         [1, 1, 3],\n         [3, 2, 3]]])}"
     },
     "metadata": {},
     "output_type": "display_data"
    },
    {
     "data": {
      "text/plain": "array([], dtype=int32)"
     },
     "metadata": {},
     "output_type": "display_data"
    },
    {
     "data": {
      "text/plain": "{'containerCount': array([8, 8, 8]),\n 'container': 2,\n 'grid': array([[[0, 0, 0],\n         [0, 0, 0],\n         [0, 0, 0]],\n \n        [[0, 0, 0],\n         [0, 0, 0],\n         [0, 0, 0]],\n \n        [[0, 0, 0],\n         [0, 0, 0],\n         [0, 0, 0]]])}"
     },
     "metadata": {},
     "output_type": "display_data"
    },
    {
     "name": "stdout",
     "output_type": "stream",
     "text": [
      "Episode:9 Score:-45\n",
      "final env state\n"
     ]
    },
    {
     "data": {
      "text/plain": "{'containerCount': array([0, 0, 0]),\n 'container': 0,\n 'grid': array([[[3, 2, 2],\n         [1, 3, 3],\n         [1, 2, 3]],\n \n        [[2, 3, 2],\n         [1, 1, 2],\n         [1, 3, 1]],\n \n        [[1, 0, 0],\n         [3, 2, 0],\n         [1, 3, 2]]])}"
     },
     "metadata": {},
     "output_type": "display_data"
    },
    {
     "data": {
      "text/plain": "array([], dtype=int32)"
     },
     "metadata": {},
     "output_type": "display_data"
    },
    {
     "data": {
      "text/plain": "{'containerCount': array([8, 8, 8]),\n 'container': 3,\n 'grid': array([[[0, 0, 0],\n         [0, 0, 0],\n         [0, 0, 0]],\n \n        [[0, 0, 0],\n         [0, 0, 0],\n         [0, 0, 0]],\n \n        [[0, 0, 0],\n         [0, 0, 0],\n         [0, 0, 0]]])}"
     },
     "metadata": {},
     "output_type": "display_data"
    },
    {
     "name": "stdout",
     "output_type": "stream",
     "text": [
      "Episode:10 Score:-2\n",
      "final env state\n"
     ]
    },
    {
     "data": {
      "text/plain": "{'containerCount': array([0, 0, 0]),\n 'container': 0,\n 'grid': array([[[3, 1, 1],\n         [3, 2, 3],\n         [3, 3, 3]],\n \n        [[3, 1, 2],\n         [2, 0, 0],\n         [1, 1, 2]],\n \n        [[2, 2, 0],\n         [3, 1, 2],\n         [1, 2, 1]]])}"
     },
     "metadata": {},
     "output_type": "display_data"
    },
    {
     "data": {
      "text/plain": "array([], dtype=int32)"
     },
     "metadata": {},
     "output_type": "display_data"
    },
    {
     "data": {
      "text/plain": "array([[[3, 1, 1],\n        [3, 2, 3],\n        [3, 3, 3]],\n\n       [[3, 1, 2],\n        [2, 0, 0],\n        [1, 1, 2]],\n\n       [[2, 2, 0],\n        [3, 1, 2],\n        [1, 2, 1]]])"
     },
     "metadata": {},
     "output_type": "display_data"
    }
   ],
   "source": [
    "episodes = 10\n",
    "for episode in range(1, episodes+1):\n",
    "    state = env.reset()\n",
    "    display(state)\n",
    "    done = False\n",
    "    score = 0\n",
    "    \n",
    "    while not done:\n",
    "        action = env.action_space.sample()\n",
    "        n_state, reward, done, info = env.step(action)\n",
    "        state = n_state\n",
    "        score+=reward\n",
    "    print('Episode:{} Score:{}'.format(episode, score))\n",
    "    print('final env state')\n",
    "    display(state)\n",
    "    display(env.listOfContainers)\n",
    "env.close()"
   ]
  },
  {
   "cell_type": "markdown",
   "id": "a00b42d4",
   "metadata": {},
   "source": [
    "# Stable baselines"
   ]
  },
  {
   "cell_type": "code",
   "execution_count": 99,
   "id": "b117c05d",
   "metadata": {},
   "outputs": [
    {
     "name": "stdout",
     "output_type": "stream",
     "text": [
      "0.0\n",
      "0.1\n",
      "0.2\n",
      "0.30000000000000004\n",
      "0.4\n",
      "0.5\n",
      "0.6000000000000001\n",
      "0.7000000000000001\n",
      "0.8\n",
      "0.9\n"
     ]
    }
   ],
   "source": [
    "for percentage in np.arange(0.0, 1.0, 0.1):\n",
    "    print(percentage)"
   ]
  },
  {
   "cell_type": "code",
   "execution_count": 100,
   "id": "a862b124",
   "metadata": {},
   "outputs": [],
   "source": [
    "from typing import Callable\n",
    "def make_env(numberOfShips, containersPerShip, boxHeight, boxWidth, boxLength, percentage) -> Callable:\n",
    "    def _init() -> Env:\n",
    "        env = ContainerEnv(numberOfShips, containersPerShip, boxHeight, boxWidth, boxLength, percentage)\n",
    "        return env\n",
    "    return _init"
   ]
  },
  {
   "cell_type": "code",
   "execution_count": 101,
   "id": "3f965795",
   "metadata": {},
   "outputs": [],
   "source": [
    "def getTotalTimeSteps(timesteps, percentage):\n",
    "    return timesteps\n",
    "    #return timesteps * (1 - percentage)"
   ]
  },
  {
   "cell_type": "code",
   "execution_count": 102,
   "id": "0c35f100",
   "metadata": {
    "scrolled": true
   },
   "outputs": [
    {
     "name": "stdout",
     "output_type": "stream",
     "text": [
      "Using cpu device\n",
      "Logging to /tmp/ContainerEnvV11_2\\Env_with_percentage_0_1\n",
      "-----------------------------\n",
      "| time/              |      |\n",
      "|    fps             | 3171 |\n",
      "|    iterations      | 1    |\n",
      "|    time_elapsed    | 2    |\n",
      "|    total_timesteps | 8192 |\n",
      "-----------------------------\n",
      "-----------------------------------------\n",
      "| time/                   |             |\n",
      "|    fps                  | 1478        |\n",
      "|    iterations           | 2           |\n",
      "|    time_elapsed         | 11          |\n",
      "|    total_timesteps      | 16384       |\n",
      "| train/                  |             |\n",
      "|    approx_kl            | 0.012076547 |\n",
      "|    clip_fraction        | 0.153       |\n",
      "|    clip_range           | 0.2         |\n",
      "|    entropy_loss         | -2.19       |\n",
      "|    explained_variance   | 0.00281     |\n",
      "|    learning_rate        | 0.0005      |\n",
      "|    loss                 | 32.1        |\n",
      "|    n_updates            | 10          |\n",
      "|    policy_gradient_loss | -0.0184     |\n",
      "|    value_loss           | 98.2        |\n",
      "-----------------------------------------\n",
      "-----------------------------------------\n",
      "| time/                   |             |\n",
      "|    fps                  | 1207        |\n",
      "|    iterations           | 3           |\n",
      "|    time_elapsed         | 20          |\n",
      "|    total_timesteps      | 24576       |\n",
      "| train/                  |             |\n",
      "|    approx_kl            | 0.012433338 |\n",
      "|    clip_fraction        | 0.151       |\n",
      "|    clip_range           | 0.2         |\n",
      "|    entropy_loss         | -2.17       |\n",
      "|    explained_variance   | 0.138       |\n",
      "|    learning_rate        | 0.0005      |\n",
      "|    loss                 | 53.6        |\n",
      "|    n_updates            | 20          |\n",
      "|    policy_gradient_loss | -0.0198     |\n",
      "|    value_loss           | 93.7        |\n",
      "-----------------------------------------\n",
      "Model iteratie: 0\n",
      "Using percentage: 0.8\n",
      "Logging to /tmp/ContainerEnvV11_2\\Env_with_percentage_0.80_0\n",
      "------------------------------\n",
      "| time/              |       |\n",
      "|    fps             | 3167  |\n",
      "|    iterations      | 1     |\n",
      "|    time_elapsed    | 2     |\n",
      "|    total_timesteps | 32768 |\n",
      "------------------------------\n",
      "-----------------------------------------\n",
      "| time/                   |             |\n",
      "|    fps                  | 1553        |\n",
      "|    iterations           | 2           |\n",
      "|    time_elapsed         | 10          |\n",
      "|    total_timesteps      | 40960       |\n",
      "| train/                  |             |\n",
      "|    approx_kl            | 0.009785123 |\n",
      "|    clip_fraction        | 0.107       |\n",
      "|    clip_range           | 0.2         |\n",
      "|    entropy_loss         | -2.13       |\n",
      "|    explained_variance   | 0.119       |\n",
      "|    learning_rate        | 0.0005      |\n",
      "|    loss                 | 71.2        |\n",
      "|    n_updates            | 50          |\n",
      "|    policy_gradient_loss | -0.0155     |\n",
      "|    value_loss           | 152         |\n",
      "-----------------------------------------\n",
      "-----------------------------------------\n",
      "| time/                   |             |\n",
      "|    fps                  | 1309        |\n",
      "|    iterations           | 3           |\n",
      "|    time_elapsed         | 18          |\n",
      "|    total_timesteps      | 49152       |\n",
      "| train/                  |             |\n",
      "|    approx_kl            | 0.010790449 |\n",
      "|    clip_fraction        | 0.115       |\n",
      "|    clip_range           | 0.2         |\n",
      "|    entropy_loss         | -2.12       |\n",
      "|    explained_variance   | 0.31        |\n",
      "|    learning_rate        | 0.0005      |\n",
      "|    loss                 | 62.1        |\n",
      "|    n_updates            | 60          |\n",
      "|    policy_gradient_loss | -0.0162     |\n",
      "|    value_loss           | 146         |\n",
      "-----------------------------------------\n",
      "Using percentage: 0.7000000000000001\n",
      "Logging to /tmp/ContainerEnvV11_2\\Env_with_percentage_0.70000000000000010_0\n",
      "------------------------------\n",
      "| time/              |       |\n",
      "|    fps             | 3184  |\n",
      "|    iterations      | 1     |\n",
      "|    time_elapsed    | 2     |\n",
      "|    total_timesteps | 57344 |\n",
      "------------------------------\n",
      "-----------------------------------------\n",
      "| time/                   |             |\n",
      "|    fps                  | 1471        |\n",
      "|    iterations           | 2           |\n",
      "|    time_elapsed         | 11          |\n",
      "|    total_timesteps      | 65536       |\n",
      "| train/                  |             |\n",
      "|    approx_kl            | 0.014005865 |\n",
      "|    clip_fraction        | 0.16        |\n",
      "|    clip_range           | 0.2         |\n",
      "|    entropy_loss         | -2.07       |\n",
      "|    explained_variance   | 0.254       |\n",
      "|    learning_rate        | 0.0005      |\n",
      "|    loss                 | 32.2        |\n",
      "|    n_updates            | 90          |\n",
      "|    policy_gradient_loss | -0.0195     |\n",
      "|    value_loss           | 123         |\n",
      "-----------------------------------------\n",
      "-----------------------------------------\n",
      "| time/                   |             |\n",
      "|    fps                  | 1170        |\n",
      "|    iterations           | 3           |\n",
      "|    time_elapsed         | 20          |\n",
      "|    total_timesteps      | 73728       |\n",
      "| train/                  |             |\n",
      "|    approx_kl            | 0.012875536 |\n",
      "|    clip_fraction        | 0.167       |\n",
      "|    clip_range           | 0.2         |\n",
      "|    entropy_loss         | -2.05       |\n",
      "|    explained_variance   | 0.238       |\n",
      "|    learning_rate        | 0.0005      |\n",
      "|    loss                 | 36.7        |\n",
      "|    n_updates            | 100         |\n",
      "|    policy_gradient_loss | -0.0191     |\n",
      "|    value_loss           | 127         |\n",
      "-----------------------------------------\n",
      "Using percentage: 0.6000000000000001\n",
      "Logging to /tmp/ContainerEnvV11_2\\Env_with_percentage_0.60000000000000010_0\n",
      "------------------------------\n",
      "| time/              |       |\n",
      "|    fps             | 2987  |\n",
      "|    iterations      | 1     |\n",
      "|    time_elapsed    | 2     |\n",
      "|    total_timesteps | 81920 |\n",
      "------------------------------\n",
      "----------------------------------------\n",
      "| time/                   |            |\n",
      "|    fps                  | 1390       |\n",
      "|    iterations           | 2          |\n",
      "|    time_elapsed         | 11         |\n",
      "|    total_timesteps      | 90112      |\n",
      "| train/                  |            |\n",
      "|    approx_kl            | 0.01380124 |\n",
      "|    clip_fraction        | 0.176      |\n",
      "|    clip_range           | 0.2        |\n",
      "|    entropy_loss         | -2.02      |\n",
      "|    explained_variance   | 0.217      |\n",
      "|    learning_rate        | 0.0005     |\n",
      "|    loss                 | 39.3       |\n",
      "|    n_updates            | 130        |\n",
      "|    policy_gradient_loss | -0.0185    |\n",
      "|    value_loss           | 120        |\n",
      "----------------------------------------\n",
      "------------------------------------------\n",
      "| time/                   |              |\n",
      "|    fps                  | 1179         |\n",
      "|    iterations           | 3            |\n",
      "|    time_elapsed         | 20           |\n",
      "|    total_timesteps      | 98304        |\n",
      "| train/                  |              |\n",
      "|    approx_kl            | 0.0148464115 |\n",
      "|    clip_fraction        | 0.196        |\n",
      "|    clip_range           | 0.2          |\n",
      "|    entropy_loss         | -2           |\n",
      "|    explained_variance   | 0.22         |\n",
      "|    learning_rate        | 0.0005       |\n",
      "|    loss                 | 41.8         |\n",
      "|    n_updates            | 140          |\n",
      "|    policy_gradient_loss | -0.0208      |\n",
      "|    value_loss           | 114          |\n",
      "------------------------------------------\n",
      "Using percentage: 0.5\n",
      "Logging to /tmp/ContainerEnvV11_2\\Env_with_percentage_0.50_0\n",
      "-------------------------------\n",
      "| time/              |        |\n",
      "|    fps             | 3050   |\n",
      "|    iterations      | 1      |\n",
      "|    time_elapsed    | 2      |\n",
      "|    total_timesteps | 106496 |\n",
      "-------------------------------\n",
      "-----------------------------------------\n",
      "| time/                   |             |\n",
      "|    fps                  | 1451        |\n",
      "|    iterations           | 2           |\n",
      "|    time_elapsed         | 11          |\n",
      "|    total_timesteps      | 114688      |\n",
      "| train/                  |             |\n",
      "|    approx_kl            | 0.015763331 |\n",
      "|    clip_fraction        | 0.203       |\n",
      "|    clip_range           | 0.2         |\n",
      "|    entropy_loss         | -1.95       |\n",
      "|    explained_variance   | 0.145       |\n",
      "|    learning_rate        | 0.0005      |\n",
      "|    loss                 | 33.8        |\n",
      "|    n_updates            | 170         |\n",
      "|    policy_gradient_loss | -0.023      |\n",
      "|    value_loss           | 112         |\n",
      "-----------------------------------------\n",
      "-----------------------------------------\n",
      "| time/                   |             |\n",
      "|    fps                  | 1207        |\n",
      "|    iterations           | 3           |\n",
      "|    time_elapsed         | 20          |\n",
      "|    total_timesteps      | 122880      |\n",
      "| train/                  |             |\n",
      "|    approx_kl            | 0.016211566 |\n",
      "|    clip_fraction        | 0.207       |\n",
      "|    clip_range           | 0.2         |\n",
      "|    entropy_loss         | -1.94       |\n",
      "|    explained_variance   | 0.196       |\n",
      "|    learning_rate        | 0.0005      |\n",
      "|    loss                 | 43.5        |\n",
      "|    n_updates            | 180         |\n",
      "|    policy_gradient_loss | -0.0231     |\n",
      "|    value_loss           | 119         |\n",
      "-----------------------------------------\n",
      "Using percentage: 0.4\n",
      "Logging to /tmp/ContainerEnvV11_2\\Env_with_percentage_0.40_0\n",
      "-------------------------------\n",
      "| time/              |        |\n",
      "|    fps             | 3251   |\n",
      "|    iterations      | 1      |\n",
      "|    time_elapsed    | 2      |\n",
      "|    total_timesteps | 131072 |\n",
      "-------------------------------\n",
      "-----------------------------------------\n",
      "| time/                   |             |\n",
      "|    fps                  | 1558        |\n",
      "|    iterations           | 2           |\n",
      "|    time_elapsed         | 10          |\n",
      "|    total_timesteps      | 139264      |\n",
      "| train/                  |             |\n",
      "|    approx_kl            | 0.016054805 |\n",
      "|    clip_fraction        | 0.204       |\n",
      "|    clip_range           | 0.2         |\n",
      "|    entropy_loss         | -1.89       |\n",
      "|    explained_variance   | 0.208       |\n",
      "|    learning_rate        | 0.0005      |\n",
      "|    loss                 | 47.4        |\n",
      "|    n_updates            | 210         |\n",
      "|    policy_gradient_loss | -0.0229     |\n",
      "|    value_loss           | 103         |\n",
      "-----------------------------------------\n",
      "-----------------------------------------\n",
      "| time/                   |             |\n",
      "|    fps                  | 1315        |\n",
      "|    iterations           | 3           |\n",
      "|    time_elapsed         | 18          |\n",
      "|    total_timesteps      | 147456      |\n",
      "| train/                  |             |\n",
      "|    approx_kl            | 0.017770015 |\n",
      "|    clip_fraction        | 0.209       |\n",
      "|    clip_range           | 0.2         |\n",
      "|    entropy_loss         | -1.86       |\n",
      "|    explained_variance   | 0.0956      |\n",
      "|    learning_rate        | 0.0005      |\n",
      "|    loss                 | 30.3        |\n",
      "|    n_updates            | 220         |\n",
      "|    policy_gradient_loss | -0.0233     |\n",
      "|    value_loss           | 103         |\n",
      "-----------------------------------------\n",
      "Using percentage: 0.30000000000000004\n",
      "Logging to /tmp/ContainerEnvV11_2\\Env_with_percentage_0.300000000000000040_0\n",
      "-------------------------------\n",
      "| time/              |        |\n",
      "|    fps             | 3214   |\n",
      "|    iterations      | 1      |\n",
      "|    time_elapsed    | 2      |\n",
      "|    total_timesteps | 155648 |\n",
      "-------------------------------\n",
      "----------------------------------------\n",
      "| time/                   |            |\n",
      "|    fps                  | 1492       |\n",
      "|    iterations           | 2          |\n",
      "|    time_elapsed         | 10         |\n",
      "|    total_timesteps      | 163840     |\n",
      "| train/                  |            |\n",
      "|    approx_kl            | 0.02076803 |\n",
      "|    clip_fraction        | 0.241      |\n",
      "|    clip_range           | 0.2        |\n",
      "|    entropy_loss         | -1.82      |\n",
      "|    explained_variance   | 0.14       |\n",
      "|    learning_rate        | 0.0005     |\n",
      "|    loss                 | 28.9       |\n",
      "|    n_updates            | 250        |\n",
      "|    policy_gradient_loss | -0.0273    |\n",
      "|    value_loss           | 86.4       |\n",
      "----------------------------------------\n",
      "-----------------------------------------\n",
      "| time/                   |             |\n",
      "|    fps                  | 1208        |\n",
      "|    iterations           | 3           |\n",
      "|    time_elapsed         | 20          |\n",
      "|    total_timesteps      | 172032      |\n",
      "| train/                  |             |\n",
      "|    approx_kl            | 0.020849846 |\n",
      "|    clip_fraction        | 0.248       |\n",
      "|    clip_range           | 0.2         |\n",
      "|    entropy_loss         | -1.8        |\n",
      "|    explained_variance   | 0.0922      |\n",
      "|    learning_rate        | 0.0005      |\n",
      "|    loss                 | 17.6        |\n",
      "|    n_updates            | 260         |\n",
      "|    policy_gradient_loss | -0.0278     |\n",
      "|    value_loss           | 82.3        |\n",
      "-----------------------------------------\n",
      "Using percentage: 0.2\n",
      "Logging to /tmp/ContainerEnvV11_2\\Env_with_percentage_0.20_0\n",
      "-------------------------------\n",
      "| time/              |        |\n",
      "|    fps             | 3105   |\n",
      "|    iterations      | 1      |\n",
      "|    time_elapsed    | 2      |\n",
      "|    total_timesteps | 180224 |\n",
      "-------------------------------\n",
      "-----------------------------------------\n",
      "| time/                   |             |\n",
      "|    fps                  | 1291        |\n",
      "|    iterations           | 2           |\n",
      "|    time_elapsed         | 12          |\n",
      "|    total_timesteps      | 188416      |\n",
      "| train/                  |             |\n",
      "|    approx_kl            | 0.020328864 |\n",
      "|    clip_fraction        | 0.243       |\n",
      "|    clip_range           | 0.2         |\n",
      "|    entropy_loss         | -1.7        |\n",
      "|    explained_variance   | 0.0223      |\n",
      "|    learning_rate        | 0.0005      |\n",
      "|    loss                 | 33.2        |\n",
      "|    n_updates            | 290         |\n",
      "|    policy_gradient_loss | -0.0294     |\n",
      "|    value_loss           | 87.7        |\n",
      "-----------------------------------------\n",
      "-----------------------------------------\n",
      "| time/                   |             |\n",
      "|    fps                  | 1124        |\n",
      "|    iterations           | 3           |\n",
      "|    time_elapsed         | 21          |\n",
      "|    total_timesteps      | 196608      |\n",
      "| train/                  |             |\n",
      "|    approx_kl            | 0.021207903 |\n",
      "|    clip_fraction        | 0.251       |\n",
      "|    clip_range           | 0.2         |\n",
      "|    entropy_loss         | -1.65       |\n",
      "|    explained_variance   | -0.032      |\n",
      "|    learning_rate        | 0.0005      |\n",
      "|    loss                 | 27.1        |\n",
      "|    n_updates            | 300         |\n",
      "|    policy_gradient_loss | -0.0287     |\n",
      "|    value_loss           | 86.1        |\n",
      "-----------------------------------------\n"
     ]
    },
    {
     "ename": "KeyboardInterrupt",
     "evalue": "",
     "output_type": "error",
     "traceback": [
      "\u001B[1;31m---------------------------------------------------------------------------\u001B[0m",
      "\u001B[1;31mKeyboardInterrupt\u001B[0m                         Traceback (most recent call last)",
      "Cell \u001B[1;32mIn[102], line 17\u001B[0m\n\u001B[0;32m     15\u001B[0m newEnv \u001B[38;5;241m=\u001B[39m DummyVecEnv([make_env(numberOfShips, containersPerShip, boxWidth, boxLength, boxHeight, percentage) \u001B[38;5;28;01mfor\u001B[39;00m i \u001B[38;5;129;01min\u001B[39;00m \u001B[38;5;28mrange\u001B[39m(num_cpu)])\n\u001B[0;32m     16\u001B[0m model\u001B[38;5;241m.\u001B[39mset_env(newEnv)\n\u001B[1;32m---> 17\u001B[0m \u001B[43mmodel\u001B[49m\u001B[38;5;241;43m.\u001B[39;49m\u001B[43mlearn\u001B[49m\u001B[43m(\u001B[49m\u001B[43mtotal_timesteps\u001B[49m\u001B[38;5;241;43m=\u001B[39;49m\u001B[43mgetTotalTimeSteps\u001B[49m\u001B[43m(\u001B[49m\u001B[43mtimesteps\u001B[49m\u001B[43m,\u001B[49m\u001B[43m \u001B[49m\u001B[43mpercentage\u001B[49m\u001B[43m)\u001B[49m\u001B[43m,\u001B[49m\u001B[43m \u001B[49m\u001B[43mtb_log_name\u001B[49m\u001B[38;5;241;43m=\u001B[39;49m\u001B[43m(\u001B[49m\u001B[38;5;124;43m\"\u001B[39;49m\u001B[38;5;124;43mEnv_with_percentage_\u001B[39;49m\u001B[38;5;124;43m\"\u001B[39;49m\u001B[43m \u001B[49m\u001B[38;5;241;43m+\u001B[39;49m\u001B[43m \u001B[49m\u001B[38;5;28;43mstr\u001B[39;49m\u001B[43m(\u001B[49m\u001B[43mpercentage\u001B[49m\u001B[43m)\u001B[49m\u001B[43m \u001B[49m\u001B[38;5;241;43m+\u001B[39;49m\u001B[43m \u001B[49m\u001B[38;5;28;43mstr\u001B[39;49m\u001B[43m(\u001B[49m\u001B[43mmodelIterations\u001B[49m\u001B[43m)\u001B[49m\u001B[43m)\u001B[49m\u001B[43m,\u001B[49m\u001B[43m \u001B[49m\u001B[43mreset_num_timesteps\u001B[49m\u001B[38;5;241;43m=\u001B[39;49m\u001B[38;5;28;43;01mFalse\u001B[39;49;00m\u001B[43m)\u001B[49m\n\u001B[0;32m     18\u001B[0m model\u001B[38;5;241m.\u001B[39mtrain()\n\u001B[0;32m     19\u001B[0m model\u001B[38;5;241m.\u001B[39msave(\u001B[38;5;124m\"\u001B[39m\u001B[38;5;124mContainerEnvV11_2\u001B[39m\u001B[38;5;124m\"\u001B[39m)\n",
      "File \u001B[1;32m~\\source\\python\\ads\\lib\\site-packages\\stable_baselines3\\ppo\\ppo.py:307\u001B[0m, in \u001B[0;36mPPO.learn\u001B[1;34m(self, total_timesteps, callback, log_interval, tb_log_name, reset_num_timesteps, progress_bar)\u001B[0m\n\u001B[0;32m    297\u001B[0m \u001B[38;5;28;01mdef\u001B[39;00m \u001B[38;5;21mlearn\u001B[39m(\n\u001B[0;32m    298\u001B[0m     \u001B[38;5;28mself\u001B[39m: SelfPPO,\n\u001B[0;32m    299\u001B[0m     total_timesteps: \u001B[38;5;28mint\u001B[39m,\n\u001B[1;32m   (...)\u001B[0m\n\u001B[0;32m    304\u001B[0m     progress_bar: \u001B[38;5;28mbool\u001B[39m \u001B[38;5;241m=\u001B[39m \u001B[38;5;28;01mFalse\u001B[39;00m,\n\u001B[0;32m    305\u001B[0m ) \u001B[38;5;241m-\u001B[39m\u001B[38;5;241m>\u001B[39m SelfPPO:\n\u001B[1;32m--> 307\u001B[0m     \u001B[38;5;28;01mreturn\u001B[39;00m \u001B[38;5;28;43msuper\u001B[39;49m\u001B[43m(\u001B[49m\u001B[43m)\u001B[49m\u001B[38;5;241;43m.\u001B[39;49m\u001B[43mlearn\u001B[49m\u001B[43m(\u001B[49m\n\u001B[0;32m    308\u001B[0m \u001B[43m        \u001B[49m\u001B[43mtotal_timesteps\u001B[49m\u001B[38;5;241;43m=\u001B[39;49m\u001B[43mtotal_timesteps\u001B[49m\u001B[43m,\u001B[49m\n\u001B[0;32m    309\u001B[0m \u001B[43m        \u001B[49m\u001B[43mcallback\u001B[49m\u001B[38;5;241;43m=\u001B[39;49m\u001B[43mcallback\u001B[49m\u001B[43m,\u001B[49m\n\u001B[0;32m    310\u001B[0m \u001B[43m        \u001B[49m\u001B[43mlog_interval\u001B[49m\u001B[38;5;241;43m=\u001B[39;49m\u001B[43mlog_interval\u001B[49m\u001B[43m,\u001B[49m\n\u001B[0;32m    311\u001B[0m \u001B[43m        \u001B[49m\u001B[43mtb_log_name\u001B[49m\u001B[38;5;241;43m=\u001B[39;49m\u001B[43mtb_log_name\u001B[49m\u001B[43m,\u001B[49m\n\u001B[0;32m    312\u001B[0m \u001B[43m        \u001B[49m\u001B[43mreset_num_timesteps\u001B[49m\u001B[38;5;241;43m=\u001B[39;49m\u001B[43mreset_num_timesteps\u001B[49m\u001B[43m,\u001B[49m\n\u001B[0;32m    313\u001B[0m \u001B[43m        \u001B[49m\u001B[43mprogress_bar\u001B[49m\u001B[38;5;241;43m=\u001B[39;49m\u001B[43mprogress_bar\u001B[49m\u001B[43m,\u001B[49m\n\u001B[0;32m    314\u001B[0m \u001B[43m    \u001B[49m\u001B[43m)\u001B[49m\n",
      "File \u001B[1;32m~\\source\\python\\ads\\lib\\site-packages\\stable_baselines3\\common\\on_policy_algorithm.py:269\u001B[0m, in \u001B[0;36mOnPolicyAlgorithm.learn\u001B[1;34m(self, total_timesteps, callback, log_interval, tb_log_name, reset_num_timesteps, progress_bar)\u001B[0m\n\u001B[0;32m    266\u001B[0m         \u001B[38;5;28mself\u001B[39m\u001B[38;5;241m.\u001B[39mlogger\u001B[38;5;241m.\u001B[39mrecord(\u001B[38;5;124m\"\u001B[39m\u001B[38;5;124mtime/total_timesteps\u001B[39m\u001B[38;5;124m\"\u001B[39m, \u001B[38;5;28mself\u001B[39m\u001B[38;5;241m.\u001B[39mnum_timesteps, exclude\u001B[38;5;241m=\u001B[39m\u001B[38;5;124m\"\u001B[39m\u001B[38;5;124mtensorboard\u001B[39m\u001B[38;5;124m\"\u001B[39m)\n\u001B[0;32m    267\u001B[0m         \u001B[38;5;28mself\u001B[39m\u001B[38;5;241m.\u001B[39mlogger\u001B[38;5;241m.\u001B[39mdump(step\u001B[38;5;241m=\u001B[39m\u001B[38;5;28mself\u001B[39m\u001B[38;5;241m.\u001B[39mnum_timesteps)\n\u001B[1;32m--> 269\u001B[0m     \u001B[38;5;28;43mself\u001B[39;49m\u001B[38;5;241;43m.\u001B[39;49m\u001B[43mtrain\u001B[49m\u001B[43m(\u001B[49m\u001B[43m)\u001B[49m\n\u001B[0;32m    271\u001B[0m callback\u001B[38;5;241m.\u001B[39mon_training_end()\n\u001B[0;32m    273\u001B[0m \u001B[38;5;28;01mreturn\u001B[39;00m \u001B[38;5;28mself\u001B[39m\n",
      "File \u001B[1;32m~\\source\\python\\ads\\lib\\site-packages\\stable_baselines3\\ppo\\ppo.py:221\u001B[0m, in \u001B[0;36mPPO.train\u001B[1;34m(self)\u001B[0m\n\u001B[0;32m    219\u001B[0m \u001B[38;5;66;03m# clipped surrogate loss\u001B[39;00m\n\u001B[0;32m    220\u001B[0m policy_loss_1 \u001B[38;5;241m=\u001B[39m advantages \u001B[38;5;241m*\u001B[39m ratio\n\u001B[1;32m--> 221\u001B[0m policy_loss_2 \u001B[38;5;241m=\u001B[39m advantages \u001B[38;5;241m*\u001B[39m \u001B[43mth\u001B[49m\u001B[38;5;241;43m.\u001B[39;49m\u001B[43mclamp\u001B[49m\u001B[43m(\u001B[49m\u001B[43mratio\u001B[49m\u001B[43m,\u001B[49m\u001B[43m \u001B[49m\u001B[38;5;241;43m1\u001B[39;49m\u001B[43m \u001B[49m\u001B[38;5;241;43m-\u001B[39;49m\u001B[43m \u001B[49m\u001B[43mclip_range\u001B[49m\u001B[43m,\u001B[49m\u001B[43m \u001B[49m\u001B[38;5;241;43m1\u001B[39;49m\u001B[43m \u001B[49m\u001B[38;5;241;43m+\u001B[39;49m\u001B[43m \u001B[49m\u001B[43mclip_range\u001B[49m\u001B[43m)\u001B[49m\n\u001B[0;32m    222\u001B[0m policy_loss \u001B[38;5;241m=\u001B[39m \u001B[38;5;241m-\u001B[39mth\u001B[38;5;241m.\u001B[39mmin(policy_loss_1, policy_loss_2)\u001B[38;5;241m.\u001B[39mmean()\n\u001B[0;32m    224\u001B[0m \u001B[38;5;66;03m# Logging\u001B[39;00m\n",
      "\u001B[1;31mKeyboardInterrupt\u001B[0m: "
     ]
    }
   ],
   "source": [
    "num_cpu = 4\n",
    "startPercentage = 0.9\n",
    "timesteps = 40_000\n",
    "\n",
    "modelEnvironment = DummyVecEnv([make_env(numberOfShips, containersPerShip, boxWidth, boxLength, boxHeight, 0) for i in range(num_cpu)])\n",
    "model = PPO(\"MultiInputPolicy\", modelEnvironment, verbose=1, learning_rate=0.0005, device='cpu', tensorboard_log=\"/tmp/ContainerEnvV11_2\")\n",
    "model.learn(total_timesteps=getTotalTimeSteps(timesteps, 0), tb_log_name=(\"Env_with_percentage_\" + str(0)))\n",
    "model.train()\n",
    "\n",
    "model.save(\"ContainerEnvV11_2\")\n",
    "for modelIterations in range(0, 5):\n",
    "    print(\"Model iteratie: \" + str(modelIterations))\n",
    "    for percentage in reversed(np.arange(0.0, startPercentage, 0.1)):\n",
    "        print(\"Using percentage: \" + str(percentage))\n",
    "        newEnv = DummyVecEnv([make_env(numberOfShips, containersPerShip, boxWidth, boxLength, boxHeight, percentage) for i in range(num_cpu)])\n",
    "        model.set_env(newEnv)\n",
    "        model.learn(total_timesteps=getTotalTimeSteps(timesteps, percentage), tb_log_name=(\"Env_with_percentage_\" + str(percentage) + str(modelIterations)), reset_num_timesteps=False)\n",
    "        model.train()\n",
    "        model.save(\"ContainerEnvV11_2\")"
   ]
  },
  {
   "cell_type": "code",
   "execution_count": null,
   "id": "78c424bd",
   "metadata": {
    "scrolled": true
   },
   "outputs": [],
   "source": [
    "eval_env = ContainerEnv(numberOfShips, containersPerShip, boxWidth, boxLength, boxHeight)\n",
    "eval_env.reset()\n",
    "display(eval_env.containerGrid)\n",
    "display(eval_env.listOfContainers)"
   ]
  },
  {
   "cell_type": "code",
   "execution_count": null,
   "id": "9ef5e824",
   "metadata": {},
   "outputs": [],
   "source": [
    "from stable_baselines3.common.monitor import Monitor\n",
    "monitor = Monitor(eval_env)\n",
    "evaluate_policy(model, monitor, n_eval_episodes=5, return_episode_rewards= True, render=False)"
   ]
  },
  {
   "cell_type": "markdown",
   "id": "fc9b7fbd",
   "metadata": {},
   "source": [
    "# Using trained agent"
   ]
  },
  {
   "cell_type": "code",
   "execution_count": null,
   "id": "ab741a64",
   "metadata": {
    "scrolled": true
   },
   "outputs": [],
   "source": [
    "display(eval_env.reset())\n",
    "display(eval_env.listOfContainers)"
   ]
  },
  {
   "cell_type": "code",
   "execution_count": null,
   "id": "83328d48",
   "metadata": {
    "scrolled": true
   },
   "outputs": [],
   "source": [
    "obs = eval_env.reset()\n",
    "print(\"---------------------\\n\")\n",
    "for i in range(10):\n",
    "    display(eval_env.listOfContainers)\n",
    "    print(len(eval_env.listOfContainers))\n",
    "    reward = 0\n",
    "    dones = False\n",
    "    display(obs)\n",
    "    while not dones:\n",
    "        action, _states = model.predict(obs, deterministic=True)\n",
    "        obs, rewards, dones, info = eval_env.step(action)\n",
    "        reward += rewards\n",
    "    eval_env.render()\n",
    "    print((obs['grid'].flatten() > 0).sum())\n",
    "    print(\"Reward: \" + str(reward))\n",
    "    display(eval_env.listOfContainers)\n",
    "    obs = eval_env.reset()\n",
    "    print(\"---------------------\\n\")"
   ]
  },
  {
   "cell_type": "code",
   "execution_count": null,
   "id": "16b7fba5",
   "metadata": {},
   "outputs": [],
   "source": [
    "amountOfShips = 3\n",
    "containersOnShip = 4\n",
    "height = 3\n",
    "width = 3\n",
    "length = 3"
   ]
  },
  {
   "cell_type": "code",
   "execution_count": null,
   "id": "163f7f17",
   "metadata": {
    "scrolled": true
   },
   "outputs": [],
   "source": [
    "for percentage in np.arange(0.0, 0.9, 0.1):\n",
    "    validateEnv = ContainerEnv(amountOfShips, containersOnShip, width, length, height, percentage)\n",
    "    state = validateEnv.reset()\n",
    "    print('Start list of containers ------------------------')\n",
    "    display(validateEnv.listOfContainers)\n",
    "    print(len(validateEnv.listOfContainers))\n",
    "    print('Start render ------------------------------------')\n",
    "    validateEnv.render()\n",
    "    reward = 0\n",
    "    dones = False\n",
    "    while not dones:\n",
    "        action, _states = model.predict(state, deterministic=True)\n",
    "        state, rewards, dones, info = validateEnv.step(action)\n",
    "        reward += rewards\n",
    "    print('End render --------------------------------------')\n",
    "    print((state['grid'].flatten() > 0).sum())\n",
    "    print(\"Reward: \" + str(reward))\n",
    "    validateEnv.render()\n",
    "    print('End list of containers --------------------------')\n",
    "    display(validateEnv.listOfContainers)"
   ]
  },
  {
   "cell_type": "code",
   "execution_count": null,
   "id": "0574976d",
   "metadata": {},
   "outputs": [],
   "source": []
  }
 ],
 "metadata": {
  "kernelspec": {
   "display_name": "Python 3 (ipykernel)",
   "language": "python",
   "name": "python3"
  },
  "language_info": {
   "codemirror_mode": {
    "name": "ipython",
    "version": 3
   },
   "file_extension": ".py",
   "mimetype": "text/x-python",
   "name": "python",
   "nbconvert_exporter": "python",
   "pygments_lexer": "ipython3",
   "version": "3.9.15"
  }
 },
 "nbformat": 4,
 "nbformat_minor": 5
}
