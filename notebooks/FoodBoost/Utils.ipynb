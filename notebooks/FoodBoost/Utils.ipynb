{
 "cells": [
  {
   "cell_type": "code",
   "execution_count": 2,
   "id": "f697398c",
   "metadata": {},
   "outputs": [],
   "source": [
    "#%%write_and_run Utils.py\n",
    "\n",
    "import pandas as pd\n",
    "import numpy as np\n",
    "import random\n",
    "from collections import namedtuple\n",
    "\n",
    "tagsFile = \"tags\"\n",
    "ingredientsFile = \"ingredients\"\n",
    "\n",
    "ingredientsdf = pd.read_csv(f\"/data/foodboost/{ingredientsFile}.csv\", index_col=0)\n",
    "tagsdf = pd.read_csv(f\"/data/foodboost/{tagsFile}.csv\", index_col=0)\n",
    "\n",
    "#INGREDIENTEN\n",
    "def recepten_bij_ingredient(ingredient):\n",
    "    a = ingredientsdf.loc[ingredientsdf['ingredient'] == ingredient].recipe.to_list()\n",
    "    return a\n",
    "def ingredienten_bij_recept(recept):\n",
    "    b = ingredientsdf.loc[ingredientsdf['recipe'] == recept].ingredient.unique().tolist()\n",
    "    return b\n",
    "\n",
    "#TAGS\n",
    "def recepten_bij_tag(tag):\n",
    "    a = tagsdf.loc[tagsdf['tag'] == tag].recipe.to_list()\n",
    "    return a\n",
    "\n",
    "def tags_bij_recept(gerecht):\n",
    "    b = tagsdf.loc[tagsdf['recipe'] == gerecht].tag.unique()\n",
    "    return b\n",
    "\n",
    "def fillInMatrix(matrix, column, index_counter, doDoubleRows, isY, fillInZero = False, columnPrefix = \"\"):\n",
    "    size = len(column)\n",
    "    if(type(column) == str):\n",
    "        size = 1\n",
    "    for i in range(size):\n",
    "        if(fillInZero):\n",
    "            matrix.loc[index_counter, columnPrefix + column[i]] = 0\n",
    "        else:\n",
    "            matrix.loc[index_counter, columnPrefix + column[i]] = 1\n",
    "        if(doDoubleRows):\n",
    "            if(isY):\n",
    "                matrix.loc[index_counter+1, columnPrefix + column[i]] = 0\n",
    "            else:\n",
    "                matrix.loc[index_counter+1, columnPrefix + column[i]] = 1\n",
    "                \n",
    "def customUserDecoder(userDict):\n",
    "    return namedtuple('X', userDict.keys())(*userDict.values())"
   ]
  },
  {
   "cell_type": "code",
   "execution_count": 3,
   "id": "3321b264",
   "metadata": {},
   "outputs": [
    {
     "data": {
      "text/plain": [
       "array(['5-ingrediënten', 'amerikaans', 'aziatisch', 'bakken', 'barbecue',\n",
       "       'bijgerecht', 'biologisch', 'borrel', 'borrelhapje',\n",
       "       'brood/sandwiches', 'brunch', 'budget', 'camping', 'chinees',\n",
       "       'couscous', 'curry', 'diner', 'engels', 'fondue', 'frans',\n",
       "       'frituren', 'gezond', 'glutenvrij', 'grieks', 'grillen',\n",
       "       'halloween', 'hollands', 'hoofdgerecht', 'in te vriezen',\n",
       "       'indiaas', 'indonesisch', 'italiaans', 'japans', 'kerst',\n",
       "       'keukenmachine', 'kindergerecht', 'kinderrecepten', 'koken',\n",
       "       'lactosevrij', 'libanees', 'lunch', 'maaltijdsoep', 'marokkaans',\n",
       "       'mediterraan', 'mexicaans', 'midden-amerika', 'midden-oosters',\n",
       "       'moederdag', 'nagerecht', 'noedels', 'oud &amp; nieuw', 'oven',\n",
       "       'pasen', 'pasta', 'picknick', 'pocheren', 'quiche', 'rijst',\n",
       "       'roerbakken/wokken', 'salade', 'scandinavisch', 'sinterklaas',\n",
       "       'sinterklaasavond', 'slank', 'snel', 'soep', 'spaans', 'stamppot',\n",
       "       'stoven', 'suikerbewust', 'texmex', 'thais', 'turks', 'vaderdag',\n",
       "       'veganistisch', 'vegetarisch', 'vietnamees', 'vooraf te maken',\n",
       "       'wat eten we vandaag', 'wrap', 'zonder vlees', 'zonder vlees/vis',\n",
       "       'zuid-amerikaans'], dtype=object)"
      ]
     },
     "metadata": {},
     "output_type": "display_data"
    }
   ],
   "source": [
    "diner_recepten_bonno = random.choices(list(set(recepten_bij_tag('diner') + recepten_bij_tag('hoofdgerecht'))), k = 500)\n",
    "\n",
    "mogelijke_tags = np.array([])\n",
    "\n",
    "for i in diner_recepten_bonno:\n",
    "    mogelijke_tags = np.append(mogelijke_tags, tags_bij_recept(i))\n",
    "\n",
    "#TODO remove diner en hoofdgerecht uit deze lijst\n",
    "list_of_Tags = np.unique(mogelijke_tags)\n",
    "\n",
    "display(list_of_Tags)\n",
    "\n",
    "# %store diner_recepten_bonno\n",
    "# %store list_of_Tags"
   ]
  },
  {
   "cell_type": "code",
   "execution_count": null,
   "id": "92406c29",
   "metadata": {},
   "outputs": [],
   "source": []
  }
 ],
 "metadata": {
  "kernelspec": {
   "display_name": "Python 3 (ipykernel)",
   "language": "python",
   "name": "python3"
  },
  "language_info": {
   "codemirror_mode": {
    "name": "ipython",
    "version": 3
   },
   "file_extension": ".py",
   "mimetype": "text/x-python",
   "name": "python",
   "nbconvert_exporter": "python",
   "pygments_lexer": "ipython3",
   "version": "3.9.13"
  }
 },
 "nbformat": 4,
 "nbformat_minor": 5
}
