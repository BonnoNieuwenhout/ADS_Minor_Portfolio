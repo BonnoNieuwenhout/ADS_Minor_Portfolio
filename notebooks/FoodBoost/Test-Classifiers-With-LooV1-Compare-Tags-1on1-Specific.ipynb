{
 "cells": [
  {
   "cell_type": "code",
   "execution_count": 1,
   "id": "d79bd77d",
   "metadata": {},
   "outputs": [],
   "source": [
    "import pandas as pd\n",
    "import numpy as np\n",
    "from IPython.display import display\n",
    "import random\n",
    "from userclass import User\n",
    "from classifierdto import ClassifierResultDto\n",
    "from Utils import recepten_bij_tag, tags_bij_recept\n",
    "from CreateUsers import createSimulatedUsers\n",
    "from CreateMatrix import createTrainMatrix, createValidateOrTestMatrix\n",
    "from ClassifierUtils import testClassifiers\n",
    "import json"
   ]
  },
  {
   "cell_type": "code",
   "execution_count": 2,
   "id": "3bcfc152",
   "metadata": {},
   "outputs": [],
   "source": [
    "ingredientsFile = \"ingredients\"\n",
    "ingredientsdf = pd.read_csv(f\"/data/foodboost/{ingredientsFile}.csv\", index_col=0)"
   ]
  },
  {
   "cell_type": "code",
   "execution_count": 3,
   "id": "01cf3f8c",
   "metadata": {},
   "outputs": [],
   "source": [
    "%store -r"
   ]
  },
  {
   "cell_type": "code",
   "execution_count": 4,
   "id": "dcc3a60c",
   "metadata": {},
   "outputs": [],
   "source": [
    "diner_recepten = diner_recepten_bonno"
   ]
  },
  {
   "cell_type": "code",
   "execution_count": null,
   "id": "6a66ea9a",
   "metadata": {},
   "outputs": [],
   "source": []
  },
  {
   "cell_type": "code",
   "execution_count": null,
   "id": "a360ed9b",
   "metadata": {},
   "outputs": [],
   "source": []
  },
  {
   "cell_type": "code",
   "execution_count": 5,
   "id": "5b298838",
   "metadata": {},
   "outputs": [],
   "source": [
    "def runTestsForUsers(NumberOfUsersPerTag, NumberOfRecipes, tags):\n",
    "    Results = pd.DataFrame(columns = ['Tag', 'CrossTag', 'BestClassifier', 'Accuracy', 'RecallScore', 'ConfusionMatrix'])\n",
    "    for tag in tags:\n",
    "        if (len(recepten_bij_tag(tag)) > NumberOfRecipes):\n",
    "            filteredTags = list(filter(lambda compareTag: compareTag != tag, tags))\n",
    "            TrainUsers, ValidateUsers, TestUsers = createSimulatedUsers(diner_recepten, NumberOfUsersPerTag, NumberOfRecipes, [tag])\n",
    "            for crossTag in filteredTags:\n",
    "                if (len(recepten_bij_tag(crossTag)) > NumberOfRecipes):\n",
    "                    \n",
    "                    print('\\n')\n",
    "                    print(\"Testing \" + tag + \" versus \" + crossTag)\n",
    "                    print('\\n')\n",
    "\n",
    "                    TotalTrainMatrix = createTrainMatrix(TrainUsers, [crossTag], diner_recepten, compareToTags = True)\n",
    "                    #print(TotalTrainMatrix)\n",
    "                    TotalValidateMatrix = createValidateOrTestMatrix(ValidateUsers, [crossTag], diner_recepten, compareToTags = True)\n",
    "                    #print(TotalValidateMatrix)\n",
    "                    \n",
    "                    \n",
    "                    y_train = TotalTrainMatrix['y'].to_list()\n",
    "                    y_validate = TotalValidateMatrix['y'].to_list()\n",
    "                    \n",
    "                    TotalTrainMatrix = TotalTrainMatrix.drop(['y', 'Randomgerecht', 'one out'], axis=1)\n",
    "                    TotalValidateMatrix = TotalValidateMatrix.drop(['y'], axis=1)\n",
    "\n",
    "                    Classifier = testClassifiers(TotalTrainMatrix, TotalValidateMatrix, y_train, y_validate)\n",
    "                    ResultDict = {'Tag': tag, \n",
    "                              'CrossTag': crossTag, \n",
    "                              'BestClassifier': Classifier.Name, \n",
    "                              'Accuracy': Classifier.Accuracy,\n",
    "                              'RecallScore': Classifier.RecallScore}\n",
    "                              #'ConfusionMatrix': Classifier.ConfusionMatrix.flatten().tolist()}\n",
    "                    Result = pd.DataFrame(data=ResultDict, columns = ['Tag', 'CrossTag', 'BestClassifier', 'Accuracy', 'RecallScore', 'ConfusionMatrix'])\n",
    "                    Result.at[0, 'ConfusionMatrix'] = Classifier.ConfusionMatrix\n",
    "                    display(Result)\n",
    "                    Results = pd.concat([Results, Result], axis = 0, ignore_index=True)\n",
    "                else:\n",
    "                    print(\"Skipped cross tag \" + str(tag) + \" because recipes list is smaller than \" + str(NumberOfRecipes))\n",
    "        else:\n",
    "            print(\"Skipped tag \" + str(tag) + \" because recipes list is smaller than \" + str(NumberOfRecipes))\n",
    "    return Results"
   ]
  },
  {
   "cell_type": "code",
   "execution_count": 6,
   "id": "81c2fdae",
   "metadata": {
    "scrolled": true
   },
   "outputs": [
    {
     "name": "stdout",
     "output_type": "stream",
     "text": [
      "\n",
      "\n",
      "Testing aziatisch versus hollands\n",
      "\n",
      "\n",
      "====================================================================\n"
     ]
    },
    {
     "data": {
      "text/html": [
       "<div>\n",
       "<style scoped>\n",
       "    .dataframe tbody tr th:only-of-type {\n",
       "        vertical-align: middle;\n",
       "    }\n",
       "\n",
       "    .dataframe tbody tr th {\n",
       "        vertical-align: top;\n",
       "    }\n",
       "\n",
       "    .dataframe thead th {\n",
       "        text-align: right;\n",
       "    }\n",
       "</style>\n",
       "<table border=\"1\" class=\"dataframe\">\n",
       "  <thead>\n",
       "    <tr style=\"text-align: right;\">\n",
       "      <th></th>\n",
       "      <th>Tag</th>\n",
       "      <th>CrossTag</th>\n",
       "      <th>BestClassifier</th>\n",
       "      <th>Accuracy</th>\n",
       "      <th>RecallScore</th>\n",
       "      <th>ConfusionMatrix</th>\n",
       "    </tr>\n",
       "  </thead>\n",
       "  <tbody>\n",
       "    <tr>\n",
       "      <th>0</th>\n",
       "      <td>aziatisch</td>\n",
       "      <td>hollands</td>\n",
       "      <td>Multinomial Naive Bayes</td>\n",
       "      <td>1.0</td>\n",
       "      <td>1.0</td>\n",
       "      <td>[[60, 0], [0, 60]]</td>\n",
       "    </tr>\n",
       "  </tbody>\n",
       "</table>\n",
       "</div>"
      ],
      "text/plain": [
       "         Tag  CrossTag           BestClassifier  Accuracy  RecallScore  \\\n",
       "0  aziatisch  hollands  Multinomial Naive Bayes       1.0          1.0   \n",
       "\n",
       "      ConfusionMatrix  \n",
       "0  [[60, 0], [0, 60]]  "
      ]
     },
     "metadata": {},
     "output_type": "display_data"
    },
    {
     "name": "stdout",
     "output_type": "stream",
     "text": [
      "\n",
      "\n",
      "Testing hollands versus aziatisch\n",
      "\n",
      "\n",
      "====================================================================\n"
     ]
    },
    {
     "data": {
      "text/html": [
       "<div>\n",
       "<style scoped>\n",
       "    .dataframe tbody tr th:only-of-type {\n",
       "        vertical-align: middle;\n",
       "    }\n",
       "\n",
       "    .dataframe tbody tr th {\n",
       "        vertical-align: top;\n",
       "    }\n",
       "\n",
       "    .dataframe thead th {\n",
       "        text-align: right;\n",
       "    }\n",
       "</style>\n",
       "<table border=\"1\" class=\"dataframe\">\n",
       "  <thead>\n",
       "    <tr style=\"text-align: right;\">\n",
       "      <th></th>\n",
       "      <th>Tag</th>\n",
       "      <th>CrossTag</th>\n",
       "      <th>BestClassifier</th>\n",
       "      <th>Accuracy</th>\n",
       "      <th>RecallScore</th>\n",
       "      <th>ConfusionMatrix</th>\n",
       "    </tr>\n",
       "  </thead>\n",
       "  <tbody>\n",
       "    <tr>\n",
       "      <th>0</th>\n",
       "      <td>hollands</td>\n",
       "      <td>aziatisch</td>\n",
       "      <td>Multinomial Naive Bayes</td>\n",
       "      <td>1.0</td>\n",
       "      <td>1.0</td>\n",
       "      <td>[[60, 0], [0, 60]]</td>\n",
       "    </tr>\n",
       "  </tbody>\n",
       "</table>\n",
       "</div>"
      ],
      "text/plain": [
       "        Tag   CrossTag           BestClassifier  Accuracy  RecallScore  \\\n",
       "0  hollands  aziatisch  Multinomial Naive Bayes       1.0          1.0   \n",
       "\n",
       "      ConfusionMatrix  \n",
       "0  [[60, 0], [0, 60]]  "
      ]
     },
     "metadata": {},
     "output_type": "display_data"
    }
   ],
   "source": [
    "NumberOfUsersPerTag = 100\n",
    "NumberOfRecipes = 10\n",
    "\n",
    "#keukens = ['aziatisch', 'hollands', 'mexicaans', 'italiaans', 'mediterraan']\n",
    "keukens = ['aziatisch', 'hollands']\n",
    "Results = runTestsForUsers(NumberOfUsersPerTag, NumberOfRecipes, keukens)"
   ]
  },
  {
   "cell_type": "code",
   "execution_count": 7,
   "id": "96ffc22b",
   "metadata": {},
   "outputs": [
    {
     "data": {
      "text/html": [
       "<div>\n",
       "<style scoped>\n",
       "    .dataframe tbody tr th:only-of-type {\n",
       "        vertical-align: middle;\n",
       "    }\n",
       "\n",
       "    .dataframe tbody tr th {\n",
       "        vertical-align: top;\n",
       "    }\n",
       "\n",
       "    .dataframe thead th {\n",
       "        text-align: right;\n",
       "    }\n",
       "</style>\n",
       "<table border=\"1\" class=\"dataframe\">\n",
       "  <thead>\n",
       "    <tr style=\"text-align: right;\">\n",
       "      <th></th>\n",
       "      <th>Tag</th>\n",
       "      <th>CrossTag</th>\n",
       "      <th>BestClassifier</th>\n",
       "      <th>Accuracy</th>\n",
       "      <th>RecallScore</th>\n",
       "      <th>ConfusionMatrix</th>\n",
       "    </tr>\n",
       "  </thead>\n",
       "  <tbody>\n",
       "    <tr>\n",
       "      <th>0</th>\n",
       "      <td>aziatisch</td>\n",
       "      <td>hollands</td>\n",
       "      <td>Multinomial Naive Bayes</td>\n",
       "      <td>1.0</td>\n",
       "      <td>1.0</td>\n",
       "      <td>[[60, 0], [0, 60]]</td>\n",
       "    </tr>\n",
       "    <tr>\n",
       "      <th>1</th>\n",
       "      <td>hollands</td>\n",
       "      <td>aziatisch</td>\n",
       "      <td>Multinomial Naive Bayes</td>\n",
       "      <td>1.0</td>\n",
       "      <td>1.0</td>\n",
       "      <td>[[60, 0], [0, 60]]</td>\n",
       "    </tr>\n",
       "  </tbody>\n",
       "</table>\n",
       "</div>"
      ],
      "text/plain": [
       "         Tag   CrossTag           BestClassifier  Accuracy  RecallScore  \\\n",
       "0  aziatisch   hollands  Multinomial Naive Bayes       1.0          1.0   \n",
       "1   hollands  aziatisch  Multinomial Naive Bayes       1.0          1.0   \n",
       "\n",
       "      ConfusionMatrix  \n",
       "0  [[60, 0], [0, 60]]  \n",
       "1  [[60, 0], [0, 60]]  "
      ]
     },
     "metadata": {},
     "output_type": "display_data"
    }
   ],
   "source": [
    "display(Results)\n",
    "# Results.to_csv('Data/TagComparisonScoreSpecific.csv')"
   ]
  },
  {
   "cell_type": "code",
   "execution_count": null,
   "id": "c27b60b1",
   "metadata": {},
   "outputs": [],
   "source": []
  }
 ],
 "metadata": {
  "kernelspec": {
   "display_name": "Python 3 (ipykernel)",
   "language": "python",
   "name": "python3"
  },
  "language_info": {
   "codemirror_mode": {
    "name": "ipython",
    "version": 3
   },
   "file_extension": ".py",
   "mimetype": "text/x-python",
   "name": "python",
   "nbconvert_exporter": "python",
   "pygments_lexer": "ipython3",
   "version": "3.9.15"
  }
 },
 "nbformat": 4,
 "nbformat_minor": 5
}
